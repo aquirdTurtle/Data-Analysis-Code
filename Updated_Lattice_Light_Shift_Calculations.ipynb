{
 "cells": [
  {
   "cell_type": "markdown",
   "metadata": {
    "run_control": {
     "frozen": false,
     "read_only": false
    }
   },
   "source": [
    "# Light shift Calculations"
   ]
  },
  {
   "cell_type": "markdown",
   "metadata": {
    "heading_collapsed": "false",
    "run_control": {
     "frozen": false,
     "read_only": false
    }
   },
   "source": [
    "**These calculations come from the following paper:**  \n",
    "https://arxiv.org/pdf/physics/9902072v1.pdf  \n",
    "OPTICAL DIPOLE TRAPS FOR NEUTRAL ATOMS  \n",
    "Rudolf Grimm and Matthias Weidemu¨ller \n"
   ]
  },
  {
   "cell_type": "markdown",
   "metadata": {
    "heading_collapsed": "false",
    "run_control": {
     "frozen": false,
     "read_only": false
    }
   },
   "source": [
    "## Setup"
   ]
  },
  {
   "cell_type": "markdown",
   "metadata": {
    "heading_collapsed": "false",
    "run_control": {
     "frozen": false,
     "read_only": false
    }
   },
   "source": [
    "### Imports"
   ]
  },
  {
   "cell_type": "code",
   "execution_count": 1,
   "metadata": {},
   "outputs": [],
   "source": [
    "import sys\n",
    "sys.path.append('..')"
   ]
  },
  {
   "cell_type": "code",
   "execution_count": 2,
   "metadata": {},
   "outputs": [],
   "source": [
    "%config Completer.use_jedi = False"
   ]
  },
  {
   "cell_type": "code",
   "execution_count": 3,
   "metadata": {},
   "outputs": [],
   "source": [
    "import Analysis_Python_Files.MarksConstants as mc"
   ]
  },
  {
   "cell_type": "code",
   "execution_count": 4,
   "metadata": {
    "ExecuteTime": {
     "end_time": "2018-02-28T17:06:30.493587Z",
     "start_time": "2018-02-28T17:06:23.025745Z"
    },
    "hidden": true
   },
   "outputs": [
    {
     "data": {
      "text/html": [
       "        <script type=\"text/javascript\">\n",
       "        window.PlotlyConfig = {MathJaxConfig: 'local'};\n",
       "        if (window.MathJax) {MathJax.Hub.Config({SVG: {font: \"STIX-Web\"}});}\n",
       "        if (typeof require !== 'undefined') {\n",
       "        require.undef(\"plotly\");\n",
       "        requirejs.config({\n",
       "            paths: {\n",
       "                'plotly': ['https://cdn.plot.ly/plotly-latest.min']\n",
       "            }\n",
       "        });\n",
       "        require(['plotly'], function(Plotly) {\n",
       "            window._Plotly = Plotly;\n",
       "        });\n",
       "        }\n",
       "        </script>\n",
       "        "
      ]
     },
     "metadata": {},
     "output_type": "display_data"
    }
   ],
   "source": [
    "import numpy as np \n",
    "from numpy import array as arr\n",
    "import pandas as pd\n",
    "import plotly.offline as pltly\n",
    "pltly.init_notebook_mode(connected=True)\n",
    "from plotly import graph_objs as go\n",
    "import math\n",
    "import scipy.optimize as opt\n",
    "import matplotlib.pyplot as plt\n",
    "from matplotlib.colors import ListedColormap\n",
    "import warnings \n",
    "warnings.filterwarnings('module')\n",
    "from datetime import datetime\n",
    "import uncertainties.unumpy\n",
    "import IPython\n",
    "import pandas as pd\n",
    "import pickle\n",
    "\n",
    "from matplotlib.pyplot import *\n",
    "from matplotlib import rcParams\n",
    "from matplotlib import style\n",
    "from mpl_toolkits.axes_grid1 import make_axes_locatable\n",
    "import matplotlib.pyplot as plt\n",
    "import matplotlib.dates as mdates\n",
    "%matplotlib inline\n",
    "\n",
    "# ## set matplotlib plot defaults :D\n",
    "# Style controls many default colors in matplotlib plots.\n",
    "# Change the following if you don't like dark backgrounds. Many other options.\n",
    "import matplotlib as mpl\n",
    "\n",
    "if False:\n",
    "    # My Dark Settings\n",
    "    style.use(['dark_background'])\n",
    "    c = '#0A0A0A'\n",
    "    mpl.rcParams['axes.facecolor'] = '#000000'\n",
    "    mpl.rcParams['figure.edgecolor'] = c\n",
    "    mpl.rcParams['figure.facecolor'] = c\n",
    "else:\n",
    "    # My Light Settings\n",
    "    style.use(['default'])\n",
    "    c = '#FFFFFF'\n",
    "    mpl.rcParams['axes.facecolor'] = c\n",
    "    mpl.rcParams['figure.edgecolor'] = c\n",
    "    mpl.rcParams['figure.facecolor'] = c  \n",
    "# the default cycling of colors in this mode isn't very good.\n",
    "#rcParams['axes.prop_cycle'] = (\"cycler('color', ['r','c','g','#FFFFFF','b']) + cycler('marker', ['o','v','<','>','^'])\")\n",
    "### General\n",
    "rcParams['figure.figsize'] = (25.0, 8.0)\n",
    "rcParams['axes.grid'] = True\n",
    "rcParams['axes.formatter.useoffset'] = False\n",
    "rcParams['grid.alpha'] = 0.15\n",
    "rcParams['axes.formatter.limits'] = (-3,3)\n",
    "rcParams['image.cmap'] = 'viridis'\n",
    "#rcParams['image.cmap'] = dark_viridis_cmap\n",
    "# to see all available options, decomment this line.\n",
    "# print(mpl.rcParams)\n",
    "rcParams['font.size'] = 14\n",
    "from matplotlib import cm\n",
    "viridis = cm.get_cmap('viridis', 256)\n",
    "dark_viridis = []\n",
    "bl = 0.15\n",
    "for i in range(256):\n",
    "    dark_viridis.append(list(viridis(i)))\n",
    "    dark_viridis[-1][0] = dark_viridis[-1][0] *(bl+(1-bl)*i/255)\n",
    "    dark_viridis[-1][1] = dark_viridis[-1][1] *(bl+(1-bl)*i/255)\n",
    "    dark_viridis[-1][2] = dark_viridis[-1][2] *(bl+(1-bl)*i/255)\n",
    "dark_viridis_cmap = ListedColormap(dark_viridis)"
   ]
  },
  {
   "cell_type": "markdown",
   "metadata": {
    "run_control": {
     "frozen": false,
     "read_only": false
    }
   },
   "source": [
    "## Functions"
   ]
  },
  {
   "cell_type": "markdown",
   "metadata": {
    "heading_collapsed": "false",
    "run_control": {
     "frozen": false,
     "read_only": false
    }
   },
   "source": [
    "### powerFromFrequency(frequency, waist, lightWavelength, latticeWavelength)"
   ]
  },
  {
   "cell_type": "markdown",
   "metadata": {
    "heading_collapsed": "false",
    "hidden": true,
    "run_control": {
     "frozen": false,
     "read_only": false
    }
   },
   "source": [
    "Assuming a gaussian beam and pi polarization, we have\n",
    "$$\n",
    "Power \\equiv P\\{\\omega_t\\} = -\\frac{(2\\pi)^2 mw_{\\text{beam}}^2\\omega_{\\text{t}}^2\\lambda^2}{8c^2\\bigg(2 \\frac{\\Gamma_{D2}}{\\omega_{D2}^3*\\Delta_{D2}} + \\frac{\\Gamma_{D1}}{\\omega_{D1}^3*\\Delta_{D1}}\\bigg)}\n",
    "$$"
   ]
  },
  {
   "cell_type": "code",
   "execution_count": 5,
   "metadata": {
    "ExecuteTime": {
     "end_time": "2017-04-26T13:46:58.956071",
     "start_time": "2017-04-26T13:46:58.929070"
    },
    "heading_collapsed": "false",
    "hidden": true,
    "run_control": {
     "frozen": false,
     "read_only": false
    }
   },
   "outputs": [
    {
     "name": "stderr",
     "output_type": "stream",
     "text": [
      "C:\\Users\\wdwor\\Miniconda3\\lib\\site-packages\\ipykernel\\ipkernel.py:283: DeprecationWarning:\n",
      "\n",
      "`should_run_async` will not call `transform_cell` automatically in the future. Please pass the result to `transformed_cell` argument and any exception that happen during thetransform in `preprocessing_exc_tuple` in IPython 7.17 and above.\n",
      "\n"
     ]
    }
   ],
   "source": [
    "def powerFromFrequency(frequency, waist, lightWavelength, latticeWavelength):    \n",
    "    import numpy as np\n",
    "    ### constants\n",
    "    # in kg\n",
    "    mass = 1.443*10**(-25)\n",
    "    # in Hz\n",
    "    d1TransitionFrequency = 384.2*10**12\n",
    "    d2TransitionFrequency = 377.1*10**12\n",
    "    c = 2.998*10**8\n",
    "    # linewidth is equivalent to the \n",
    "    d1LineWidth = 36.1*10**6\n",
    "    d2LineWidth = 38.11*10**6\n",
    "    # from inputs & constants\n",
    "    detuningFromD1 = d1TransitionFrequency - c / lightWavelength\n",
    "    detuningFromD2 = d2TransitionFrequency - c / lightWavelength\n",
    "    # calculation\n",
    "    power = (((2*np.pi)**2 * mass * (waist**2) * (2*np.pi*frequency)**2*(latticeWavelength**2)) \n",
    "            / (8 * (c**2)* (2 * d2LineWidth/(d2TransitionFrequency**3*detuningFromD2) \n",
    "                                       + (d1LineWidth/(d1TransitionFrequency**3*detuningFromD1)))))\n",
    "    return power"
   ]
  },
  {
   "cell_type": "code",
   "execution_count": null,
   "metadata": {},
   "outputs": [],
   "source": [
    "print(powerFromFrequency(810, 1000, ))"
   ]
  },
  {
   "cell_type": "markdown",
   "metadata": {
    "heading_collapsed": "false",
    "run_control": {
     "frozen": false,
     "read_only": false
    }
   },
   "source": [
    "### trapFrequency(power, waist, lightWavelength, latticeWavelength)"
   ]
  },
  {
   "cell_type": "markdown",
   "metadata": {
    "heading_collapsed": "false",
    "hidden": true,
    "run_control": {
     "frozen": false,
     "read_only": false
    }
   },
   "source": [
    "We have\n",
    "$$\n",
    "\\text{trap frequency} \\equiv \\nu_t = \\frac{1}{\\lambda_t} \\sqrt{\\frac{2D}{m_{rb}}}= \\sqrt{\\frac{8 c^2  P}{\\lambda_t^2m_{rb}w_{waist}^2(2\\pi)^4}\\bigg(\\frac{2\\Gamma_{D2}}{\\nu_{D2}^3\\Delta_{D2}} + \\frac{\\Gamma_{D1}}{\\nu_{D1}^3\\Delta_{D1}}  \\bigg)}\n",
    "$$"
   ]
  },
  {
   "cell_type": "code",
   "execution_count": 6,
   "metadata": {
    "ExecuteTime": {
     "end_time": "2017-04-26T13:46:59.149175",
     "start_time": "2017-04-26T13:46:58.959572"
    },
    "heading_collapsed": "false",
    "hidden": true,
    "run_control": {
     "frozen": false,
     "read_only": false
    }
   },
   "outputs": [],
   "source": [
    "def trapFrequency(power, waist, lightWavelength, latticeWavelength):\n",
    "    mass = 1.443*10**(-25)\n",
    "    depth = trapDepth(power, waist, lightWavelength)\n",
    "    frequency = (1 /  latticeWavelength) * np.sqrt(2*depth / mass)\n",
    "    return frequency\n",
    "\n"
   ]
  },
  {
   "cell_type": "markdown",
   "metadata": {
    "heading_collapsed": "false",
    "run_control": {
     "frozen": false,
     "read_only": false
    }
   },
   "source": [
    "### trapDepth(power, waist, lightWavelength)"
   ]
  },
  {
   "cell_type": "markdown",
   "metadata": {
    "heading_collapsed": "false",
    "hidden": true,
    "run_control": {
     "frozen": false,
     "read_only": false
    }
   },
   "source": [
    "Assuming a Gaussian Beam, we have\n",
    "$$\n",
    "\\text{Depth} \\equiv D = \\frac{4 c^2  P}{w_{waist}^2(2\\pi)^4}\\bigg(\\frac{2\\Gamma_{D2}}{\\nu_{D2}^3\\Delta_{D2}} + \\frac{\\Gamma_{D1}}{\\nu_{D1}^3\\Delta_{D1}}  \\bigg)\n",
    "$$"
   ]
  },
  {
   "cell_type": "code",
   "execution_count": 7,
   "metadata": {
    "ExecuteTime": {
     "end_time": "2017-04-26T13:46:59.271628",
     "start_time": "2017-04-26T13:46:59.152125"
    },
    "heading_collapsed": "false",
    "hidden": true,
    "run_control": {
     "frozen": false,
     "read_only": false
    }
   },
   "outputs": [],
   "source": [
    "def trapDepth(power, waist, lightWavelength):\n",
    "    \"\"\"\n",
    "    Assumes PI polarization (exchange 2->2+P and 1->1-P)\n",
    "    \"\"\"\n",
    "    # natural linewidth is equivalent to the decay rate\n",
    "    detuningFromD1 = mc.Rb87_D1LineFrequency - mc.c / lightWavelength\n",
    "    detuningFromD2 = mc.Rb87_D2LineFrequency - mc.c / lightWavelength\n",
    "    chi = (mc.Rb87_D1Gamma/(mc.Rb87_D1LineFrequency**3 * detuningFromD1) \n",
    "           + 2 * mc.Rb87_D2Gamma / (mc.Rb87_D2LineFrequency**3 * detuningFromD2))\n",
    "    depth = ((4 * mc.c**2 * power) / (waist**2 * (2*np.pi)**4)) * chi\n",
    "    return depth\n",
    "      "
   ]
  },
  {
   "cell_type": "markdown",
   "metadata": {
    "heading_collapsed": "false",
    "run_control": {
     "frozen": false,
     "read_only": false
    }
   },
   "source": [
    "### scatterRate(power, waistAtTrap, lightWavelength)"
   ]
  },
  {
   "cell_type": "markdown",
   "metadata": {
    "heading_collapsed": "false",
    "run_control": {
     "frozen": false,
     "read_only": false
    }
   },
   "source": [
    "$$\n",
    "\\text{Scattering Rate} \\equiv \\Gamma_{\\text{sc}} = \\frac{4c^2P}{\\hbar w^2(2\\pi)^5}\\bigg(\\frac{2 \\Gamma_{D2}^2}{\\Delta_{D2}^2 \\nu_{D2}^3}+\\frac{\\Gamma_{D1}^2}{\\Delta_{D2}^2 \\nu_{D2}^3}\\bigg)\n",
    "$$"
   ]
  },
  {
   "cell_type": "code",
   "execution_count": 8,
   "metadata": {
    "ExecuteTime": {
     "end_time": "2017-09-17T23:19:16.761445Z",
     "start_time": "2017-09-17T23:19:16.755429Z"
    },
    "heading_collapsed": "false",
    "run_control": {
     "frozen": false,
     "read_only": false
    }
   },
   "outputs": [],
   "source": [
    "def scatterRate(power, waist, lightWavelength):\n",
    "    # natural linewidth is equivalent to the decay rate\n",
    "    deltaD1 = mc.Rb87_D1LineFrequency - mc.c / lightWavelength\n",
    "    deltaD2 = mc.Rb87_D2LineFrequency - mc.c / lightWavelength\n",
    "    #print(deltaD2, deltaD1)\n",
    "    scatteringRate = (mc.c**2 * 4 * power / (mc.hbar * waist**2)*(2 * mc.pi)**(-5)\n",
    "                    * (2 * mc.Rb87_D2Gamma**2 / (deltaD2**2*mc.Rb87_D2LineFrequency**3) \n",
    "                       + mc.Rb87_D1Gamma**2 / (deltaD1**2*mc.Rb87_D1LineFrequency**3)))\n",
    "    return scatteringRate    "
   ]
  },
  {
   "cell_type": "markdown",
   "metadata": {
    "heading_collapsed": "false",
    "run_control": {
     "frozen": false,
     "read_only": false
    }
   },
   "source": [
    "### Tweezer Depth"
   ]
  },
  {
   "cell_type": "code",
   "execution_count": 9,
   "metadata": {
    "ExecuteTime": {
     "end_time": "2017-04-26T13:46:59.519164",
     "start_time": "2017-04-26T13:46:59.395621"
    },
    "heading_collapsed": "false",
    "hidden": true,
    "run_control": {
     "frozen": false,
     "read_only": false
    }
   },
   "outputs": [],
   "source": [
    "def tweezerDepth(power, waist, wavelength):\n",
    "    # from inputs & constants\n",
    "    deltaD1 = mc.Rb87_D1LineFrequency - mc.c / wavelength\n",
    "    deltaD2 = mc.Rb87_D2LineFrequency - mc.c / wavelength\n",
    "    # calculation\n",
    "    chi = (2 * mc.Rb87_D2Gamma / (deltaD2 * mc.Rb87_D2LineFrequency**3) \n",
    "           + mc.Rb87_D1Gamma / (deltaD1 * mc.Rb87_D1LineFrequency**3))\n",
    "    depth = mc.c**2 * power / ((2*np.pi)**4*waist**2) * chi\n",
    "    # in joules\n",
    "    return depth"
   ]
  },
  {
   "cell_type": "markdown",
   "metadata": {
    "heading_collapsed": "false",
    "run_control": {
     "frozen": false,
     "read_only": false
    }
   },
   "source": [
    "### Tweezer+Lattice Depth"
   ]
  },
  {
   "cell_type": "code",
   "execution_count": 10,
   "metadata": {},
   "outputs": [],
   "source": [
    "def latticeDepth(latticePower, latticeWaist, latticeLightWavelength,\n",
    "                 latticeTrapWavelength, z, latticePhase):\n",
    "    deltaD1Lattice = mc.Rb87_D1LineFrequency - mc.c / latticeLightWavelength\n",
    "    deltaD2Lattice = mc.Rb87_D2LineFrequency - mc.c / latticeLightWavelength\n",
    "    # calculation\n",
    "    chiLattice = (2 *  mc.Rb87_D2Gamma / (deltaD2Lattice * mc.Rb87_D2LineFrequency**3) \n",
    "                  +  mc.Rb87_D1Gamma / (deltaD1Lattice * mc.Rb87_D1LineFrequency**3))\n",
    "    commonFactor = mc.c**2/(2*np.pi)**4\n",
    "    latticeDepth = commonFactor * 4 * latticePower * chiLattice / latticeWaist**2 \\\n",
    "                    * (np.cos(2*np.pi / latticeTrapWavelength * z + latticePhase))**2\n",
    "    return latticeDepth\n",
    "    "
   ]
  },
  {
   "cell_type": "code",
   "execution_count": 11,
   "metadata": {},
   "outputs": [
    {
     "data": {
      "text/plain": [
       "65.45245528649247"
      ]
     },
     "execution_count": 11,
     "metadata": {},
     "output_type": "execute_result"
    }
   ],
   "source": [
    "latticeDepth(0.2, 5.985916001243852e-05, 850e-9, 850e-9, 0, 0)/mc.k_B*1e6"
   ]
  },
  {
   "cell_type": "code",
   "execution_count": 12,
   "metadata": {},
   "outputs": [],
   "source": [
    "def tweezerPlusLatticeDepth(tweezerPower, tweezerWaist, tweezerWavelength, latticePower, latticeWaist, \n",
    "                            latticeLightWavelength, latticeTrapWavelength, z, latticePhase):\n",
    "    # from inputs & constants\n",
    "    deltaD1Tweezer = mc.Rb87_D1LineFrequency - mc.c / tweezerWavelength\n",
    "    deltaD2Tweezer = mc.Rb87_D2LineFrequency - mc.c / tweezerWavelength\n",
    "    deltaD1Lattice = mc.Rb87_D1LineFrequency - mc.c / latticeLightWavelength\n",
    "    deltaD2Lattice = mc.Rb87_D2LineFrequency - mc.c / latticeLightWavelength\n",
    "    # calculation\n",
    "    chiTweezer = (2 *  mc.Rb87_D2Gamma / (deltaD2Tweezer * mc.Rb87_D2LineFrequency**3) \n",
    "                  +  mc.Rb87_D1Gamma / (deltaD1Tweezer * mc.Rb87_D1LineFrequency**3))\n",
    "    chiLattice = (2 *  mc.Rb87_D2Gamma / (deltaD2Lattice * mc.Rb87_D2LineFrequency**3) \n",
    "                  +  mc.Rb87_D1Gamma / (deltaD1Lattice * mc.Rb87_D1LineFrequency**3))\n",
    "    \n",
    "    commonFactor = mc.c**2/(2*np.pi)**4\n",
    "    tweezerRayleighRange = np.pi * tweezerWaist**2 / tweezerWavelength\n",
    "    tweezerDynamicWaist = tweezerWaist * np.sqrt(1 + (z/tweezerRayleighRange)**2)\n",
    "    tweezerDepth = commonFactor * tweezerPower * chiTweezer / tweezerDynamicWaist**2\n",
    "    latticeDepth = commonFactor * 4 * latticePower * chiLattice / latticeWaist**2 \\\n",
    "                    * (np.cos(2*np.pi / latticeTrapWavelength * z + latticePhase))**2\n",
    "    return tweezerDepth + latticeDepth\n",
    "    "
   ]
  },
  {
   "cell_type": "code",
   "execution_count": 13,
   "metadata": {
    "ExecuteTime": {
     "end_time": "2017-04-26T13:46:59.661582",
     "start_time": "2017-04-26T13:46:59.523165"
    },
    "heading_collapsed": "false",
    "hidden": true,
    "run_control": {
     "frozen": false,
     "read_only": false
    }
   },
   "outputs": [],
   "source": [
    "def tweezerPlusLatticeDepth(tweezerPower, tweezerWaist, tweezerWavelength, latticePower, latticeWaist, \n",
    "                            latticeLightWavelength, latticeTrapWavelength, z, latticePhase):\n",
    "    # from inputs & constants\n",
    "    deltaD1Tweezer = mc.Rb87_D1LineFrequency - mc.c / tweezerWavelength\n",
    "    deltaD2Tweezer = mc.Rb87_D2LineFrequency - mc.c / tweezerWavelength\n",
    "    deltaD1Lattice = mc.Rb87_D1LineFrequency - mc.c / latticeLightWavelength\n",
    "    deltaD2Lattice = mc.Rb87_D2LineFrequency - mc.c / latticeLightWavelength\n",
    "    # calculation\n",
    "    chiTweezer = (2 * mc.Rb87_D2Gamma / (deltaD2Tweezer * mc.Rb87_D2LineFrequency**3) \n",
    "                  + mc.Rb87_D1Gamma / (deltaD1Tweezer * mc.Rb87_D1LineFrequency**3))\n",
    "    chiLattice = (2 * mc.Rb87_D2Gamma / (deltaD2Lattice * mc.Rb87_D2LineFrequency**3) \n",
    "                  + mc.Rb87_D1Gamma / (deltaD1Lattice * mc.Rb87_D1LineFrequency**3))\n",
    "    \n",
    "    commonFactor = mc.c**2/(2*np.pi)**4\n",
    "    tweezerRayleighRange = np.pi * tweezerWaist**2 / tweezerWavelength\n",
    "    tweezerDynamicWaist = tweezerWaist * np.sqrt(1 + (z/tweezerRayleighRange)**2)\n",
    "    tweezerDepth = commonFactor * tweezerPower * chiTweezer / tweezerDynamicWaist**2\n",
    "    latticeDepth = commonFactor * 4 * latticePower * chiLattice / latticeWaist**2 \\\n",
    "                    * (np.cos(2*np.pi / latticeTrapWavelength * z + latticePhase))**2\n",
    "    return tweezerDepth + latticeDepth\n",
    "    "
   ]
  },
  {
   "cell_type": "code",
   "execution_count": 25,
   "metadata": {},
   "outputs": [],
   "source": [
    "wavelengthInc = 1\n",
    "depthProfile[wavelengthInc] = tweezerPlusLatticeDepth( tweezerPower, tweezerWaist, tweezerWavelength, powerEstimate,\n",
    "                                                       latticeWaist, lightWavelengths[wavelengthInc], \n",
    "                                                       latticeWavelengths[wavelengthInc], positions, 0)"
   ]
  },
  {
   "cell_type": "markdown",
   "metadata": {
    "heading_collapsed": "false",
    "run_control": {
     "frozen": false,
     "read_only": false
    }
   },
   "source": [
    "### Tweezer Frequency"
   ]
  },
  {
   "cell_type": "code",
   "execution_count": 15,
   "metadata": {
    "ExecuteTime": {
     "end_time": "2017-04-26T13:46:59.818745",
     "start_time": "2017-04-26T13:46:59.663586"
    },
    "heading_collapsed": "false",
    "hidden": true,
    "run_control": {
     "frozen": false,
     "read_only": false
    }
   },
   "outputs": [],
   "source": [
    "def tweezerFrequency(power, waist, wavelength):\n",
    "    deltaD1 = mc.Rb87_D1LineFrequency - mc.c / wavelength\n",
    "    deltaD2 = mc.Rb87_D2LineFrequency - mc.c / wavelength\n",
    "    # calculation\n",
    "    chi = (2 * mc.Rb87_D2Gamma / (deltaD2 * mc.Rb87_D2LineFrequency**3) \n",
    "           + mc.Rb87_D1Gamma / (deltaD1 * mc.Rb87_D1LineFrequency**3))\n",
    "    nu_t = mc.c * wavelength / ((2 * np.pi)**4 * waist**3) * np.sqrt(8 * power * chi / mc.Rb87_M)\n",
    "    return nu_t"
   ]
  },
  {
   "cell_type": "code",
   "execution_count": 24,
   "metadata": {
    "ExecuteTime": {
     "end_time": "2017-04-26T13:46:59.949941",
     "start_time": "2017-04-26T13:46:59.821248"
    },
    "heading_collapsed": "false",
    "hidden": true,
    "run_control": {
     "frozen": false,
     "read_only": false
    }
   },
   "outputs": [
    {
     "name": "stdout",
     "output_type": "stream",
     "text": [
      "121.72574108902138khz\n",
      "0.016760194444177024\n"
     ]
    }
   ],
   "source": [
    "intensity = 3.185 * 10**11 * 0.00715\n",
    "power = intensity * waist**2 * np.pi/2\n",
    "print(str(tweezerFrequency(power, 700e-9, 850e-9)*1e-3) + \"khz\")\n",
    "print(power)"
   ]
  },
  {
   "cell_type": "markdown",
   "metadata": {
    "heading_collapsed": "false",
    "run_control": {
     "frozen": false,
     "read_only": false
    }
   },
   "source": [
    "### Lattice + Tweezer freq"
   ]
  },
  {
   "cell_type": "code",
   "execution_count": 17,
   "metadata": {},
   "outputs": [],
   "source": [
    "def latticeTweezerTrapFrequency(tweezerPower, tweezerWaist, tweezerLightWavelength, latticePower,\n",
    "                                latticeWaist, latticeLightWavelength, latticeWavelength):\n",
    "    deltaD1Tweezer = - mc.Rb87_D1LineFrequency + mc.c / tweezerLightWavelength\n",
    "    deltaD2Tweezer = - mc.Rb87_D2LineFrequency + mc.c / tweezerLightWavelength\n",
    "    deltaD1Lattice = - mc.Rb87_D1LineFrequency + mc.c / latticeLightWavelength\n",
    "    deltaD2Lattice = - mc.Rb87_D2LineFrequency + mc.c / latticeLightWavelength\n",
    "    # calculation\n",
    "    chiTweezer = (2 * mc.Rb87_D2Gamma / (deltaD2Tweezer * mc.Rb87_D2LineFrequency**3) \n",
    "                  + mc.Rb87_D1Gamma / (deltaD1Tweezer * mc.Rb87_D1LineFrequency**3))\n",
    "    chiLattice = (2 * mc.Rb87_D2Gamma / (deltaD2Lattice * mc.Rb87_D2LineFrequency**3) \n",
    "                  + mc.Rb87_D1Gamma / (deltaD1Lattice * mc.Rb87_D1LineFrequency**3))\n",
    "    omegat = np.sqrt(-(mc.c**2 / (mc.Rb87_M * (2 * np.pi)**3))\n",
    "                     * (chiLattice * 16 * np.pi * latticePower / (latticeWaist**2 * latticeWavelength**2)\n",
    "                     + chiTweezer * tweezerPower * tweezerLightWavelength**2/(np.pi**3*tweezerWaist**6)))\n",
    "    return omegat/(2*np.pi)"
   ]
  },
  {
   "cell_type": "code",
   "execution_count": 18,
   "metadata": {
    "ExecuteTime": {
     "end_time": "2017-04-26T13:47:00.293836",
     "start_time": "2017-04-26T13:47:00.108205"
    },
    "heading_collapsed": "false",
    "hidden": true,
    "run_control": {
     "frozen": false,
     "read_only": false
    }
   },
   "outputs": [
    {
     "name": "stdout",
     "output_type": "stream",
     "text": [
      "38589.20851788066\n",
      "65825.54272506153\n",
      "0.8155452374157985\n"
     ]
    }
   ],
   "source": [
    "intensity = 3.185 * 10**11 * 0.00715\n",
    "waist = 707*10**-9\n",
    "power = intensity * waist**2 * np.pi/2\n",
    "print(latticeTweezerTrapFrequency(power, waist, 850e-9,\n",
    "                                  0 * 1.4 * 0.8 * 0.8 * 0.9, \n",
    "                                  170e-6, 850e-9, 850e-9*np.sqrt(2)))\n",
    "print(trapFrequency(1.4*0.8*0.8*0.9, 170e-6, 850e-9, 850e-9 * np.sqrt(2)))\n",
    "print(powerFromFrequency(70000, 170e-6, 850e-9, 850e-9 * np.sqrt(2)))"
   ]
  },
  {
   "cell_type": "markdown",
   "metadata": {
    "heading_collapsed": "false",
    "run_control": {
     "frozen": false,
     "read_only": false
    }
   },
   "source": [
    "## Calculations"
   ]
  },
  {
   "cell_type": "code",
   "execution_count": 19,
   "metadata": {
    "ExecuteTime": {
     "end_time": "2017-04-26T13:47:00.295337",
     "start_time": "2017-04-26T19:46:50.053Z"
    },
    "heading_collapsed": "false",
    "run_control": {
     "frozen": false,
     "read_only": false
    }
   },
   "outputs": [
    {
     "ename": "NameError",
     "evalue": "name 'h' is not defined",
     "output_type": "error",
     "traceback": [
      "\u001b[1;31m---------------------------------------------------------------------------\u001b[0m",
      "\u001b[1;31mNameError\u001b[0m                                 Traceback (most recent call last)",
      "\u001b[1;32m<ipython-input-19-9d465d3c0292>\u001b[0m in \u001b[0;36m<module>\u001b[1;34m\u001b[0m\n\u001b[0;32m     33\u001b[0m \u001b[1;31m# second plot\u001b[0m\u001b[1;33m\u001b[0m\u001b[1;33m\u001b[0m\u001b[1;33m\u001b[0m\u001b[0m\n\u001b[0;32m     34\u001b[0m \u001b[0max2\u001b[0m \u001b[1;33m=\u001b[0m \u001b[0max1\u001b[0m\u001b[1;33m.\u001b[0m\u001b[0mtwinx\u001b[0m\u001b[1;33m(\u001b[0m\u001b[1;33m)\u001b[0m\u001b[1;33m\u001b[0m\u001b[1;33m\u001b[0m\u001b[0m\n\u001b[1;32m---> 35\u001b[1;33m \u001b[0mplt\u001b[0m\u001b[1;33m.\u001b[0m\u001b[0mplot\u001b[0m\u001b[1;33m(\u001b[0m\u001b[0mlightWavelengths\u001b[0m\u001b[1;33m,\u001b[0m \u001b[0mdepths\u001b[0m\u001b[1;33m*\u001b[0m\u001b[1;36m10\u001b[0m\u001b[1;33m**\u001b[0m\u001b[1;33m-\u001b[0m\u001b[1;36m3\u001b[0m\u001b[1;33m/\u001b[0m\u001b[0mh\u001b[0m\u001b[1;33m,\u001b[0m \u001b[1;34m'y'\u001b[0m\u001b[1;33m,\u001b[0m \u001b[0mmarker\u001b[0m\u001b[1;33m=\u001b[0m\u001b[1;34m'o'\u001b[0m\u001b[1;33m,\u001b[0m \u001b[0mmarkevery\u001b[0m\u001b[1;33m=\u001b[0m\u001b[1;33m[\u001b[0m\u001b[0mindex850\u001b[0m\u001b[1;33m,\u001b[0m \u001b[0mindex820\u001b[0m\u001b[1;33m]\u001b[0m\u001b[1;33m,\u001b[0m \u001b[0mlabel\u001b[0m\u001b[1;33m=\u001b[0m\u001b[1;34m'Lattice Trap Depth'\u001b[0m\u001b[1;33m)\u001b[0m\u001b[1;33m\u001b[0m\u001b[1;33m\u001b[0m\u001b[0m\n\u001b[0m\u001b[0;32m     36\u001b[0m \u001b[0max2\u001b[0m\u001b[1;33m.\u001b[0m\u001b[0mset_ylabel\u001b[0m\u001b[1;33m(\u001b[0m\u001b[1;34m'Depth'\u001b[0m\u001b[1;33m,\u001b[0m \u001b[0mcolor\u001b[0m\u001b[1;33m=\u001b[0m\u001b[1;34m'y'\u001b[0m\u001b[1;33m)\u001b[0m\u001b[1;33m\u001b[0m\u001b[1;33m\u001b[0m\u001b[0m\n\u001b[0;32m     37\u001b[0m \u001b[1;32mfor\u001b[0m \u001b[0mtl\u001b[0m \u001b[1;32min\u001b[0m \u001b[0max2\u001b[0m\u001b[1;33m.\u001b[0m\u001b[0mget_yticklabels\u001b[0m\u001b[1;33m(\u001b[0m\u001b[1;33m)\u001b[0m\u001b[1;33m:\u001b[0m\u001b[1;33m\u001b[0m\u001b[1;33m\u001b[0m\u001b[0m\n",
      "\u001b[1;31mNameError\u001b[0m: name 'h' is not defined"
     ]
    },
    {
     "data": {
      "image/png": "[encoded data removed]",
      "text/plain": [
       "<Figure size 2500x800 with 2 Axes>"
      ]
     },
     "metadata": {},
     "output_type": "display_data"
    }
   ],
   "source": [
    "# in hertz\n",
    "desiredTrapFrequency = 75e3\n",
    "# waist is in meters\n",
    "trapWaist = 170e-6\n",
    "# (in meters) This is different from the wavelength because of the bowtie configuration.\n",
    "powerEstimate = 1.4 * 0.8 * 0.8 * 0.9\n",
    "# \n",
    "tweezerWavelength = 850*10**-9\n",
    "tweezerIntensity = 3.185 * 10**11 * 0.00715\n",
    "tweezerWaist = 707*10**-9\n",
    "tweezerPower = tweezerIntensity * tweezerWaist**2 * np.pi/2\n",
    "\n",
    "lightWavelengths = np.linspace(810*10**-9, 860*10**-9, 101)\n",
    "latticeWavelengths = np.sqrt(2) * lightWavelengths\n",
    "\n",
    "trapFrequencies = trapFrequency(powerEstimate, trapWaist, lightWavelengths, latticeWavelengths)\n",
    "totalTrapFrequencies = latticeTweezerTrapFrequency(power, waist, tweezerWavelength, powerEstimate, trapWaist, lightWavelengths, latticeWavelengths)\n",
    "depths = trapDepth(powerEstimate, trapWaist, lightWavelengths)\n",
    "scatterRates = scatterRate(powerEstimate, trapWaist, lightWavelengths)\n",
    "index850 = np.where(lightWavelengths==850*10**-9)[0][0]\n",
    "index820 = np.where(lightWavelengths==820*10**-9)[0][0]\n",
    "fig, ax1 = plt.subplots()\n",
    "plt.plot(lightWavelengths, scatterRates, 'r', marker='o', markevery=[index850, index820], label='Lattice Scattering Rate')\n",
    "ax1.set_ylabel('Scatter Rate (Hz)', color='r')\n",
    "for tl in ax1.get_yticklabels():\n",
    "    tl.set_color('r')\n",
    "ax1.grid(color='r')\n",
    "ax1.annotate(\"{:.1f}\".format(scatterRates[index850]),\n",
    "             xy=(lightWavelengths[index850], scatterRates[index850]+0.5), color='r')\n",
    "ax1.annotate(\"{:.1f}\".format(scatterRates[index820]),\n",
    "             xy=(lightWavelengths[index820], scatterRates[index820]+0.5), color='r')\n",
    "ax1.legend(loc=6)\n",
    "# second plot\n",
    "ax2 = ax1.twinx()\n",
    "plt.plot(lightWavelengths, depths*10**-3/h, 'y', marker='o', markevery=[index850, index820], label='Lattice Trap Depth')\n",
    "ax2.set_ylabel('Depth', color='y')\n",
    "for tl in ax2.get_yticklabels():\n",
    "    tl.set_color('y')\n",
    "ax2.set_yticks(np.arange(0,2200,500))\n",
    "ax2.grid(color='y')\n",
    "ax2.set_ylim(0,2200)\n",
    "ax2.yaxis.set_label_coords(1.035, 0.9)\n",
    "ax2.annotate(\"{:.1f}\".format(depths[index850]*10**-3/h),\n",
    "             xy=(lightWavelengths[index850], depths[index850]*10**-3/h+50), color='y')\n",
    "ax2.annotate(\"{:.1f}\".format(depths[index820]*10**-3/h),\n",
    "             xy=(lightWavelengths[index820], depths[index820]*10**-3/h+50), color='y')\n",
    "ax2.legend(loc=1)\n",
    "# third\n",
    "ax3 = ax1.twinx()\n",
    "plt.plot(lightWavelengths, trapFrequencies*10**-3, 'c', marker='o', markevery=[index850, index820], label='Lattice Trap Frequency')\n",
    "plt.plot(lightWavelengths, totalTrapFrequencies*10**-3, 'c', linestyle='--', marker='o', markevery=[index850, index820], label='Lattice+Tweezer Trap Frequency')\n",
    "ax3.set_ylabel('Trap Frequency', color='c')\n",
    "for tl in ax3.get_yticklabels():\n",
    "    tl.set_color('c')\n",
    "ax3.set_yticks(np.arange(0,130,25))\n",
    "ax3.grid(color='c')\n",
    "ax3.set_ylim(0,130)\n",
    "ax3.yaxis.set_label_coords(1.035, 0.1)\n",
    "ax3.annotate(\"{:.1f}\".format(trapFrequencies[index850]*10**-3),\n",
    "             xy=(lightWavelengths[index850], trapFrequencies[index850]*10**-3+5), color='c')\n",
    "ax3.annotate(\"{:.1f}\".format(trapFrequencies[index820]*10**-3),\n",
    "             xy=(lightWavelengths[index820], trapFrequencies[index820]*10**-3+5), color='c')\n",
    "ax3.annotate(\"{:.1f}\".format(totalTrapFrequencies[index850]*10**-3),\n",
    "             xy=(lightWavelengths[index850], totalTrapFrequencies[index850]*10**-3+5), color='c')\n",
    "ax3.annotate(\"{:.1f}\".format(totalTrapFrequencies[index820]*10**-3),\n",
    "             xy=(lightWavelengths[index820], totalTrapFrequencies[index820]*10**-3+5), color='c')\n",
    "\n",
    "ax3.set_xlim(810*10**-9, 860*10**-9)\n",
    "ax3.legend(loc=4)\n",
    "plt.title('Trap Parameters at different light wavelengths');"
   ]
  },
  {
   "cell_type": "code",
   "execution_count": 20,
   "metadata": {
    "ExecuteTime": {
     "end_time": "2017-04-26T13:47:00.296338",
     "start_time": "2017-04-26T19:46:50.055Z"
    },
    "heading_collapsed": "false",
    "run_control": {
     "frozen": false,
     "read_only": false
    }
   },
   "outputs": [
    {
     "name": "stderr",
     "output_type": "stream",
     "text": [
      "C:\\Users\\wdwor\\Miniconda3\\lib\\site-packages\\ipykernel\\ipkernel.py:283: DeprecationWarning:\n",
      "\n",
      "`should_run_async` will not call `transform_cell` automatically in the future. Please pass the result to `transformed_cell` argument and any exception that happen during thetransform in `preprocessing_exc_tuple` in IPython 7.17 and above.\n",
      "\n"
     ]
    },
    {
     "ename": "NameError",
     "evalue": "name 'h' is not defined",
     "output_type": "error",
     "traceback": [
      "\u001b[1;31m---------------------------------------------------------------------------\u001b[0m",
      "\u001b[1;31mNameError\u001b[0m                                 Traceback (most recent call last)",
      "\u001b[1;32m<ipython-input-20-4bc4a5630bb7>\u001b[0m in \u001b[0;36m<module>\u001b[1;34m\u001b[0m\n\u001b[0;32m     19\u001b[0m                                                           \u001b[0mlatticeWaist\u001b[0m\u001b[1;33m,\u001b[0m \u001b[0mlightWavelengths\u001b[0m\u001b[1;33m[\u001b[0m\u001b[0mwavelengthInc\u001b[0m\u001b[1;33m]\u001b[0m\u001b[1;33m,\u001b[0m\u001b[1;33m\u001b[0m\u001b[1;33m\u001b[0m\u001b[0m\n\u001b[0;32m     20\u001b[0m                                                           latticeWavelengths[wavelengthInc], positions, 0)\n\u001b[1;32m---> 21\u001b[1;33m     \u001b[0mplt\u001b[0m\u001b[1;33m.\u001b[0m\u001b[0mplot\u001b[0m\u001b[1;33m(\u001b[0m\u001b[0mpositions\u001b[0m \u001b[1;33m*\u001b[0m \u001b[1;36m10\u001b[0m\u001b[1;33m**\u001b[0m\u001b[1;36m6\u001b[0m\u001b[1;33m,\u001b[0m \u001b[1;33m-\u001b[0m\u001b[0mdepthProfile\u001b[0m\u001b[1;33m[\u001b[0m\u001b[0mwavelengthInc\u001b[0m\u001b[1;33m]\u001b[0m \u001b[1;33m/\u001b[0m \u001b[1;33m(\u001b[0m\u001b[0mh\u001b[0m \u001b[1;33m*\u001b[0m \u001b[1;36m10\u001b[0m\u001b[1;33m**\u001b[0m\u001b[1;36m6\u001b[0m\u001b[1;33m)\u001b[0m\u001b[1;33m,\u001b[0m \u001b[0mlabel\u001b[0m\u001b[1;33m=\u001b[0m\u001b[0mstr\u001b[0m\u001b[1;33m(\u001b[0m\u001b[0mlightWavelengths\u001b[0m\u001b[1;33m[\u001b[0m\u001b[0mwavelengthInc\u001b[0m\u001b[1;33m]\u001b[0m\u001b[1;33m*\u001b[0m\u001b[1;36m10\u001b[0m\u001b[1;33m**\u001b[0m\u001b[1;36m9\u001b[0m\u001b[1;33m)\u001b[0m \u001b[1;33m+\u001b[0m \u001b[1;34m' nm'\u001b[0m\u001b[1;33m)\u001b[0m\u001b[1;33m\u001b[0m\u001b[1;33m\u001b[0m\u001b[0m\n\u001b[0m\u001b[0;32m     22\u001b[0m \u001b[0mplt\u001b[0m\u001b[1;33m.\u001b[0m\u001b[0mxlabel\u001b[0m\u001b[1;33m(\u001b[0m\u001b[1;34mr'Position $(\\mu m)$'\u001b[0m\u001b[1;33m)\u001b[0m\u001b[1;33m\u001b[0m\u001b[1;33m\u001b[0m\u001b[0m\n\u001b[0;32m     23\u001b[0m \u001b[0mplt\u001b[0m\u001b[1;33m.\u001b[0m\u001b[0mylabel\u001b[0m\u001b[1;33m(\u001b[0m\u001b[1;34m'Depth (MHz)'\u001b[0m\u001b[1;33m)\u001b[0m\u001b[1;33m\u001b[0m\u001b[1;33m\u001b[0m\u001b[0m\n",
      "\u001b[1;31mNameError\u001b[0m: name 'h' is not defined"
     ]
    },
    {
     "data": {
      "image/png": "[encoded data removed]",
      "text/plain": [
       "<Figure size 2500x800 with 1 Axes>"
      ]
     },
     "metadata": {},
     "output_type": "display_data"
    }
   ],
   "source": [
    "# (in meters) This is different from the wavelength because of the bowtie configuration.\n",
    "powerEstimate = 1.4 * 0.8 * 0.8 * 0.9\n",
    "# \n",
    "tweezerWavelength = 850*10**-9\n",
    "tweezerIntensity = 3.185 * 10**11 * 0.00715\n",
    "tweezerWaist = 707*10**-9\n",
    "latticeWaist = 170*10**-6\n",
    "tweezerPower = tweezerIntensity * tweezerWaist**2 * np.pi/2\n",
    "positions = np.linspace(-2*10**-6, 2*10**-6, 1000)\n",
    "lightWavelengths = np.linspace(810 * 10**-9, 860 * 10**-9, 6)\n",
    "latticeWavelengths = np.sqrt(2) * lightWavelengths\n",
    "depthProfile = np.zeros([len(lightWavelengths), len(positions)])\n",
    "phases = np.linspace(0, np.pi/2, 4)\n",
    "\n",
    "plt.figure(1)\n",
    "plt.title('Trap profile with different wavelengths of lattice light')\n",
    "for wavelengthInc in range(len(lightWavelengths)):\n",
    "    depthProfile[wavelengthInc] = tweezerPlusLatticeDepth(tweezerPower, tweezerWaist, tweezerWavelength, powerEstimate,\n",
    "                                                          latticeWaist, lightWavelengths[wavelengthInc], \n",
    "                                                          latticeWavelengths[wavelengthInc], positions, 0)\n",
    "    plt.plot(positions * 10**6, -depthProfile[wavelengthInc] / (h * 10**6), label=str(lightWavelengths[wavelengthInc]*10**9) + ' nm')\n",
    "plt.xlabel(r'Position $(\\mu m)$')\n",
    "plt.ylabel('Depth (MHz)')\n",
    "plt.legend()\n",
    "\n",
    "plt.figure(2)\n",
    "plt.title('Trap Profile for different phases with lattice light at ' + str(lightWavelengths[0]*10**9) + ' nm')\n",
    "for phaseInc in range(len(phases)):\n",
    "    depthProfile[phaseInc] = tweezerPlusLatticeDepth(tweezerPower, tweezerWaist, tweezerWavelength, powerEstimate,\n",
    "                                                          latticeWaist, lightWavelengths[0], latticeWavelengths[0], positions, phases[phaseInc])\n",
    "    plt.plot(positions * 10**6, -depthProfile[phaseInc] / (h * 10**6), label=str(phases[phaseInc]))\n",
    "plt.xlabel(r'Position $(\\mu m)$')\n",
    "plt.ylabel('Depth (MHz)')\n",
    "plt.legend()\n",
    "\n",
    "plt.figure(3)\n",
    "plt.title('Trap Profile for different phases with lattice light at ' + str(lightWavelengths[-2]*10**9) + ' nm')\n",
    "for phaseInc in range(len(phases)):\n",
    "    depthProfile[phaseInc] = tweezerPlusLatticeDepth(tweezerPower, tweezerWaist, tweezerWavelength, powerEstimate,\n",
    "                                                          latticeWaist, lightWavelengths[-2], latticeWavelengths[-2], positions, phases[phaseInc])\n",
    "    plt.plot(positions * 10**6, -depthProfile[phaseInc] / (h * 10**6), label=str(phases[phaseInc]))\n",
    "plt.xlabel(r'Position $(\\mu m)$')\n",
    "plt.ylabel('Depth (MHz)')\n",
    "plt.legend();\n",
    "\n",
    "plt.figure(4)\n",
    "plt.title('Trap Profile for different lattice powers with the lattice light at ' + str(lightWavelengths[0]*10**9) + ' nm')\n",
    "powers = np.linspace(0, powerEstimate, 4)\n",
    "for powerInc in range(len(powers)):\n",
    "    depthProfile[powerInc] = tweezerPlusLatticeDepth(tweezerPower, tweezerWaist, tweezerWavelength, powers[powerInc],\n",
    "                                                     latticeWaist, lightWavelengths[0], latticeWavelengths[0], positions, 0)\n",
    "    plt.plot(positions * 10**6, -depthProfile[powerInc] / (h * 10**6), label=str(powers[powerInc]))\n",
    "plt.xlabel(r'Position $(\\mu m)$')\n",
    "plt.ylabel('Depth (MHz)')\n",
    "plt.legend();"
   ]
  },
  {
   "cell_type": "markdown",
   "metadata": {
    "heading_collapsed": "false",
    "run_control": {
     "frozen": false,
     "read_only": false
    }
   },
   "source": [
    "### Calculating trap depth at different NAs and powers for simple tweezers"
   ]
  },
  {
   "cell_type": "markdown",
   "metadata": {
    "heading_collapsed": "false"
   },
   "source": [
    "Wednesday, April 26th, 2017, for attempting to trap a bunch of atoms."
   ]
  },
  {
   "cell_type": "code",
   "execution_count": 21,
   "metadata": {
    "ExecuteTime": {
     "end_time": "2017-04-26T13:47:00.296839",
     "start_time": "2017-04-26T19:46:50.486Z"
    },
    "heading_collapsed": "false"
   },
   "outputs": [
    {
     "name": "stdout",
     "output_type": "stream",
     "text": [
      "2.1645710647779723e-06\n",
      "39.11168600923893 MHz\n"
     ]
    }
   ],
   "source": [
    "na = 0.25\n",
    "waist = 850e-9 / ((3.1415/2)*na)\n",
    "power = 30e-3\n",
    "\n",
    "print(waist)\n",
    "\n",
    "#intensity = 3.185e11 * 0.00715\n",
    "#waist = 707*10**-9\n",
    "#power = intensity * waist**2 * np.pi/2\n",
    "print(tweezerDepth(power, waist, 850*10**-9) / (6.626*10**-34 * 10**6), 'MHz')"
   ]
  },
  {
   "cell_type": "markdown",
   "metadata": {
    "heading_collapsed": "false"
   },
   "source": [
    "### Calculating Scattering of tweezer light in very deep tweezer"
   ]
  },
  {
   "cell_type": "code",
   "execution_count": 22,
   "metadata": {
    "ExecuteTime": {
     "end_time": "2017-09-18T00:05:55.247654Z",
     "start_time": "2017-09-18T00:05:55.241638Z"
    },
    "heading_collapsed": "false"
   },
   "outputs": [
    {
     "data": {
      "text/plain": [
       "1784.6767209525312"
      ]
     },
     "execution_count": 22,
     "metadata": {},
     "output_type": "execute_result"
    }
   ],
   "source": [
    "scatterRate(200e-3, 0.6e-6, 850e-9) * 0.1"
   ]
  },
  {
   "cell_type": "code",
   "execution_count": null,
   "metadata": {},
   "outputs": [],
   "source": []
  },
  {
   "cell_type": "markdown",
   "metadata": {},
   "source": [
    "# New lattice plan..."
   ]
  },
  {
   "cell_type": "markdown",
   "metadata": {
    "heading_collapsed": "false"
   },
   "source": [
    "- Calculate intensity as a function of power / size parameters...\n",
    "- Lattice Spacing as function of angle...\n",
    "- Estimate lattice trap freq and depth...\n",
    "- as a function of angle...\n",
    "- think more fully about issues with depth being larger..."
   ]
  },
  {
   "cell_type": "markdown",
   "metadata": {},
   "source": [
    "$$\n",
    "2w_f = \\frac{4\\lambda}{\\pi} \\frac{f}{2w_0}\\\\\n",
    "w_f = \\frac{\\lambda f}{\\pi w_0}\n",
    "$$"
   ]
  },
  {
   "cell_type": "code",
   "execution_count": 213,
   "metadata": {},
   "outputs": [
    {
     "name": "stdout",
     "output_type": "stream",
     "text": [
      "c230 size: 5.985916001243852e-05\n",
      "c240 size: 3.3736085194042654e-05\n"
     ]
    }
   ],
   "source": [
    "w_0_c230 = 0.452 # mm\n",
    "w_0_c240 = 0.802\n",
    "def get_wf(w_0):\n",
    "    f_ = 0.1\n",
    "    return 850e-9*f_ / (np.pi * w_0)\n",
    "print('c230 size:', get_wf(w_0_c230*1e-3))\n",
    "print('c240 size:', get_wf(w_0_c240*1e-3))"
   ]
  },
  {
   "cell_type": "markdown",
   "metadata": {},
   "source": [
    "trap freq: (Eq. c16 from \"Bose-Einstein condensates in optical lattice\" thesis by Henrik Andersen https://phys.au.dk/fileadmin/site_files/publikationer/phd/PhD_hka.pdf)\n",
    "$$\n",
    "\\omega_z \\approx \\sqrt{\\frac{2V_0}{m}}k=\\sqrt{\\frac{2V_0}{m}} \\frac{2\\pi \\sin\\{\\theta\\}}{\\lambda}\n",
    "$$"
   ]
  },
  {
   "cell_type": "markdown",
   "metadata": {},
   "source": [
    "For perfect interference, $k = 2\\pi/\\lambda$. For two beams interfering at not perfect angles, I think this is $2\\pi\\sin\\{\\theta\\}/\\lambda$ where $\\theta$ is the *half-angle* between the beams (takes maximum value at $\\theta=\\pi/2$)"
   ]
  },
  {
   "cell_type": "markdown",
   "metadata": {},
   "source": [
    "The lenses in the exp setup are ~10cm and 2.54 cm diameter. that means"
   ]
  },
  {
   "cell_type": "code",
   "execution_count": 230,
   "metadata": {},
   "outputs": [
    {
     "name": "stdout",
     "output_type": "stream",
     "text": [
      "0.1263237381579653 7.237817048767123\n"
     ]
    }
   ],
   "source": [
    "maxSingleLensAngle = np.arctan(2.54/2/10)\n",
    "print(maxSingleLensAngle, maxSingleLensAngle*180/np.pi)"
   ]
  },
  {
   "cell_type": "code",
   "execution_count": 70,
   "metadata": {},
   "outputs": [],
   "source": [
    "maxSingleLensAngle = np.arctan(2.54/2/10)\n",
    "def trapFreq1DLattice_nu(V_0, angle=maxSingleLensAngle):\n",
    "    return np.sqrt(2*V_0/mc.Rb87_M) * np.sin(angle)/850e-9"
   ]
  },
  {
   "cell_type": "code",
   "execution_count": 78,
   "metadata": {},
   "outputs": [
    {
     "name": "stdout",
     "output_type": "stream",
     "text": [
      "1.0271798355946804 khz\n",
      "11.507084881819068 khz\n"
     ]
    }
   ],
   "source": [
    "print(trapFreq1DLattice_nu(1e-6*mc.k_B, maxSingleLensAngle/2)/1e3,\"khz\")\n",
    "print(trapFreq1DLattice_nu(1e-6*mc.k_B, np.pi/4)/1e3,\"khz\")"
   ]
  },
  {
   "cell_type": "code",
   "execution_count": 78,
   "metadata": {},
   "outputs": [
    {
     "name": "stdout",
     "output_type": "stream",
     "text": [
      "1.0271798355946804 khz\n",
      "11.507084881819068 khz\n"
     ]
    }
   ],
   "source": [
    "print(trapFreq1DLattice_nu(1e-6*mc.k_B, maxSingleLensAngle/2)/1e3,\"khz\")\n",
    "print(trapFreq1DLattice_nu(1e-6*mc.k_B, np.pi/4)/1e3,\"khz\")"
   ]
  },
  {
   "cell_type": "code",
   "execution_count": 231,
   "metadata": {},
   "outputs": [
    {
     "data": {
      "text/plain": [
       "89.0786169627706"
      ]
     },
     "execution_count": 231,
     "metadata": {},
     "output_type": "execute_result"
    }
   ],
   "source": [
    "11.5 * np.sqrt(60)"
   ]
  },
  {
   "cell_type": "code",
   "execution_count": null,
   "metadata": {},
   "outputs": [],
   "source": []
  }
 ],
 "metadata": {
  "anaconda-cloud": {},
  "hide_input": false,
  "kernelspec": {
   "display_name": "Python 3",
   "language": "python",
   "name": "python3"
  },
  "language_info": {
   "codemirror_mode": {
    "name": "ipython",
    "version": 3
   },
   "file_extension": ".py",
   "mimetype": "text/x-python",
   "name": "python",
   "nbconvert_exporter": "python",
   "pygments_lexer": "ipython3",
   "version": "3.8.3"
  },
  "nav_menu": {},
  "toc": {
   "navigate_menu": true,
   "number_sections": true,
   "sideBar": true,
   "threshold": 6,
   "toc_cell": true,
   "toc_section_display": "block",
   "toc_window_display": false
  }
 },
 "nbformat": 4,
 "nbformat_minor": 4
}

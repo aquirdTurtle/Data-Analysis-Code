{
 "cells": [
  {
   "cell_type": "markdown",
   "metadata": {
    "tags": [],
    "toc": "true"
   },
   "source": [
    "# Table of Contents\n",
    " <p>"
   ]
  },
  {
   "cell_type": "markdown",
   "metadata": {},
   "source": [
    "# MOT Temperature Calculation"
   ]
  },
  {
   "cell_type": "markdown",
   "metadata": {
    "heading_collapsed": "false"
   },
   "source": [
    "- Mark Brown  \n",
    "April 3rd, 2017"
   ]
  },
  {
   "cell_type": "markdown",
   "metadata": {
    "heading_collapsed": "false"
   },
   "source": [
    "- Revised by Mark Brown  \n",
    "June 6th, 2018"
   ]
  },
  {
   "cell_type": "markdown",
   "metadata": {
    "heading_collapsed": "false"
   },
   "source": [
    "## Imports and Matplotlib defaults"
   ]
  },
  {
   "cell_type": "code",
   "execution_count": 1,
   "metadata": {
    "ExecuteTime": {
     "end_time": "2017-04-03T20:01:47.382036",
     "start_time": "2017-04-03T20:01:17.909277"
    },
    "collapsed": false,
    "heading_collapsed": "false",
    "hidden": true,
    "jupyter": {
     "outputs_hidden": false
    }
   },
   "outputs": [],
   "source": [
    "import numpy as np\n",
    "import matplotlib as mpl\n",
    "import pandas as pd\n",
    "from mpl_toolkits.mplot3d import axes3d\n",
    "from scipy.optimize import curve_fit as fit\n",
    "from matplotlib.pyplot import *\n",
    "import math as m\n",
    "import sys\n",
    "import MarksConstants as mc\n",
    "### set matplotlib plot defaults :D\n",
    "%matplotlib inline\n",
    "# Style controls many default colors in matplotlib plots.\n",
    "# Change the following if you don't like dark backgrounds. Many other options.\n",
    "style.use(['dark_background'])\n",
    "mpl.rcParams['axes.facecolor'] = '#0a0a0a'\n",
    "# the default cycling of colors in this mode isn't very good.\n",
    "mpl.rcParams['axes.prop_cycle'] = cycler('color', ['r','c','g','#FFFFFF','y','m','b'])\n",
    "mpl.rcParams['figure.figsize'] = (18.0, 8.0)\n",
    "mpl.rcParams['axes.grid'] = True\n",
    "mpl.rcParams['axes.formatter.useoffset'] = False\n",
    "mpl.rcParams['grid.alpha'] = 0.3\n",
    "# jet is awful.\n",
    "mpl.rcParams['image.cmap'] = 'magma'\n",
    "# to see all available options, decomment this line.\n",
    "#print(mpl.rcParams)"
   ]
  },
  {
   "cell_type": "markdown",
   "metadata": {},
   "source": [
    "# Theory"
   ]
  },
  {
   "cell_type": "markdown",
   "metadata": {
    "heading_collapsed": "false"
   },
   "source": [
    "This is based on the following paper:\n"
   ]
  },
  {
   "cell_type": "markdown",
   "metadata": {
    "heading_collapsed": "false"
   },
   "source": [
    "**Time-of-flight measurement of the temperature of cold atoms for short trap-probe beam distances**  \n",
    "by... Tomasz M Brzozowski, Maria Maczynska, Michal Zawada, Jerzy Zachorowski and Wojciech Gawlik"
   ]
  },
  {
   "cell_type": "markdown",
   "metadata": {
    "heading_collapsed": "false"
   },
   "source": [
    "We are interested in finding the temperature of the cloud of atoms. Classically, the velocity of the atoms follows the maxwell-boltzmann distribution:"
   ]
  },
  {
   "cell_type": "markdown",
   "metadata": {
    "heading_collapsed": "false"
   },
   "source": [
    "$$\n",
    "P(v_i) = \\sqrt{\\frac{m}{2\\pi k_B T}} \\exp{\\Big\\{-\\frac{mv^2}{2 k_B T}\\Big\\}}\n",
    "$$"
   ]
  },
  {
   "cell_type": "markdown",
   "metadata": {
    "heading_collapsed": "false"
   },
   "source": [
    "This is a gaussian distribution with standard deviation\n",
    "$$\n",
    "\\sigma_v^2 = \\frac{k_B T}{m},  \\qquad T = \\frac{m\\sigma_v^2}{k_B}\n",
    "$$"
   ]
  },
  {
   "cell_type": "markdown",
   "metadata": {
    "heading_collapsed": "false"
   },
   "source": [
    "I'll parameterize this work in terms of $\\sigma_v$ for convenience."
   ]
  },
  {
   "cell_type": "markdown",
   "metadata": {
    "heading_collapsed": "false"
   },
   "source": [
    "For Rubidium 87,"
   ]
  },
  {
   "cell_type": "code",
   "execution_count": 56,
   "metadata": {
    "heading_collapsed": "false"
   },
   "outputs": [
    {
     "data": {
      "image/png": "[encoded data removed]",
      "text/latex": [
       "$$0.010452772908151881$$"
      ],
      "text/plain": [
       "0.010452772908151881"
      ]
     },
     "execution_count": 56,
     "metadata": {},
     "output_type": "execute_result"
    }
   ],
   "source": [
    "mc.Rb87_M / mc.k_B"
   ]
  },
  {
   "cell_type": "markdown",
   "metadata": {
    "heading_collapsed": "false"
   },
   "source": [
    "$$T\\approx 0.010453\\sigma_v^2$$"
   ]
  },
  {
   "cell_type": "markdown",
   "metadata": {
    "heading_collapsed": "false"
   },
   "source": [
    "Keep in mind that this is 1-dimensional."
   ]
  },
  {
   "cell_type": "markdown",
   "metadata": {
    "heading_collapsed": "false"
   },
   "source": [
    "The initial distribution of atoms is given by a function $P(x_0)=P(x,t=0)$. What is $P(x,t)$?\n",
    "\n",
    "Consider a population of atoms located at position $x_0$. If the atoms have a velocity $v_x$, then after at time $t$ the atoms are at $x = x_0 + v_x t$. In terms of $x$ then, $v_x = \\frac{x-x_0}{t}$. If the velocities follow a probability distribution $P_v(v_x)$, then the probability of finding the population at $x$ is, given the initial position, the probability of having a velocity that puts the atoms there, or $P_1(x)$=$P_v(\\frac{x-x_0}{t})$ (1 for one $x_0$).\n",
    "\n",
    "If I now generalize the atoms as having some initial distribution x, then in principle the atoms could reach the position $x$ from any loction in the initial distribution. So I need to multiply $P_1(x)$ by the probability of finding and atom at a given $x_0$ and then integrate over all possible $x_0$:"
   ]
  },
  {
   "cell_type": "markdown",
   "metadata": {
    "heading_collapsed": "false"
   },
   "source": [
    "$$\n",
    "P(x,t) = \\int P\\{x_0\\}P_v\\big\\{\\frac{x-x_0}{t}\\big\\}dx_0\n",
    "$$"
   ]
  },
  {
   "cell_type": "markdown",
   "metadata": {
    "heading_collapsed": "false"
   },
   "source": [
    "In principle we could use this with the exact initial distribution which we can easily measure, but practically speaking we can model the spatial distribution as a gaussian. As discussed above, the velocity distribution $P_v$ is also gaussian."
   ]
  },
  {
   "cell_type": "markdown",
   "metadata": {
    "heading_collapsed": "false"
   },
   "source": [
    "$$\n",
    "P(x,t) \\propto \\frac{1}{2\\pi\\sigma_x \\sigma_v}\\int \\exp\\big\\{-\\frac{x_0^2}{2\\sigma_x^2}\\big\\}\\exp\\big\\{-\\frac{(x-x_0)^2}{2t^2\\sigma_v^2}\\big\\}dx_0\n",
    "$$"
   ]
  },
  {
   "cell_type": "markdown",
   "metadata": {
    "heading_collapsed": "false"
   },
   "source": [
    "(I should have to renormalize after plugging in the time-dependent term into the velocity distribution but I don't care about the overall amplitude in the end)."
   ]
  },
  {
   "cell_type": "code",
   "execution_count": 55,
   "metadata": {
    "heading_collapsed": "false"
   },
   "outputs": [
    {
     "data": {
      "image/png": "[encoded data removed]",
      "text/latex": [
       "$$\\frac{\\sqrt{\\pi} \\sigma_{v} \\sigma_{x} t}{\\sqrt{\\sigma_{v}^{2} t^{2} + \\sigma_{x}^{2}}} e^{\\frac{x^{2}}{\\sigma_{x}^{2}} \\left(\\frac{\\sigma_{v}^{2} t^{2}}{\\sigma_{v}^{2} t^{2} + \\sigma_{x}^{2}} - 1\\right)}$$"
      ],
      "text/plain": [
       "               ⎛     2  2       ⎞\n",
       "             2 ⎜   σᵥ ⋅t        ⎟\n",
       "            x ⋅⎜──────────── - 1⎟\n",
       "               ⎜  2  2     2    ⎟\n",
       "               ⎝σᵥ ⋅t  + σₓ     ⎠\n",
       "            ─────────────────────\n",
       "                       2         \n",
       "                     σₓ          \n",
       "√π⋅σᵥ⋅σₓ⋅t⋅ℯ                     \n",
       "─────────────────────────────────\n",
       "           ______________        \n",
       "          ╱   2  2     2         \n",
       "        ╲╱  σᵥ ⋅t  + σₓ          "
      ]
     },
     "metadata": {},
     "output_type": "display_data"
    }
   ],
   "source": [
    "import sympy as sp\n",
    "sp.init_printing(use_latex=True)\n",
    "x_0 = sp.Symbol('x_0', real=True)\n",
    "x = sp.Symbol('x', real=True)\n",
    "t = sp.Symbol('t', positive=True)\n",
    "sigma_v = sp.Symbol('sigma_v', positive=True)\n",
    "sigma_x = sp.Symbol('sigma_x', positive=True)\n",
    "expr = sp.exp(-x_0**2 / (sigma_x**2)) * sp.exp(-(x-x_0)**2/(t**2*sigma_v**2))\n",
    "res = sp.simplify(sp.Integral(expr, (x_0, -sp.oo,sp.oo)).doit())\n",
    "display(res)"
   ]
  },
  {
   "cell_type": "markdown",
   "metadata": {
    "heading_collapsed": "false"
   },
   "source": [
    "Sympy seems to have trouble simplifying that exponent quite fully, it simplifies to\n",
    "$$\n",
    "\\sim \\exp\\big\\{-\\frac{x^2}{\\sigma_v^2t^2+\\sigma_x^2}\\big\\}\n",
    "$$"
   ]
  },
  {
   "cell_type": "markdown",
   "metadata": {
    "heading_collapsed": "false"
   },
   "source": [
    "I.e. a gaussian distribution with \n",
    "$$\\sigma_{x\\{t\\}} = \\sqrt{\\sigma_v^2t^2+\\sigma_x^2}$$\n"
   ]
  },
  {
   "cell_type": "markdown",
   "metadata": {
    "heading_collapsed": "false"
   },
   "source": [
    "We are close now. If we assume that we measure the real standard deviation of the atom cloud directly, we would be done, but in principle the width of the gaussian that we measure is effected by the finite waist of the imaging laser as well."
   ]
  },
  {
   "cell_type": "markdown",
   "metadata": {
    "heading_collapsed": "false"
   },
   "source": [
    "That is, we measure\n",
    "$$M(x) = I(x) * A(x)$$"
   ]
  },
  {
   "cell_type": "markdown",
   "metadata": {
    "heading_collapsed": "false"
   },
   "source": [
    "where $A(x)$ is the atom distribution, $I(x)$ is the intensity distribution, and $M(x)$ is what we directly measure. Since both are gaussians, this simply results in another gaussian with a sigma that is the harmonic wasit of these two:"
   ]
  },
  {
   "cell_type": "markdown",
   "metadata": {
    "heading_collapsed": "false"
   },
   "source": [
    "$$\n",
    "\\sigma_m = \\frac{\\sigma_I  \\sigma_{x\\{t\\}}}{\\sqrt{\\sigma_I^2 + \\sigma_{x\\{t\\}}^2}}\n",
    "$$"
   ]
  },
  {
   "cell_type": "code",
   "execution_count": 2,
   "metadata": {
    "heading_collapsed": "false"
   },
   "outputs": [],
   "source": [
    "from fitters import FullBalisticMotExpansion, LargeBeamMotExpansion"
   ]
  },
  {
   "cell_type": "markdown",
   "metadata": {
    "heading_collapsed": "false"
   },
   "source": [
    "### todo: demo..."
   ]
  },
  {
   "cell_type": "code",
   "execution_count": null,
   "metadata": {
    "heading_collapsed": "false"
   },
   "outputs": [],
   "source": []
  }
 ],
 "metadata": {
  "anaconda-cloud": {},
  "hide_input": false,
  "kernelspec": {
   "display_name": "Python 3",
   "language": "python",
   "name": "python3"
  },
  "language_info": {
   "codemirror_mode": {
    "name": "ipython",
    "version": 3
   },
   "file_extension": ".py",
   "mimetype": "text/x-python",
   "name": "python",
   "nbconvert_exporter": "python",
   "pygments_lexer": "ipython3",
   "version": "3.9.1"
  },
  "nav_menu": {},
  "toc": {
   "navigate_menu": true,
   "number_sections": true,
   "sideBar": true,
   "threshold": 6,
   "toc_cell": true,
   "toc_section_display": "block",
   "toc_window_display": false
  }
 },
 "nbformat": 4,
 "nbformat_minor": 4
}

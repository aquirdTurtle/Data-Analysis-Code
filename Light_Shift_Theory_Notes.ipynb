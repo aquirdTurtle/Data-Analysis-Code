{
 "cells": [
  {
   "cell_type": "markdown",
   "metadata": {
    "Collapsed": "false"
   },
   "source": []
  },
  {
   "cell_type": "markdown",
   "metadata": {
    "Collapsed": "false"
   },
   "source": [
    "## Theory Calculation"
   ]
  },
  {
   "cell_type": "markdown",
   "metadata": {
    "Collapsed": "false"
   },
   "source": [
    "### Discussion"
   ]
  },
  {
   "cell_type": "markdown",
   "metadata": {
    "Collapsed": "false",
    "heading_collapsed": true
   },
   "source": [
    "#### Principle of the calculation"
   ]
  },
  {
   "cell_type": "markdown",
   "metadata": {
    "Collapsed": "false",
    "hidden": true
   },
   "source": [
    "The trap light causes a measurable shift of the cycling transition in Rubidium. In principle we know exactly what the transition frequency *should* be, so a single data point could calibrate the effective depth. However, because of uncertainty in, e.g. the exact locking frequency, it's better to find the resonance at a variety of powers and calibrate out such uncertainties. So,\n",
    "- Find the resonance location (in dac units) vs input power at a variety of powers\n",
    "- find the relative frequency difference as a function of dac units. \n",
    "- Get the relative frequency resonance in real frequency units as a function of power\n",
    "- Calculate what relative depth results in the relative frequency change from atomic physics.\n",
    "- Use this and the free-space resonance to extrapolate what the actual depth is."
   ]
  },
  {
   "cell_type": "markdown",
   "metadata": {
    "Collapsed": "false"
   },
   "source": [
    "### Derivation of the Light Shift from first principles"
   ]
  },
  {
   "cell_type": "markdown",
   "metadata": {
    "Collapsed": "false"
   },
   "source": [
    "From second-order perturbation theory,\n",
    "\n",
    "$$\n",
    "\\Delta E_i = \\sum_{i\\ne j}{\\frac{\\big|\\langle j|H|i\\rangle\\big|^2}{E_i-E_j}}\n",
    "$$\n",
    "The hyperfine perturbation, important for considering light shifts, is (from Metcalf's book):\n",
    "$$\n",
    "H_{hf} = \\hbar A_{hf} \\vec{I}\\cdot\\vec{J}+\\hbar B_{hf} \\frac{6(\\vec{I}\\cdot\\vec{J})^2+3\\vec{I}\\cdot\\vec{J}-2\\vec{I}^2\\vec{J}^2}{2I(2I-1)2J(2J-1)}\n",
    "$$\n",
    "where $A_{hf}$ and $B_{hf}$ are constants dependent on the atomic species in some way."
   ]
  },
  {
   "cell_type": "markdown",
   "metadata": {
    "Collapsed": "false"
   },
   "source": [
    "#### 2-Level atom light shift"
   ]
  },
  {
   "cell_type": "markdown",
   "metadata": {
    "Collapsed": "false"
   },
   "source": [
    "An atom is exposed to a perturbing hamiltonian that is, in the dipole approximation, $H_{laser} = -e\\vec{r}\\cdot\\vec{E}(t)=-\\vec{d}\\cdot\\vec{E}(t)$"
   ]
  },
  {
   "cell_type": "markdown",
   "metadata": {
    "Collapsed": "false"
   },
   "source": [
    "The principle:\n",
    "The oscillating electric field induces a dipole in the atom $\\vec{d}$. A dipole in a field has energy:\n",
    "$$\n",
    "\\Delta E_{dip}=- \\vec{p}\\cdot\\vec{E}\n",
    "$$\n",
    "In this case we have a rapidly time-varying field so the relevant energy is:\n",
    "$$\n",
    "\\Delta E_{dip} = -\\frac{1}{2} \\langle\\vec{p}(t)\\cdot\\vec{E}(t)\\rangle_t\n",
    "$$\n",
    "where the averaging is over $t$ and the factor of half \"mysteriously\" comes from the fact that the dipole is induced. I haven't worked out quite why this matters, but I'm guessing it might be just related to a phase delay between the induced dipole and the e-field, or something like that. Anyways, with the above in mind, the goal of the analysis is to determine this energy, or equally, to determine the characteristics of the induced dipole moment."
   ]
  },
  {
   "cell_type": "markdown",
   "metadata": {
    "Collapsed": "false"
   },
   "source": [
    "The induced dipole moment is given by the expectation value of the dipole moment operator, which in the case of the two level atom can quickly be reduced to:\n",
    "$$\n",
    "\\vec{p}=\\langle\\vec{d}\\rangle = \\vec{d}_{eg}\\rho_{eg}+\\vec{d}_{ge}\\rho_{ge}\n",
    "$$"
   ]
  },
  {
   "cell_type": "markdown",
   "metadata": {
    "Collapsed": "false"
   },
   "source": [
    "The analysis of the density matrix of a two-level atom in an oscillating electric field results in the well-known \"optical bloch equations\" (I have another notebook on this). The optical block equations give us:\n",
    "\n",
    "ERROR: When trying to pull from my existing bloch equations notebook to justify this, I got stuck. I'm suspicious that there's an error in my optical bloch equations notebook, but I don't have metcalf with me so I'll have to deal with it later."
   ]
  },
  {
   "cell_type": "markdown",
   "metadata": {
    "Collapsed": "false"
   },
   "source": [
    "$$\n",
    "\\frac{d\\rho_{eg}}{dt} = (-\\frac{\\gamma}{2} - i\\delta)\\rho_{eg} + \\frac{i}{2\\hbar}(E_0 \\vec{u}e^{-i\\omega t} + E_0^* \\vec{u}^*e^{i\\omega t})\\cdot d_{eg}(\\rho_{ee}-\\rho_{gg})\n",
    "$$"
   ]
  },
  {
   "cell_type": "markdown",
   "metadata": {
    "Collapsed": "false"
   },
   "source": [
    "Where $\\delta=\\hbar(E_e-E_g)$"
   ]
  },
  {
   "cell_type": "markdown",
   "metadata": {
    "Collapsed": "false"
   },
   "source": [
    "Since the laser beam is far-detuned, the atom is basically never actually excited to the excited state, so let $\\rho_{gg}=1, \\rho_{ee}=0$:"
   ]
  },
  {
   "cell_type": "markdown",
   "metadata": {
    "Collapsed": "false"
   },
   "source": [
    "$$\n",
    "\\frac{d\\rho_{eg}}{dt} = (-\\frac{\\gamma}{2} - i\\delta)\\rho_{eg} - \\frac{i}{2\\hbar}(E_0 \\vec{u}e^{-i\\omega t} + E_0^* \\vec{u}^*e^{i\\omega t})\\cdot d_{eg}\n",
    "$$"
   ]
  },
  {
   "cell_type": "markdown",
   "metadata": {
    "Collapsed": "false"
   },
   "source": [
    "Now, use the anzats $\\rho_{eg} = \\rho_{eg}^+e^{-i\\omega t} + \\rho_{eg}^-e^{i\\omega t}$. The equation becomes:"
   ]
  },
  {
   "cell_type": "markdown",
   "metadata": {
    "Collapsed": "false"
   },
   "source": [
    "$$\n",
    "-i\\omega\\rho_{eg}^+e^{-i\\omega t} + i\\omega\\rho_{eg}^-e^{i\\omega t} = (-\\frac{\\gamma}{2} - i\\delta)(\\rho_{eg}^+e^{-i\\omega t} + \\rho_{eg}^-e^{i\\omega t}) - \\frac{i}{2\\hbar}(E_0 \\vec{u}e^{-i\\omega t} + E_0^* \\vec{u}^*e^{i\\omega t})\\cdot d_{eg}\n",
    "$$"
   ]
  },
  {
   "cell_type": "markdown",
   "metadata": {
    "Collapsed": "false"
   },
   "source": [
    "To get this to be true at all times, I group terms by their only time-y term, the exponential:"
   ]
  },
  {
   "cell_type": "markdown",
   "metadata": {
    "Collapsed": "false"
   },
   "source": [
    "$$\n",
    "ie^{-i\\omega t}\\rho_{eg}^+(-i\\omega -(\\gamma/2+i\\delta)) + ie^{i\\omega t}\\rho_{eg}^-(i\\omega-(\\gamma/2+i\\delta)) = - \\frac{i}{2\\hbar}(E_0 \\vec{u}e^{-i\\omega t} + E_0^* \\vec{u}^*e^{i\\omega t})\\cdot d_{eg}\n",
    "$$"
   ]
  },
  {
   "cell_type": "markdown",
   "metadata": {
    "Collapsed": "false"
   },
   "source": [
    "$$\n",
    "e^{-i\\omega t}\\Big(i\\rho_{eg}^+(-i\\omega -(\\gamma/2+i\\delta))+\\frac{iE_0\\vec{u}\\cdot \\vec{d}_{eg}}{2\\hbar}\\Big) + e^{i\\omega t}\\Big(i\\rho_{eg}^-(i\\omega-(\\gamma/2+i\\delta)) +\\frac{iE_0^*\\vec{u}^*\\cdot \\vec{d}_{eg}}{2\\hbar}\\Big)=0\n",
    "$$"
   ]
  },
  {
   "cell_type": "markdown",
   "metadata": {
    "Collapsed": "false"
   },
   "source": [
    "This is true at all times if each term individually is zero, i.e. giving the solution"
   ]
  },
  {
   "cell_type": "markdown",
   "metadata": {
    "Collapsed": "false"
   },
   "source": [
    "$$\n",
    "\\rho_{eg}^+ = \\frac{E_0\\vec{u}\\cdot\\vec{d}_{eg}}{2\\hbar} \\frac{1}{\\omega-i\\gamma/2+\\delta}\n",
    "$$\n",
    "\n",
    "$$\n",
    "\\rho_{eg}^- = \\frac{E_0^*\\vec{u}^*\\cdot\\vec{d}_{eg}}{2\\hbar} \\frac{1}{-\\omega-i\\gamma/2+\\delta}\n",
    "$$"
   ]
  },
  {
   "cell_type": "markdown",
   "metadata": {
    "Collapsed": "false"
   },
   "source": [
    "These are the equations that the source above claimed. Checks out."
   ]
  },
  {
   "cell_type": "markdown",
   "metadata": {
    "Collapsed": "false"
   },
   "source": [
    "Plugging these results into the energy equation above rapidly gives the following result:\n",
    "$$\n",
    "E_{dip} = -\\frac{|E|^2}{4\\hbar} \\Re\\Big\\{\\frac{|\\vec{u}\\cdot \\vec{d}_{eg}|^2}{\\delta-\\omega-i\\gamma_{ba}/2}+\\frac{|\\vec{u}\\cdot \\vec{d}_{ge}|^2}{\\delta+\\omega+i\\gamma_{ba}/2}\\Big\\}\n",
    "$$"
   ]
  },
  {
   "cell_type": "markdown",
   "metadata": {
    "Collapsed": "false"
   },
   "source": [
    "Oftentimes the rightmost term is dropped as the sum of the frequencies is very large. Note that the sign of the correction will flip if the trap light detuning flips above or below the transition frequency. Also note that some prior approximations about which eigenstates being good eigenstates break down near $\\delta = \\omega$"
   ]
  },
  {
   "cell_type": "markdown",
   "metadata": {
    "Collapsed": "false"
   },
   "source": [
    "In general the correction will be a sum of terms like this for each level."
   ]
  },
  {
   "cell_type": "markdown",
   "metadata": {
    "Collapsed": "false"
   },
   "source": [
    "### Extra notes..."
   ]
  },
  {
   "cell_type": "markdown",
   "metadata": {
    "Collapsed": "false"
   },
   "source": [
    "$$\n",
    "= e^2|E|^2\\sum_{i\\ne j}{\\frac{\\big|\\langle j|\\vec{r}\\cdot\\hat{e}|i\\rangle\\big|^2}{E_i-E_j}}\\\\\n",
    "$$\n",
    "We have $|E|^2 = \\frac{I}{2 \\epsilon_0 c}$. (Careful, the Grimm reference uses a silly definition, $\\vec{E} = \\tilde{E}\\exp\\{-i\\omega t\\} + \\text{c.c.}$ which means $|E|=\\frac{1}{2}\\tilde{E}$ there.)\n",
    "$$\n",
    "\\Delta E_i = \\frac{e^2I}{2\\epsilon_0 c}\\sum_{i\\ne j}{\\frac{\\big|\\langle j|\\vec{r}\\cdot\\hat{e}|i\\rangle\\big|^2}{E_i-E_j}}\\\\\n",
    "$$"
   ]
  },
  {
   "cell_type": "markdown",
   "metadata": {
    "Collapsed": "false"
   },
   "source": [
    "The reduced dipole operator is is defined via: \n",
    "$$\n",
    "\\mu_{ij}=-e\\langle i|r|j\\rangle = -e \\langle F|r|F' \\rangle\\langle F m_F | |F' 1 m_F'q\\rangle\\\\\n",
    "$$\n",
    "The first part is the radial part of the integral, and the second part is the angular part.\n",
    "$$\n",
    "\\mu_{ij}=c_{ij}|\\mu|\\\\\n",
    "$$"
   ]
  },
  {
   "cell_type": "markdown",
   "metadata": {
    "Collapsed": "false"
   },
   "source": [
    "Where the summation is carried out over all electromanetic excited states"
   ]
  },
  {
   "cell_type": "markdown",
   "metadata": {
    "Collapsed": "false"
   },
   "source": [
    "\n",
    "$$\n",
    "\\Delta E_i = \\frac{3\\pi c^2\\Gamma}{2\\omega_0^3} I \\sum_j{\\frac{c_{ij}^2}{\\Delta_{ij}}}\n",
    "$$\n"
   ]
  },
  {
   "cell_type": "code",
   "execution_count": null,
   "metadata": {
    "Collapsed": "false"
   },
   "outputs": [],
   "source": []
  },
  {
   "cell_type": "markdown",
   "metadata": {
    "Collapsed": "false"
   },
   "source": [
    "For an alkali atom, typically one takes into account the ground state and the Fine-structure split split excited states, the D1 and D2 lines, and one can derive... (Seems to be a factor of $I$ missing...)"
   ]
  },
  {
   "cell_type": "markdown",
   "metadata": {
    "Collapsed": "false"
   },
   "source": [
    "$$\n",
    "U_{\\text{dip}}\\{\\vec{r}\\}=\\frac{\\pi c^2 \\Gamma}{2\\omega_0^3}\\Big(\\frac{2+\\mathcal{P} g_f m_f}{\\Delta_{2, f}}+\\frac{1-\\mathcal{P} g_f m_f}{\\Delta_{1, f}}\\Big)\n",
    "$$"
   ]
  },
  {
   "cell_type": "markdown",
   "metadata": {
    "Collapsed": "false"
   },
   "source": [
    "Where $\\mathcal{P}$ is a constant that depends on the polarization of the light doing the shifting. For $\\pi$ light, $\\mathcal{P}=0$, and for $\\sigma \\pm$ light, $\\mathcal{P}=\\pm1$ respectively. (Careful, $\\mathcal{P}$ is multiplying $g_f$ and $m_f$. Somehow I always thing that the g and m are subscripts.)"
   ]
  },
  {
   "cell_type": "markdown",
   "metadata": {
    "Collapsed": "false"
   },
   "source": [
    "### Deriving the polarizabilities"
   ]
  },
  {
   "cell_type": "markdown",
   "metadata": {
    "Collapsed": "false"
   },
   "source": [
    "Still from that above source..."
   ]
  },
  {
   "cell_type": "markdown",
   "metadata": {
    "Collapsed": "false"
   },
   "source": [
    "The Clebch-Gordon coefficients can be written as\n",
    "$$\n",
    "C^{jm}_{j_1m_1j_2m_2} = (-1)^{j_1-j_2+m}\\sqrt{2j+1}\\Big(\n",
    "\\begin{matrix}\n",
    "j_1 & j_2 & j \\\\\n",
    "m_1 & m_2 & -m\n",
    "\\end{matrix}\n",
    "\\Big)\n",
    "$$\n"
   ]
  },
  {
   "cell_type": "markdown",
   "metadata": {
    "Collapsed": "false"
   },
   "source": [
    "Where the term in parenthesis is the Wigner-3J Symbol!"
   ]
  },
  {
   "cell_type": "markdown",
   "metadata": {
    "Collapsed": "false"
   },
   "source": [
    "#### Some matrix elements"
   ]
  },
  {
   "cell_type": "markdown",
   "metadata": {
    "Collapsed": "false"
   },
   "source": [
    "Via Wigner-Eckart theorem:\n",
    "$$\n",
    "\\langle nJFM | T_{Kq} | n'J'F'M'\\rangle = (-1)^{F-M}\n",
    "\\Big(\\begin{matrix}\n",
    "F & K & F'\\\\\n",
    "-M & q & M'\n",
    "\\end{matrix}\\Big)\n",
    "\\langle nJF || T_K || n'J'F'\\rangle\n",
    "$$"
   ]
  },
  {
   "cell_type": "markdown",
   "metadata": {
    "Collapsed": "false"
   },
   "source": [
    "In our case, the tensor operator of interest is the dipole operator, which is rank 1, so:\n",
    "$$\n",
    "\\langle nJFM | \\vec{d} | n'J'F'M'\\rangle = (-1)^{F-M}\n",
    "\\Big(\\begin{matrix}\n",
    "F & 1 & F'\\\\\n",
    "-M & q & M'\n",
    "\\end{matrix}\\Big)\n",
    "\\langle nJF || \\vec{d} || n'J'F'\\rangle\n",
    "$$\n"
   ]
  },
  {
   "cell_type": "markdown",
   "metadata": {
    "Collapsed": "false"
   },
   "source": [
    "And $ \\langle nJF || \\vec{d} || n'J'F'\\rangle$ is the reduced matrix operator"
   ]
  },
  {
   "cell_type": "markdown",
   "metadata": {
    "Collapsed": "false"
   },
   "source": [
    "where\n",
    "$$\n",
    "\\langle nJF || T_K || n'J'F'\\rangle=\\sum_{M,M',q} (-1)^{F-M}\n",
    "\\Big(\\begin{matrix}\n",
    "F & K & F'\\\\\n",
    "-M & q & M'\n",
    "\\end{matrix}\\Big)\n",
    "\\langle nJFM | T_{Kq} | n'J'F'M'\\rangle$$"
   ]
  },
  {
   "cell_type": "markdown",
   "metadata": {
    "Collapsed": "false"
   },
   "source": [
    "Is the reduced matrix element for the electric dipole operator"
   ]
  },
  {
   "cell_type": "markdown",
   "metadata": {
    "Collapsed": "false"
   },
   "source": [
    "## From the finish side..."
   ]
  },
  {
   "cell_type": "markdown",
   "metadata": {
    "Collapsed": "false"
   },
   "source": [
    "I'm trying to piece together some better resources / derivations of the vector and tensor light shift terms as they appear in this code. Bear with me."
   ]
  },
  {
   "cell_type": "markdown",
   "metadata": {
    "Collapsed": "false"
   },
   "source": [
    "The following paper presents a full derivation of the scalar, vector, and tensor dynamical polarizabilities:  \n",
    "\n",
    "Dynamical polarizability of atoms in arbitrary light fields: general theory and application to cesium  \n",
    "By Fam Le Kien et. al. (European Physical Journal D) (2013)"
   ]
  },
  {
   "cell_type": "markdown",
   "metadata": {
    "Collapsed": "false"
   },
   "source": [
    "Total\n",
    "$$\n",
    "\\Delta E_{\\gamma,j,m} = - \\frac{\\alpha_0}{2} |E|^2 - i \\frac{\\alpha_1}{2}\\frac{m}{j}(i|\\vec{E}\\times\\vec{E}^*|)-\\frac{\\alpha_2}{2}\\big(\\frac{3m^2-j(j+1)}{j(2j+1)}\\big)\\frac{3|E_z|^2-|E|^2}{2}\n",
    "$$\n",
    "Scalar:\n",
    "$$\n",
    " - \\frac{\\alpha_0}{2} |E|^2 \n",
    "$$\n",
    "Vector:\n",
    "$$\n",
    "- i \\frac{\\alpha_1}{2}\\frac{m}{j}(i|\\vec{E}\\times\\vec{E}^*|)\n",
    "$$\n",
    "Tensor:\n",
    "$$\n",
    "-\\frac{\\alpha_2}{2}\\big(\\frac{3m^2-j(j+1)}{j(2j-1)}\\big)\\frac{3|E_z|^2-|E|^2}{2}\n",
    "$$"
   ]
  },
  {
   "cell_type": "markdown",
   "metadata": {
    "Collapsed": "false"
   },
   "source": [
    "But I can't find the derivations or definitions of these polarizability terms..."
   ]
  },
  {
   "cell_type": "markdown",
   "metadata": {
    "Collapsed": "false"
   },
   "source": [
    "### Scalar, Vector, and Tensor Shift Calculations"
   ]
  },
  {
   "cell_type": "markdown",
   "metadata": {
    "Collapsed": "false"
   },
   "source": [
    "Expanding the full equations here"
   ]
  },
  {
   "cell_type": "markdown",
   "metadata": {
    "Collapsed": "false"
   },
   "source": [
    "Scalar:\n",
    "$$\n",
    "-\\frac{2I_0}{4c\\epsilon_0}\\frac{1}{\\sqrt{3(2 J_{init} + 1)}} \\alpha_0\n",
    "$$\n",
    "Vector:\n",
    "$$\n",
    "-\\frac{2I_0}{4c\\epsilon_0}(|u_2|^2 - |u_0|^2)\\frac{m_{Fg}}{2F_g}\\Bigg(\n",
    "(-1)^{J_{init} + 3/2 + F_g}\\sqrt{\\frac{(2 F_g  (2 F_g + 1))}{(F_g + 1)}}\n",
    "            \\Big\\{\n",
    "\\begin{matrix}\n",
    "F_g & 1 & F_g \\\\\n",
    "J_{init} & 3/2 & J_{init}\n",
    "\\end{matrix}\n",
    "\\Big\\}\n",
    "            \\alpha_0\n",
    "\\Bigg)\n",
    "$$\n",
    "Tensor:\n",
    "$$\n",
    "-\\frac{2I_0}{4c\\epsilon_0}(- (1-3|u_1|^2) \\frac{3m_{Fg}^2 - F_g (F_g + 1)}{ 2 F_g (2 F_g - 1)})\n",
    "\\Bigg(\n",
    "(-1)^{J_{init} + 3/2 + Fg + 1} \\sqrt{\\frac{2 F_g (2 F_g - 1) (2 F_g + 1)}{3 (F_g + 1) (2 F_g + 3)}}\n",
    "        \\Big\\{\n",
    "\\begin{matrix}\n",
    "F_g & 2 & F_g \\\\\n",
    "J_{init} & 3/2 & J_{init}\n",
    "\\end{matrix}\n",
    "\\Big\\}\n",
    "\\alpha_0\n",
    "\\Bigg)\n",
    "$$\n",
    "    "
   ]
  },
  {
   "cell_type": "markdown",
   "metadata": {
    "Collapsed": "false"
   },
   "source": [
    "where the big {} matrices denote wigner 6j symbols."
   ]
  },
  {
   "cell_type": "markdown",
   "metadata": {
    "Collapsed": "false"
   },
   "source": [
    "General Polarizability:"
   ]
  },
  {
   "cell_type": "markdown",
   "metadata": {
    "Collapsed": "false"
   },
   "source": [
    "Atomic Polarizability:\n",
    "$$\n",
    "\\alpha^{(K)}_{nJFF'} = (-1)^{J+I+F'+L}\\sqrt{(2F+1)(2F'+1)}\n",
    "\\Big\\{\\begin{matrix}\n",
    "F & K & F' \\\\\n",
    "J & I & J\n",
    "\\end{matrix}\\Big\\}\n",
    "\\alpha^{(K)}_{nJ}\n",
    "$$\n",
    "\n",
    "Reduced Atomic Polarizability:  \n",
    "$$\n",
    "\\alpha_{n,J}^{K} = (-1)^{2J+K+1}\\sqrt{2K+1}\\sum_{n'J'}\n",
    "\\Big\\{\\begin{matrix}\n",
    "1 & K & 1 \\\\\n",
    "J & J' & J\n",
    "\\end{matrix}\\Big\\} |\\langle nJ||\\vec{d}||n'J'\\rangle|^2 \\frac{1}{\\hbar}\n",
    "\\Re{\\Big( \\frac{1}{\\omega_{n'J'}-\\omega_{nJ}-\\omega-i\\gamma_{n'J'nJ}/2}\n",
    "+\\frac{(-1)^K}{\\omega_{n'J'}-\\omega_{nJ}+\\omega+i\\gamma_{n'J'nJ}/2} \\Big)}\\\\\n",
    "$$"
   ]
  },
  {
   "cell_type": "markdown",
   "metadata": {
    "Collapsed": "false"
   },
   "source": [
    "The $\\Re{}$ above is a nightmare to simplify."
   ]
  },
  {
   "cell_type": "markdown",
   "metadata": {
    "Collapsed": "false"
   },
   "source": [
    "##### Some algebra"
   ]
  },
  {
   "cell_type": "markdown",
   "metadata": {
    "Collapsed": "false"
   },
   "source": [
    "$$\n",
    "\\Re{\\Big(\\frac{1}{\\omega_{n'J'}-\\omega_{nJ}-\\omega-i\\gamma_{n'J'nJ}/2}+\\frac{(-1)^K}{\\omega_{n'J'}-\\omega_{nJ}+\\omega+i\\gamma/2}\\Big)}\\\\\n",
    "=\\Re{\\Big(\\frac{1}{\\Delta\\omega-\\omega-i\\gamma/2}+\\frac{(-1)^K}{\\Delta\\omega+\\omega+i\\gamma/2}\\Big)}\\\\\n",
    "$$"
   ]
  },
  {
   "cell_type": "markdown",
   "metadata": {
    "Collapsed": "false"
   },
   "source": [
    "$$\n",
    "=\\Re{\\Big(\\frac{\\Delta\\omega-\\omega+i\\gamma/2}{(\\Delta\\omega-\\omega)^2-\\gamma^2/4}+\\frac{(-1)^K(\\Delta\\omega+\\omega-i\\gamma/2)}{(\\Delta\\omega+\\omega)-\\gamma^2/4}\\Big)}\\\\\n",
    "$$"
   ]
  },
  {
   "cell_type": "markdown",
   "metadata": {
    "Collapsed": "false"
   },
   "source": [
    "$$\n",
    "=\\frac{\\Delta\\omega-\\omega}{(\\Delta\\omega-\\omega)^2-\\gamma^2/4}+(-1)^K\\frac{\\Delta\\omega+\\omega}{(\\Delta\\omega+\\omega)-\\gamma^2/4}\\\\\n",
    "$$"
   ]
  },
  {
   "cell_type": "markdown",
   "metadata": {
    "Collapsed": "false"
   },
   "source": [
    "$$\n",
    "=\\frac{(\\Delta\\omega-\\omega)((\\Delta\\omega+\\omega)^2-\\gamma^2/4)+(-1)^K(\\Delta\\omega+\\omega)((\\Delta\\omega-\\omega)^2-\\gamma^2/4)}   {((\\Delta\\omega-\\omega)^2-\\gamma^2/4)((\\Delta\\omega+\\omega)^2-\\gamma^2/4)}\n",
    "$$"
   ]
  },
  {
   "cell_type": "markdown",
   "metadata": {
    "Collapsed": "false"
   },
   "source": [
    "$$\n",
    "=\\frac{((\\Delta\\omega-\\omega)(\\Delta\\omega+\\omega)^2-(\\Delta\\omega-\\omega)\\gamma^2/4)+(-1)^K((\\Delta\\omega+\\omega)(\\Delta\\omega-\\omega)^2-(\\Delta\\omega+\\omega)\\gamma^2/4)}   {((\\Delta\\omega-\\omega)^2-\\gamma^2/4)((\\Delta\\omega+\\omega)^2-\\gamma^2/4)}\n",
    "$$"
   ]
  },
  {
   "cell_type": "markdown",
   "metadata": {
    "Collapsed": "false"
   },
   "source": [
    "$$\n",
    "=\\frac{((\\Delta\\omega^2-\\omega^2)(\\Delta\\omega+\\omega+(-1)^K(\\Delta\\omega-\\omega))-\\gamma^2/4(\\Delta\\omega-\\omega + (-1)^K(\\Delta\\omega+\\omega)}   {((\\Delta\\omega-\\omega)^2-\\gamma^2/4)((\\Delta\\omega+\\omega)^2-\\gamma^2/4)}\n",
    "$$"
   ]
  },
  {
   "cell_type": "markdown",
   "metadata": {
    "Collapsed": "false"
   },
   "source": [
    "$$\n",
    "= ?(K \\text{odd}, \\omega, \\Delta\\omega)\\frac{\\Delta\\omega^2-\\omega^2+(-1)^K\\gamma^2/4}  \n",
    "{(\\Delta\\omega^2+\\omega^2-\\gamma^2/4)^2-4\\omega^2\\Delta\\omega^2} \\\\\n",
    "$$"
   ]
  },
  {
   "cell_type": "markdown",
   "metadata": {
    "Collapsed": "false"
   },
   "source": [
    "Where ?(condition, valIfTrue, valIfFalse) is a ternary operator :)"
   ]
  },
  {
   "cell_type": "markdown",
   "metadata": {
    "Collapsed": "false"
   },
   "source": [
    "$$\n",
    "= ?(K \\text{odd}, \\omega, \\Delta\\omega)\\frac{\\Delta\\omega^2-\\omega^2+(-1)^K\\gamma^2/4}  \n",
    "{\\Delta\\Omega^4+\\omega^4+\\gamma^4/16-2\\omega^2\\Delta\\omega^2-(\\omega^2+\\Delta\\omega^2)\\gamma^2/2}\n",
    "$$"
   ]
  },
  {
   "cell_type": "markdown",
   "metadata": {
    "Collapsed": "false"
   },
   "source": [
    "I might be off by a sign in the denominator here."
   ]
  }
 ],
 "metadata": {
  "kernelspec": {
   "display_name": "Python 3",
   "language": "python",
   "name": "python3"
  },
  "language_info": {
   "codemirror_mode": {
    "name": "ipython",
    "version": 3
   },
   "file_extension": ".py",
   "mimetype": "text/x-python",
   "name": "python",
   "nbconvert_exporter": "python",
   "pygments_lexer": "ipython3",
   "version": "3.8.3"
  }
 },
 "nbformat": 4,
 "nbformat_minor": 4
}

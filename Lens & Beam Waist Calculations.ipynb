{
 "cells": [
  {
   "cell_type": "markdown",
   "metadata": {},
   "source": [
    "# Lens / Trap Parameters Calculations Notebook"
   ]
  },
  {
   "cell_type": "markdown",
   "metadata": {},
   "source": [
    "For calculating things like the Beam waist, Depth, Lens NA, etc."
   ]
  },
  {
   "cell_type": "markdown",
   "metadata": {},
   "source": [
    "# Lens NA"
   ]
  },
  {
   "cell_type": "markdown",
   "metadata": {},
   "source": [
    "From notes on onenote..."
   ]
  },
  {
   "cell_type": "code",
   "execution_count": 37,
   "metadata": {},
   "outputs": [],
   "source": [
    "def getNaFromWaistOnenote(waist):\n",
    "    return 0.4575*850e-9/(waist)"
   ]
  },
  {
   "cell_type": "code",
   "execution_count": 39,
   "metadata": {},
   "outputs": [
    {
     "data": {
      "text/plain": [
       "0.627217741935484"
      ]
     },
     "execution_count": 39,
     "metadata": {},
     "output_type": "execute_result"
    }
   ],
   "source": [
    "getNaFromWaistOnenote(0.62e-6)"
   ]
  },
  {
   "cell_type": "markdown",
   "metadata": {},
   "source": [
    "Simple approximation"
   ]
  },
  {
   "cell_type": "markdown",
   "metadata": {},
   "source": [
    "$$\n",
    "\\theta_{\\text{half angle}}=\\frac{\\lambda}{\\pi w_0}\n",
    "$$"
   ]
  },
  {
   "cell_type": "code",
   "execution_count": 36,
   "metadata": {},
   "outputs": [
    {
     "data": {
      "text/plain": [
       "0.7853981633974483"
      ]
     },
     "execution_count": 36,
     "metadata": {},
     "output_type": "execute_result"
    }
   ],
   "source": [
    "np.pi/4"
   ]
  },
  {
   "cell_type": "code",
   "execution_count": 35,
   "metadata": {},
   "outputs": [
    {
     "data": {
      "text/plain": [
       "0.70710678118654757"
      ]
     },
     "execution_count": 35,
     "metadata": {},
     "output_type": "execute_result"
    }
   ],
   "source": [
    "np.sin(45*np.pi/180)"
   ]
  },
  {
   "cell_type": "code",
   "execution_count": 32,
   "metadata": {},
   "outputs": [],
   "source": [
    "def naFromWaistApprox(waist):\n",
    "    return np.sin(850e-9/(np.pi*waist))"
   ]
  },
  {
   "cell_type": "code",
   "execution_count": 33,
   "metadata": {},
   "outputs": [
    {
     "data": {
      "text/plain": [
       "0.43581086694151933"
      ]
     },
     "execution_count": 33,
     "metadata": {},
     "output_type": "execute_result"
    }
   ],
   "source": [
    "naFromWaistApprox(0.6e-6)"
   ]
  },
  {
   "cell_type": "markdown",
   "metadata": {},
   "source": [
    "Full calc"
   ]
  },
  {
   "cell_type": "markdown",
   "metadata": {},
   "source": [
    "$$\n",
    "NA = n \\sin\\{\\theta\\} = n \\frac{r_{\\text{ap}}}{\\sqrt{r_{\\text{ap}}^2+f^2_{\\text{eff}}}}\n",
    "$$"
   ]
  },
  {
   "cell_type": "markdown",
   "metadata": {},
   "source": [
    "$$\n",
    "w_f=\\frac{\\lambda f_{\\text{eff}}}{\\pi w_0}\n",
    "$$\n"
   ]
  },
  {
   "cell_type": "markdown",
   "metadata": {},
   "source": [
    "$$\n",
    "f_{\\text{eff}}=\\frac{\\pi w_0 w_f}{\\lambda}\n",
    "$$\n"
   ]
  },
  {
   "cell_type": "markdown",
   "metadata": {},
   "source": [
    "$$\n",
    "NA = nr_{\\text{ap}}\\frac{1}{\\sqrt{r_{\\text{ap}}^2+f^2_{\\text{eff}}}}\\\\\n",
    "$$"
   ]
  },
  {
   "cell_type": "markdown",
   "metadata": {},
   "source": [
    "$$\n",
    "w_0=r_{\\text{ap}}\n",
    "$$"
   ]
  },
  {
   "cell_type": "markdown",
   "metadata": {},
   "source": [
    "$$\n",
    "NA = \\frac{n\\lambda}{\\sqrt{\\lambda^2+(\\pi w_f)^2}}\\\\\n",
    "= \\frac{\\lambda}{\\sqrt{\\lambda^2+(\\pi w_f)^2}}\n",
    "$$"
   ]
  },
  {
   "cell_type": "code",
   "execution_count": 29,
   "metadata": {},
   "outputs": [],
   "source": [
    "def getNaFromWaist(trapWaist):\n",
    "    lam = 850e-9\n",
    "    return lam / np.sqrt(lam**2+(np.pi * trapWaist)**2)"
   ]
  },
  {
   "cell_type": "code",
   "execution_count": 30,
   "metadata": {},
   "outputs": [
    {
     "data": {
      "text/plain": [
       "0.66973487574575175"
      ]
     },
     "execution_count": 30,
     "metadata": {},
     "output_type": "execute_result"
    }
   ],
   "source": [
    "getNaFromWaist(0.3e-6)"
   ]
  },
  {
   "cell_type": "markdown",
   "metadata": {},
   "source": [
    "???"
   ]
  },
  {
   "cell_type": "markdown",
   "metadata": {},
   "source": [
    "# Lens Effective Focal Length"
   ]
  },
  {
   "cell_type": "markdown",
   "metadata": {},
   "source": [
    "## Extracted from NA"
   ]
  },
  {
   "cell_type": "markdown",
   "metadata": {},
   "source": [
    "# Trap Spot Waist"
   ]
  },
  {
   "cell_type": "markdown",
   "metadata": {},
   "source": [
    "## Waist from trap frequencies and depth"
   ]
  },
  {
   "cell_type": "markdown",
   "metadata": {},
   "source": [
    "https://arxiv.org/pdf/physics/9902072.pdf"
   ]
  },
  {
   "cell_type": "markdown",
   "metadata": {},
   "source": [
    "$$\n",
    "\\omega_r = \\sqrt{\\frac{4V}{m_{\\text{Rb}}w_0^2}},\\\\\n",
    "\\omega_z=\\sqrt{\\frac{2V}{mz_R^2}}=\\sqrt{\\frac{2\\lambda^2 V}{m\\pi^2 w_0^4}}\n",
    "$$"
   ]
  },
  {
   "cell_type": "markdown",
   "metadata": {},
   "source": [
    "Where V is the trap depth, $w_0$ is the waist, $\\omega_r$ is the (angular) trap frequency. Solving for w_0"
   ]
  },
  {
   "cell_type": "markdown",
   "metadata": {},
   "source": [
    "$$\n",
    "w_0 = \\sqrt{\\frac{4V}{m_{\\text{Rb}}\\omega_r^2}}=\\Big(\\frac{2 V}{m}\\Big)^{1/4}\\sqrt{\\frac{\\lambda}{\\pi\\omega_z}}\n",
    "$$"
   ]
  },
  {
   "cell_type": "code",
   "execution_count": 6,
   "metadata": {},
   "outputs": [],
   "source": [
    "import numpy as np\n",
    "import MarksConstants as mc"
   ]
  },
  {
   "cell_type": "code",
   "execution_count": 3,
   "metadata": {},
   "outputs": [],
   "source": [
    "def getWaist_fromRadialFreq(freq_r, depth_mk):\n",
    "    \"\"\"\n",
    "    :@param freq: the radial trap frequency in non-angular Hz.\n",
    "    :@param depth: the trap depth in mK\n",
    "    \"\"\"\n",
    "    V = mc.k_B * depth_mk * 1e-3\n",
    "    omega_r = 2*np.pi*freq_r\n",
    "    return np.sqrt(4*V/(mc.Rb87_M * omega_r**2))"
   ]
  },
  {
   "cell_type": "code",
   "execution_count": 4,
   "metadata": {},
   "outputs": [],
   "source": [
    "def getWaist_fromAxialFreq(freq_z, depth_mk):\n",
    "    \"\"\"\n",
    "    :@param freq: the radial trap frequency in non-angular Hz.\n",
    "    :@param depth: the trap depth in mK\n",
    "    \"\"\"\n",
    "    V = mc.k_B * depth_mk * 1e-3\n",
    "    omega_z = 2*np.pi*freq_z\n",
    "    wavelength=850e-9\n",
    "    return (2*V/mc.Rb87_M)**(1/4)*np.sqrt(wavelength /(np.pi*omega_z))"
   ]
  },
  {
   "cell_type": "markdown",
   "metadata": {},
   "source": [
    "From earlier"
   ]
  },
  {
   "cell_type": "code",
   "execution_count": 22,
   "metadata": {},
   "outputs": [
    {
     "name": "stdout",
     "output_type": "stream",
     "text": [
      "6.49764752222e-07\n",
      "2.41393594784e-05\n"
     ]
    }
   ],
   "source": [
    "print(getWaist_fromRadialFreq(150e3, 0.98))\n",
    "print(getWaist_fromAxialFreq(32, 0.98))"
   ]
  },
  {
   "cell_type": "markdown",
   "metadata": {},
   "source": [
    "From after Jaden's mirror (seeing two non-degenerate radial frequencies"
   ]
  },
  {
   "cell_type": "code",
   "execution_count": 12,
   "metadata": {},
   "outputs": [
    {
     "name": "stdout",
     "output_type": "stream",
     "text": [
      "6.66613245886e-07\n",
      "6.22040294823e-07\n",
      "2.40909693881e-05\n"
     ]
    }
   ],
   "source": [
    "print(getWaist_fromRadialFreq(314e3/2, 1.13))\n",
    "print(getWaist_fromRadialFreq(336.5e3/2, 1.13))\n",
    "print(getWaist_fromAxialFreq(34.5, 1.13))"
   ]
  },
  {
   "cell_type": "markdown",
   "metadata": {},
   "source": [
    "## Waist from NA"
   ]
  },
  {
   "cell_type": "markdown",
   "metadata": {},
   "source": [
    "$$\n",
    "w_f=\\frac{\\lambda f_{\\text{eff}}}{\\pi w_0}\n",
    "$$\n"
   ]
  },
  {
   "cell_type": "markdown",
   "metadata": {},
   "source": [
    "$$\n",
    "\\frac{NA^2}{n^2} = \\frac{r^2_{\\text{ap}}}{r_{\\text{ap}}^2+f^2_{\\text{eff}}}\\\\\n",
    "r_{\\text{ap}}^2+f^2_{\\text{eff}} = \\frac{n^2r^2_{\\text{ap}}}{NA^2}\\\\\n",
    "f_{\\text{eff}} = r_{\\text{ap}}\\sqrt{\\frac{n^2}{NA^2}-1}\n",
    "$$"
   ]
  },
  {
   "cell_type": "markdown",
   "metadata": {},
   "source": [
    "$$\n",
    "w_f=\\frac{\\lambda  r_{\\text{ap}}}{\\pi w_0}\\sqrt{\\frac{n^2}{NA^2}-1}\n",
    "$$\n"
   ]
  },
  {
   "cell_type": "markdown",
   "metadata": {},
   "source": [
    "$r_{\\text{ap}} = w_0$"
   ]
  },
  {
   "cell_type": "markdown",
   "metadata": {},
   "source": [
    "$$\n",
    "w_f=\\frac{\\lambda }{\\pi}\\sqrt{\\frac{n^2}{NA^2}-1}\n",
    "$$\n"
   ]
  },
  {
   "cell_type": "code",
   "execution_count": null,
   "metadata": {},
   "outputs": [],
   "source": []
  },
  {
   "cell_type": "markdown",
   "metadata": {},
   "source": [
    "For tweezers, n=1 (vaccum)"
   ]
  },
  {
   "cell_type": "code",
   "execution_count": 25,
   "metadata": {},
   "outputs": [],
   "source": [
    "def getWaistFromNa(NA):\n",
    "    return 850e-9/np.pi * np.sqrt(1/NA - 1)"
   ]
  },
  {
   "cell_type": "code",
   "execution_count": 28,
   "metadata": {},
   "outputs": [
    {
     "data": {
      "text/plain": [
       "2.7056340325622208e-07"
      ]
     },
     "execution_count": 28,
     "metadata": {},
     "output_type": "execute_result"
    }
   ],
   "source": [
    "getWaistFromNa(0.5)"
   ]
  },
  {
   "cell_type": "code",
   "execution_count": null,
   "metadata": {},
   "outputs": [],
   "source": []
  }
 ],
 "metadata": {
  "kernelspec": {
   "display_name": "Python 3",
   "language": "python",
   "name": "python3"
  },
  "language_info": {
   "codemirror_mode": {
    "name": "ipython",
    "version": 3
   },
   "file_extension": ".py",
   "mimetype": "text/x-python",
   "name": "python",
   "nbconvert_exporter": "python",
   "pygments_lexer": "ipython3",
   "version": "3.6.12"
  }
 },
 "nbformat": 4,
 "nbformat_minor": 4
}

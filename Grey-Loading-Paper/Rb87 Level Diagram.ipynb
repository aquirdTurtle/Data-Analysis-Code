{
 "cells": [
  {
   "cell_type": "markdown",
   "metadata": {},
   "source": [
    "# $Rb_{87}$ level diagram"
   ]
  },
  {
   "cell_type": "code",
   "execution_count": 1,
   "metadata": {},
   "outputs": [],
   "source": [
    "import os, sys\n",
    "sys.path.insert(1, os.path.join(sys.path[0], '..'))\n",
    "sys.path.insert(1, os.path.join(sys.path[0], '../Analysis_Python_Files/'))\n",
    "import matplotlib.pyplot as plt\n",
    "import numpy as np\n",
    "from importlib import reload\n",
    "from fitters.Gaussian import gaussian\n",
    "import MarksConstants as mc"
   ]
  },
  {
   "cell_type": "code",
   "execution_count": 2,
   "metadata": {},
   "outputs": [
    {
     "name": "stdout",
     "output_type": "stream",
     "text": [
      "377.1074635 THz\n",
      "384.2304844685 THz\n",
      "6.834682610904291 GHz\n",
      "816.656 MHz\n",
      "\n",
      "F=2-F=3: 266.6521 MHz\n",
      "F=1-F=2: 156.9405 MHz\n",
      "F=0-F=1: 72.222 MHz\n"
     ]
    }
   ],
   "source": [
    "print(mc.Rb87_D1LineFrequency / 1e12,'THz')\n",
    "print(mc.Rb87_D2LineFrequency / 1e12,'THz')\n",
    "print((mc.Rb87_Ground_State_Shift(2) - mc.Rb87_Ground_State_Shift(1)) / 1e9, 'GHz')\n",
    "print((mc.Rb87_D1_Excited_State_Shift(2)-mc.Rb87_D1_Excited_State_Shift(1)) / 1e6,'MHz')\n",
    "print('')\n",
    "print('F=2-F=3:',(mc.Rb87_D2_Excited_State_Shift(3)-mc.Rb87_D2_Excited_State_Shift(2)) / 1e6,'MHz')\n",
    "print('F=1-F=2:',(mc.Rb87_D2_Excited_State_Shift(2)-mc.Rb87_D2_Excited_State_Shift(1)) / 1e6,'MHz')\n",
    "print('F=0-F=1:',(mc.Rb87_D2_Excited_State_Shift(1)-mc.Rb87_D2_Excited_State_Shift(0)) / 1e6,'MHz')"
   ]
  },
  {
   "cell_type": "code",
   "execution_count": null,
   "metadata": {},
   "outputs": [],
   "source": []
  },
  {
   "cell_type": "markdown",
   "metadata": {},
   "source": [
    "DONT THINK SPACINGS HERE ARE RIGHT!"
   ]
  },
  {
   "cell_type": "code",
   "execution_count": 79,
   "metadata": {},
   "outputs": [
    {
     "name": "stderr",
     "output_type": "stream",
     "text": [
      "<ipython-input-79-0cbf31fa958b>:51: MatplotlibDeprecationWarning: Case-insensitive properties were deprecated in 3.3 and support will be removed two minor releases later\n",
      "  plt.text(xpos-0.1, 0.75,'D1-Line:\\n795 nm\\n$377$ THz',fontsize=fs, multialignment='right', horizontalAlignment='right')\n",
      "<ipython-input-79-0cbf31fa958b>:96: MatplotlibDeprecationWarning: Case-insensitive properties were deprecated in 3.3 and support will be removed two minor releases later\n",
      "  plt.text(xpos-0.1, offs_32+0.2,'$72$ MHz',fontsize=fs, horizontalAlignment='right')\n",
      "<ipython-input-79-0cbf31fa958b>:98: MatplotlibDeprecationWarning: Case-insensitive properties were deprecated in 3.3 and support will be removed two minor releases later\n",
      "  plt.text(xpos-0.1, offs_32+0.7,'$157$ MHz',fontsize=fs, horizontalAlignment='right')\n"
     ]
    },
    {
     "data": {
      "image/png": "[encoded data removed]",
      "text/plain": [
       "<Figure size 612x792 with 1 Axes>"
      ]
     },
     "metadata": {
      "needs_background": "light"
     },
     "output_type": "display_data"
    }
   ],
   "source": [
    "f, ax = plt.subplots();\n",
    "fs = 12\n",
    "plt.axis('Off')\n",
    "f.set_size_inches(8.5,11)\n",
    "#plt.subplots_adjust(left=0.1, bottom=0, right=1, top=1, wspace=0, hspace=0)\n",
    "plt.xlim(-6,4)\n",
    "xpts = np.linspace(-5,1 + 2* int(includeTrapShift),1000)\n",
    "arrowProps = dict(linestyle='-',width=0.5, headwidth=5,headlength=8,color='k',shrink=0.05)\n",
    "includeTrapShift=False\n",
    "###############\n",
    "# ### Ground State (5S1/2)\n",
    "\n",
    "amp = -1*int(includeTrapShift)\n",
    "plt.plot(xpts, gaussian.f(xpts,amp,0,1,0),'b')\n",
    "plt.plot(xpts,np.zeros(len(xpts)),'b:')\n",
    "plt.plot(xpts, gaussian.f(xpts,amp,0,1,-1.5),'b')\n",
    "\n",
    "\n",
    "hfsPos = 0.5 + 2*int(includeTrapShift)\n",
    "bracket(ax, hfsPos+0.6, -1.5, 1.5, 0.4)\n",
    "#plt.plot([3.1,3.3,3.3,3.4,3.3,3.3,3.1], [0,0,-0.75,-0.75,-0.75,-1.5,-1.5],color='k')\n",
    "plt.text(hfsPos+1,-0.8,'$5S_{1/2}$',fontsize=24);\n",
    "plt.text(hfsPos,0.1,'$F=2$',fontsize=fs);\n",
    "plt.text(hfsPos,-1.4,'$F=1$',fontsize=fs);\n",
    "\n",
    "\n",
    "if includeTrapShift:\n",
    "    t=plt.text(0.1, -0.75,'Trap Depth:\\n1 mK\\n-20.8 MHz',fontsize=fs)\n",
    "    t.set_bbox(dict(facecolor='w', alpha=0.7, edgecolor='w'))\n",
    "    ax.annotate(\"\", xy=(0, -1), xytext=(0, 0), arrowprops=arrowProps)\n",
    "\n",
    "plt.text(-5, -1, '$5S_{1/2}$\\nSplitting:\\n$6.835$ GHz',fontsize=fs, multialignment='right')\n",
    "ax.annotate(\"\", xy=(-3.5, 0), xytext=(-3.5, -1.5), arrowprops=arrowProps);\n",
    "\n",
    "###############\n",
    "# ### 5P1/2\n",
    "offs_12 = 2\n",
    "c_12 = 'red'\n",
    "amp = 0.577*int(includeTrapShift)\n",
    "plt.plot(xpts, gaussian.f(xpts,amp,0,1,offs_12),color=c_12)\n",
    "plt.plot(xpts, np.zeros(len(xpts))+offs_12,':',color=c_12)\n",
    "plt.plot(xpts, gaussian.f(xpts,amp,0,1,offs_12+0.7),color=c_12)\n",
    "\n",
    "#plt.plot([3.1,3.3,3.3,3.4,3.3,3.3,3.1], [2,2,2.35,2.35,2.35,2.7,2.7],color='k')\n",
    "bracket(ax, hfsPos+0.6, 2, 0.7, 0.4)\n",
    "plt.text(hfsPos,2.1,'$F=1$',fontsize=fs);\n",
    "plt.text(hfsPos,2.8,'$F=2$',fontsize=fs);\n",
    "plt.text(hfsPos+1,2.3,'$5P_{1/2}$',fontsize=24)\n",
    "\n",
    "xpos = -2.4 + int(not includeTrapShift)\n",
    "plt.text(xpos-0.1, 0.75,'D1-Line:\\n795 nm\\n$377$ THz',fontsize=fs, multialignment='right', horizontalAlignment='right')\n",
    "ax.annotate(\"\", xy=(xpos, 2.35), xytext=(xpos, -0.75), \n",
    "            arrowprops=dict(linestyle='-',width=0.5, headwidth=5,headlength=8,color=c_12));\n",
    "\n",
    "plt.text(-5, 2.2, '$5P_{1/2}$Splitting:\\n$0.817$ GHz',fontsize=fs, multialignment='right')\n",
    "xpos = -3\n",
    "ax.annotate(\"\", xy=(xpos, 2.7), xytext=(xpos, 2), arrowprops=arrowProps);\n",
    "\n",
    "if includeTrapShift:\n",
    "    t = plt.text(0.1, 2.05, 'Antitrapping:\\n$-0.574$ mK\\n$12.0$ MHz',fontsize=fs)\n",
    "    t.set_bbox(dict(facecolor='w', alpha=0.7, edgecolor='w'))\n",
    "    ax.annotate(\"\", xy=(0, 2.574), xytext=(0, 2), arrowprops=arrowProps);\n",
    "\n",
    "###############\n",
    "# ### 5P3/2\n",
    "c = 'darkorange'\n",
    "offs_32 = 4\n",
    "amp = 0.470 * int(includeTrapShift)\n",
    "plt.plot(xpts, gaussian.f(xpts,amp,0,1,offs_32),color=c)\n",
    "plt.plot(xpts, np.zeros(len(xpts))+offs_32,':',color=c)\n",
    "plt.plot(xpts, gaussian.f(xpts,amp,0,1,offs_32+0.5),color=c)\n",
    "plt.plot(xpts, gaussian.f(xpts,amp,0,1,offs_32+1),color=c)\n",
    "plt.plot(xpts, gaussian.f(xpts,amp,0,1,offs_32+1.5),color=c)\n",
    "\n",
    "# States\n",
    "manMax = offs_32+1.5\n",
    "mid = (manMax+offs_32) / 2\n",
    "#plt.plot([3.1,3.3,3.3,3.4,3.3,3.3,3.1], [offs_32,offs_32,mid,mid,mid,manMax,manMax],color='k')\n",
    "bracket(ax, hfsPos+0.6, offs_32, 1.5, 0.4)\n",
    "plt.text(hfsPos, offs_32+0.1, '$F=0$',fontsize=fs)\n",
    "plt.text(hfsPos, offs_32+0.6, '$F=1$',fontsize=fs)\n",
    "plt.text(hfsPos, offs_32+1.1, '$F=2$',fontsize=fs)\n",
    "plt.text(hfsPos, offs_32+1.6, '$F=3$',fontsize=fs)\n",
    "plt.text(hfsPos+1, offs_32+0.7,'$5P_{3/2}$',fontsize=24)\n",
    "\n",
    "xpos = -2.25 + int(not includeTrapShift)\n",
    "plt.text(xpos+0.1, 0.75,'D2-Line: \\n780 nm\\n$384$ THz',fontsize=fs, multialignment='left')\n",
    "ax.annotate(\"\", xy=(xpos, offs_32+0.75), xytext=(xpos, -0.75), \n",
    "            arrowprops=dict(linestyle='-',width=0.5, headwidth=5,headlength=8,color=c));\n",
    "\n",
    "if includeTrapShift:\n",
    "    t = plt.text(0.1, offs_32-0.1, 'Antitrapping:\\n$-0.470$ mK\\n$9.9$ MHz',fontsize=fs)\n",
    "    t.set_bbox(dict(facecolor='w', alpha=0.7, edgecolor='w'))\n",
    "    ax.annotate(\"\", xy=(0, offs_32+0.47), xytext=(0, offs_32), arrowprops=arrowProps);\n",
    "xpos = -2.4\n",
    "plt.text(xpos-0.1, offs_32+0.2,'$72$ MHz',fontsize=fs, horizontalAlignment='right')\n",
    "ax.annotate(\"\", xy=(xpos, offs_32+0.5), xytext=(xpos, offs_32 ), arrowprops=arrowProps);\n",
    "plt.text(xpos-0.1, offs_32+0.7,'$157$ MHz',fontsize=fs, horizontalAlignment='right')\n",
    "ax.annotate(\"\", xy=(xpos, offs_32+1), xytext=(xpos, offs_32+0.5), arrowprops=arrowProps);\n",
    "plt.text(xpos+0.1, offs_32+1.25,'$267$ MHz',fontsize=fs)\n",
    "ax.annotate(\"\", xy=(xpos, offs_32+1.5), xytext=(xpos, offs_32+1), arrowprops=arrowProps);\n",
    "\n",
    "# Lasers\n",
    "#plt.text(-5, offs_32+1.2,'$72$ MHz',fontsize=fs)\n",
    "# red lasers\n",
    "ax.annotate(\"\", xy=(-5.2, offs_32+1.25), xytext=(-5.2, 0), \n",
    "            arrowprops=dict(linestyle='-',width=1, headwidth=5,headlength=8,color=c,shrink=0));\n",
    "ax.annotate(\"\", xy=(-5.4, offs_32+0.8), xytext=(-5.4, -1.5), \n",
    "            arrowprops=dict(linestyle='-',width=1, headwidth=5,headlength=8,color=c,shrink=0));\n",
    "plt.plot([-6,-5],[offs_32+1.25,offs_32+1.25],':',color=c)\n",
    "plt.plot([-6,-5],[offs_32+1.5,offs_32+1.5],':',color=c)\n",
    "plt.text(-5, offs_32+1.25, '}$\\Delta_{RPGC}\\sim-30$ MHz', fontsize=fs, color=c);\n",
    "\n",
    "# grey lasers\n",
    "ax.annotate( \"\", xy=(-5.6, offs_12+0.95), xytext=(-5.6, 0), \n",
    "             arrowprops=dict(linestyle='-',width=1, headwidth=5,headlength=8,color='#a0a0a0',shrink=0) );\n",
    "ax.annotate( \"\", xy=(-5.8, offs_12+0.95), xytext=(-5.8, -1.5), \n",
    "             arrowprops=dict(linestyle='-',width=1, headwidth=5,headlength=8,color='#a0a0a0',shrink=0) );\n",
    "plt.plot([-6,-5],[offs_12+0.95,offs_12+0.95],':',color=c_12)\n",
    "plt.plot([-6,-5],[offs_12+0.70,offs_12+0.7],':',color=c_12)\n",
    "plt.text(-5, offs_12+0.775,'}$\\Delta_{\\Lambda GM}\\sim$45 MHz',fontsize=fs,color=c_12);\n",
    "#plt.savefig('RB87_D1_D2_Lines.png', dpi=200,transparent=True, bbox_inches='tight', pad_inches=0)"
   ]
  },
  {
   "cell_type": "code",
   "execution_count": 57,
   "metadata": {},
   "outputs": [],
   "source": [
    "def bracket(a, x, y, h, w, c='k'):\n",
    "    x2 = x+0.6*w\n",
    "    x3 = x+w\n",
    "    y2 = y+h/2\n",
    "    y3 = y+h\n",
    "    a.plot( [x,x2,x2, x3, x2, x2, x], [y,y,y2,y2,y2,y3,y3], color=c )"
   ]
  },
  {
   "cell_type": "code",
   "execution_count": 5,
   "metadata": {},
   "outputs": [
    {
     "data": {
      "image/png": "[encoded data removed]",
      "text/plain": [
       "<Figure size 612x306 with 1 Axes>"
      ]
     },
     "metadata": {
      "needs_background": "light"
     },
     "output_type": "display_data"
    }
   ],
   "source": [
    "f = plt.figure();\n",
    "plt.axis('Off')\n",
    "f.set_size_inches(8.5,4.25)\n",
    "plt.xlim(-6,4)\n",
    "xpts = np.linspace(-4,2,1000)\n",
    "arrowProps = dict(linestyle='-',width=0.5, headwidth=5,headlength=8,color='k',shrink=0.05)\n",
    "###############\n",
    "# ### Ground State (5S1/2)\n",
    "\n",
    "plt.plot(xpts, gaussian.f(xpts,-1,0,1,0),'b')\n",
    "plt.plot(xpts,np.zeros(len(xpts)),'b:')\n",
    "\n",
    "plt.text(2,-0.5,'5S$_{1/2}$',fontsize=16);\n",
    "\n",
    "ax = plt.gca()\n",
    "# 1mk\n",
    "t=plt.text(-0.3, -0.3, '-21 MHz',fontsize=12,rotation=90)\n",
    "#t.set_bbox(dict(facecolor='w', alpha=0.7, edgecolor='w'))\n",
    "ax.annotate(\"\", xy=(0, -1), xytext=(0, 0), arrowprops=arrowProps)\n",
    "\n",
    "###############\n",
    "# ### 5P1/2\n",
    "offs_12 = 0.5\n",
    "c_12 = 'darkorange'\n",
    "plt.plot(xpts, gaussian.f(xpts,0.577,0,1,offs_12),color=c_12)\n",
    "plt.plot(xpts, np.zeros(len(xpts))+offs_12,':',color=c_12)\n",
    "\n",
    "plt.text( 2, offs_12+0.35, '5P$_{1/2}$',fontsize=16)\n",
    "plt.text( 2, offs_12+0.15, 'F$=2$',fontsize=12)\n",
    "#plt.text(-4, 0.75, 'D1-Line: \\n795 nm',fontsize=12)\n",
    "\n",
    "xpos = -2.75\n",
    "#ax.annotate(\"\", xy=(xpos, offs_12), xytext=(xpos, 0), \n",
    "#            arrowprops=dict(linestyle='-',width=0.5, headwidth=5,headlength=8,color=c_12));\n",
    "\n",
    "xpos = -3\n",
    "# -0.574mK\n",
    "t = plt.text(-0.3, offs_12+0.2, '$12$',fontsize=12,rotation=90)\n",
    "t.set_bbox(dict(facecolor='w', alpha=0.7, edgecolor='w'))\n",
    "ax.annotate(\"\", xy=(0, offs_12 + 0.574), xytext=(0, offs_12), arrowprops=arrowProps);\n",
    "\n",
    "###############\n",
    "# ### 5P3/2\n",
    "c = 'red'\n",
    "offs_32 = 1.2\n",
    "plt.plot(xpts, gaussian.f(xpts,0.470,0,1,offs_32),color=c)\n",
    "plt.plot(xpts, np.zeros(len(xpts))+offs_32,':',color=c)\n",
    "\n",
    "# States\n",
    "manMax = offs_32+1.5\n",
    "mid = (manMax+offs_32) / 2\n",
    "plt.text(2, offs_32+0.3,'5P$_{3/2}$',fontsize=16)\n",
    "plt.text(2, offs_32+0.1,'F$=3$',fontsize=12)\n",
    "\n",
    "xpos = -2.5\n",
    "#plt.text(-2.4, 0.75,'D2-Line: \\n780 nm',fontsize=12)\n",
    "#ax.annotate(\"\", xy=(xpos, offs_32), xytext=(xpos, 0), \n",
    "#            arrowprops=dict(linestyle='-',width=0.5, headwidth=5,headlength=8,color=c));\n",
    "# -0.470mK\n",
    "t = plt.text(-0.3, offs_32+0.2, '$9.9$',fontsize=12,rotation=90)\n",
    "#t.set_bbox(dict(facecolor='w', alpha=0.7, edgecolor='w'))\n",
    "ax.annotate(\"\", xy=(0, offs_32+0.47), xytext=(0, offs_32), arrowprops=arrowProps);\n",
    "xpos = -2.9\n",
    "\n",
    "###### Lasers\n",
    "# Red \n",
    "plt.plot([-5,-4],[offs_32,offs_32],':', color=c )\n",
    "plt.plot([-5,-4],[offs_32-0.25,offs_32-0.25],':', color=c )\n",
    "plt.text(-3.75, offs_32-0.15,  '$\\Delta\\sim-30$ MHz', fontsize=12, color=c)\n",
    "plt.text(-5.1, 0.55,  'Red PGC Cooling Laser', fontsize=12, color=c, rotation=90)\n",
    "xpos = -4.75\n",
    "ax.annotate(\"\", xy=(xpos, offs_32-0.25), xytext=(xpos, 0), \n",
    "            arrowprops=dict(linestyle='-',width=5, headwidth=20,headlength=16,color='r'))\n",
    "\n",
    "bracket ( ax, -4,  offs_12, 0.25, 0.2, c=c_12 )\n",
    "bracket(ax, -4, offs_32-0.25, 0.25, 0.2, c=c)\n",
    "# grey lasers\n",
    "plt.plot([-4.5,-4], [offs_12+0.25,offs_12+0.25],':',color=c_12)\n",
    "plt.plot([-4.5,-4], [offs_12,offs_12],':',color=c_12)\n",
    "plt.text( -3.75, offs_12 + 0.1, '$\\Delta\\sim+45$ MHz', fontsize=12, color=c_12 );\n",
    "plt.text(-4.6, 0.3,  'Grey Mol. Lasers', fontsize=12, color=\"#A0A0A0\", rotation=90);\n",
    "xpos = -4.25\n",
    "ax.annotate( \"\", xy=(xpos, offs_12+0.25), xytext=(xpos, 0), \n",
    "             arrowprops=dict(linestyle='-',width=5, headwidth=20,headlength=16,color='#AAAAAA') );\n",
    "bracket ( ax, -4,  offs_12, 0.25, 0.2, c=c_12 )\n",
    "plt.savefig( 'RB87_Level_Diagram_Grey_Paper.png', dpi=400, transparent=True, bbox_inches='tight', pad_inches=0 )"
   ]
  },
  {
   "cell_type": "code",
   "execution_count": null,
   "metadata": {},
   "outputs": [],
   "source": []
  },
  {
   "cell_type": "code",
   "execution_count": null,
   "metadata": {},
   "outputs": [],
   "source": []
  },
  {
   "cell_type": "code",
   "execution_count": null,
   "metadata": {},
   "outputs": [],
   "source": []
  }
 ],
 "metadata": {
  "kernelspec": {
   "display_name": "Python 3",
   "language": "python",
   "name": "python3"
  },
  "language_info": {
   "codemirror_mode": {
    "name": "ipython",
    "version": 3
   },
   "file_extension": ".py",
   "mimetype": "text/x-python",
   "name": "python",
   "nbconvert_exporter": "python",
   "pygments_lexer": "ipython3",
   "version": "3.9.1"
  }
 },
 "nbformat": 4,
 "nbformat_minor": 4
}

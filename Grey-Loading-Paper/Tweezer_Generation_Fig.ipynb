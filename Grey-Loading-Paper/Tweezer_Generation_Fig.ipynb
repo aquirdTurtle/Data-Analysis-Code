{
 "cells": [
  {
   "cell_type": "code",
   "execution_count": 30,
   "metadata": {},
   "outputs": [],
   "source": [
    "import matplotlib.pyplot as plt\n",
    "import matplotlib.image as mpimg\n",
    "from mpl_toolkits.axes_grid1.inset_locator import inset_axes\n",
    "%matplotlib inline\n",
    "import numpy as np\n",
    "from numpy import array as arr"
   ]
  },
  {
   "cell_type": "code",
   "execution_count": 18,
   "metadata": {},
   "outputs": [],
   "source": [
    "def laser(a, x, y1, y2, laserargs, alpha=0.2):\n",
    "    a.plot(x, y1, **laserargs)\n",
    "    a.plot(x, y2, **laserargs)\n",
    "    a.fill_between(x,y1,y2, color=laserargs['color'], alpha=alpha)"
   ]
  },
  {
   "cell_type": "code",
   "execution_count": 19,
   "metadata": {},
   "outputs": [],
   "source": [
    "def lens(a, x,y,w,r, lensargs):\n",
    "    xpts = np.linspace(-r, -r+w/2, 1000);\n",
    "    ypts = spherical_y(xpts, r)\n",
    "    xpts2 = np.linspace(r-w/2, r, 1000);\n",
    "    ypts2 = spherical_y(xpts2, r)\n",
    "    x_ = arr(list(xpts+r) + list(xpts2-r+w))\n",
    "    y_ = arr(list(ypts) + list(ypts2))\n",
    "    \n",
    "    a.plot(x+x_,y+y_,\n",
    "             x+x_,y-y_,\n",
    "             **lensargs)\n",
    "    a.fill_between(x+x_,y+y_,y-y_, color=lensargs['color'], alpha=0.2)\n"
   ]
  },
  {
   "cell_type": "code",
   "execution_count": 20,
   "metadata": {},
   "outputs": [],
   "source": [
    "def spherical_y(x,r):\n",
    "    # x^2+y^2=r^2\n",
    "    #y=sqrt(r^2-x^2)\n",
    "    return np.sqrt(r**2-x**2)"
   ]
  },
  {
   "cell_type": "code",
   "execution_count": 146,
   "metadata": {},
   "outputs": [
    {
     "data": {
      "image/png": "[encoded data removed]",
      "text/plain": [
       "<Figure size 720x360 with 4 Axes>"
      ]
     },
     "metadata": {},
     "output_type": "display_data"
    }
   ],
   "source": [
    "f, a = plt.subplots(figsize=(10,5))\n",
    "a.axis(\"off\")\n",
    "laserargs = {\"color\":'r', 'linewidth':0.5}\n",
    "lensargs = {\"color\":'k', 'linewidth':0.5}\n",
    "#lasercolor='r'\n",
    "#boundary\n",
    "x1, x2 = -2, 10\n",
    "y1, y2 = -3, 3\n",
    "a.plot([x1,x2,x2,x1,x1],[y1,y1,y2,y2,y1], color='w');\n",
    "\n",
    "# Horizontal AOM\n",
    "px_h_aom, py = 0,-1.5\n",
    "h = 2\n",
    "w_h_aom = 1\n",
    "a.plot([px_h_aom,px_h_aom+w_h_aom,px_h_aom+w_h_aom,px_h_aom,px_h_aom], [py,py,py+h,py+h,py], color='k');\n",
    "plt.text(px_h_aom+w_h_aom/10, py+0.6*h, 'Horizontal\\n AOM', fontsize=12, rotation=90)\n",
    "# laser before aoms\n",
    "px_p, py = -1, 0\n",
    "lt=0.1\n",
    "laser(a,[px_p, px_h_aom], [py+lt,py+lt], [py-lt,py-lt], laserargs)\n",
    "\n",
    "# Vertical AOM\n",
    "px_v_aom, py = 1.1,-0.5\n",
    "w_v_aom = 1\n",
    "a.plot([px_v_aom,px_v_aom+w_v_aom,px_v_aom+w_v_aom,px_v_aom,px_v_aom], [py,py,py+1,py+1,py], color='k');\n",
    "plt.text(px_v_aom+w_v_aom/10, py+0.2, 'Vert.\\nAOM', fontsize=12)\n",
    "# laser between AOMs\n",
    "i1, i2 = px_h_aom+w_h_aom, px_v_aom\n",
    "laser(a,[i1,i2], [lt,lt],[-lt,-lt], laserargs)\n",
    "\n",
    "# telescope glc\n",
    "x_glc = 2.3\n",
    "lens(a,x_glc,0,0.2,0.25, lensargs)\n",
    "# telescope big\n",
    "x_bl = 5\n",
    "lens(a,x_bl,0,0.2,5, lensargs)\n",
    "\n",
    "\n",
    "# High-NA lens\n",
    "size = 0.75\n",
    "w, h = arr((4,3))*size\n",
    "px, py = (5.5,-h/2)\n",
    "fx, fy = arr((0.85, 0.5))\n",
    "a.plot([px, px+fx*w, px+w, px+w,px+fx*w,px,px], [py,py,py+fy,py+h-fy,py+h,py+h,py], color='#AAAAAA')\n",
    "plt.text(px+w/10, py+0.4*h, 'Objective Lens\\nNA$=0.6$', fontsize=12)\n",
    "# laser through telescope\n",
    "y_l = 0.7\n",
    "laser(a,[px_v_aom+w_v_aom, x_glc, x_bl, px ], [lt,lt,-y_l,-y_l], [-lt,-lt,y_l,y_l], laserargs)\n",
    "# lasers after sill (loop for each pt)\n",
    "y_l = 0.5\n",
    "nt = 2\n",
    "y_e = 0.2\n",
    "for n in range(nt):\n",
    "    yf = -y_e+y_e*2*n/(nt-1)\n",
    "    laser(a,[px+w, px+w+y_l, px+w+1.2*y_l], [y_l, yf, yf - 0.2*(-yf+y_l)], [-y_l, yf, yf + 0.2*(yf+y_l)], laserargs, alpha=0.1)    \n",
    "    \n",
    "laser(a,[px+w, px+w+y_l, px+w+1.2*y_l], [y_l, 0, -0.2*y_l], [-y_l, 0, 0.2*y_l], {'color':'r','linestyle':':'}, alpha=0.1)    \n",
    "\n",
    "x_atom = px+w+y_l\n",
    "a.annotate(\"\", xy=(x_atom+0.25, 0), xytext=(x_atom+0.25,0.5), \n",
    "             arrowprops=dict(linestyle='-',width=0.5, headwidth=5,headlength=8,color='b',shrink=0.05))\n",
    "\n",
    "# stuff for pointing to atoms\n",
    "y_dl = 0.5\n",
    "\n",
    "a.annotate(\"\", xy=(x_atom, 0.6), xytext=(x_atom,1.3),\n",
    "           arrowprops=dict(linestyle='-',width=0.5, headwidth=5,headlength=8,color='k',shrink=0.05))\n",
    "# atom inset\n",
    "\n",
    "aim = inset_axes(a, width=2, height=1,\n",
    "                 bbox_to_anchor=(0, 0, 0.925, 0.96),\n",
    "                 bbox_transform=a.transAxes,\n",
    "                 borderpad=0)\n",
    "# alternative: use actual atom image: \n",
    "# img=mpimg.imread('10x10_Atom_Image.png')\n",
    "img = np.zeros((5,7))\n",
    "img[1,1] = 1\n",
    "img[3,1] = 1\n",
    "img[1,5] = 1\n",
    "img[3,5] = 1\n",
    "aim.imshow(img)\n",
    "aim.add_patch(plt.Rectangle((2.5,0.5), 1,1,linestyle=':', edgecolor='w', facecolor='none'))\n",
    "aim.add_patch(plt.Rectangle((2.5,2.5), 1,1,linestyle=':', edgecolor='w', facecolor='none'))\n",
    "aim.annotate(\"\", xy=(3, 2), xytext=(1,2), \n",
    "             arrowprops=dict(linestyle='-',width=0.5, headwidth=5,headlength=8,color='c',shrink=0.05))\n",
    "aim.axis('Off')\n",
    "# sine wave for horizontal aom\n",
    "s = 2.5\n",
    "a_sh = inset_axes(a, width=0.4, height=1.4,\n",
    "                 bbox_to_anchor=(0, 0, 0.26, 0.97),\n",
    "                 bbox_transform=a.transAxes,\n",
    "                 borderpad=0)\n",
    "x_sin = np.linspace(0,2*np.pi*1.2,100)\n",
    "a_sh.plot(-s+np.sin(6*x_sin), x_sin, color='k')\n",
    "a_sh.text(-1,1.3*np.pi,'+',color='r')\n",
    "a_sh.plot(s+np.sin(x_sin**1.6), x_sin,color='b')\n",
    "a_sh.axis('off')\n",
    "\n",
    "# sine wave for v aom\n",
    "a_sv = inset_axes(a, width=0.4, height=1.4,\n",
    "                 bbox_to_anchor=(0, 0, 0.34, 0.97),\n",
    "                 bbox_transform=a.transAxes,\n",
    "                 borderpad=0)\n",
    "a_sv.plot(-s+np.sin(6*x_sin), x_sin, color='k')\n",
    "a_sv.text(-1,1.3*np.pi,'+',color='r')\n",
    "a_sv.plot(s+np.sin(4*x_sin), x_sin,color='k')\n",
    "a_sv.axis('off')\n",
    "\n",
    "plt.savefig('Experiment_Diagram_Grey_Paper.png', transparent=True, dpi=400, bbox_inches='tight', pad_inches=0)"
   ]
  },
  {
   "cell_type": "code",
   "execution_count": null,
   "metadata": {},
   "outputs": [],
   "source": []
  },
  {
   "cell_type": "code",
   "execution_count": null,
   "metadata": {},
   "outputs": [],
   "source": []
  }
 ],
 "metadata": {
  "kernelspec": {
   "display_name": "Python 3",
   "language": "python",
   "name": "python3"
  },
  "language_info": {
   "codemirror_mode": {
    "name": "ipython",
    "version": 3
   },
   "file_extension": ".py",
   "mimetype": "text/x-python",
   "name": "python",
   "nbconvert_exporter": "python",
   "pygments_lexer": "ipython3",
   "version": "3.6.4"
  }
 },
 "nbformat": 4,
 "nbformat_minor": 2
}

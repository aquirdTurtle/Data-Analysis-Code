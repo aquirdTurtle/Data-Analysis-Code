{
 "cells": [
  {
   "cell_type": "markdown",
   "metadata": {
    "Collapsed": "false"
   },
   "source": [
    "# BEC Imaging Sim"
   ]
  },
  {
   "cell_type": "markdown",
   "metadata": {
    "Collapsed": "false"
   },
   "source": [
    "Simulations of interest\n",
    "- Single Atom\n",
    "    - Thermal Single Atom\n",
    "    - Bimodal Single Atom\n",
    "    - Ground-State Single Atom\n",
    "- 11 Atoms\n",
    "    - Thermal All (i.e. mot insulator-like)\n",
    "    - Ground-State all\n",
    "        - Close-spaced\n",
    "        - Far-Spaced\n"
   ]
  },
  {
   "cell_type": "code",
   "execution_count": 1,
   "metadata": {
    "Collapsed": "false"
   },
   "outputs": [],
   "source": [
    "import numpy as np\n",
    "import matplotlib.pyplot as plt\n",
    "import matplotlib.style as pltstyle\n",
    "pltstyle.use('dark_background')\n",
    "from fitters.Gaussian import arb_2d_sum, gaussian_2d, bump\n",
    "from fitters import LargeBeamMotExpansion\n",
    "import matplotlib.animation as animation\n",
    "import MatplotlibPlotters as mp\n",
    "from matplotlib import cm\n",
    "from matplotlib.colors import ListedColormap\n",
    "import scipy.optimize as opt\n",
    "import AnalysisHelpers as ah\n",
    "import Miscellaneous as misc\n",
    "from IPython.display import HTML\n",
    "import MarksConstants as mc\n",
    "import MarksFourierAnalysis as fa\n",
    "import scipy.ndimage as ndimage"
   ]
  },
  {
   "cell_type": "code",
   "execution_count": 2,
   "metadata": {
    "Collapsed": "false"
   },
   "outputs": [],
   "source": [
    "viridis = cm.get_cmap('viridis', 256)\n",
    "dark_viridis = []\n",
    "bl = 0.15\n",
    "for i in range(256):\n",
    "    dark_viridis.append(list(viridis(i)))\n",
    "    dark_viridis[-1][0] = dark_viridis[-1][0] *(bl+(1-bl)*i/255)\n",
    "    dark_viridis[-1][1] = dark_viridis[-1][1] *(bl+(1-bl)*i/255)\n",
    "    dark_viridis[-1][2] = dark_viridis[-1][2] *(bl+(1-bl)*i/255)\n",
    "dark_viridis_cmap = ListedColormap(dark_viridis)"
   ]
  },
  {
   "cell_type": "code",
   "execution_count": 3,
   "metadata": {
    "Collapsed": "false"
   },
   "outputs": [],
   "source": [
    "def animateImageSeries(times, images, hIntData=None, vIntData=None, interval=10,\n",
    "                      imshow_args = None):\n",
    "    if imshow_args == None:\n",
    "        imshow_args = {'cmap':dark_viridis_cmap}\n",
    "    imshow_args.update( {'vmin':0, 'vmax':max(images[0].flatten())})\n",
    "    Z = np.zeros(images[0].shape)\n",
    "    fig = plt.figure(figsize=(10,5))\n",
    "    ax = plt.axes()\n",
    "    #x = np.arange(-20e-6,20e-6,pixToM)\n",
    "    #y = np.arange(-10e-6,10e-6,pixToM)\n",
    "    if hIntData == None and vIntData == None:\n",
    "        im = ax.imshow(Z, **imshow_args)\n",
    "    else:\n",
    "        res = mp.fancyImshow(fig, ax, Z, imageArgs=imshow_args);\n",
    "        ax, cax, hax, vax, hAvg, vAvg, im, vline, hline = res\n",
    "        hax.set_xlim(0,max(hIntData[0]))\n",
    "        vax.set_ylim(0,max(vIntData[0]))\n",
    "    def init():\n",
    "        im.set_data(np.zeros(Z.shape))\n",
    "        return\n",
    "    def animate(n, *args, **kwargs):\n",
    "        if animate.tb is not None:\n",
    "            animate.tb.set_visible(False)\n",
    "        animate.tb = ax.text(5, 10, r'$t='+misc.round_sig_str(times[n]*1e6)+' \\mu s$',\n",
    "                             bbox=dict(facecolor='k', alpha=1), \n",
    "                             color='w', fontsize=15)\n",
    "        im.set_data(images[n])\n",
    "        if hIntData == None and vIntData == None:\n",
    "            return\n",
    "        hline[0].set_data(hIntData[n], np.arange(len(hIntData[n])))\n",
    "        vline[0].set_data(np.arange(len(vIntData[n])), vIntData[n])\n",
    "        return\n",
    "    animate.tb = None\n",
    "    ani = animation.FuncAnimation(fig, animate, init_func=init, frames=len(images), interval=interval, blit=False, repeat=True)\n",
    "    plt.close()\n",
    "    return HTML(ani.to_html5_video())"
   ]
  },
  {
   "cell_type": "markdown",
   "metadata": {
    "Collapsed": "false"
   },
   "source": [
    "## Simple double-ballistic expansion"
   ]
  },
  {
   "cell_type": "code",
   "execution_count": 4,
   "metadata": {
    "Collapsed": "false"
   },
   "outputs": [],
   "source": [
    "def calculateImages(spacing, numG, numImages=200):\n",
    "    mag = 40\n",
    "    pixToM = 16e-6/mag\n",
    "    x = np.arange(-20e-6,20e-6,pixToM)\n",
    "    y = np.arange(-10e-6,10e-6,pixToM)\n",
    "    X, Y = np.meshgrid(x,y)\n",
    "    # in meters\n",
    "    w0 = 0.5e-6\n",
    "    # in K\n",
    "    temp_0 = 7e-6\n",
    "    fraction0 = 0.3\n",
    "    temp_1 = 70e-6\n",
    "    times = np.linspace(0,0.03e-3,numImages)\n",
    "    standardArea = gaussian_2d.areaUnder(1, w0, w0)\n",
    "    images, hIntData, vIntData = [[],[],[]]\n",
    "    for time in times:\n",
    "        gaussParams = [0]\n",
    "        waist = LargeBeamMotExpansion.f(time, 0, w0, temp_0)\n",
    "        amp = fraction0*standardArea/gaussian_2d.areaUnder(1, waist, waist)\n",
    "        waist2 = LargeBeamMotExpansion.f(time, 0, w0, temp_1)\n",
    "        amp2 = (1-fraction0)*standardArea/gaussian_2d.areaUnder(1, waist2, waist2)\n",
    "        # cold ones\n",
    "        for num in range(numG):\n",
    "            gaussParams = np.append(gaussParams, [amp, num*spacing - ((numG-1)/2*spacing), 0, waist, waist])\n",
    "        # hot ones\n",
    "        for num in range(numG):\n",
    "            gaussParams = np.append(gaussParams, [amp2, num*spacing - ((numG-1)/2*spacing), 0, waist2, waist2])\n",
    "        images.append(arb_2d_sum.f((X,Y), *gaussParams).reshape(X.shape))\n",
    "        hAvg, vAvg = ah.collapseImage(images[-1])\n",
    "        hIntData.append(hAvg)\n",
    "        vIntData.append(vAvg)\n",
    "        guess = [max(vAvg), 50, waist/pixToM, 0]\n",
    "        param, cov = opt.curve_fit(bump.f, np.arange(len(vAvg)), vAvg, p0=guess)\n",
    "    return images, hIntData, vIntData\n",
    "        # fig, ax = plt.subplots(figsize=(10,10))\n",
    "        # mp.fancyImshow(fig, ax, images[-1],vFitParams=param, fitModule=bump, avgSize='30%', subplotsAdjustArgs={'left':0.1, 'right':0.9});\n",
    "        # rss = misc.round_sig_str\n",
    "        # ax.set_title('fit=' + rss(param[-2]*pixToM*2e6) + ', w1=' + rss(waist*2e6) + ', w2=' +  rss(waist2*2e6) + ' um', fontsize=12)    "
   ]
  },
  {
   "cell_type": "markdown",
   "metadata": {
    "Collapsed": "false"
   },
   "source": [
    "### Single"
   ]
  },
  {
   "cell_type": "code",
   "execution_count": null,
   "metadata": {
    "Collapsed": "false"
   },
   "outputs": [],
   "source": [
    "images, hIntDFata, vIntData = calculateImages(0, 1, numImages=200)\n",
    "animateImageSeries(images, hIntDFata, vIntData)"
   ]
  },
  {
   "cell_type": "markdown",
   "metadata": {
    "Collapsed": "false"
   },
   "source": [
    "### Wide Array"
   ]
  },
  {
   "cell_type": "code",
   "execution_count": null,
   "metadata": {
    "Collapsed": "false"
   },
   "outputs": [],
   "source": [
    "images, hIntDFata, vIntData = calculateImages(2e-6, 11)\n",
    "animateImageSeries(images, hIntDFata, vIntData)"
   ]
  },
  {
   "cell_type": "markdown",
   "metadata": {
    "Collapsed": "false"
   },
   "source": [
    "### narrow spacing"
   ]
  },
  {
   "cell_type": "code",
   "execution_count": null,
   "metadata": {
    "Collapsed": "false"
   },
   "outputs": [],
   "source": [
    "images, hIntDFata, vIntData = calculateImages(0.7e-6, 11)\n",
    "animateImageSeries(images, hIntDFata, vIntData)"
   ]
  },
  {
   "cell_type": "code",
   "execution_count": null,
   "metadata": {
    "Collapsed": "false"
   },
   "outputs": [],
   "source": []
  },
  {
   "cell_type": "markdown",
   "metadata": {
    "Collapsed": "false"
   },
   "source": [
    "## Quantum Expansion"
   ]
  },
  {
   "cell_type": "markdown",
   "metadata": {
    "Collapsed": "false"
   },
   "source": [
    "$$ E = \\frac{p^2}{2m} = \\frac{\\hbar^2 k^2}{2m} $$"
   ]
  },
  {
   "cell_type": "markdown",
   "metadata": {
    "Collapsed": "false"
   },
   "source": [
    "Free space eigenfunctions are \n",
    "$$\n",
    "\\psi\\{r\\}\\propto \\exp\\{i\\vec{r}\\bullet\\vec{k}+\\phi\\}\\exp\\{-iEt/\\hbar\\}= \\exp\\{i\\vec{r}\\bullet\\vec{k}+\\phi\\}\\exp\\{-i\\hbar k^2t/2m\\}\n",
    "$$"
   ]
  },
  {
   "cell_type": "markdown",
   "metadata": {
    "Collapsed": "false"
   },
   "source": [
    "So the procedure should be:\n",
    "- Decompose initial wavefunction into fourier components\n",
    "- calculate phase evolution of each component at time t\n",
    "- recompose final wavefunction"
   ]
  },
  {
   "cell_type": "markdown",
   "metadata": {
    "Collapsed": "false"
   },
   "source": [
    "### 1D Gaussian"
   ]
  },
  {
   "cell_type": "code",
   "execution_count": null,
   "metadata": {
    "Collapsed": "false"
   },
   "outputs": [],
   "source": [
    "xpts = np.linspace(-5e-6,5e-6,1000)\n",
    "sig0 = 39.4e-9*np.sqrt(2)/2\n",
    "ypts = bump.f(xpts, 1, 0, sig0, 0)\n",
    "fig, ax = plt.subplots(figsize=(10,10))\n",
    "ax.plot(xpts*1e6,abs(ypts)**2)\n",
    "res = fa.fft(ypts, xpts)\n",
    "kvals = res['Freq'] * 2 * np.pi\n",
    "propTime = 1e-4\n",
    "for i, k in enumerate(kvals):\n",
    "    factor = np.exp(-1j*mc.hbar*k**2*propTime/(2*mc.Rb87_M))\n",
    "    res['Field'][i] *= factor\n",
    "finWF = fa.ifft(res['Field'], xpts)\n",
    "ax.plot(finWF['xpts']*1e6,abs(finWF['Field'])**2,'r-.')"
   ]
  },
  {
   "cell_type": "markdown",
   "metadata": {
    "Collapsed": "false"
   },
   "source": [
    "### 2D Gaussian"
   ]
  },
  {
   "cell_type": "code",
   "execution_count": 8,
   "metadata": {
    "Collapsed": "false"
   },
   "outputs": [],
   "source": [
    "import IPython"
   ]
  },
  {
   "cell_type": "code",
   "execution_count": 9,
   "metadata": {
    "Collapsed": "false"
   },
   "outputs": [],
   "source": []
  },
  {
   "cell_type": "code",
   "execution_count": 5,
   "metadata": {
    "Collapsed": "false"
   },
   "outputs": [
    {
     "data": {
      "text/plain": [
       "13.333333333333334"
      ]
     },
     "execution_count": 5,
     "metadata": {},
     "output_type": "execute_result"
    }
   ],
   "source": [
    "1000/75"
   ]
  },
  {
   "cell_type": "code",
   "execution_count": 6,
   "metadata": {
    "Collapsed": "false"
   },
   "outputs": [
    {
     "data": {
      "text/plain": [
       "75.0"
      ]
     },
     "execution_count": 6,
     "metadata": {},
     "output_type": "execute_result"
    }
   ],
   "source": [
    "300/4"
   ]
  },
  {
   "cell_type": "code",
   "execution_count": 7,
   "metadata": {
    "Collapsed": "false"
   },
   "outputs": [
    {
     "data": {
      "text/plain": [
       "4e-07"
      ]
     },
     "execution_count": 7,
     "metadata": {},
     "output_type": "execute_result"
    }
   ],
   "source": [
    "16e-6/40"
   ]
  },
  {
   "cell_type": "code",
   "execution_count": null,
   "metadata": {
    "Collapsed": "false"
   },
   "outputs": [],
   "source": [
    "IPython.display."
   ]
  },
  {
   "cell_type": "code",
   "execution_count": 10,
   "metadata": {
    "Collapsed": "false"
   },
   "outputs": [],
   "source": [
    "def loopProgress(inc, total):\n",
    "    IPython.display.clear_output()\n",
    "    print(misc.round_sig_str(inc/total), '%')"
   ]
  },
  {
   "cell_type": "code",
   "execution_count": 12,
   "metadata": {
    "Collapsed": "false"
   },
   "outputs": [
    {
     "name": "stdout",
     "output_type": "stream",
     "text": [
      "0.990 %\n"
     ]
    }
   ],
   "source": [
    "picSize = 30e-6\n",
    "numpts = 1000\n",
    "psize = picSize/numpts\n",
    "ypts = xpts = np.linspace(-picSize/2,picSize/2,numpts)\n",
    "\n",
    "X, Y = np.meshgrid(xpts,ypts)\n",
    "# From my other notebook's analysis, the waist of P(x) is 39.4e-9 m for the ground state in a ~150kHz trap.\n",
    "# The waist of psi(x) is then this waist * sqrt(2), and I'm plugging in psi into the calculation not P(x), so \n",
    "# it's important to multiply by sqrt(2) here. \n",
    "sig0 = 39.4e-9*np.sqrt(2)/2\n",
    "zpts = np.reshape(gaussian_2d.f((X,Y), 1, 0, 0, sig0,sig0, 0, 0),X.shape)\n",
    "res = fa.fft2D(zpts, xpts, ypts)\n",
    "kx = res['xFreq'] * 2 * np.pi\n",
    "ky = res['yFreq'] * 2 * np.pi\n",
    "times = np.linspace(0,2e-4,100)\n",
    "kMatrix = np.zeros(zpts.shape)\n",
    "for i, kx_ in enumerate(kx):\n",
    "    for j, ky_ in enumerate(ky):\n",
    "        kMatrix[i,j] = kx_**2+ky_**2\n",
    "fits, havgs, vavgs, images = [[] for _ in range(4)]\n",
    "for timei, time in enumerate(times):\n",
    "    loopProgress(timei, len(times))\n",
    "    #print('.',end='\\n'if timei % 10 == 9 else '')\n",
    "    factorMatrix = np.exp(-1j*mc.hbar*kMatrix*time/(2*mc.Rb87_M))\n",
    "    propMomentumSpace = res['Field'] * factorMatrix\n",
    "    finWF = fa.ifft2D(propMomentumSpace, xpts, ypts)\n",
    "    images.append(abs(finWF['Field'])**2)\n",
    "    h_, v_ = ah.collapseImage(images[-1])\n",
    "    p_, cov = opt.curve_fit(bump.f, xpts, h_, p0=[1, 0, sig0, 0])\n",
    "    fits.append(p_)\n",
    "    havgs.append(h_)\n",
    "    vavgs.append(v_)"
   ]
  },
  {
   "cell_type": "code",
   "execution_count": null,
   "metadata": {
    "Collapsed": "false"
   },
   "outputs": [],
   "source": [
    "sigmas = [f[2] for f in fits]\n",
    "param, cov = opt.curve_fit(LargeBeamMotExpansion.f, times, np.array(sigmas), p0=[0, sigmas[0], 7.2e-6]);\n",
    "print(param[-1]*1e6)\n",
    "fig, ax = plt.subplots(figsize=(10,5))\n",
    "ax.plot(times, sigmas, 'c', linewidth=5)\n",
    "xpts_exp = np.linspace(min(times), max(times), 1000)\n",
    "ax.plot(xpts_exp, LargeBeamMotExpansion.f(xpts_exp, *param), 'r:')"
   ]
  },
  {
   "cell_type": "code",
   "execution_count": 14,
   "metadata": {
    "Collapsed": "false"
   },
   "outputs": [
    {
     "data": {
      "text/html": [
       "<video width=\"720\" height=\"360\" controls autoplay loop>\n",
       "  <source type=\"video/mp4\" src=\"data:video/mp4;base64,AAAAHGZ0eXBNNFYgAAACAGlzb21pc28yYXZjMQAAAAhmcmVlAABToG1kYXQAAAKuBgX//6rcRem9\n",
       "5tlIt5Ys2CDZI+7veDI2NCAtIGNvcmUgMTU4IHIyOTg0IDM3NTlmY2IgLSBILjI2NC9NUEVHLTQg\n",
       "QVZDIGNvZGVjIC0gQ29weWxlZnQgMjAwMy0yMDE5IC0gaHR0cDovL3d3dy52aWRlb2xhbi5vcmcv\n",
       "eDI2NC5odG1sIC0gb3B0aW9uczogY2FiYWM9MSByZWY9MyBkZWJsb2NrPTE6MDowIGFuYWx5c2U9\n",
       "MHgzOjB4MTEzIG1lPWhleCBzdWJtZT03IHBzeT0xIHBzeV9yZD0xLjAwOjAuMDAgbWl4ZWRfcmVm\n",
       "PTEgbWVfcmFuZ2U9MTYgY2hyb21hX21lPTEgdHJlbGxpcz0xIDh4OGRjdD0xIGNxbT0wIGRlYWR6\n",
       "b25lPTIxLDExIGZhc3RfcHNraXA9MSBjaHJvbWFfcXBfb2Zmc2V0PS0yIHRocmVhZHM9NiBsb29r\n",
       "YWhlYWRfdGhyZWFkcz0xIHNsaWNlZF90aHJlYWRzPTAgbnI9MCBkZWNpbWF0ZT0xIGludGVybGFj\n",
       "ZWQ9MCBibHVyYXlfY29tcGF0PTAgY29uc3RyYWluZWRfaW50cmE9MCBiZnJhbWVzPTMgYl9weXJh\n",
       "bWlkPTIgYl9hZGFwdD0xIGJfYmlhcz0wIGRpcmVjdD0xIHdlaWdodGI9MSBvcGVuX2dvcD0wIHdl\n",
       "aWdodHA9MiBrZXlpbnQ9MjUwIGtleWludF9taW49MTAgc2NlbmVjdXQ9NDAgaW50cmFfcmVmcmVz\n",
       "aD0wIHJjX2xvb2thaGVhZD00MCByYz1jcmYgbWJ0cmVlPTEgY3JmPTIzLjAgcWNvbXA9MC42MCBx\n",
       "cG1pbj0wIHFwbWF4PTY5IHFwc3RlcD00IGlwX3JhdGlvPTEuNDAgYXE9MToxLjAwAIAAAA3tZYiE\n",
       "ABH//veIHzLLb5xq13IR560urR9RDt9LEIP8QMWzC1lpoCwL3vspavcIL5BGOp6xT16JpqhW5b3s\n",
       "qFE6vK5R0Uh3gSBznjH7DDi4/WQi+8CYkF2p/f39T5u7Uj+AWUjxRygc4ZxfkYq35A8ad9fFmZ3n\n",
       "vPUeG96HKwfVTyPd+l0Pb23ILOSXhImPEngpUr55tDA8kcwpMOShFsU4YFqEu+wqzRyg/WmTzXy4\n",
       "NC3xyDo8ens/MfCfKReS9ENDFfyOAAADAAADAfi4kdMttSQaEAyTTwXQNYvKTRBrqPqJbstZ0VhF\n",
       "u4RroG/54nT1o34W2ZxpYOGT0gTStDxTlG4hQ5C0kEK8rcGiD3bRQVKUh6A4EOW7Xw0tUAABLGzD\n",
       "8Ac2bSvgPLrhBG2FJpY4orUl7UlKrPdNV/wH2n8gYjPPGs1yqHw5bcxcxWBQRvT56dlt3+vt+KSp\n",
       "JwyU5rC7WUQ6D3eUIaVWsFPmXcS04mxaNrYw5q/lvmtKrnEiqe86x1Xf1scOXCM32n0oDerDuzVx\n",
       "noGbpdNu7PgNAGDZmpBbwVGtIWRI+na/KVVWbhRxI7lJ2uypxuD/TuGKMCYWZiRZyiWvv7eQ+kiV\n",
       "tQoCVi8Rxn6r1yY7amntbfCBCnQs+VtEOW0OJm9jGO3ZfXX/f67g3g7HUbK8k3XSgPMSMeRilhsS\n",
       "cdRB4Iyc7Zm4V36My6rSLFsn/HWEYfu+ZNsR9s5w2dgUA7rf6vAmC/oYHiKEgGhX1W1NtjJiVYd2\n",
       "jDvd0bGuGdHIEnSDWG2eh51PllOqjYCoT0PGJ3w4MBFAhM88zxIhJOPX/y2uQSA+x1j9FgL4VLBf\n",
       "8ZumfS+uHWM+LWY1C6w964rv7UWlwpipLKCtDyMXNyj4XKr5Q2ZlmrkXbUmL+RVqCdt5wNoh9Oid\n",
       "38tIAsI1zhPf52KiJ1roHDyYA/MYRFs3Z2mZeKYu1L+VZsZXKf8crz/OkhX/wn04IQ3XQBoTeDQi\n",
       "tFhjLnmnP7aEz0xOqTtmgDqJBcVfgvkvrtp/BVNGVLjpTZTNvmv3dam9QRAeIjK6ty2R3TisaJTj\n",
       "s0ffHk6EA3Rwj9k3AOZGJ8e7VoncsYGWeSxB73pnlBJiCXfOeAr4yKlE6Kh2Ma5TDXG/2PXOVYy2\n",
       "q5QhLPNisalkshRlSVo/6HUyoBJX8EwPSf1GYvgIigzTQo/kAkuFua9x+QhEdh29w+jGabTZPt1D\n",
       "fota16YR39vSzPsXUQlue5wgzDUedFWym6voAAOT448Y7NHFDRcJ5O/wi3+QpMdY6Z1casbT2oSW\n",
       "3sBufJEhxL0B5Q76jyGGadnXsY9fTVYZefteJ81nabonZoDWkiSq/qe2J3THrfoi7kLJFT3D1nIv\n",
       "VhVhl+nCltF9KXTX287IKb1UpXbAS/SdNXixaSCxqZsbtm5u1WNAs14CIzkr97NJkSOS6pZgoE2a\n",
       "JTBLNdNlYzSz6lQO+vY0QW+Fi6nmXxT/SuTWt8nQDiqWPPctphVZxqgV7fyvdk6mAr0wrVRMQViT\n",
       "BoYvOpIsjM2ZzUn9xzBcvaqvwXp+zLU8KewupFYEP2JDDdEZA8jcGKLUP4lGv/ASsaZwXOSsRWpe\n",
       "lDIEzPY8irQzP/CSRly+jKu0Qpczl8xbN787fo8ZL6kvA58BmMlIgDF9zq2ibbRY6IBqRbGtjiPC\n",
       "6c1J3lOZYoriny5Og0v/ylRrKDpkEDA31NB+dd4+tIw6eMm04RgoQfYx1c6+mmPPzfXwSwnpT5Uu\n",
       "Oacv/EZVsjRfWF/f1aidW5szIwe7r4d+ltKHLo80aObls69eisV7Yc3ONE/fbi0ixszbJkMX+k5D\n",
       "ch/y1guHnW2/8iY2y3AS+p56EyixJMgS3gLb0Tb37DtVaxpIQg9BnK84reIJoeedR9qufLSYIBd7\n",
       "5X/HyLhIKxWqsX+S/rw6XrPo11kLkAn9uuZsq87plXbmlYkIM1HBX31Z5on0/W0+s6AZfvU/G5rJ\n",
       "aUgqOhe2tu5m9kQIhyBZJt6hyg3X/KvblCzK3gXIAChUDaI6d5//G0qzjc6j3/Lt3KHAs55e4RLm\n",
       "Mo9zbg8LA40uWXzO+zZuAqCVdJgjgxg+sooijYi7k4NGpbwDBbiGj35ZdZYReq1Ny1q3LoOY0dW4\n",
       "bXa0IUnVuCUXVEisQzl5lzMQcrHpJ0LiKngQNL847V7KXk0f6SErrLp8lhca2Uac6lNINpzok0JJ\n",
       "KyDq1gduGl65iRGN3bMhRFu4auy9266Mr6ADo/2Py4wzKCtDyMW4UjO9E4PcNmZZq5F/O09o1nim\n",
       "lCAVZPMRdN2M8Z7BtBhU6biP7Krpmfzy59xm058ER9S6jgirPLb3N3wjZnoDtBimPf2xny66GYKC\n",
       "o2suxWCzEHSJn4hrbz7iWEVeag7Srw3+UDA2fRGLN5pZudJz4hqXsfCLvIq/iiuCkc41BczmpsEM\n",
       "mZB+NPVRhtheG3z5ZwWSEXSyhHNcJ/oB/iIB1i5biRD/px4ndTrCQCTZDAbHmCzuUUQxad7WtfwJ\n",
       "aK5DSYVrH6ZeX7cUHwHYPdKkc89W7KI0btXSKbx/gA/BBbvF3i5OZ9qtyb/sS3UPfv5WcF7k0v4W\n",
       "1ANgIZalIGbTsJxHFJry6qs+hpUuDDNbcPKmqj+hVnoR4AxNM2JDnl3+6uU82fqGT4TDnqUhOS97\n",
       "QUZgNqxxhMIj0/DIviYuyXhY+G5Vd+qIEWiPOlFGY0OHnjc/7nwNMfQ+CJEWOPnyPjMFGlHuz1TN\n",
       "K4gR4sHmfkH0iBAbIDmcfnQtzpVmS+e+fXMlQDFakGGdezihUDuLT4hTN03IKd9Djb4IYiLpoBpJ\n",
       "CObd570lxtyeZHBkDjViHzg1mvBOiGJjMYwmGvfjvKIRp3qwJnJBbqFlFv+yQwD2Z55H3IHPJ5Os\n",
       "t6UD2ImuimL/HrH2a3rXbHYYshBDAIp0S3u/UBwn1HL7Icsrclsv3hr0KtFRynWpuCqOEf17gYF7\n",
       "P5UPFfpmnS3JyI8Ul60PNCdiCean4FZ/+IxihVB/DNXjPBB4Bx7b5crWc8P2P0BhooptfhBD/lrD\n",
       "eBhps+2+QzfzmkE3z6gGl2iwqHlKumgxsnQRFt9mKWttpF5msnBD1Cv6PMdwUlIkJEc68OHbFsbj\n",
       "Ypj1LtALR9vpPWUc8aHFc39zLoKxH9ZRGHEjbGlv6cQI7NWOfmtfceG/egbhK9oqFlsTaJncFF8v\n",
       "OttVw0dHw6p1j2JfWonRGdBChVY44fh0wIbX0siz0h5hdyPknodDZFSRTBE+5k9/+jnLwF+tqMeB\n",
       "IGRlxJp/4WL8+O7fjZKuIfSqcyA40dpJK4BLLgDZ19dPXvZggMCWOBms7x0ihGmPMbQz8EU0w7bT\n",
       "8TJ6ilpBBN/uVr1mD00N4MKGnwX+FAdsOHuSeK6w3BfXvkMXwdeDtjl82/pFcISeAmMzbbF6Bvn3\n",
       "aS1akQZylEMXSh+8kgSrP+g/xLEqEKv2wXUaR1p0m0oYnyNcN24jZqOk++KV61SjhaU0yS8JeJtv\n",
       "x9SeAEPEpCNxbr7zivSK67TrqLl0nBn3az7KeT2nEtFuYDayfKmxScVDi0hKxN4Wo3x2AGXyw6i1\n",
       "8bsoRSm6Ab7JXT2dsG1lWJGgmRbU4dZxCULsVCm1KOsDPZnDAEy4g89GRvhSdlL6U3wOovsqT4z4\n",
       "/BLy8p12jkm/2A+gu7Rl6TzrW6kIiEHXGNa/OzStvaD1wPHK7jloq3u/U//jRnyoFaNAf4UxZc0R\n",
       "drfVat6qAL4WvtyVdYcxg7+p7lEfc68CbrySYF49cra8YPo32S+2bIS//rfpbx4nbjpv+071FQoB\n",
       "HQtWvGmCZBFORgC8YZ0GDThrLM2DM2nfYcHYZJ08tL4ElhUT5gWzTvY3HPDOpk3uwIm6SdBCs1Of\n",
       "gpFjVS2Dn8uCzcDlS6Qec9kyeQYyFmlS/t0KYspzzMl3m4H98OEllA8IL0fqmBMtYs09iWwkN8Ni\n",
       "evTNhtLl4BKhG7JHglahh2zVhqoOBwOG9UewhG2988aK6/n9kyih2SEYvS+3LKPyKBpSAptAzdRf\n",
       "QW3Efep4OkDc7ZsmQc31aKEVxI5UfnFkMJ1VsKlFalp8u+XclJ0RBUp2SWNDCZTn1kTwJpmE/Qk0\n",
       "f2gvAYYQjEnrudfuRkUfzCwURRC4tuUedwONI/t5Rfi0zAnhgsAIIr/9aYXqDitAAhCM8g6IYtQa\n",
       "ovJzre5qPlimWDnL3iL22qhFNivuwPNlbCm6Dsip1OvTuuyzt3MOvSL4NHDORE6hYdsmQVQVXdGM\n",
       "YLLuf3s3mkZF/MAVXM4/O8Ke9+/reh32n00E2MiiGj0wT9fjVmXbrz2r8SUY2EtAVQeOJi2brW4+\n",
       "DAxlhlsES6HkZd/zzn4GcVi6Q4AeZ0ECbBF+Cdl5bV4vOWdSDN5/3v9uSHftoCfFJTrvHwEUaMSi\n",
       "YJ9T+VHxlt0+rKABdSgwUW2/kEnswCf6pSmQ8ABnh9j5tReDOkABXgzrZ+v8IEgUwWyfBPuhU2cg\n",
       "jtCqhwqbiISzAvG4ej2DmQJhNoolNd2giFgmmKeOmP2vaykWu5LiwrWBTOzHqIpO2EYAD7vs0WV7\n",
       "adH2XLMKubqujE8/C58ikJIom4KiKueZ9lfcpTCz4wss5xkBmVY6K8ql+DnvM8h/FWqSWWcZi7h/\n",
       "+iejArjxXwc79+n9n+9TTtMfyUdOYD/phJafKVblXUi59W8NiXh9iZrL0uli9SdXAvcLAB8q++vZ\n",
       "yN4EiT+ouDDfRZZA6tqVO3J0tH440fVkn8bLgQAAAlRBmiRsQR/+tSqAAZ7mxFAAcSOaYtcUt2ms\n",
       "rpgVtrNpm3DvAPmLrL91QiKSpUBAx1wLVbkr2hd887vjav92cpwWXmDTSVEry2XnrOuyFJrC6McT\n",
       "JJb1MYtoczKk3mUBUP9/7RDZpmRIfg/r6h7pqtWXfKn9oB3sSykW4XFNKDMqPwAfU509pSRA0mzK\n",
       "RxIXwrKE92/q0ElLPPFrsIS3/yiYWNilHGcHMOrHtv325Lf4ecxKYUxhUurfDAmJdVEHDlPYYFwP\n",
       "5hJ6k0E7T7yx6Jz0gpxOvmdJsUcD/vaIM7A2k1A7VfVGErpS5L6WQQoKM89Nl+lYNScnYFLSmPvj\n",
       "Mvlg9GVXAzguvXx6HIyiUVZiwxe5Eq4j2bWHRO5OcMqWH3Dz9X1MM+N19q9UPK1tMo5OJFFWRVmw\n",
       "hSK9YTcwPbMWsqHTdqfofBss2JyJwTq2cVvwjskFyRB/1jpV5DpfBdPFSRYkIRafH6zqGmVrrq0Q\n",
       "5E1Ax9O/EgD1VIlqQAsnqb6CzDkuNY9R4RzZNP5fSgyDOXc8RUJuhCpWduLwqefKAftzT3Rnb/BJ\n",
       "QuU4m4qJwnSOLyBTPRXF9E3DJT/u3cK79/Dhr4/NZXtXnG/MymWesPii+ObAop8RkMqbJmtAdFYN\n",
       "4BCLWp5z54O54nBQ73wyOyPER6jXC6X610iBJh8M8z+390P+h3UoRVjbAYbkQSwiNy4sH72gxtzw\n",
       "PVioJlJD3z0PB8h/s/RyMFBKdK4elX6ALwRK/ErsQhRx4L0jcFETp1apS+3Ru329FjllPeaZVyIn\n",
       "gAAAAWdBnkJ4h38AAAMC6PWglFTn6AB/RT69Gm+333Q/oFuAntt5DvvssxKtKaJHoNJAb6XN64CC\n",
       "SDSEWabYp3ULaPVj7QLPGwGbFoxJ2yIGTJQkeMyoi6H7tD2IDISmP+e8dGN7EPtURSBQk2UzUxP7\n",
       "IPW68wtxMD77oG2swBb5BJvzs5I8jid+e0B2MxoBIpBvHMs4UDMVP5DzB4H27Xz6IAK2IbKNBRP2\n",
       "1JpYL+fzz9b/smznXU3FDQyMeDZaGhZ+YGnXUWJ35KcHJhjLHBat6SNOBpHtZSzGrVLVhA7UDbFF\n",
       "Lrg4C4oN2wVmYh/410+VbKR8KZrntc6qXXbunyG/hmujv/7WO+Q/C255oJLOdxPQv+6757K8HoAk\n",
       "a0x5dC5IMaQKHnrNxKcSsvannhk9svy1oKQYwhTYsm5+1raMZxUnj0+GwgiQgB2SPBvP8HnHVVCK\n",
       "armjetau2qzUE2Ru9kZNS8UwNGZDQQAAAQsBnmF0Q38AAAziFSVM0EACduoYQNxVMV5wYUXWso/n\n",
       "OiljxngxvG0kTSx4ry/+m5pwvTk+Lcj8JTGJkgZwn+aknvl4zX8I3Xlbpvp2kpKjB7ZX1DoZb544\n",
       "DA0374JEzNhFPiuX7GaRjEN2LOvksW7tVABawtyncfbIzKvmahT3gkqn7pNr0eXFzgQrZvnHSl/f\n",
       "wTGAiNSgEDXuJHL62tCbeIXGvtYeGMo+a7QcKysLHdUw1n8rUOGMyIRXW275oJ3wp3kdcX2Wns3n\n",
       "2DrHcuuNQP1VwGeMsZ9Cq3pO84YszpsUznZ798kLmMRvycepCaiHXVx4sMjaw418OGmHLmLurdCa\n",
       "6ClpN00zPWgAAADVAZ5jakN/AAAEGiqABNnCSeUSxbrH+A8C86Od2Z5Y2Hr9KSz2jA9k5NAsLXNg\n",
       "R8Quqqg6pGvBq/yg5Fu1VdM5SRE4aV4mE0k8aZVdv8o0cHAVRm9DjgalV1r14g2IIQjw1WNi/Qa5\n",
       "vl84pDWPg4Po6OFFRqBRI0GHf0eT6mc92QN4LB7DwlHq5G1P4u39lK97yUFkpKA1Tbmhln8Q541k\n",
       "lAOixLqOxhWMwsTCRvWOI9w6LGsKiU3xSKwd/o1BgniHeW1crRPF4nMuTZ5y75nrtdxBNuWpAAAC\n",
       "MEGaaEmoQWiZTAgj//61KoAAAmDeDcBSbiUk3B/7FJJqMFV8D6425fnQvZ4LHu4F0uLW7atyjcNW\n",
       "L0P1DQRtrtlxkVY2RSE6ja7mrJBRbPZIM2CbvE8LH/Vsg930WW2+ElUk3dxbfwfV5kUL/VpJl1Tg\n",
       "rGBvLpjK49t2VZi75tMYP9gTWdsZ4dq8U4D4a5Oqj/hrWWwH0DHdITeZjmv0xYhv+MY3zMItKDKI\n",
       "dZs/IVV58UlueTAUPQ0+Q/c9ngeHaPTQTp1YmIOfSjgSbVICzBkkZB5YA3NPqO8FkWVvMgGwL7dI\n",
       "QIqZXciUGNkeEiJxtXjVdpFMBKFxgc0qYoFZo89E5EysklLyQ4YO6w1dWXqwPUbkaWYghBZSM0pR\n",
       "pZwLwjAgV9/Xr0BoAFVecdGU4Jnbg1+dPVfd2zaKdI2apPyQNfkHw0Mg0UbjOdYRhnj8lqxbo9oA\n",
       "7XLavseyV6lec516pbfX+xhfH14qL+OQ19i9B41hm6IZSYCXiNNLXCZbxDUG+WsOJ4qnbHE52UGw\n",
       "1LCN7paChM+YEuSuCQueeIo2Sn7lPKe8nn1MEYIilxl1+utyI/DERBrJQBvE+eQHuebowvTzSQYf\n",
       "ajBtDp37njEi4WNCAKA46o7vqk9SyM844I0FU/6Gr2eA2DS72Mw8XINlU60IP2ZNB0qXa3D9IqG9\n",
       "f9SyavR+g6cR5jJjaoiFa8yojp/2ffm2fFyouy2MOMOrrC0k98T6ip2lDSpPMrUXAAABPEGehkUR\n",
       "LDv/AAAJBNpBGtuAD6wYeI16fLVkm+fiQj2Zj9F/LxCB0CDfgvDEK1GEoLnKOK+fWQTShJj7f53I\n",
       "HWMTIuFKsdsQUcTDHqB5GfDXSJZ1Os6zhs8lCC3a6MUGIJl1ksvvEPluhmOQWGmVimZmsj7tQiuR\n",
       "IWsl6nBT2FnY0gkFV+ASxDxWK1neXs45bfEK6S+uBcRJDHbQCyxHfXGNxGBDEhTXAZ5Y4lfCMoR5\n",
       "wjW8ZmUU4IWn5+DUBHKtFywbWoLnEjIiIHIRC6bWiR9HgOAHT0iJ2YGbUdWViB/PiNUM3mn1SESd\n",
       "77EkgAxJzKwdB/UdXP1gLwnBflWgSPAtX3Oj7W2MWyn9I4/vLJKx0s1uNvzeBHvnh0eb+D7J07Ho\n",
       "TYWfYOQYiN+f/L7//NQIMvl8Y6dyY7BUXgkAAAC9AZ6ldEN/AAAMv3ciOTWAE2SIey1Qpy4btITs\n",
       "re1p9Nrbg2FU8t5B1OA32W+KExmrJWAHX8VIIDoAE60Ba89ZKBUVn365ecWXgntkQoKANmL2y3kM\n",
       "1SV6vjd8NZMwf0bCymyJ5a7kHyKw8zfBJDduM36Y+IxuF5lt03a1atyq265STEBPDsVWeqlYcdw1\n",
       "ZDHZVvsoFwnDr/QfJeYI5LbtVA6vuxxLlyiALeyCf+J8eKjjoTGjXsbF+fga4JmRAAAAqwGep2pD\n",
       "fwAAAwP7/F4AW2s3A7rRSJKsHxiWhmBhwSuq80XaCQtIXgtiXoMst3hfOLSLV4iba2aupTZqP4pj\n",
       "LvuZAxjQJgDHKnypiH2Fc3W3WkEWOwsx0+zF7C4iLYwR/ESVbXKmeB4mV5O7bI8Sspbub6uxY4r4\n",
       "45+m+Vvr6baXV0uGV5SxfR6mib4Feu7SrXpz39Ymkqy+aireOybWfYoyRj0t9DFJ+V2FYAAAAbtB\n",
       "mqxJqEFsmUwII//+tSqAAAJg9bB6ACwzI6pHlsA9QPBCcXZm2L+KW81iV2LRHyrBlpvr4nXBHaoj\n",
       "Da1d2D29tum6+vp/VfSQresSqloT0oXuXwMtxvyEvKvY5AgKOMEIe04rauhlVOtrUZD1FkyPeAg7\n",
       "l24C0wyzAK+vdHIGOcCoSrHV+7gCvRiQEf54gIpM3A18km3BmByKRp5jEr1ybxRZmzB+4PJBZNDt\n",
       "hFLQKFF9pCezR/SmZsn1NqVD/+AdBiukWy01JaxzFXXB60/t/SIsQtv5ZtBktcUWnm7hhvokYyEL\n",
       "xRYt9gOQvtwGgJOpfXXuWppEl46V2b47OXTE4dgN/uTrtkYPeHyEhlRSBWW+kgsY/hRxiBuGQwmF\n",
       "VmKhVAVGM9Qq7nombIU8s9aM3tD7p8X7jXnswOCwr81TMoHmrdcjmIscDHnPXAqF0W75xDX8/+c8\n",
       "fBOb5rFhtl8ygXLSbtJfxkWtny3Qr7ZHi9FaCICMuUuwbfSPLjsDhBNPyMH4r4my+/Il9CtBj4pE\n",
       "sZ0BkOGlhCUPota8jKcmv/4XDnMomQYUey/b45bO8G3SwygQaibNx0CRwAAAAM1BnspFFSw7/wAA\n",
       "CUQRgh/NNbiWgA/lq3me6DUjfJ8Ffeqfm0ifqtseV5r3UASha1R+UpQVtBra38ECe8zbRw3h65VS\n",
       "WJ1j81V5hhnXuyb0xoayC76KGBgOyL3SRR7rk9VWpRI6yr6CsYIWJeL5OpecXaI8bb9FYmA3HVJa\n",
       "rnz7jFj2fxREvmh1aG5iCGA32YpP8VeZOL6xr32Hw0BBi+0wLmqrj1E56Rw17iqf0LDVxbsRABff\n",
       "jqMtVJOeNo3oqdeTzfRv43iFo50rMDixAAAAfAGe6XRDfwAADOCpPJ1bACWOc/EBw6oKr3rjwQHU\n",
       "ZOVpDesrsqFhK48AOrKv9P21FYm13q1buhEaNms5RSoj4+jWNFJ4t8jdI9GRXYrapPbYVoei3Q9d\n",
       "6vmyJIy/tRpvZ/uPuI4faWtKpDddJ+2z74pKT5Wb9Q8jASO1dS4AAACCAZ7rakN/AAANMAKJMxoc\n",
       "PQwAsIj4SeGK8gKDJjgenDg7fQfe4OsqzuIAQ+GQd/PJdHmVClOpOgnXinY6Z9GPWoNAlichuc+v\n",
       "M/JhJczqNKeLaM+jYGNzHoC6+8QY2XnaICHGcVArWvLM/mRcZs1WVmbDGBX++BR+55gggwX3uEty\n",
       "ngAAAbVBmvBJqEFsmUwII//+tSqAAAJg9iqsAG3YOvXD0LzosVkqTugjfpbpuJz/v/8/eYlRtZgz\n",
       "rERjU845VgrK66Qp7G4PyKEJCdyTuyCFn9Y69AKezLdojZp5jZrpheumvQProNGPx90G06JMGl8w\n",
       "7FmkZ+AMMDDuVJrSs6np4ROhOphxqeMUFRFRCS+rKS2Q68ecLvg7b4xkdO2N/3Zy25gnOWmtrp46\n",
       "y2knPNs2CcI1X7z7fbFVOCX3b6uQakn76SfwEansf0r/TAhidACtBTI03zv8PzckZXUwhgI6cvIx\n",
       "B5dWlNhIBrZT7yR2gxW3U3VzMGNkJRBFYb+gLO2NmTXHMlZ2vp+tKEHgzVdhhAGPzegOd0gZ2Ped\n",
       "NifN9HDUHkjuPdJJiZvnKKS6fM78op/2t3VOz5M3N6F9iKJt+5ti6Hvpp6AJ65fIA2Kq/LH3UG7i\n",
       "GBAnBm6aO+RDhBk7+1y7z/9+bG8Dwe0kFkNOgEAm1mKDpPZLSxGMGUtUyoZvouBtOdg5AZ4guj+w\n",
       "NX4l7gm0SqHl02UikUbRdg8XaTy+LLlKjPpLPTNHAkyKyY9xa8vc2UjB0QAAAJJBnw5FFSw7/wAA\n",
       "CQR/8BaWwGY3gRDgyO8poxhqppTZdCPMP4VV7LIfSCJUOlRM06mIsqxKKg+Lh1vWyXD1uFWqD10P\n",
       "ErUTyVWqE0iMUXCVCn2nUEnyRXSceDGx/gsnV0OIdABAIubVYkVND81Y0cId+h799hB5FCY8L2wW\n",
       "svDI6SYch8Lak+DIAM4hNwocHO5TuQAAAGoBny10Q38AAAMAABazzuQAhS+JVefOchqpAXvwFkoz\n",
       "6Pw4o0jVvKzI3aMLvTGAhj5kgblsbC2UpSVwIvbMnEr2uKHxzGvIepFEswdi0iyLLPeJ0glsPlN7\n",
       "LC/SBa2wBh6RWHJZaIU2NEGjAAAAZgGfL2pDfwAADOF13nHG00Ybf525HoACG6yAJJilsFWUiZlj\n",
       "ybI7SeIfMk/zwgp9U4d7puxOYZ1trLypXEhM4TrzBqJceSurBHr3GJshYDMWAEb+OPd7xPr/7AFp\n",
       "P7ADqFCssi0ngAAAAadBmzRJqEFsmUwII//+tSqAAAJg7mMABbE0Yto6dP7a+QvCC6+xnNfbr5Jg\n",
       "tPlGwyTvwy4vVPjM/Jw9nW8fjpHIQSjYDzFtHEyJfsGiJZWYAuVFZlE4Y9DFYNn8lF7ExU7Co+BO\n",
       "6Z9KRSQfJuBRZyod/gADkDk06otxZHvqkj7yftf9Jzm7n0GtsUMjxX2gUxiE0ewfVrXTbnjETTs9\n",
       "XLYco/eT3xn/6GlTNxFGOgYGVptry0i4KTQZA3DfEe8v4yG+8PujDwnmlSTaESoQK+FVEFwOnV7a\n",
       "AK/le5nz/w/p6IEtpU58+lRM5VEuOFsZvkheorUmsfVhxAdIuZLBlkHotTDbu0dQSgMDhsvp2/+h\n",
       "yu6p6YlP6GGZFjT58dNybIH32oROkDZKDyJmedSgYNSv9m1a5geS+VfllD90nQ1Kl1NpcSsI6HCV\n",
       "NVBMDFFlUwF9gNipv5ex6mRut2Y3NGno6xdz+Gt0qwc8WSxOeb9I1cenp+G40ZQJ1Nwl5c9nJ2hf\n",
       "DJk2C7xoe/hNLOe7An/S9vqJ3TuKS7IjiMCJg+HtlHGgr1ZPpzAAAACSQZ9SRRUsO/8AAAkDk/Ot\n",
       "uppG5IycfABNAmc29NWVn4sZ/ff/8JSDYSHQNLrDIZtSEhpY+cfxu4EChhvoOdExJPRbX5RYHmtH\n",
       "YTCOsd//pwzNjLSZEcjOKb8ofYAdJ3HF1X/GBite6eBXvD9Lfg9KgcbVWU/1qf7sxLkTsMFBmWyE\n",
       "ufhfPI1RcSwpWyE7ZHR+HSkAAACAAZ9xdEN/AAAM31fRVRJuLOwRACFPZDQo9Ikdu71e6sk8CPV/\n",
       "mGDPSeETgm/H/Rwjk+51gWM7YaMAZbwEZdWZ3MojCUr1Q+HemFssFbSzesh7n5NrYLzmJpax09Uf\n",
       "Nrq7vs2szmKr/xzlSqOzx1rv6ekz7t5aupBDN40aW3CG1kgAAABfAZ9zakN/AAADAUd6DiioPtyA\n",
       "BEF8SqxebYEDn+Q7DHcErVId1EiKMoJicYTJMjMcmBVNzijwkKd2C0tC8aQXM1C0l12a8VABhkW6\n",
       "ZU+8R2Nj5Qwr6KN7kFsbdhy+8xgAAAFDQZt4SahBbJlMCCP//rUqgAACYPFYQALVdGX+itwrR2CN\n",
       "vazz/AK6bt751c2imWGINQcUhBQ25OGIeeW8l1bmffAu6oia9ufCZSyBChNNSezp9NkR2mlSv4Qg\n",
       "wIE6g3FtsizVd8iRzKatvlv6V31AulkBF0WCKWolq8MTNJjLagF/Y4w3H22XJM5vNfFI7qjseFnX\n",
       "RV554PI0cEaMDrOSZMpLNs4tYy3wQIKJ8/WEqVuPff2K2X47lNYEViPYuhn+eKP72BwLbfYHQvCf\n",
       "aTcdLADVKVvml36moaKUIVZByyS3dHu6hYOUZnadZWQkse2uVyUTTAafr8hNh4TwMfqTHVKN42EQ\n",
       "e2ewWsSpD1J2M3dbr1EDV1Jl/VQkEtWu7VRpWm2N7r4VHF06TGw3jnXJRWzIf8KMvtYPWmZN+MLB\n",
       "nu0K23EAAAChQZ+WRRUsO/8AAAkEf/nVhWIP6V6ACIPdNcuykpUywHmDCevwtJzUbvHomdJ73ssl\n",
       "GE630l8pxniv+Y9QWDhypwXOH/pnNTcTYcISqnV+EzepQstTIpl47jmaAm2J/Xayip515rGq7BPV\n",
       "jdhs+mR6ZcocyhuXEVzMArZJMk18UdMdSTNV9Cuwz3aKC+tmdlNPYV9W7G3vJBKDZJg5i1qVAboA\n",
       "AAByAZ+1dEN/AAADAUc73Zjoi5AAiDXHdX5vV8WL803NgnAO5tslSGMflhA2PS/2xiVB3U0OTPSL\n",
       "DFpSLLyygmoZlqg+z4Um5OV8AxvpSMMOR3dXZ+wh1WRNAwueyazMtBaTqrm0y3GeqaqfDMNTW5qf\n",
       "opxBAAAAYAGft2pDfwAADOF17MC6U4VwAhS+I4l6o/GtZGywjPzLLtoHyXpnamJVPRReJrzjJiNc\n",
       "zmMLNAMGq5n4OQkch69qXO5tP9U8NAoUBvA6FFta+mLLplafW/+MbVX+Y50c8wAAAYlBm7xJqEFs\n",
       "mUwII//+tSqAAAJg96kMALhszJXXYjvN+K7r7GezZlGppBsG/AoxInWLi7MGRtgCt+eUp/Fwe+XB\n",
       "l3Y/DoFVtglsHToaW/Jm01cYEl/l46V3MvMHKTwCUlAgNskI8eTrr/ac1auIWt65AZDXC32NyyAd\n",
       "T4dJpxLeVKutYsEuJz70AFwoV/HECYVeHHRvnIzyh+heQkvBJE5ou8z7ElgdM1SIMGT+/FgPhlXY\n",
       "+kZ8grn9HimvJAinBAxc7zyCus2PyP/3YzHYRvnxu1GF2caIbyURNMxNkvjQIUdeko7YXu8EKU/s\n",
       "hNaQ/80qlZ1AxTjhtO7mBPWev54bJtk/V7Ktbo+hM6LeWGy+ls4MSBajqYvsB6XNOlZzRvuq6zU3\n",
       "Z/14clyxjeBszbtlt0e26BBn+Q1L2Q76sVqY7749SJV+ijk7R/4PLx/9br+amT/Bu7UAMm2F7GGo\n",
       "Ae3MVlSMDdBkqE0w6ZSchNsp0Eiv0YLHrmTId6Jwb37TEJtO+y4vXW+L8cAAAACaQZ/aRRUsO/8A\n",
       "AAkFKhpQIKx+4AJqjUsMtv1Xm7nOZmrx8YcVg2AnMQG+MynbNmApbEaej7wmV8RhqCYw3Gz+A/7T\n",
       "mFqIIG1FiNrC5MB3kv+OOpezTAr/OdJyu7BeaF94B7B5epqrP+6TMu8AEMIQEZx2hlLrD9HlVDpr\n",
       "UbpU4ERoE+S6lZfH82ISOgosuVFQXqCgoLrApkk2MQAAAFEBn/l0Q38AAAzfV8KBBZ0K4AQpfEV/\n",
       "z3KdBYzPCC2v/7l71M6TJq4CCldVaZeosSjkMeJyarbT/SBbgV0XGrOXl9xj4Gk9jAx3a4QX0cNq\n",
       "TMAAAACDAZ/7akN/AAAM4XXswLqaXACFPZJySo4OSeDyEyvvaDkphUkGz6DL4Q9CzpUvOvnAy3NQ\n",
       "Z1jbrAxUV6xyC2J0PfhZux0AcHSibS791vfv4N9lP785rVgUHF86TVTqGVBNOvtQ7c/fhdyPPqFA\n",
       "kPSC4ezl37FA7Bhfvo0U7MIvorVXGrEAAAEoQZv+SahBbJlMFEwR//61KoAAAlP1U7Y4DMyBgAdX\n",
       "ZhYUPhAjf/GxRvNnt+96gsNQrDiX8yQ+fY7JZ1i9u8WfCfqeKkp8awlEyep/oX6AXeSNHN8VfPOF\n",
       "9wXBxNdd3DPUtVlmu/GcNL6RiUlfF80dguYi0QWmZeAorV39q6DQS8g9xeFn9q/BUjX2kskbOjXH\n",
       "8IUSsS3tXCKgh7z+AeE7W+FQxeNY3hDtIJMRBWEMTS1lrHouS+rwufDVc88BW/tS446xnrwMczJ+\n",
       "jviKEinPrMLXYfkB52rO16lLD7LEIKsQYQAk4uyk8Lpsa+GU99QMuuy3X1hiryDUVQ3zEK60Kql/\n",
       "r2SXphHae/UC2GB6ZFr4x7776v7bCujR1DSIlkNjN+s8fIRIvOMAAABiAZ4dakN/AAAM4AXZgXMR\n",
       "yrFwAhFpFflMW2dFnsgOFrUKdssw4OfBeb2oqMCBhPpkLaG3n2uWpDN0VKQX/jIkS7VMtUSF3wg7\n",
       "JCboZa1Axp5f1xggG13AZ73KmOidKvEHXmAAAAE6QZoCSeEKUmUwII///rUqgAAHdfUkAJrWz+Bh\n",
       "YFEZ4Nze4a1XpmRQWASX3oqPGAgCStuV7Ks1xcoSle9vFzy9b7PG5GR/Z85I31JehKPc2WgEwGdL\n",
       "1v15C4n4iFiYVg1NUGNLUsnRsP78N6c8wA02LiigqNT97G8pONb6gK9utoc+YGj/p9HIMUUL47k9\n",
       "NB6uEpCXoA7B11NWnZTbLGQ02JsEeQQH0jKgTcVBvwPUGO6hxzILREzb68DTTQr/OB5WJgxqDmrQ\n",
       "s76CItmo1WM3blw4rvpPGok2oua2byF0j26sMWXkrwp1q9c2/CSHhfr6nfMIRvq94GcjHMo0hBCN\n",
       "fZ9EqEB739GT77jm++JoLRuiCXdiy9LTQq2u/rHGTLlegc2c+e4la/SXc3jTS96A43lB68CBFPMu\n",
       "iYQAAACOQZ4gRTRMO/8AAAlEDnBmBbC5QARB7pZShWuUuD03PtlxkprZOcWZyCPCSXDUZQ632TSQ\n",
       "l5tzG1pBL5vmXI6QPryIx4beWjJ6s3wvKv1xjypFAzpAjgKaH1AHAmTmJU08alnh8WLJ8GUcVBsv\n",
       "s6ZQ0/Ba0iAxFCo9uEcWvruzss173rfjv3MoB1DoTkWsWwAAAHUBnl90Q38AAAMAABa2PW4AQp7m\n",
       "gUXgDn//7fC6SLsLH2a3+wY9OutOsHYSLd0Oqa+e4Y6ofqablABZlD8dyHhQtt+UBrN7tSdnUE1Y\n",
       "O0k8COd11j3Ztz0EcVFJYOBbC4iaFpwiBcM6TFiXjXv8+YIs8TPni+4AAABpAZ5BakN/AAADA/jX\n",
       "vgVi8TMJLAqVgBEF8HU+uTz4WKE6lBhK+n3R0/bCdeiwDjWu8cUitKwz8FwKp27UwhY9xDXOOluS\n",
       "ZO4R4OswmiZRESOTrZ6iZzDEnww5G3x04haVvdHetsEUeW1tAAABaEGaRkmoQWiZTAgj//61KoAA\n",
       "AmBb04hYjxOuAAOPmcW1M5G9Bou7YAhmnf1gWrfPlDa8+m+gKiv8Ws2pgv0MizzXyRfvjoBo4q8W\n",
       "8ddCbtpWP0liBeEAy9dt8BIMphEEbwaGvsv8ZBHDWw671KY6DW5BnfDoFGBVJHwqxsDdfL4Fv70P\n",
       "83kNxn2yFhL8mCsKnh9MNyU/I+BlgjH9CYMPq+lq2Zzy21UqKvyvutT+u3vHyIyxpoWXzLxfBisa\n",
       "Oithezrq4YAnu0tqM0icJrjEgbSx92JV8zq1Co+9tECg/r2f1/7B3T1UV2/wIkENFDisYsWoSSyI\n",
       "V4nWi/B8c8nDmKkl3uQAS+BRiQ+xqwG6IapRhZ1lIJzGi5HBN3DbGzDFutbO97rPe1VptMrld+Dh\n",
       "OkHUKpAv1Inp5yrZ48tE3ySIq4iS0+VPRcZvhr170MubteiEdSEyfJ+8u+09OAJyQCeJesObK1Ex\n",
       "0gAAAKxBnmRFESw7/wAAAwLuYzSgzeJPgA/pDErNnrpVauYfK6S92krLE6/jGmmOOSwxXHjvbF6i\n",
       "FrkI2eicxD2evz2cgJ2/rtVk3bzPrg24VCSYGbWJUtaCpuN0sHrrTnCrG9usVQK1e7IKXD9NtWII\n",
       "N2XG5peXNLgJTonGJEPx7ars0v8k+4GKJD3YlgH0FjnuDGP/gYwplhz6SZBeuoN+zQWa4/hVNt/o\n",
       "27YDYwWBAAAAaAGeg3RDfwAAAwP4174FYvEzCSqh4oAQpfWCfpxPzW4esO5NjEuqX5g3ymKrJVrD\n",
       "tyK4rYPjTgeHsdj8rypQfIDhDb8Q9vodSLlfvO6PfbIznzSHmWVbCVxrjLEnmtc2URG5duU0n2O9\n",
       "AAAAhQGehWpDfwAAAwAAFsHyABEHshq8TTzk3d6ySXPgg7cgUi+dCXG01gMFjX0tUYTNnIIx/6Wz\n",
       "xIwzYfMQdVnsSYE/SfW3rVtKIB8kO/m716ZZ85Yi0pgforyy8Xg4Dw7h3o4phyuHejbq30uNgj5u\n",
       "iDbcvkM+TT7klFzN4fzoWRtjdFoexUUAAAEdQZqKSahBbJlMCCP//rUqgAACY31ljHOCqbWOSoix\n",
       "pCACA+n9LeTa7p/5vcZ2bZoUG7HgyfkTxpRfgqHGfLPZshv4HnaQwF48OkGEB2DNIT7qLgilMF0v\n",
       "0AQpPHo58EQOP0dosbkbSymBWg8C5U+XJe19uElc7nt0Fy+nQTP0WgAYtXE5NlfwJ47ito217VUI\n",
       "PLkn4AOOfxsd9KKjxFKAwyni2416U8JAjFz+OURQLuwGzLh7PbklY0IiU3iJMUdsbdTxf/z/khk7\n",
       "XFEWTG9930x7l20e4zbpHociAVBXMrq5R2/H94V/Snp5Ov2snOi+/fyXzdJnZZ5pLnHBRtAIM79w\n",
       "2MaPF2j1c/Txhu/3hbyUhFIscV+GrF6x+Ce3AAAAkkGeqEUVLDv/AAADAAAPnpVoAIg+Glc9cxnG\n",
       "150xuq81Zt9lMsr4lvrqMj268hhDvqTaW1Z2Iffll0dCUdz01gM5Rc3yF25r+ZIqNEvKY5KQ/mcd\n",
       "8PoAFp9eGNy05Ufdp6v8AM1LVSQ5FEaboySjqRBue0j77IIcokHY+TlYUGvwSkdTNkP1HOr17bWZ\n",
       "uFzjqqKnAAAAaQGex3RDfwAAAwAAFriuSADaqyptuoz5pai/D5GsfHZ3Y1zRZi/HMpErtRBwCtB1\n",
       "fsrW6V0n+uiCz6Aoy6ZGVK39G6Uy6LfjZtrrES/ciIaJDdU/U/otKJ2F+BiMp5AFG9CEhi4eO4/P\n",
       "gAAAAH0BnslqQ38AAAMAABbB8gARBrfSvhiUMczhu0X+EmdVQKqHJvy9Srw/AMh8WkQnjrxwecQq\n",
       "iVjAkgDprsO4yb8KFe3nEs7H/qatHFdhulxJM9zxTP/g2FRpHMYQukhXUc3KaKeR6+AKeIUlqq7G\n",
       "uG3TE+Phrv1BKADhDiJ6pwAAATVBms5JqEFsmUwII//+tSqAAAd1//QBLQqVqXQk0I4vm0pFfya4\n",
       "A/WinAHQhFbpKEY+6IyykSqvCIA6zND+gUd9R7FS5RmBJxwvrRCL8vzo+xZa8L+YTi2ApGxXiEll\n",
       "yEIFE0QkROsz8+ANGq1juZhwSK6dTRXE+INY82zVcYjLIzKyfAT87EhG9gbsCR8jGYv28J2KqPq0\n",
       "ICyrXjxuOpPfXlT0RntyvNsBp72ZCz7uabScjhmwDGnnZapWw1BSKI7PUUSfy8SUcoHCERkuIcBB\n",
       "2k6kJXHzo+TQkpTsKDrD7c+bAU5JCBf4nOoF+8CZB7SvXqSdKSWegQ5pGaL22pUFW/fhisuqM1zp\n",
       "uapgkkXL/afxQI2cCVZ21vLEloVjMoj+XjsSS9INfNQNpB3qkrWxj0fx47AAAABxQZ7sRRUsO/8A\n",
       "AB0tB650cqxGcDR+AC3q4e4ChbvXKVshWjeECDGbFJpsDX/2Si00HplDgJMrgNygilvDUMj+Q1B1\n",
       "lYvl2C0g3c2mKaNhbaw7zgeI58m5TdwrE1WsYF/CCnbRckl7qU2cYxiC5jEV/loAAABtAZ8LdEN/\n",
       "AAADAAAWs87kAIUvhNvetP44oY0thuef94bCJtj+ApMiCc64ceoVypeVB2yhQcp6Jltfeyn0/w8L\n",
       "vbVm37f7v8PKmOeSpSzaOacil4TrN0T+fWCOLar7b8QQ9hF5qCAHldRqxk3LgQAAAGMBnw1qQ38A\n",
       "AAMAABZx5FIAQnF5D//UkZ+3YUjyFegYZ7QwDQBslqwvt9ZFOsIompK7q9IQbysIxp/BTTwCyLNS\n",
       "X3RTGIYv04xG3m47JtZ0bk16gBTSXqwczIRu5ca6M4DTi0UAAAFIQZsSSahBbJlMCCP//rUqgAAA\n",
       "wW4KTwdDQAB1dmJicuypDGijZZp5jG+QVlyUlxfHEPBn/QfCqYpS9qN0i6bOYUNmkDeScRAOj4ac\n",
       "Cuz5kq7wwPcm15i4udrFCPRP/hLk9xk7i3q5oBXSbR5cyqFUGpqE8soAdo/u2DajOUilS1eJN6RQ\n",
       "NhVg+ngTrDqMkhhJcD5CHFu6sFtjYcYU63QkrjEl0Uy/vevV/CKOhsFeB+3wlmgCSX4/zMRYDKhT\n",
       "zotz+Yk0nqo3+hrdIrfMTb6f9/6EwPrgSl8hNict6chwY+DRuwBIeKbuy8SQSp84PD0lu/MR+9hq\n",
       "hmTEa4RkRHeuvyZaXT7SPlbGNBxwEMcQswY3YrTD1JtBa6gnqs9DLTeTmBoTGwL5ViOWkJjo0kyz\n",
       "dseuCyblmn/tPhrC2mey414oP5KwOKr+2wAAALlBnzBFFSw7/wAAHII02hMlTUAI9sw+fFLHv7WU\n",
       "+m1AejIHYfmzAr+LFvfn4C46+dio8Gc5RzSG52B8TecYys4I1bY3dUHrXCqnrcA6EYxiyUv96m+p\n",
       "jMvjLYyTwgZoYJx7cg17cU4ABiv9D1b2pexamk9oK+/uLiUewACFtr0cIFmdJBiNPTaqP0YNRpft\n",
       "JCrZo5LMVforB0gAmFK5pZEaroKe3T7bn8VfOVW3e0qQaCUlf+ijDQfeQAAAAIYBn090Q38AAAQV\n",
       "9dOJvBuzCgARB7zOHumEViLyeSjYikqiECPQOmtJ5GEYd1lcc6neNCGCGwjSBWIXuCL1JAVgbd/C\n",
       "HtOyXoDPGVhwF3Nn9F3SnLhP/p5UF+Q+JAr6nfD8CpVWJEOJUlrNmdTZLZndQ9ppuRdiRc/NUcpt\n",
       "VTZATImDzDXkEAAAAG4Bn1FqQ38AAAMD+KVNu9zvthU+LCR4ANquK1v90q1wcX7Es/qGt8dtSEu2\n",
       "8iolcpWggyWutj4VoSUXMMkXvXEoQxFKyqDxf3gHAmVqADYEe3E+0zqUFiNB0EZ/C7Kh4tiBGY3b\n",
       "qjEIM1SyfV2MzwAAAIZBm1ZJqEFsmUwII//+tSqAAADATVG4AcJg6kUN031vRxrwN1RI0LKd4Cap\n",
       "F1+LOhAC5U9tazBeXOJ1q+5SDaOQlxEd1muuYx9poX7SF26NB4pxHgKhx57ydCzEJh/X+sa48Ir+\n",
       "gjPpBKLs8/heIhj0H/kDbg9+yTyg21hThTpExeQtTp2XgAAAAHtBn3RFFSw7/wAAHII02hLxIEpw\n",
       "l7HyFT/QAbVVE6b4FtBmcoNtL50vKKvVo3uxmCPRdykdHkSymFR6/L3ryqFZzUQQBcuDK26JeOlu\n",
       "3GEtjnGVKYmB/ZGxTKl6EL8qNKKICLE9NsvvQO5MNfXSy2t37beykN/yxr77ncwAAABWAZ+TdEN/\n",
       "AAADA/enasppVNS4A+s6YAQokKhoux73KQ34KBV6PHyIWGmlw0m9cm+Eeu6HmLzl4uqiWYMryOpx\n",
       "IQgYsPMqCi+At6bgEiod+agXPAKkFfkAAABfAZ+VakN/AAADAGcLr2a1ZVgtAACIIt+veDmMYtqY\n",
       "O1ofAM+tor8ExHVPXCRz/+aYMMpJQc9Y59ArslWpDKrVqD7C87Rw/dEIGVhXKMtSm3A+Sv/X/zyH\n",
       "KvVzuci1VmkAAAC6QZuaSahBbJlMCCP//rUqgAAAAwAEAbwbgCMr0yZ9wyWMLb6Bm4auPDK/wo/D\n",
       "dvDx4WhsuYze7XZFYUk0B+sKvr2LjbqacHBcaODu1N9HDdUZlKhWqGq5C5H37iaMQXh/koDS3L60\n",
       "e/I4mIU7YLp2Ym7weorT5uiuBZnN4oG2tg51bRVpgCsq6x3ccuFbQKD/e9gjBkLpPrYuA175c2nX\n",
       "3Rtf536ulAcmGl+Csl3VjVVOSye9TAjmsKcfAAAAdEGfuEUVLDv/AAAcgjTUXEqrEZujwA5kAAIg\n",
       "8+Mskryu50N87gZiOqZYIzgdw2+bTtE6gCGiOWNR/nn85YIozhJg2gYyv/+L7S/E1n72A4xlVy4L\n",
       "a/nJAiNNf9pZCDCShTwhRant1+uQKRh2QhaLeXte+shBAAAAWQGf13RDfwAAAwBm+r4VBWSseFEe\n",
       "ADahgVhSBgBPjdD5boUgWpEXPr+3WK3wgryDtHfjrdTpAAru6XrxuczIa/EjvZA/CGmcpeiKt+6y\n",
       "pDfrBzHooYJW0XGAAAAAUwGf2WpDfwAAAwBnC69mtEKGSEABEHu91SEXLOUcvh7qXl9Y9jq7uTLw\n",
       "+4xp4AFKNv7ii0SNdFZMvsXoeiGWn5oJV0PilFeAHptFM1zc/V9C1GKBAAAAvEGb3kmoQWyZTAgj\n",
       "//61KoAAAAMABAG8G4Acb6Vli4yCs7deaSb4jCSqbdc8Q3js9SErEbXbNGihN0l7tZDNngfgIa4m\n",
       "9251bjkwBt2Seq+BjI8peUzXH3Km2sK0nil05EnIz0XFTt/PW79Ge1Wj11uZ/mZfeoHrBqs4XZdz\n",
       "92JtUaveEyvG1wpCem2/QVhoJtyWY6LOGXz203zLmPUPhuWbXMbE3QBtCeR0sjYVVO62Z6p+oqa+\n",
       "frgji7fAAAAAdUGf/EUVLDv/AAAcgjTUXEqrEZuh0IX9IANqtbJ5PZdvf3acXSfoByp8Ef5FrLEy\n",
       "tlsIGw/8cpr/6d88SNmi3iiqAvUbujKW13q9X4OoXMy/Viyt7gJ+OVpj/wbAp7bACLVcv1trlTpv\n",
       "VqFBhcID6HTvGaVSYQAAAGsBnht0Q38AAAMAZvq+FQXCmPCSAAiBIY/0yde/B+KtB25CHVXKWJdR\n",
       "J2IbJoWJUKOYTNGSdu9MgcxJrxZA0kasWJ4btAvlVIo96ImV/YvmB4cGPK68xk11eMwX/6HC8vM7\n",
       "OcmlGOdZyProkQAAAFEBnh1qQ38AAAMAZwuvZrNziqaUgBChqrsgE67CrQDi18iN7L9eSryQF+b0\n",
       "zvFYfg/jlH1/Jpp8iZchziSNfE08S5kRiUZbhMZwUou4LoTjjCgAAAD3QZoCSahBbJlMCCP//rUq\n",
       "gAAAAwAEAbwbgBxvkxPPH2g+xxWvXH48Xo8KJ66NLwbteBIKSelJPlZZWLkyyfwrdwn2/hknogBI\n",
       "5tkkQt+jhJ18iB4ePq17cUOrWG34ZzP4no9kS0GXHanz4jLeyCSm0clwf7nDk1V5IjIFS+sw+/QF\n",
       "DCNuyFWgxXx9+WDZaby1+og760GHIeEEUzMdWZYaezREK44S2XHZifT0d7MbXo4Bv79s5ls1pi3w\n",
       "ymEehqi0KcxXJHl1hQy+1wfOFTnzXC7CBLqOBJfEMDX8v3/wad76Hvxh7McDoSeBdd8YxfcZtyup\n",
       "s/C1IQAAAHxBniBFFSw7/wAAHII01FxKqxGcPi6BxgBCkYIRAamaF2bnfyIcGc2QE54MIx5b2Vnp\n",
       "0f1JXTFQsv0JAT4qbNovs5BD13T4JDv6cUm1+KSL1aPwZtAkznHGDSVQvP7HZZjwn3zY+5rQ4wqb\n",
       "GqbhjxTrvo5+Vpocx52MbE6dAAAAbwGeX3RDfwAAAwBm+r4U/XXDxIAQpFv2tF9y/cjJGLjy0tRV\n",
       "5vswuP5M2wXhbEgntKAkDHQP4pTcrmmewIH/IAR/vtk3g3otp9PQxwkL8YiY7aSiP02EpNZCgKxx\n",
       "QNAEoEIXbD1mVqWg5zF5YFGGQwAAAGUBnkFqQ38AAAMAZwuvZroYq8FEeADap2XfpdwjafC+g728\n",
       "ivMD/PeiYymwVUY4jda2HaWetSXJrRi+awtwB46ZqUFVfgenO5rL/r8iXZ2LcJRwdP78QxLRmNYq\n",
       "0WwdLaXouphOIQAAANxBmkZJqEFsmUwII//+tSqAAAd2BOEAHDsy460HgAJ71egvVU8MMfW36Nq6\n",
       "Wt+br80fJzJVMaB1a4cyoKyg2O5TYqOttZQozxYXFNc/aM59yGlsaAHLRwewVa+IVU4sGF7IHzET\n",
       "Fn/ds5LK8ac7L0uuzXI1Oi8Su7Llz22+BbDY9RZZ1A0XhcA3SSNHlbWmDoWoL2ngONs+9J2XC65B\n",
       "FkJCsTI3+vPJ8IJJ5+UCXeWEp/zNGjajDNy3TCiBQBF0dNtZjRxzRwdJmJuiZ5My+lMl+A5foUwR\n",
       "BgMJzknAAAAAgEGeZEUVLDv/AAAcgjTUXEqrEZw+zSDABzevl0uwYPo4DryJos4r7OC/3xIWkj7Y\n",
       "htoyATZLcLNj/Ony8ulviOy86uOZ6ylf7tZQH8yh2q9ZsqL0oxoj7Pz5Fuf9GpjIjmXO2ZgQS/A9\n",
       "sau2+U0qnoyw3cH3uAu1N5yzE5onZU/BAAAAXgGeg3RDfwAAAwBm+r4U/EHmSEABEHu940BRE33D\n",
       "40Bk49zqXAvDblnL4QhJ7KfdWag2eW46KfB/k0nyqxkYe3FdSvhdyHs/R+D43HFN0M8dvHEOl6CE\n",
       "k+hmM3svSIEAAABjAZ6FakN/AAADAGcLr2a6PNcxeADaepj9PpqHzcN/Sy+085NenZx/HHOAzGmx\n",
       "kvH1zuhLXoavv/18yxnE+ag/E5WU7Frmw9ZAB1LKiqGOFTPZqAj8fG0AZ2zln+/SH4MrJtohAAAA\n",
       "pkGaikmoQWyZTAgj//61KoAAAAMAA+b93QAQ/KtE7z9OqsOv7+cSTMMfjzshyVpDAOFJK/LwfKe6\n",
       "KLiBJc443lPBqq7fHkanXTs0bTFOJcdvWiguVyIT64SjV+xrnpDytOJGc5e/HUFn8Ehq7WlwScjC\n",
       "vOu4DPeYtmDzFosYmav+Tl5jPes8Wh1sM5BhpaQvJivhj8TM0vyK7ekk1k3mknVasvGw42EAAAB3\n",
       "QZ6oRRUsO/8AAByCNNRcSqsRkbCCAB2huhDKLGKS28Kjq7yKGButeLhIjhwiwLDRP/U920xtgL9l\n",
       "BVqvdH7/ytPdzASG+NN3fmZRZppNgWLgVBJKyAgJ8rum/NOZmf+zKQsSziCTN60ph2h5mKyhpP6R\n",
       "mg/QQpAAAABLAZ7HdEN/AAADAGb6vhT8VIGpACFEiA7GuX9Mhnapvvxd3TOl5CIbbtBRrvnF/Vln\n",
       "P+Io0kQ1VRUq7h7PTqnuuJxERqszXaUl7cAJAAAAWwGeyWpDfwAAAwBnC69mtWVYLQAAiCLftaUY\n",
       "dnotRMHbrrgGtbaK4eX6RZcOFVUcvlF4ny0HZXlr+ODbJ5esifhLeDIhJYsQ3xG2Wu3orpIv9Dme\n",
       "O4ChlyoG/YEAAADsQZrOSahBbJlMCCP//rUqgAACY/VTtOAFzxwcABb16Y9Vm/kfAt3rPbCMJ7Yf\n",
       "lCRL9e23EloZ3PP0rKzarxNETY+n92fh8tFlLjtSo1wWLc98mmo43DC7AOkWSInvUggRQb5Oke+U\n",
       "5/rL6ffubJaqrCKZTpHgpbszoMf+/7zT9JgULFcHP7tvx5ZY77BQGJI0Z8iY77Na22bq2vp3bV59\n",
       "lZ3/dS+BREBN1KC2JB+yQDTfN53Drzcj0+6P840ewa4pynpiCJbdHBaxmHFGAUHDfAXP83+GbqQR\n",
       "S0FFXSsEl1Jip38AQknGKnVeGiIAAACSQZ7sRRUsO/8AAByCNOiYh1kS/+SsOqdtHbsAG0iLR0Yr\n",
       "uqces7uf8oN8H9dH4/gO4qt7cLpBSW+UfJ9T/yMRdFGTQ8uewNjD/D92+YXMhu5Qg8iKuMjF9FJd\n",
       "YNLgxvwsfqtQs6u7jrAHy1SlqXIOp1LjK/WiwZ5ZIK8WEzDAGEepAK5SNMFlmO13Q9KW2qHF6DgA\n",
       "AACHAZ8LdEN/AAADAGb6vhUFZK+ePIQAbUbWP9HGbS/SY4HGYDdJZohS0e/GIe0z5AgAXqsXmp8h\n",
       "C2nEsVa8PCjXInXg1k+jMMWe9MXM7ObH7aFKv/NAGA2Paq5/nrrKmmhTp+LNgiExPDvfR0fPtuEw\n",
       "aAEsrfuIk3G6mWw7TD27wdJB9/Rz/TN5AAAAXQGfDWpDfwAAAwBnC69mtDZ1fyABD7XAJ7UcoUwg\n",
       "0zzLKrmh+kxLiJ16SkLdwIUY//dlyOhh83/VLOWtdvjLI7MwvqivVgnoUAkV/NYn51OrAOfTiLej\n",
       "kM9xruQRkQAAALxBmxJJqEFsmUwII//+tSqAAAADAAQBvBuAF1TNFD1X4PgDy7vwpJYUceCD+meo\n",
       "rummPGGksjPKVr+70zoBSDpSwPzcYMzFYoq+gj0aQLMCU0DVVuV/cePqvU+gyZTHbA368/F6qzFD\n",
       "sdfE8ZBdrPemW/iSnPzyMWQoYGyatPcoiNLm18b+ZaCWGz+Uog4A1MyeYX0M9aOtah3zgp8yadzz\n",
       "OWJ9jkpOrAM4g2nqSWRdIOQsb56YtUjexQZMoQAAAH5BnzBFFSw7/wAAHII01FxKqxGbofriAABE\n",
       "HWmSxsnwV+EkGiX0NGEhsmyGug+PZm7d3oFZiDTD3tfkF9xK1cooScOZmT+l+rx8jBWKH0Ti5+6I\n",
       "ChVbtApwICV5ho8jm6gHAAo0TxnmbhTRsYDgLG311RMYlR4VuG4ymybdTIQAAABGAZ9PdEN/AAAD\n",
       "AGb6vhUFY7A9BACEcOlpymUSrJA7zp+4ed+mTef4oNYUce5AdNSlQsrocLvwuZl659vpIExhQvJp\n",
       "GAAMDAAAAHkBn1FqQ38AAAMAZwuvZrYrIACIPebC6sDEEev3r44UDsg9ZaRrOrItKXD2xMwmlLkr\n",
       "CHJjnEXYd8pra2qh/m6UKXTk6z5YAm9RxNjtZu4EidTYuiyCIcLK9k3rfT+kia83bz5oaQTxJEem\n",
       "sA95gAQ/CjqMEey1BixxAAAAzkGbVkmoQWyZTAgj//61KoAAAAMABAEXg3ADjfSuqRQBPNCscXak\n",
       "XAqYKtbMmW9A8sFwF9DouQ9BoDDgKvI7RDELQ6686yNKXVzm5ZNT0Gl5Z+Jt6qNDp2Hc0HuCmqEW\n",
       "+IQjqHFY+7xy9dfxjbP0TFukYkYid0eNfObIsMPt5/Yn7YogiRf9/Xn2YuVwMkSauO+7TdQxxA73\n",
       "ggc2zn+8YK77cRDoCDs/H8MCrYRCf0omHKgPzGdTR8N6PjeSB/6TqdTUXpww0XeJyPwQEMhAAAAA\n",
       "dkGfdEUVLDv/AAAcgjTUXEqrEZuhtEsAARB8M84GLfFvNC3FrjQ/W9yMrD7BokCH+Ch7t7sDcrtQ\n",
       "gqf+/YuPI9dVbLJbV0MU7B67eVONUJZNKrsFmMgKvfH9uEN/Pyrj1nzQu/rZW/PYGa2jtg80w87O\n",
       "LrSO+ngAAABZAZ+TdEN/AAADAGb6vhUFwpKPwQAbQzpZDFbcUSROxHJM5hMIePnyQYyLkcB/XVR0\n",
       "WI80ipS2R09uBno7mSo4+Eo4hd8bFw8PiaEC835lMnx4jpAo2apjW+cAAACAAZ+VakN/AAADAGcL\n",
       "r2a1ZR0kgBCnvM31PN9MrLtA9Y8cOycr+MoEspj0dSsdLP78T8U8EuvMJsPlxfAOGLNU87uMFVE8\n",
       "zAWhpael2M/f++KP0O12baHU631TdTk6xcVd6iYETKrDsH3CadtL3fXddIKZUpkPin/HqzoEXPFk\n",
       "u+wAAADbQZuaSahBbJlMCCP//rUqgAAAAwAEAReDcALqvTJn11ipU2m3kOWRK0TcJEv1ummufuZv\n",
       "DA7AFeBkvWyPNhrEKvdjesEo266xlHjW8Ubltl/4u9QTJiD5sRcnz41en9f8Bk9ndsXZuGh4ry75\n",
       "GZVOGbrZsbxD1NX6se8T48PzdrbKYd60jkeZenR6u5VAtOfitl5TSxqcvTr3sWWvaZJnb0hKNx58\n",
       "jp3wn2ukt47Dk/ing161TAsUI1WYhYFgPIutAOEZwvv//fSXkaGkkOU47gGwV/6NqBuf4FxhAAAA\n",
       "aUGfuEUVLDv/AAAcgjTUXEqrEZw+s5BgBCnpwwNfTvKGiHKqlYm1Tdg8Z39KfGgDb1R/9e2r2G8Z\n",
       "3dE3PJnCWh/OYpPm89OhElExQZs8/nKguamkgTUFK1/+mL8te9vpTcvZVVss4O75/QAAAFoBn9d0\n",
       "Q38AAAMAZvq+FPxCBuLABtIoik9zyoxqEGmeZZVcUD8dRLh2W0zr0pd9C/5S8I2KYKuFMJ4lD8Xd\n",
       "0L1m0EvQJ6i6xnuHKyok2gz02lZU7JyAxct7S0AAAABqAZ/ZakN/AAADAGcLr2a6F4ZMMAIU93z1\n",
       "7uJ2d+bIDoE+hT3+qYuspbYlX0auyiKsSevqJUBTSVZjcFrABdOR9zCpX88RnUjlj7xKcE08Hvw0\n",
       "pJBy1jXkTAtlN3MaJ5FbtBhoqgFbqPhiDwAAALdBm95JqEFsmUwIIf/+qlUAAAMAAAfPgIvgATQh\n",
       "DJRheLVXHNFG4tBmbjLoO+yu55urVtn0ft9uSECmIbISnTsYhO2m/bgnDW8+3YiAlcEdCwAkfpQW\n",
       "fIuJaklfS/p3ul3BrgKg3pXCJrmVgPIQd0uJdmt+Yxkv7Mmp71mXddFTJp2TUpcXnwk3oBDp12XJ\n",
       "Dd6IgqHs6D8ofQerfNGzQj3ji5n9dZWeM5r/dLS4lO75XsXfE4nOzz8AAABvQZ/8RRUsO/8AAByC\n",
       "NNRcSqsRkWacgAvfkaGlgWtnyZaGqIIPXswS/9tRi7So7tumnb2OYK8ybEAJ6K72frpBDQd5CWP1\n",
       "TmONQ7qIZHFEtEmfbW7gV8YHvUjozxEJ4P1wyz6reiRizqxjwVMPicu5AAAAegGeG3RDfwAAAwBm\n",
       "+r4U/qAAAIg95kjtQhWIJK5AyW3lSzhXDMs86n9Q6Fm/ozQvyHKAkNvD/FmVVdqCmidKJnZcrz9g\n",
       "6qlKgfODJFMaI7tGnGZqxDciKE+KS9ZMB55tM8wHYf+Z6te0vqTEzR7pABkYANmEbWOlBZqBAAAA\n",
       "VgGeHWpDfwAAAwBnC69mtUd3kABEHoG1L0GErx08dpCgIB5Y6pcCtEW+DxNwtGlvwLn/5OmuK1Zu\n",
       "3YJTAZwEoAK3JMP1UJpn65WclHKP6fVWAYSrmg5YAAAAbkGaAkmoQWyZTAh3//6plgAABePcSlEA\n",
       "hnIlQAnb07Yw2Z+41H0F+f/biy8YClDMF9Mwc+RbIa8C4nIsv1Oqv7/TMoB83NspHckEsDhXRY2D\n",
       "5SqTdAl6ncoP3Yl6k/dX31rlusg4OowlKKMmIom1AAAAiUGeIEUVLDv/AAAcgjTaEvSPsznWovqg\n",
       "3T0AARB8NGAnHxv+Y9+iObOKrhns1tMEvWTlFIbrWBmThAq8lK+a8tIHQ1GhvlHw4df6r0pKDpom\n",
       "X+T1bl20vuoX22gOrMdVKUVde0eReb/Y4SGduj/OVCSBu0GXgLREq4u9usrQQrpsmzFaWZl+nvxR\n",
       "AAAAgwGeX3RDfwAABBX2PD9Em6IeZ0x+ADapFk7FzrSn10M7c+hLGAtXN0Zp9Ub2SuY8Z7szZqOO\n",
       "dz6sUbcrmFD3hy5/qAeXyZ3uzm7P2Kx5EQomdYaAJx4B9ZGPXzsNbzwGXjQGnSwIkm9Nx1AcCsxM\n",
       "Ki+FKSpc6H53VBE4L52yj7ILa/2YAAAARwGeQWpDfwAAAwBnC69ms3N+z5AAh6kQHq3ku+XJ6up9\n",
       "v848+xPrU96FrAIYWTpWgUFz12P+3Onu+URE5Crs8JCL/laUrsHBAAAAjEGaQ0moQWyZTAhv//6n\n",
       "hAAAAwAAPf8KQAEQRePdSgIGc153pRwItmM0eePohoCiVuVGrm7eeb4syncG5sXs8zcFlm+oLU8d\n",
       "Lzzcv37WfwjUWMB6JXmtW6HHq/89hdgDJjSqW+1sVpZC5W4azzpYL+sw94/xEAzWiG6rImKPS7AF\n",
       "FG24JXPpRrsLEg5AAAAH321vb3YAAABsbXZoZAAAAAAAAAAAAAAAAAAAA+gAACcQAAEAAAEAAAAA\n",
       "AAAAAAAAAAABAAAAAAAAAAAAAAAAAAAAAQAAAAAAAAAAAAAAAAAAQAAAAAAAAAAAAAAAAAAAAAAA\n",
       "AAAAAAAAAAAAAAAAAAIAAAcJdHJhawAAAFx0a2hkAAAAAwAAAAAAAAAAAAAAAQAAAAAAACcQAAAA\n",
       "AAAAAAAAAAAAAAAAAAABAAAAAAAAAAAAAAAAAAAAAQAAAAAAAAAAAAAAAAAAQAAAAALQAAABaAAA\n",
       "AAAAJGVkdHMAAAAcZWxzdAAAAAAAAAABAAAnEAAACAAAAQAAAAAGgW1kaWEAAAAgbWRoZAAAAAAA\n",
       "AAAAAAAAAAAAKAAAAZAAVcQAAAAAAC1oZGxyAAAAAAAAAAB2aWRlAAAAAAAAAAAAAAAAVmlkZW9I\n",
       "YW5kbGVyAAAABixtaW5mAAAAFHZtaGQAAAABAAAAAAAAAAAAAAAkZGluZgAAABxkcmVmAAAAAAAA\n",
       "AAEAAAAMdXJsIAAAAAEAAAXsc3RibAAAALRzdHNkAAAAAAAAAAEAAACkYXZjMQAAAAAAAAABAAAA\n",
       "AAAAAAAAAAAAAAAAAALQAWgASAAAAEgAAAAAAAAAAQAAAAAAAAAAAAAAAAAAAAAAAAAAAAAAAAAA\n",
       "AAAAAAAAABj//wAAADJhdmNDAWQAFv/hABlnZAAWrNlAtC/5YQAAAwABAAADABQPFi2WAQAGaOvj\n",
       "yyLAAAAAHHV1aWRraEDyXyRPxbo5pRvPAyPzAAAAAAAAABhzdHRzAAAAAAAAAAEAAABkAAAEAAAA\n",
       "ABRzdHNzAAAAAAAAAAEAAAABAAADMGN0dHMAAAAAAAAAZAAAAAEAAAgAAAAAAQAAFAAAAAABAAAI\n",
       "AAAAAAEAAAAAAAAAAQAABAAAAAABAAAUAAAAAAEAAAgAAAAAAQAAAAAAAAABAAAEAAAAAAEAABQA\n",
       "AAAAAQAACAAAAAABAAAAAAAAAAEAAAQAAAAAAQAAFAAAAAABAAAIAAAAAAEAAAAAAAAAAQAABAAA\n",
       "AAABAAAUAAAAAAEAAAgAAAAAAQAAAAAAAAABAAAEAAAAAAEAABQAAAAAAQAACAAAAAABAAAAAAAA\n",
       "AAEAAAQAAAAAAQAAFAAAAAABAAAIAAAAAAEAAAAAAAAAAQAABAAAAAABAAAMAAAAAAEAAAQAAAAA\n",
       "AQAAFAAAAAABAAAIAAAAAAEAAAAAAAAAAQAABAAAAAABAAAUAAAAAAEAAAgAAAAAAQAAAAAAAAAB\n",
       "AAAEAAAAAAEAABQAAAAAAQAACAAAAAABAAAAAAAAAAEAAAQAAAAAAQAAFAAAAAABAAAIAAAAAAEA\n",
       "AAAAAAAAAQAABAAAAAABAAAUAAAAAAEAAAgAAAAAAQAAAAAAAAABAAAEAAAAAAEAABQAAAAAAQAA\n",
       "CAAAAAABAAAAAAAAAAEAAAQAAAAAAQAAFAAAAAABAAAIAAAAAAEAAAAAAAAAAQAABAAAAAABAAAU\n",
       "AAAAAAEAAAgAAAAAAQAAAAAAAAABAAAEAAAAAAEAABQAAAAAAQAACAAAAAABAAAAAAAAAAEAAAQA\n",
       "AAAAAQAAFAAAAAABAAAIAAAAAAEAAAAAAAAAAQAABAAAAAABAAAUAAAAAAEAAAgAAAAAAQAAAAAA\n",
       "AAABAAAEAAAAAAEAABQAAAAAAQAACAAAAAABAAAAAAAAAAEAAAQAAAAAAQAAFAAAAAABAAAIAAAA\n",
       "AAEAAAAAAAAAAQAABAAAAAABAAAUAAAAAAEAAAgAAAAAAQAAAAAAAAABAAAEAAAAAAEAABQAAAAA\n",
       "AQAACAAAAAABAAAAAAAAAAEAAAQAAAAAAQAAFAAAAAABAAAIAAAAAAEAAAAAAAAAAQAABAAAAAAB\n",
       "AAAUAAAAAAEAAAgAAAAAAQAAAAAAAAABAAAEAAAAAAEAAAgAAAAAHHN0c2MAAAAAAAAAAQAAAAEA\n",
       "AABkAAAAAQAAAaRzdHN6AAAAAAAAAAAAAABkAAAQowAAAlgAAAFrAAABDwAAANkAAAI0AAABQAAA\n",
       "AMEAAACvAAABvwAAANEAAACAAAAAhgAAAbkAAACWAAAAbgAAAGoAAAGrAAAAlgAAAIQAAABjAAAB\n",
       "RwAAAKUAAAB2AAAAZAAAAY0AAACeAAAAVQAAAIcAAAEsAAAAZgAAAT4AAACSAAAAeQAAAG0AAAFs\n",
       "AAAAsAAAAGwAAACJAAABIQAAAJYAAABtAAAAgQAAATkAAAB1AAAAcQAAAGcAAAFMAAAAvQAAAIoA\n",
       "AAByAAAAigAAAH8AAABaAAAAYwAAAL4AAAB4AAAAXQAAAFcAAADAAAAAeQAAAG8AAABVAAAA+wAA\n",
       "AIAAAABzAAAAaQAAAOAAAACEAAAAYgAAAGcAAACqAAAAewAAAE8AAABfAAAA8AAAAJYAAACLAAAA\n",
       "YQAAAMAAAACCAAAASgAAAH0AAADSAAAAegAAAF0AAACEAAAA3wAAAG0AAABeAAAAbgAAALsAAABz\n",
       "AAAAfgAAAFoAAAByAAAAjQAAAIcAAABLAAAAkAAAABRzdGNvAAAAAAAAAAEAAAAsAAAAYnVkdGEA\n",
       "AABabWV0YQAAAAAAAAAhaGRscgAAAAAAAAAAbWRpcmFwcGwAAAAAAAAAAAAAAAAtaWxzdAAAACWp\n",
       "dG9vAAAAHWRhdGEAAAABAAAAAExhdmY1OC4yOS4xMDA=\n",
       "\">\n",
       "  Your browser does not support the video tag.\n",
       "</video>"
      ],
      "text/plain": [
       "<IPython.core.display.HTML object>"
      ]
     },
     "execution_count": 14,
     "metadata": {},
     "output_type": "execute_result"
    }
   ],
   "source": [
    "animateImageSeries(times, images, interval=100, hIntData=havgs, vIntData=vavgs, \n",
    "                   imshow_args={'cmap':'inferno'})"
   ]
  },
  {
   "cell_type": "markdown",
   "metadata": {
    "Collapsed": "false"
   },
   "source": [
    "#### with image blur"
   ]
  },
  {
   "cell_type": "code",
   "execution_count": 19,
   "metadata": {
    "Collapsed": "false"
   },
   "outputs": [
    {
     "name": "stdout",
     "output_type": "stream",
     "text": [
      "..........\n",
      "..........\n",
      "..........\n",
      "..........\n",
      "..........\n",
      "..........\n",
      "..........\n",
      "..........\n",
      "..........\n",
      "..........\n"
     ]
    }
   ],
   "source": [
    "blurHavg, blurVavg, blurredImages = [[] for _ in range(3)]\n",
    "for inc, im in enumerate(images):\n",
    "    print('.',end='\\n'if inc % 10 == 9 else '')\n",
    "    blurredImages.append(ndimage.gaussian_filter(im, sigma=0.3e-6/psize))\n",
    "    havg, vavg = ah.collapseImage(blurredImages[-1])\n",
    "    blurHavg.append(havg)\n",
    "    blurVavg.append(vavg)"
   ]
  },
  {
   "cell_type": "code",
   "execution_count": 21,
   "metadata": {
    "Collapsed": "false"
   },
   "outputs": [],
   "source": [
    "testIm = blurredImages[0]"
   ]
  },
  {
   "cell_type": "code",
   "execution_count": 26,
   "metadata": {
    "Collapsed": "false"
   },
   "outputs": [
    {
     "data": {
      "text/plain": [
       "66.66666666666667"
      ]
     },
     "execution_count": 26,
     "metadata": {},
     "output_type": "execute_result"
    }
   ],
   "source": [
    "1000/15"
   ]
  },
  {
   "cell_type": "code",
   "execution_count": 22,
   "metadata": {
    "Collapsed": "false"
   },
   "outputs": [
    {
     "data": {
      "text/plain": [
       "(1000, 1000)"
      ]
     },
     "execution_count": 22,
     "metadata": {},
     "output_type": "execute_result"
    }
   ],
   "source": [
    "testIm = np.reshape(testIm, (75,75,))"
   ]
  },
  {
   "cell_type": "code",
   "execution_count": 20,
   "metadata": {
    "Collapsed": "false"
   },
   "outputs": [
    {
     "data": {
      "text/plain": [
       "<matplotlib.image.AxesImage at 0x26c15f27630>"
      ]
     },
     "execution_count": 20,
     "metadata": {},
     "output_type": "execute_result"
    },
    {
     "data": {
      "image/png": "[encoded data removed]",
      "text/plain": [
       "<Figure size 720x720 with 1 Axes>"
      ]
     },
     "metadata": {
      "needs_background": "dark"
     },
     "output_type": "display_data"
    }
   ],
   "source": [
    "fig, ax = plt.subplots(figsize=(10,10))\n",
    "plt.imshow(blurredImages[0])"
   ]
  },
  {
   "cell_type": "code",
   "execution_count": null,
   "metadata": {
    "Collapsed": "false"
   },
   "outputs": [],
   "source": [
    "animateImageSeries(times, blurredImages, interval=100, hIntData=blurHavg, vIntData=blurVavg, \n",
    "                   imshow_args={'cmap':'inferno'})"
   ]
  },
  {
   "cell_type": "markdown",
   "metadata": {
    "Collapsed": "false"
   },
   "source": [
    "### 11 ground-state wide"
   ]
  },
  {
   "cell_type": "code",
   "execution_count": 30,
   "metadata": {
    "Collapsed": "false"
   },
   "outputs": [],
   "source": [
    "#ypts = xpts = np.linspace(-5e-6,5e-6,1000)\n",
    "ypts = np.linspace(-2e-6,2e-6,1000)\n",
    "xpts = np.linspace(-5e-6,5e-6,1000)\n",
    "X, Y = np.meshgrid(xpts,ypts)\n",
    "w0 = 39.4*np.sqrt(2)*1e-9\n",
    "numG = 11\n",
    "gaussArgs = [0]\n",
    "spacing = 4*w0\n",
    "for num in range(numG):\n",
    "    gaussArgs += [1, num*spacing - (numG-1)*spacing/2, 0, w0, w0]\n",
    "zpts = np.reshape(arb_2d_sum.f((X,Y), *gaussArgs),X.shape)\n",
    "res = fa.fft2D(zpts, xpts, ypts)\n",
    "kx = res['xFreq'] * 2 * np.pi\n",
    "ky = res['yFreq'] * 2 * np.pi\n",
    "times = np.linspace(0,3e-5,120)\n",
    "kMatrix = np.zeros(zpts.shape)\n",
    "for i, kx_ in enumerate(kx):\n",
    "    for j, ky_ in enumerate(ky):\n",
    "        kMatrix[i,j] = kx_**2+ky_**2`\n",
    "images, havgs, vavgs = [[] for _ in range(3)]\n",
    "for time in times:\n",
    "    print('.',end='\\n'if timei % 10 == 9 else '')\n",
    "    factorMatrix = np.exp(-1j*mc.hbar*kMatrix*time/(2*mc.Rb87_M))\n",
    "    propMomentumSpace = res['Field'] * factorMatrix\n",
    "    finWF = fa.ifft2D(propMomentumSpace, xpts, ypts)\n",
    "    images.append(abs(finWF['Field'])**2)\n",
    "    h_, v_ = ah.collapseImage(images[-1])\n",
    "    havgs.append(h_)\n",
    "    vavgs.append(v_)"
   ]
  },
  {
   "cell_type": "code",
   "execution_count": null,
   "metadata": {
    "Collapsed": "false"
   },
   "outputs": [],
   "source": [
    "animateImageSeries(images, hIntData=havgs, vIntData=vavgs, interval=100, extent=(min(xpts), max(xpts), min(ypts),max(ypts)))"
   ]
  },
  {
   "cell_type": "markdown",
   "metadata": {
    "Collapsed": "false"
   },
   "source": [
    "### 11 Ground-state Narrow"
   ]
  },
  {
   "cell_type": "code",
   "execution_count": 46,
   "metadata": {
    "Collapsed": "false"
   },
   "outputs": [
    {
     "name": "stdout",
     "output_type": "stream",
     "text": [
      "..........\n",
      "..........\n",
      "..........\n",
      "..........\n",
      "..........\n",
      "..........\n"
     ]
    }
   ],
   "source": [
    "#ypts = xpts = np.linspace(-5e-6,5e-6,1000)\n",
    "ypts = np.linspace(-1.5e-6,1.5e-6,1000)\n",
    "xpts = np.linspace(-7e-6,7e-6,1000)\n",
    "X, Y = np.meshgrid(xpts,ypts)\n",
    "w0 = 39.4*np.sqrt(2)*1e-9\n",
    "numG = 11\n",
    "gaussArgs = [0]\n",
    "spacing = 2*w0\n",
    "weakAxisModification=0.5\n",
    "for num in range(numG):\n",
    "    gaussArgs += [1, num*spacing - (numG-1)*spacing/2, 0, w0, w0*weakAxisModification]\n",
    "zpts = np.reshape(arb_2d_sum.f((X,Y), *gaussArgs),X.shape)\n",
    "res = fa.fft2D(zpts, xpts, ypts)\n",
    "kx = res['xFreq'] * 2 * np.pi\n",
    "ky = res['yFreq'] * 2 * np.pi\n",
    "times = np.linspace(0,1.5e-5,60)\n",
    "kMatrix = np.zeros(zpts.shape)\n",
    "for i, kx_ in enumerate(kx):\n",
    "    for j, ky_ in enumerate(ky):\n",
    "        kMatrix[i,j] = kx_**2+ky_**2\n",
    "images, havgs, vavgs = [[] for _ in range(3)]\n",
    "for timei, time in enumerate(times):\n",
    "    print('.',end='\\n'if timei % 10 == 9 else '')\n",
    "    factorMatrix = np.exp(-1j*mc.hbar*kMatrix*time/(2*mc.Rb87_M))\n",
    "    propMomentumSpace = res['Field'] * factorMatrix\n",
    "    finWF = fa.ifft2D(propMomentumSpace, xpts, ypts)\n",
    "    images.append(abs(finWF['Field'])**2)\n",
    "    h_, v_ = ah.collapseImage(images[-1])\n",
    "    havgs.append(h_)\n",
    "    vavgs.append(v_)"
   ]
  },
  {
   "cell_type": "code",
   "execution_count": null,
   "metadata": {
    "Collapsed": "false"
   },
   "outputs": [],
   "source": [
    "animateImageSeries(images, hIntData=havgs, vIntData=vavgs, interval=100, extent=(min(xpts), max(xpts), min(ypts),max(ypts)))"
   ]
  },
  {
   "cell_type": "code",
   "execution_count": null,
   "metadata": {
    "Collapsed": "false"
   },
   "outputs": [],
   "source": []
  }
 ],
 "metadata": {
  "kernelspec": {
   "display_name": "Python 3",
   "language": "python",
   "name": "python3"
  },
  "language_info": {
   "codemirror_mode": {
    "name": "ipython",
    "version": 3
   },
   "file_extension": ".py",
   "mimetype": "text/x-python",
   "name": "python",
   "nbconvert_exporter": "python",
   "pygments_lexer": "ipython3",
   "version": "3.7.3"
  }
 },
 "nbformat": 4,
 "nbformat_minor": 4
}

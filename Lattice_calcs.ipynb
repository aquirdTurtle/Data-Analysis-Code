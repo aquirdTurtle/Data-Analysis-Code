{
 "cells": [
  {
   "cell_type": "code",
   "execution_count": 1,
   "metadata": {},
   "outputs": [],
   "source": [
    "import numpy as np\n",
    "from matplotlib.pyplot import *\n",
    "import Analysis_Python_Files.MarksConstants as mc"
   ]
  },
  {
   "cell_type": "code",
   "execution_count": null,
   "metadata": {},
   "outputs": [],
   "source": []
  },
  {
   "cell_type": "code",
   "execution_count": null,
   "metadata": {},
   "outputs": [],
   "source": [
    "def powerFromFrequency(frequency, waist, lightWavelength, latticeWavelength):    \n",
    "    import numpy as np\n",
    "    ### constants\n",
    "    # in kg\n",
    "    mass = 1.443*10**(-25)\n",
    "    # in Hz\n",
    "    d1TransitionFrequency = 384.2*10**12\n",
    "    d2TransitionFrequency = 377.1*10**12\n",
    "    c = 2.998*10**8\n",
    "    # linewidth is equivalent to the \n",
    "    d1LineWidth = 36.1*10**6\n",
    "    d2LineWidth = 38.11*10**6\n",
    "    # from inputs & constants\n",
    "    detuningFromD1 = d1TransitionFrequency - c / lightWavelength\n",
    "    detuningFromD2 = d2TransitionFrequency - c / lightWavelength\n",
    "    # calculation\n",
    "    power = (((2*np.pi)**2 * mass * (waist**2) * (2*np.pi*frequency)**2*(latticeWavelength**2)) \n",
    "            / (8 * (c**2)* (2 * d2LineWidth/(d2TransitionFrequency**3*detuningFromD2) \n",
    "                                       + (d1LineWidth/(d1TransitionFrequency**3*detuningFromD1)))))\n",
    "    return power"
   ]
  },
  {
   "cell_type": "code",
   "execution_count": null,
   "metadata": {},
   "outputs": [],
   "source": [
    "def latticePotential():\n",
    "    coeff = (np.pi*c**2)/(2*omega_0**3)\n",
    "    Udip = coeff*((2+P*gF*mF)/Delta_2_F + (1-P*gF*mF)/Delta_1_F)*I\n",
    "    return"
   ]
  }
 ],
 "metadata": {
  "kernelspec": {
   "display_name": "Python 3",
   "language": "python",
   "name": "python3"
  },
  "language_info": {
   "codemirror_mode": {
    "name": "ipython",
    "version": 3
   },
   "file_extension": ".py",
   "mimetype": "text/x-python",
   "name": "python",
   "nbconvert_exporter": "python",
   "pygments_lexer": "ipython3",
   "version": "3.8.3"
  }
 },
 "nbformat": 4,
 "nbformat_minor": 4
}

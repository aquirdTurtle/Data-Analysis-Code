{
 "cells": [
  {
   "cell_type": "markdown",
   "metadata": {},
   "source": [
    "### creating a fit many gaussians to an image function"
   ]
  },
  {
   "cell_type": "markdown",
   "metadata": {},
   "source": [
    "Seperately fit amplitudes, locations, etc. to create a good guess and then do a total fit"
   ]
  },
  {
   "cell_type": "markdown",
   "metadata": {},
   "source": [
    "Maxima finding is based on the answer to this question:  \n",
    "https://stackoverflow.com/questions/9111711/get-coordinates-of-local-maxima-in-2d-array-above-certain-value"
   ]
  },
  {
   "cell_type": "code",
   "execution_count": 1,
   "metadata": {},
   "outputs": [],
   "source": [
    "import numpy as np\n",
    "import scipy\n",
    "import scipy.ndimage as ndimage\n",
    "import scipy.ndimage.filters as filters\n",
    "import matplotlib.pyplot as plt"
   ]
  },
  {
   "cell_type": "code",
   "execution_count": 5,
   "metadata": {},
   "outputs": [],
   "source": [
    "from fitters.Gaussian import arb_2d_sum"
   ]
  },
  {
   "cell_type": "code",
   "execution_count": 74,
   "metadata": {},
   "outputs": [],
   "source": [
    "from importlib import reload"
   ]
  },
  {
   "cell_type": "code",
   "execution_count": 75,
   "metadata": {},
   "outputs": [
    {
     "data": {
      "text/plain": [
       "<module 'fitters.Gaussian.arb_2d_sum' from 'C:\\\\Users\\\\Regal-Lab\\\\Code\\\\Data-Analysis-Code\\\\fitters\\\\Gaussian\\\\arb_2d_sum.py'>"
      ]
     },
     "execution_count": 75,
     "metadata": {},
     "output_type": "execute_result"
    }
   ],
   "source": [
    "reload(arb_2d_sum)"
   ]
  },
  {
   "cell_type": "code",
   "execution_count": 12,
   "metadata": {},
   "outputs": [],
   "source": [
    "from matplotlib.pyplot import *\n",
    "%matplotlib inline"
   ]
  },
  {
   "cell_type": "code",
   "execution_count": 235,
   "metadata": {},
   "outputs": [],
   "source": [
    "import scipy.optimize as opt"
   ]
  },
  {
   "cell_type": "code",
   "execution_count": 217,
   "metadata": {},
   "outputs": [],
   "source": [
    "def findImageMaxima(im, neighborhood_size=20, threshold=1):\n",
    "    data_max = filters.maximum_filter(im, neighborhood_size)\n",
    "    maxima = (im == data_max)\n",
    "    data_min = filters.minimum_filter(im, neighborhood_size)\n",
    "    diff = ((data_max - data_min) > threshold)\n",
    "    maxima[diff == 0] = 0\n",
    "    labeled, num_objects = ndimage.label(maxima)\n",
    "    slices = ndimage.find_objects(labeled)\n",
    "    x, y = [], []\n",
    "    for dy,dx in slices:\n",
    "        x_center = (dx.start + dx.stop - 1)/2\n",
    "        x.append(x_center)\n",
    "        y_center = (dy.start + dy.stop - 1)/2    \n",
    "        y.append(y_center)\n",
    "    print('Found ' + str(len(x)) + ' Maxima.')\n",
    "    return [p for p in zip([int(x_) for x_ in x],[int(y_) for y_ in y])]\n"
   ]
  },
  {
   "cell_type": "code",
   "execution_count": 245,
   "metadata": {},
   "outputs": [],
   "source": [
    "def fitManyGaussianImage(im, numGauss, neighborhood_size=20, threshold=1, direct=True, widthGuess=1):\n",
    "    \"\"\"\n",
    "    Maxima finding is based on the answer to this question:\n",
    "    https://stackoverflow.com/questions/9111711/get-coordinates-of-local-maxima-in-2d-array-above-certain-value\n",
    "    \"\"\"\n",
    "    maximaLocs = findImageMaxima(im, neighborhood_size=neighborhood_size, threshold=threshold)\n",
    "    if len(maximaLocs) != numGauss:\n",
    "        raise ValueError(\"ERROR: didn't find the right number of maxima!\")\n",
    "    guess = [min(im.flatten())]\n",
    "    for loc in maximaLocs:\n",
    "        guess += [im[loc[1],loc[0]], loc[0], loc[1], widthGuess, widthGuess]\n",
    "    xpts = np.arange(len(im[0]))\n",
    "    ypts = np.arange(len(im))\n",
    "    X,Y = np.meshgrid(xpts,ypts)\n",
    "    zpts = arb_2d_sum.f((X,Y), *guess).reshape(X.shape)\n",
    "    f, ax = subplots(1,5,figsize=(20,10))\n",
    "    ax[0].imshow(im)\n",
    "    ax[0].set_title('Orig')\n",
    "    ax[1].imshow(zpts)\n",
    "    ax[1].set_title('Guess')\n",
    "    ax[2].imshow(im-zpts)\n",
    "    ax[2].set_title('Guess-Diff')\n",
    "    optParam, optCov = opt.curve_fit(arb_2d_sum.f, (X,Y), im.flatten(), p0=guess)\n",
    "    zpts_fit = arb_2d_sum.f((X,Y), *optParam).reshape(X.shape)\n",
    "    ax[3].imshow(zpts_fit)\n",
    "    ax[3].set_title('Fit')\n",
    "    ax[4].imshow(im-zpts_fit)\n",
    "    ax[4].set_title('Fit-Diff')\n",
    "    return optParam"
   ]
  },
  {
   "cell_type": "code",
   "execution_count": 239,
   "metadata": {},
   "outputs": [
    {
     "name": "stdout",
     "output_type": "stream",
     "text": [
      "Found 9 Maxima.\n"
     ]
    },
    {
     "data": {
      "image/png": "[encoded data removed]",
      "text/plain": [
       "<Figure size 1440x720 with 5 Axes>"
      ]
     },
     "metadata": {},
     "output_type": "display_data"
    }
   ],
   "source": [
    "fitManyGaussianImage(zpts,9, widthGuess=3.0)"
   ]
  },
  {
   "cell_type": "code",
   "execution_count": null,
   "metadata": {},
   "outputs": [],
   "source": []
  }
 ],
 "metadata": {
  "kernelspec": {
   "display_name": "Python 3",
   "language": "python",
   "name": "python3"
  },
  "language_info": {
   "codemirror_mode": {
    "name": "ipython",
    "version": 3
   },
   "file_extension": ".py",
   "mimetype": "text/x-python",
   "name": "python",
   "nbconvert_exporter": "python",
   "pygments_lexer": "ipython3",
   "version": "3.6.6"
  }
 },
 "nbformat": 4,
 "nbformat_minor": 2
}

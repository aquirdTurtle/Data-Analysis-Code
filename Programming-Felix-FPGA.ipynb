{
 "cells": [
  {
   "cell_type": "code",
   "execution_count": 2,
   "metadata": {},
   "outputs": [],
   "source": [
    "import time\n",
    "import serial\n",
    "import random\n",
    "import math"
   ]
  },
  {
   "cell_type": "code",
   "execution_count": 3,
   "metadata": {},
   "outputs": [],
   "source": [
    "freqstartoffset = 512\n",
    "freqstopoffset = 1024\n",
    "gainoffset = 1536\n",
    "loadoffset = 2048\n",
    "moveoffset = 2560\n",
    "writeStart = bytearray([161,0,0,0,0,0,1])\n",
    "writeStop = bytearray([161,0,1,0,0,0,1])"
   ]
  },
  {
   "cell_type": "code",
   "execution_count": 4,
   "metadata": {},
   "outputs": [],
   "source": [
    "def getFTW(freq):\n",
    "    return int(round(freq*2**28/(800.0/3.0)))\n",
    "\n",
    "def writestartfreq(freq,channel):\n",
    "    addr = freqstartoffset + channel\n",
    "    FTW = getFTW(freq*2.0)\n",
    "      \n",
    "    addr_hi = int(math.floor(addr / 256))\n",
    "    addr_lo = addr - addr_hi * 256\n",
    "    \n",
    "    FTW3 = int(math.floor(FTW / 256 / 256 / 256))\n",
    "    FTW = FTW - FTW3 * 256 * 256 * 256\n",
    "    FTW2 = int(math.floor(FTW / 256 / 256))\n",
    "    FTW = FTW - FTW2 * 256 * 256\n",
    "    FTW1 = int(math.floor(FTW / 256))\n",
    "    FTW = FTW - FTW1 * 256\n",
    "    FTW0 = int(math.floor(FTW))\n",
    "    return bytearray([161,addr_hi, addr_lo,FTW3,FTW2,FTW1,FTW0])\n",
    "\n",
    "def writestopfreq(freq,channel):\n",
    "    addr = freqstopoffset + channel\n",
    "    FTW = getFTW(freq*2.0)\n",
    "    \n",
    "    addr_hi = int(math.floor(addr / 256))\n",
    "    addr_lo = addr - addr_hi * 256\n",
    "    \n",
    "    FTW3 = int(math.floor(FTW / 256 / 256 / 256))\n",
    "    FTW = FTW - FTW3 * 256 * 256 * 256\n",
    "    FTW2 = int(math.floor(FTW / 256 / 256))\n",
    "    FTW = FTW - FTW2 * 256 * 256\n",
    "    FTW1 = int(math.floor(FTW / 256))\n",
    "    FTW = FTW - FTW1 * 256\n",
    "    FTW0 = int(math.floor(FTW))\n",
    "    return bytearray([161,addr_hi, addr_lo,FTW3,FTW2,FTW1,FTW0])\n",
    "\n",
    "def writegain(gain,channel):\n",
    "    addr = gainoffset + channel\n",
    "    \n",
    "    addr_hi = int(math.floor(addr / 256.0))\n",
    "    addr_lo = addr - addr_hi * 256\n",
    "    \n",
    "    GW3, GW2 = 0, 0\n",
    "    GW1 = int(math.floor(gain / 256.0))\n",
    "    gain = gain - GW1 * 256\n",
    "    GW0 = int(math.floor(gain))\n",
    "    \n",
    "    return bytearray([161,addr_hi, addr_lo,GW3,GW2,GW1,GW0])\n",
    "\n",
    "def writeloadphase(phase,channel):\n",
    "    addr = loadoffset + channel\n",
    "    \n",
    "    addr_hi = int(math.floor(addr / 256.0))\n",
    "    addr_lo = addr - addr_hi * 256\n",
    "    \n",
    "    GW3, GW2 = 0, 0\n",
    "    GW1 = int(math.floor(phase / 256.0))\n",
    "    phase = phase - GW1 * 256\n",
    "    GW0 = int(math.floor(phase))\n",
    "    \n",
    "    return bytearray([161,addr_hi, addr_lo,GW3,GW2,GW1,GW0])\n",
    "\n",
    "def writemovephase(ser, phase,channel):\n",
    "    addr = moveoffset + channel\n",
    "    \n",
    "    addr_hi = int(math.floor(addr / 256.0))\n",
    "    addr_lo = addr - addr_hi * 256\n",
    "    \n",
    "    GW3 = 0\n",
    "    GW2 = 0\n",
    "    GW1 = int(math.floor(phase / 256.0))\n",
    "    phase = phase - GW1 * 256\n",
    "    GW0 = int(math.floor(phase))\n",
    "    \n",
    "    return bytearray([161,addr_hi, addr_lo,GW3,GW2,GW1,GW0])\n",
    "\n",
    "def writeOnOff(ser, onoff):\n",
    "    onoff3 = int(math.floor(onoff / 256 / 256 / 256))\n",
    "    onoff = onoff - onoff3 * 256 * 256 * 256\n",
    "    onoff2 = int(math.floor(onoff / 256 / 256))\n",
    "    onoff = onoff - onoff2 * 256 * 256\n",
    "    onoff1 = int(math.floor(onoff / 256))\n",
    "    onoff = onoff - onoff1 * 256\n",
    "    onoff0 = int(math.floor(onoff))\n",
    "    serWrite(ser, bytearray([161,0, 3,onoff3,onoff2,onoff1,onoff0]))"
   ]
  },
  {
   "cell_type": "code",
   "execution_count": 5,
   "metadata": {},
   "outputs": [],
   "source": [
    "def serWrite(serObj, msg):\n",
    "    print('.',end='')\n",
    "    if serObj.write(msg) != len(msg):\n",
    "        raise RuntimeError(\"Serial write failed! Didn't write all of msg!\")"
   ]
  },
  {
   "cell_type": "markdown",
   "metadata": {},
   "source": [
    "# Auxiliary Tweezer Control: Run Here"
   ]
  },
  {
   "cell_type": "markdown",
   "metadata": {},
   "source": [
    "### turn off"
   ]
  },
  {
   "cell_type": "code",
   "execution_count": 103,
   "metadata": {},
   "outputs": [
    {
     "name": "stdout",
     "output_type": "stream",
     "text": [
      "."
     ]
    }
   ],
   "source": [
    "with serial.Serial('COM3', 77700) as ser:\n",
    "    writeOnOff(ser, 0)"
   ]
  },
  {
   "cell_type": "markdown",
   "metadata": {},
   "source": [
    "### turn on"
   ]
  },
  {
   "cell_type": "code",
   "execution_count": 42,
   "metadata": {},
   "outputs": [
    {
     "name": "stdout",
     "output_type": "stream",
     "text": [
      "."
     ]
    }
   ],
   "source": [
    "with serial.Serial('COM3', 77700) as ser:\n",
    "    writeOnOff(ser, 1)"
   ]
  },
  {
   "cell_type": "markdown",
   "metadata": {},
   "source": [
    "### settings"
   ]
  },
  {
   "cell_type": "markdown",
   "metadata": {},
   "source": [
    "### 1 tone..."
   ]
  },
  {
   "cell_type": "code",
   "execution_count": 228,
   "metadata": {},
   "outputs": [
    {
     "name": "stdout",
     "output_type": "stream",
     "text": [
      "."
     ]
    }
   ],
   "source": [
    "with serial.Serial('COM3', 77700) as ser:\n",
    "    writeOnOff(ser, 0)"
   ]
  },
  {
   "cell_type": "code",
   "execution_count": 227,
   "metadata": {},
   "outputs": [
    {
     "name": "stdout",
     "output_type": "stream",
     "text": [
      "."
     ]
    }
   ],
   "source": [
    "with serial.Serial('COM3', 77700) as ser:\n",
    "    writeOnOff(ser, 2**2-1)"
   ]
  },
  {
   "cell_type": "code",
   "execution_count": 205,
   "metadata": {},
   "outputs": [],
   "source": [
    "freq = 90\n",
    "gain = 38000"
   ]
  },
  {
   "cell_type": "code",
   "execution_count": 206,
   "metadata": {},
   "outputs": [
    {
     "name": "stdout",
     "output_type": "stream",
     "text": [
      "serial port = COM3\n",
      "."
     ]
    }
   ],
   "source": [
    "with serial.Serial('COM3', 77700) as ser:\n",
    "    print ('serial port = ' + ser.name)\n",
    "    print('.', end='')\n",
    "    ser.write(writegain(gain,0))\n",
    "    ser.write(writestartfreq(freq,0))\n",
    "    ser.write(writestopfreq(freq,0))\n",
    "    ser.write(writeloadphase(0,0))\n",
    "    ser.write(writegain(gain,1))\n",
    "    ser.write(writestartfreq(freq,1))\n",
    "    ser.write(writestopfreq(2,1))\n",
    "    ser.write(writeloadphase(0,1))"
   ]
  },
  {
   "cell_type": "markdown",
   "metadata": {},
   "source": [
    "### 2 Tones"
   ]
  },
  {
   "cell_type": "code",
   "execution_count": 181,
   "metadata": {},
   "outputs": [
    {
     "name": "stdout",
     "output_type": "stream",
     "text": [
      "."
     ]
    }
   ],
   "source": [
    "with serial.Serial('COM3', 77700) as ser:\n",
    "    writeOnOff(ser, 0)"
   ]
  },
  {
   "cell_type": "code",
   "execution_count": 182,
   "metadata": {},
   "outputs": [
    {
     "name": "stdout",
     "output_type": "stream",
     "text": [
      "."
     ]
    }
   ],
   "source": [
    "with serial.Serial('COM3', 77700) as ser:\n",
    "    writeOnOff(ser, 2**2-1)"
   ]
  },
  {
   "cell_type": "code",
   "execution_count": 168,
   "metadata": {},
   "outputs": [],
   "source": [
    "freq = 90 - 0.5684288905435593\n",
    "f_s = 0.5684288905435593*2\n",
    "gain = 52000"
   ]
  },
  {
   "cell_type": "code",
   "execution_count": 169,
   "metadata": {},
   "outputs": [
    {
     "name": "stdout",
     "output_type": "stream",
     "text": [
      "serial port = COM3\n",
      ".."
     ]
    }
   ],
   "source": [
    "with serial.Serial('COM3', 77700) as ser:\n",
    "    print ('serial port = ' + ser.name)\n",
    "    for i in range(2):\n",
    "        print('.', end='')\n",
    "        ser.write(writegain(gain,i))\n",
    "        ser.write(writestartfreq(freq+i*f_s,i))\n",
    "        ser.write(writestopfreq(2,i))\n",
    "    for i, phase in enumerate(p_d):        \n",
    "        ser.write(writeloadphase(phase,i))"
   ]
  },
  {
   "cell_type": "code",
   "execution_count": 139,
   "metadata": {},
   "outputs": [
    {
     "name": "stdout",
     "output_type": "stream",
     "text": [
      "horFreqs [89.43157110945644, 90.56842889054356]\n",
      "horAmps [1. 1.]\n",
      "Hor-Phases: ['0.01523974781', '0.000000000']\n",
      "vertFreqs [89.43157110945644, 90.56842889054356]\n",
      "vertAmps [1. 1.]\n",
      "Vert-Phases: ['0.2631166088', '0.000000000']\n"
     ]
    }
   ],
   "source": [
    "ah.maximizeAomPerformance(90, 90, 0.5684288905435593*2, 2, 2);"
   ]
  },
  {
   "cell_type": "code",
   "execution_count": 166,
   "metadata": {},
   "outputs": [],
   "source": [
    "p = ['0.01523974781', '0.000000000']\n",
    "p = [float(x) for x in p]\n",
    "p_d = [get12BitPhase(x) for x in p]"
   ]
  },
  {
   "cell_type": "code",
   "execution_count": 167,
   "metadata": {},
   "outputs": [
    {
     "data": {
      "text/plain": [
       "[10, 0]"
      ]
     },
     "execution_count": 167,
     "metadata": {},
     "output_type": "execute_result"
    }
   ],
   "source": [
    "p_d"
   ]
  },
  {
   "cell_type": "markdown",
   "metadata": {},
   "source": [
    "### 5 tones"
   ]
  },
  {
   "cell_type": "code",
   "execution_count": 136,
   "metadata": {},
   "outputs": [
    {
     "name": "stdout",
     "output_type": "stream",
     "text": [
      "."
     ]
    }
   ],
   "source": [
    "with serial.Serial('COM3', 77700) as ser:\n",
    "    writeOnOff(ser, 0)"
   ]
  },
  {
   "cell_type": "code",
   "execution_count": 135,
   "metadata": {},
   "outputs": [
    {
     "name": "stdout",
     "output_type": "stream",
     "text": [
      "."
     ]
    }
   ],
   "source": [
    "with serial.Serial('COM3', 77700) as ser:\n",
    "    writeOnOff(ser, 2**5-1)"
   ]
  },
  {
   "cell_type": "code",
   "execution_count": 131,
   "metadata": {},
   "outputs": [],
   "source": [
    "freq = 90 - 4 * 0.5684288905435593\n",
    "f_s = 0.5684288905435593*2\n",
    "gain = 32000"
   ]
  },
  {
   "cell_type": "code",
   "execution_count": 133,
   "metadata": {},
   "outputs": [
    {
     "data": {
      "text/plain": [
       "23"
      ]
     },
     "execution_count": 133,
     "metadata": {},
     "output_type": "execute_result"
    }
   ],
   "source": [
    "-27+50"
   ]
  },
  {
   "cell_type": "code",
   "execution_count": 132,
   "metadata": {},
   "outputs": [
    {
     "name": "stdout",
     "output_type": "stream",
     "text": [
      "serial port = COM3\n",
      "....."
     ]
    }
   ],
   "source": [
    "with serial.Serial('COM3', 77700) as ser:\n",
    "    print ('serial port = ' + ser.name)\n",
    "    for i in range(5):\n",
    "        print('.', end='')\n",
    "        ser.write(writegain(gain,i))\n",
    "        ser.write(writestartfreq(freq+i*f_s,i))\n",
    "        ser.write(writestopfreq(2,i))\n",
    "    for i, phase in enumerate(p_d):        \n",
    "        ser.write(writeloadphase(phase,i))"
   ]
  },
  {
   "cell_type": "code",
   "execution_count": 121,
   "metadata": {},
   "outputs": [
    {
     "name": "stdout",
     "output_type": "stream",
     "text": [
      "horFreqs [87.72628443782577, 88.86314221891288, 90.0, 91.13685778108713, 92.27371556217425]\n",
      "horAmps [1. 1. 1. 1. 1.]\n",
      "Hor-Phases: ['0.2673006673', '0.3479054088', '2.237734896', '5.936527978', '0.000000000']\n",
      "vertFreqs [87.72628443782577, 88.86314221891288, 90.0, 91.13685778108713, 92.27371556217425]\n",
      "vertAmps [1. 1. 1. 1. 1.]\n",
      "Vert-Phases: ['0.5140596388', '0.4753336414', '2.245931902', '5.825411787', '0.000000000']\n"
     ]
    }
   ],
   "source": [
    "ah.maximizeAomPerformance(90, 90, 0.5684288905435593*2, 5, 5);"
   ]
  },
  {
   "cell_type": "code",
   "execution_count": 59,
   "metadata": {},
   "outputs": [],
   "source": [
    "import math as m\n",
    "import numpy as np"
   ]
  },
  {
   "cell_type": "code",
   "execution_count": 122,
   "metadata": {},
   "outputs": [],
   "source": [
    "p = ['0.2673006673', '0.3479054088', '2.237734896', '5.936527978', '0.000000000']\n",
    "p = [float(x) for x in p]\n",
    "p_d = [get12BitPhase(x) for x in p]"
   ]
  },
  {
   "cell_type": "code",
   "execution_count": 123,
   "metadata": {},
   "outputs": [
    {
     "data": {
      "text/plain": [
       "[174, 227, 1459, 3870, 0]"
      ]
     },
     "execution_count": 123,
     "metadata": {},
     "output_type": "execute_result"
    }
   ],
   "source": [
    "p_d"
   ]
  },
  {
   "cell_type": "markdown",
   "metadata": {},
   "source": [
    "### 10 tones"
   ]
  },
  {
   "cell_type": "code",
   "execution_count": 90,
   "metadata": {},
   "outputs": [
    {
     "name": "stdout",
     "output_type": "stream",
     "text": [
      "."
     ]
    }
   ],
   "source": [
    "with serial.Serial('COM3', 77700) as ser:\n",
    "    writeOnOff(ser, 2**10-1)"
   ]
  },
  {
   "cell_type": "code",
   "execution_count": 77,
   "metadata": {},
   "outputs": [],
   "source": [
    "freq = 85.5\n",
    "gain = 25000"
   ]
  },
  {
   "cell_type": "code",
   "execution_count": 78,
   "metadata": {},
   "outputs": [
    {
     "name": "stdout",
     "output_type": "stream",
     "text": [
      "serial port = COM3\n",
      ".........."
     ]
    }
   ],
   "source": [
    "with serial.Serial('COM3', 77700) as ser:\n",
    "    print ('serial port = ' + ser.name)\n",
    "    for i in range(10):\n",
    "        print('.', end='')\n",
    "        ser.write(writegain(gain,i))\n",
    "        ser.write(writestartfreq(freq+i,i))\n",
    "        ser.write(writestopfreq(2,i))\n",
    "    ser.write(writeloadphase(796 ,1))\n",
    "    ser.write(writeloadphase(53 ,2))\n",
    "    ser.write(writeloadphase(1566 ,3))\n",
    "    ser.write(writeloadphase(2223 ,4))\n",
    "    ser.write(writeloadphase(3090 ,5))\n",
    "    ser.write(writeloadphase(4075 ,6))\n",
    "    ser.write(writeloadphase(2879 ,7))\n",
    "    ser.write(writeloadphase(3480 ,8))\n",
    "    ser.write(writeloadphase(2258 ,9))\n",
    "    ser.write(writeloadphase(0 ,10))"
   ]
  },
  {
   "cell_type": "code",
   "execution_count": 66,
   "metadata": {},
   "outputs": [
    {
     "name": "stderr",
     "output_type": "stream",
     "text": [
      "C:\\ProgramData\\Anaconda3\\lib\\site-packages\\h5py\\__init__.py:34: FutureWarning: Conversion of the second argument of issubdtype from `float` to `np.floating` is deprecated. In future, it will be treated as `np.float64 == np.dtype(float).type`.\n",
      "  from ._conv import register_converters as _register_converters\n"
     ]
    }
   ],
   "source": [
    "import AnalysisHelpers as ah"
   ]
  },
  {
   "cell_type": "code",
   "execution_count": 68,
   "metadata": {},
   "outputs": [
    {
     "name": "stdout",
     "output_type": "stream",
     "text": [
      "horFreqs [85.5, 86.5, 87.5, 88.5, 89.5, 90.5, 91.5, 92.5, 93.5, 94.5]\n",
      "horAmps [1. 1. 1. 1. 1. 1. 1. 1. 1. 1.]\n",
      "Hor-Phases: ['1.221648960', '0.08121443370', '2.402351112', '3.409803034', '4.739306867', '6.251334488', '4.417023833', '5.337870099', '3.464335017', '0.000000000']\n",
      "vertFreqs [85.5, 86.5, 87.5, 88.5, 89.5, 90.5, 91.5, 92.5, 93.5, 94.5]\n",
      "vertAmps [1. 1. 1. 1. 1. 1. 1. 1. 1. 1.]\n",
      "Vert-Phases: ['1.638022210', '0.04944901896', '2.734469931', '2.875436793', '4.984842304', '6.079892693', '4.619504593', '5.473911521', '3.534497763', '0.000000000']\n"
     ]
    }
   ],
   "source": [
    "ah.maximizeAomPerformance(90, 90, 1, 10, 10);"
   ]
  },
  {
   "cell_type": "code",
   "execution_count": 50,
   "metadata": {},
   "outputs": [
    {
     "data": {
      "text/plain": [
       "4096"
      ]
     },
     "execution_count": 50,
     "metadata": {},
     "output_type": "execute_result"
    }
   ],
   "source": [
    "2**12"
   ]
  },
  {
   "cell_type": "code",
   "execution_count": 59,
   "metadata": {},
   "outputs": [],
   "source": [
    "import math as m\n",
    "import numpy as np"
   ]
  },
  {
   "cell_type": "code",
   "execution_count": 57,
   "metadata": {},
   "outputs": [],
   "source": [
    "def get12BitPhase(phase_radians):\n",
    "    \"\"\"\n",
    "    The fpga has 12 bit phase resolution. The number to send to the fpga is a\n",
    "    12 bit integer (0-4095) which is normalized to 2*pi.\n",
    "    This function converts a phase in radians to the 12-bit fpga units.\n",
    "    \n",
    "    phase_radians: the desired phase, in radians\n",
    "    return: the phase converted to the units to write directly to the fpga.\n",
    "    \"\"\"\n",
    "    return round((phase_radians / (2*np.pi)) * 2**12)\n",
    "    "
   ]
  },
  {
   "cell_type": "code",
   "execution_count": 74,
   "metadata": {},
   "outputs": [],
   "source": [
    "p = ['1.221648960', '0.08121443370', '2.402351112', '3.409803034', '4.739306867', \n",
    "     '6.251334488', '4.417023833', '5.337870099', '3.464335017', '0.000000000']\n",
    "p = [float(x) for x in p]\n",
    "p_d = [get12BitPhase(x) for x in p]"
   ]
  },
  {
   "cell_type": "code",
   "execution_count": 75,
   "metadata": {},
   "outputs": [
    {
     "data": {
      "text/plain": [
       "[796, 53, 1566, 2223, 3090, 4075, 2879, 3480, 2258, 0]"
      ]
     },
     "execution_count": 75,
     "metadata": {},
     "output_type": "execute_result"
    }
   ],
   "source": [
    "p_d"
   ]
  },
  {
   "cell_type": "markdown",
   "metadata": {},
   "source": [
    "## scrap"
   ]
  },
  {
   "cell_type": "code",
   "execution_count": null,
   "metadata": {},
   "outputs": [],
   "source": []
  }
 ],
 "metadata": {
  "kernelspec": {
   "display_name": "Python 3",
   "language": "python",
   "name": "python3"
  },
  "language_info": {
   "codemirror_mode": {
    "name": "ipython",
    "version": 3
   },
   "file_extension": ".py",
   "mimetype": "text/x-python",
   "name": "python",
   "nbconvert_exporter": "python",
   "pygments_lexer": "ipython3",
   "version": "3.6.3"
  }
 },
 "nbformat": 4,
 "nbformat_minor": 2
}

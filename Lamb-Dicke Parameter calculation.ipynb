{
 "cells": [
  {
   "cell_type": "markdown",
   "metadata": {},
   "source": [
    "# Lamb-Dicke Parameter Calculation"
   ]
  },
  {
   "cell_type": "code",
   "execution_count": 7,
   "metadata": {},
   "outputs": [],
   "source": [
    "import numpy as np\n",
    "import matplotlib.pyplot as plt\n",
    "import MarksConstants as mc"
   ]
  },
  {
   "cell_type": "markdown",
   "metadata": {},
   "source": [
    "$$\n",
    "\\eta = \\Delta k x_0\n",
    "$$\n",
    "\n",
    "with $x_0 = \\sqrt{\\hbar/2m\\omega}$, therefore\n",
    "\n",
    "$$\n",
    "\\eta = \\Delta k \\sqrt{\\frac{\\hbar}{2m \\omega}}\n",
    "$$\n"
   ]
  },
  {
   "cell_type": "code",
   "execution_count": 35,
   "metadata": {},
   "outputs": [],
   "source": [
    "def lambDickeParameter(trapFreq, deltakProjection):\n",
    "    wavenumber = 2*np.pi/780e-9\n",
    "    Deltak = wavenumber*deltakProjection\n",
    "    return Deltak * np.sqrt(mc.hbar/(2*mc.Rb87_M*2*np.pi*trapFreq))"
   ]
  },
  {
   "cell_type": "code",
   "execution_count": 36,
   "metadata": {},
   "outputs": [
    {
     "name": "stdout",
     "output_type": "stream",
     "text": [
      "0.1586044660703969 0.2321731650120952\n",
      "0.1663457673739349 0.2843528931233167\n"
     ]
    }
   ],
   "source": [
    "print(lambDickeParameter(150e3, 1), lambDickeParameter(35e3, 1/np.sqrt(2)))\n",
    "print(lambDickeParameter(150e3, 1)*np.sqrt(1.1), lambDickeParameter(35e3, 1/np.sqrt(2))*np.sqrt(1.5))"
   ]
  },
  {
   "cell_type": "markdown",
   "metadata": {},
   "source": [
    "### current geometry"
   ]
  },
  {
   "cell_type": "code",
   "execution_count": 40,
   "metadata": {},
   "outputs": [
    {
     "name": "stdout",
     "output_type": "stream",
     "text": [
      "Delta K Angle:  45.0\n",
      "0.2243005869696987 0.4290000703060808\n"
     ]
    }
   ],
   "source": [
    "kC = (1,1)\n",
    "theta_deg = np.arctan(kC[1]/kC[0])*180/np.pi\n",
    "print('Delta K Angle: ', theta_deg)\n",
    "deltaKfactor = np.linalg.norm(kComponents) * np.sin(theta_deg*np.pi/180)\n",
    "print(lambDickeParameter(150e3, np.sqrt(2)), lambDickeParameter(35e3, deltaKfactor))"
   ]
  },
  {
   "cell_type": "markdown",
   "metadata": {},
   "source": [
    "### sbc paper geometry"
   ]
  },
  {
   "cell_type": "code",
   "execution_count": 41,
   "metadata": {},
   "outputs": [
    {
     "name": "stdout",
     "output_type": "stream",
     "text": [
      "Delta K Angle:  22.5\n",
      "0.2243005869696987 0.23217316501209523\n"
     ]
    }
   ],
   "source": [
    "kC = (1+1/np.sqrt(2),(1/np.sqrt(2)))\n",
    "theta_deg = np.arctan(kC[1]/kC[0])*180/np.pi\n",
    "print('Delta K Angle: ', theta_deg)\n",
    "deltaKfactor = np.linalg.norm(kComponents) * np.sin(theta_deg*np.pi/180)\n",
    "print(lambDickeParameter(150e3, np.sqrt(2)), lambDickeParameter(35e3, deltaKfactor))"
   ]
  },
  {
   "cell_type": "markdown",
   "metadata": {},
   "source": [
    "$$\n",
    "\\eta_R = \\Delta k_R x_0\n",
    "$$\n",
    "$$\n",
    "\\eta_{OP} = k_{OP} x_0\n",
    "$$"
   ]
  },
  {
   "cell_type": "code",
   "execution_count": null,
   "metadata": {},
   "outputs": [],
   "source": []
  },
  {
   "cell_type": "code",
   "execution_count": null,
   "metadata": {},
   "outputs": [],
   "source": []
  }
 ],
 "metadata": {
  "kernelspec": {
   "display_name": "Python 3",
   "language": "python",
   "name": "python3"
  },
  "language_info": {
   "codemirror_mode": {
    "name": "ipython",
    "version": 3
   },
   "file_extension": ".py",
   "mimetype": "text/x-python",
   "name": "python",
   "nbconvert_exporter": "python",
   "pygments_lexer": "ipython3",
   "version": "3.6.10"
  }
 },
 "nbformat": 4,
 "nbformat_minor": 4
}

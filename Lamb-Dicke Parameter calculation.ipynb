{
 "cells": [
  {
   "cell_type": "markdown",
   "metadata": {},
   "source": [
    "# Lamb-Dicke Parameter calculation"
   ]
  },
  {
   "cell_type": "code",
   "execution_count": 1,
   "metadata": {},
   "outputs": [],
   "source": [
    "import matplotlib.pyplot as plt"
   ]
  },
  {
   "cell_type": "markdown",
   "metadata": {},
   "source": [
    "$$\n",
    "\\eta = \\Delta k x_0\n",
    "$$\n",
    "\n",
    "with $x_0 = \\sqrt{\\hbar/2m\\omega}$, therefore\n",
    "\n",
    "$$\n",
    "\\eta = \\Delta k \\sqrt{\\frac{\\hbar}{2m \\omega}}\n",
    "$$"
   ]
  },
  {
   "cell_type": "markdown",
   "metadata": {},
   "source": [
    "I need to calculate delta k for the top and axial transitions. "
   ]
  },
  {
   "cell_type": "code",
   "execution_count": 7,
   "metadata": {},
   "outputs": [],
   "source": [
    "import numpy as np\n",
    "import MarksConstants as mc"
   ]
  },
  {
   "cell_type": "code",
   "execution_count": 18,
   "metadata": {},
   "outputs": [],
   "source": [
    "def lambDickeParameter(trapFreq, deltakProjection):\n",
    "    wavenumber = 2*np.pi/780e-9\n",
    "    Deltak = np.sqrt(2)*wavenumber*deltakProjection\n",
    "    return Deltak * np.sqrt(mc.hbar/(2*mc.Rb87_M*2*np.pi*trapFreq))"
   ]
  },
  {
   "cell_type": "code",
   "execution_count": 19,
   "metadata": {},
   "outputs": [
    {
     "name": "stdout",
     "output_type": "stream",
     "text": [
      "0.2243005869696987 0.3283424387791916\n"
     ]
    }
   ],
   "source": [
    "print(lambDickeParameter(150e3, 1), lambDickeParameter(35e3, 1/np.sqrt(2)))"
   ]
  },
  {
   "cell_type": "code",
   "execution_count": 20,
   "metadata": {},
   "outputs": [
    {
     "name": "stdout",
     "output_type": "stream",
     "text": [
      "0.23524844026357863 0.4021357179550217\n"
     ]
    }
   ],
   "source": [
    "print(lambDickeParameter(150e3, 1)*np.sqrt(1.1), lambDickeParameter(35e3, 1/np.sqrt(2))*np.sqrt(1.5))"
   ]
  },
  {
   "cell_type": "code",
   "execution_count": null,
   "metadata": {},
   "outputs": [],
   "source": []
  },
  {
   "cell_type": "code",
   "execution_count": null,
   "metadata": {},
   "outputs": [],
   "source": []
  }
 ],
 "metadata": {
  "kernelspec": {
   "display_name": "Python 3",
   "language": "python",
   "name": "python3"
  },
  "language_info": {
   "codemirror_mode": {
    "name": "ipython",
    "version": 3
   },
   "file_extension": ".py",
   "mimetype": "text/x-python",
   "name": "python",
   "nbconvert_exporter": "python",
   "pygments_lexer": "ipython3",
   "version": "3.6.10"
  }
 },
 "nbformat": 4,
 "nbformat_minor": 4
}

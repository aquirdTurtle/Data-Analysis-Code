{
 "cells": [
  {
   "cell_type": "markdown",
   "metadata": {},
   "source": [
    "## Imports"
   ]
  },
  {
   "cell_type": "code",
   "execution_count": 12,
   "metadata": {},
   "outputs": [],
   "source": [
    "import matplotlib.pyplot as plt\n",
    "import matplotlib.image as mpimg\n",
    "import matplotlib.colors as colors\n",
    "from matplotlib.patches import Circle, PathPatch\n",
    "import scipy.integrate as integrate\n",
    "import numpy as np\n",
    "from scipy.optimize import curve_fit\n",
    "import cmath\n",
    "import csv\n",
    "from scipy.special import factorial "
   ]
  },
  {
   "cell_type": "markdown",
   "metadata": {
    "heading_collapsed": true
   },
   "source": [
    "## Mathematical Functions"
   ]
  },
  {
   "cell_type": "code",
   "execution_count": 113,
   "metadata": {
    "hidden": true
   },
   "outputs": [],
   "source": [
    "def getKnoll(n,m):\n",
    "    return (n*(n+2)+m)/2"
   ]
  },
  {
   "cell_type": "code",
   "execution_count": 114,
   "metadata": {
    "hidden": true
   },
   "outputs": [],
   "source": [
    "def fromNoll(j):\n",
    "    n = 0\n",
    "    m = 0\n",
    "    while (j > n):\n",
    "        n += 1\n",
    "        j -= n\n",
    "    m = -n+2*j\n",
    "    return n,m"
   ]
  },
  {
   "cell_type": "code",
   "execution_count": 118,
   "metadata": {
    "hidden": true
   },
   "outputs": [],
   "source": [
    "def toPolar(x,y):\n",
    "    r = np.sqrt(x**2+y**2)\n",
    "    phi = np.arctan2(y,x)\n",
    "    return r,phi"
   ]
  },
  {
   "cell_type": "code",
   "execution_count": 119,
   "metadata": {
    "hidden": true
   },
   "outputs": [],
   "source": [
    "def toCartesian(r,theta):\n",
    "    x = r*np.cos(theta)\n",
    "    y = r*np.sin(theta)\n",
    "    return x,y"
   ]
  },
  {
   "cell_type": "code",
   "execution_count": 120,
   "metadata": {
    "hidden": true
   },
   "outputs": [],
   "source": [
    "def zernikeTheta(m,theta):\n",
    "    if (m >= 0):\n",
    "        return np.cos(m*theta)\n",
    "    else:\n",
    "        return np.sin(-m*theta)"
   ]
  },
  {
   "cell_type": "code",
   "execution_count": 121,
   "metadata": {
    "hidden": true
   },
   "outputs": [],
   "source": [
    "def zernikeRadial(n,m,r):\n",
    "    m = abs(m)\n",
    "    if (m > n):\n",
    "        print('Error: n must be greater than or equal to n!')\n",
    "        return 0\n",
    "    if (((n-m)%2) > 0):\n",
    "        print('Error: (n - m) must be even!')\n",
    "        return 0\n",
    "    kArray = np.linspace(0,(n-m)/2,int((n-m)/2+1))\n",
    "    rArray = 0\n",
    "    i = 0\n",
    "    for k in kArray:\n",
    "        rArray=rArray+(r**(n-2*k))*((-1)**k)*factorial(n-k)/(factorial(k)*factorial((n+m)/2-k)*factorial((n-m)/2-k))\n",
    "        i = i+1\n",
    "    return rArray"
   ]
  },
  {
   "cell_type": "code",
   "execution_count": 122,
   "metadata": {
    "hidden": true
   },
   "outputs": [],
   "source": [
    "def normalization(n,m):\n",
    "    if (m == 0) :\n",
    "        a = 2*np.pi\n",
    "    else:\n",
    "        a = 1*np.pi\n",
    "    return np.sqrt((2*n+2)/a)"
   ]
  },
  {
   "cell_type": "code",
   "execution_count": 204,
   "metadata": {
    "hidden": true
   },
   "outputs": [],
   "source": [
    "def zernike(n,m,x,y):\n",
    "    if (m == 0) :\n",
    "        a = 2*np.pi\n",
    "    else:\n",
    "        a = 1*np.pi\n",
    "    r,theta = polar(x,y)\n",
    "    return zernikeTheta(m,theta)*zernikeRadial(n,m,r)*normalization(n,m)"
   ]
  },
  {
   "cell_type": "code",
   "execution_count": 205,
   "metadata": {
    "hidden": true
   },
   "outputs": [],
   "source": [
    "def zernikePolar(n,m,r,theta):\n",
    "    if (m == 0) :\n",
    "        a = 2*np.pi\n",
    "    else:\n",
    "        a = 1*np.pi\n",
    "    return zernikeTheta(m,theta)*zernikeRadial(n,m,r)*normalization(n,m)"
   ]
  },
  {
   "cell_type": "code",
   "execution_count": 125,
   "metadata": {
    "hidden": true
   },
   "outputs": [],
   "source": [
    "def zernikeFit(X,*param):\n",
    "    x,y = X\n",
    "    height = param[0]*zernike(fromNoll(0)[0],fromNoll(0)[1],x,y)\n",
    "    for k in range(1,41):\n",
    "        height += param[k]*zernike(fromNoll(k)[0],fromNoll(k)[1],x,y)\n",
    "    return height"
   ]
  },
  {
   "cell_type": "markdown",
   "metadata": {
    "heading_collapsed": true
   },
   "source": [
    "## Verifying Orthogonality"
   ]
  },
  {
   "cell_type": "code",
   "execution_count": 126,
   "metadata": {
    "hidden": true
   },
   "outputs": [
    {
     "name": "stdout",
     "output_type": "stream",
     "text": [
      "(-7.243814608430614e-17, 9.871058785287423e-09)\n",
      "0.5235987755982988\n"
     ]
    }
   ],
   "source": [
    "n = 5\n",
    "m = 1\n",
    "#def integrand(r,theta):\n",
    " #   return r*zernikePolar(n,m,r,theta)**2\n",
    "f = lambda theta, r: r*zernikePolar(4,0,r,theta)*zernikePolar(4,2,r,theta)\n",
    "print(integrate.dblquad(f, 0, 1, lambda r: 0, lambda r: 2*np.pi))\n",
    "print(np.pi/(2*2+2))"
   ]
  },
  {
   "cell_type": "markdown",
   "metadata": {
    "heading_collapsed": true
   },
   "source": [
    "## DM Lookup Table"
   ]
  },
  {
   "cell_type": "code",
   "execution_count": 127,
   "metadata": {
    "hidden": true
   },
   "outputs": [],
   "source": [
    "def DM_Array_Index(x1,y1,ratio,xcenter,ycenter):\n",
    "    y1 = -y1\n",
    "    rNew = polar(x1,y1)[0]*ratio\n",
    "    theta = polar(x1,y1)[1]\n",
    "    x2,y2 = cartesian(rNew,theta)\n",
    "    x3 = x2+xcenter\n",
    "    y3 = y2+ycenter\n",
    "    return int(x3),int(y3)"
   ]
  },
  {
   "cell_type": "code",
   "execution_count": 128,
   "metadata": {
    "hidden": true
   },
   "outputs": [],
   "source": [
    "def DM_Index_Array(index_X,index_Y,ratio,xcenter,ycenter):\n",
    "    x2 = index_X-xcenter\n",
    "    y2 = index_Y-ycenter\n",
    "    theta = polar(x2,y2)[1]\n",
    "    r = polar(x2,y2)[0]\n",
    "    rNew = r/ratio\n",
    "    x1,y1 = cartesian(rNew,theta)\n",
    "    return x1,-y1"
   ]
  },
  {
   "cell_type": "code",
   "execution_count": 129,
   "metadata": {
    "hidden": true
   },
   "outputs": [],
   "source": [
    "inc = 1.0/(3)\n",
    "def DM_Lookup(argument):\n",
    "    switcher = {\n",
    "        0: [-2*inc,6*inc],\n",
    "        1: [-1*inc,6*inc],\n",
    "        2: [0,6*inc],\n",
    "        3: [1*inc,6*inc],\n",
    "        4: [2*inc,6*inc],\n",
    "        5: [-4*inc,5*inc],\n",
    "        6: [-3*inc,5*inc],\n",
    "        7: [-2*inc,5*inc],\n",
    "        8: [-1*inc,5*inc],\n",
    "        9: [-0*inc,5*inc],\n",
    "        10: [1*inc,5*inc],\n",
    "        11: [2*inc,5*inc],\n",
    "        12: [3*inc,5*inc],\n",
    "        13: [4*inc,5*inc],\n",
    "        14: [-5*inc,4*inc],\n",
    "        15: [-4*inc,4*inc],\n",
    "        16: [-3*inc,4*inc],\n",
    "        17: [-2*inc,4*inc],\n",
    "        18: [-1*inc,4*inc],\n",
    "        19: [0,4*inc],\n",
    "        20: [1*inc,4*inc],\n",
    "        21: [2*inc,4*inc],\n",
    "        22: [3*inc,4*inc],\n",
    "        23: [4*inc,4*inc],\n",
    "        24: [5*inc,4*inc],\n",
    "        25: [-5*inc,3*inc],\n",
    "        26: [-4*inc,3*inc],\n",
    "        27: [-3*inc,3*inc],\n",
    "        28: [-2*inc,3*inc],\n",
    "        29: [-1*inc,3*inc],\n",
    "        30: [0,3*inc],\n",
    "        31: [1*inc,3*inc],\n",
    "        32: [2*inc,3*inc],\n",
    "        33: [3*inc,3*inc],\n",
    "        34: [4*inc,3*inc],\n",
    "        35: [5*inc,3*inc],\n",
    "        36: [-6*inc,2*inc],\n",
    "        37: [-5*inc,2*inc],\n",
    "        38: [-4*inc,2*inc],\n",
    "        39: [-3*inc,2*inc],\n",
    "        40: [-2*inc,2*inc],\n",
    "        41: [-1*inc,2*inc],\n",
    "        42: [0,2*inc],\n",
    "        43: [1*inc,2*inc],\n",
    "        44: [2*inc,2*inc],\n",
    "        45: [3*inc,2*inc],\n",
    "        46: [4*inc,2*inc],\n",
    "        47: [5*inc,2*inc],\n",
    "        48: [6*inc,2*inc],\n",
    "        49: [-6*inc,inc],\n",
    "        50: [-5*inc,inc],\n",
    "        51: [-4*inc,inc],\n",
    "        52: [-3*inc,inc],\n",
    "        53: [-2*inc,inc],\n",
    "        54: [-1*inc,inc],\n",
    "        55: [0,inc],\n",
    "        56: [1*inc,inc],\n",
    "        57: [2*inc,inc],\n",
    "        58: [3*inc,inc],\n",
    "        59: [4*inc,inc],\n",
    "        60: [5*inc,inc],\n",
    "        61: [6*inc,inc],\n",
    "        62: [-6*inc,0],\n",
    "        63: [-5*inc,0],\n",
    "        64: [-4*inc,0],\n",
    "        65: [-3*inc,0],\n",
    "        66: [-2*inc,0],\n",
    "        67: [-inc,0],\n",
    "        68: [0,0],\n",
    "        69: [inc,0],\n",
    "        70: [2*inc,0],\n",
    "        71: [3*inc,0],\n",
    "        72: [4*inc,0],\n",
    "        73: [5*inc,0],\n",
    "        74: [6*inc,0],\n",
    "        75: [-6*inc,-inc],\n",
    "        76: [-5*inc,-inc],\n",
    "        77: [-4*inc,-inc],\n",
    "        78: [-3*inc,-inc],\n",
    "        79: [-2*inc,-inc],\n",
    "        80: [-1*inc,-inc],\n",
    "        81: [0,-inc],\n",
    "        82: [inc,-inc],\n",
    "        83: [2*inc,-inc],\n",
    "        84: [3*inc,-inc],\n",
    "        85: [4*inc,-inc],\n",
    "        86: [5*inc,-inc],\n",
    "        87: [6*inc,-inc],\n",
    "        88: [-6*inc,-2*inc],\n",
    "        89: [-5*inc,-2*inc],\n",
    "        90: [-4*inc,-2*inc],\n",
    "        91: [-3*inc,-2*inc],\n",
    "        92: [-2*inc,-2*inc],\n",
    "        93: [-1*inc,-2*inc],\n",
    "        94: [0*inc,-2*inc],\n",
    "        95: [1*inc,-2*inc],\n",
    "        96: [2*inc,-2*inc],\n",
    "        97: [3*inc,-2*inc],\n",
    "        98: [4*inc,-2*inc],\n",
    "        99: [5*inc,-2*inc],\n",
    "        100: [6*inc,-2*inc],\n",
    "        101: [-5*inc,-3*inc],\n",
    "        102: [-4*inc,-3*inc],\n",
    "        103: [-3*inc,-3*inc],\n",
    "        104: [-2*inc,-3*inc],\n",
    "        105: [-1*inc,-3*inc],\n",
    "        106: [0,-3*inc],\n",
    "        107: [1*inc,-3*inc],\n",
    "        108: [2*inc,-3*inc],\n",
    "        109: [3*inc,-3*inc],\n",
    "        110: [4*inc,-3*inc],\n",
    "        111: [5*inc,-3*inc],\n",
    "        112: [-5*inc,-4*inc],\n",
    "        113: [-4*inc,-4*inc],\n",
    "        114: [-3*inc,-4*inc],\n",
    "        115: [-2*inc,-4*inc],\n",
    "        116: [-1*inc,-4*inc],\n",
    "        117: [0,-4*inc],\n",
    "        118: [1*inc,-4*inc],\n",
    "        119: [2*inc,-4*inc],\n",
    "        120: [3*inc,-4*inc],\n",
    "        121: [4*inc,-4*inc],\n",
    "        122: [5*inc,-4*inc],\n",
    "        123: [-4*inc,-5*inc],\n",
    "        124: [-3*inc,-5*inc],\n",
    "        125: [-2*inc,-5*inc],\n",
    "        126: [-1*inc,-5*inc],\n",
    "        127: [0,-5*inc],\n",
    "        128: [1*inc,-5*inc],\n",
    "        129: [2*inc,-5*inc],\n",
    "        130: [3*inc,-5*inc],\n",
    "        131: [4*inc,-5*inc],\n",
    "        132: [-2*inc,-6*inc],\n",
    "        133: [-1*inc,-6*inc],\n",
    "        134: [0,-6*inc],\n",
    "        135: [1*inc,-6*inc],\n",
    "        136: [2*inc,-6*inc]\n",
    "    }\n",
    "    return np.array(switcher.get(argument, \"Invalid Entry\"))"
   ]
  },
  {
   "cell_type": "code",
   "execution_count": 171,
   "metadata": {},
   "outputs": [],
   "source": [
    "from copy import copy"
   ]
  },
  {
   "cell_type": "code",
   "execution_count": 194,
   "metadata": {},
   "outputs": [],
   "source": [
    "def myDmLookup(pixNum, factor=1/3.0):\n",
    "    if not (0 <= pixNum <= 136):\n",
    "        raise ValueError('Invalid Pixel Number!')\n",
    "    rowOff = [4,2,1,1,0,0,0,0,0,1,1,2,4]\n",
    "    numInRow = []\n",
    "    yInit = 6\n",
    "    for rowOffset in rowOff:\n",
    "        numInRow.append((7-(rowOffset+1))*2+1)\n",
    "    #print(sum(numInRow)) = 137\n",
    "    centerOffset = -((arr(numInRow)-1)/2).astype(int)\n",
    "    pn = copy(pixNum)\n",
    "    for rowNum, num in enumerate(numInRow):\n",
    "        pn -= num\n",
    "        if pn < 0:\n",
    "            pn += num\n",
    "            return [factor*(centerOffset[rowNum]+pn), factor*(yInit-rowNum)]\n",
    "    raise ValueError('ERROR: Somehow made it to the end of the loop depsite passing the initial value range check...')"
   ]
  },
  {
   "cell_type": "code",
   "execution_count": 197,
   "metadata": {},
   "outputs": [
    {
     "name": "stdout",
     "output_type": "stream",
     "text": [
      "Perfect Match.\n"
     ]
    }
   ],
   "source": [
    "clean = True\n",
    "for x in range(137):\n",
    "    cDM = DM_Lookup(x)\n",
    "    mDM = myDmLookup(x)\n",
    "    if abs(cDM[0] - mDM[0] ) > 1e-9 or abs(cDM[1] - mDM[1] ) > 1e-9:\n",
    "        print('!',x,cDM,mDM)\n",
    "        clean = False\n",
    "if clean:\n",
    "    print('Perfect Match.')"
   ]
  },
  {
   "cell_type": "markdown",
   "metadata": {
    "heading_collapsed": true
   },
   "source": [
    "## Program Pure Zernike Polynomials"
   ]
  },
  {
   "cell_type": "code",
   "execution_count": 27,
   "metadata": {},
   "outputs": [],
   "source": [
    "import os"
   ]
  },
  {
   "cell_type": "code",
   "execution_count": 51,
   "metadata": {},
   "outputs": [],
   "source": [
    "def readZernikeFile(file):\n",
    "    valArray = []\n",
    "    with open(file) as f:\n",
    "        lines = f.readlines()\n",
    "        for l in lines:\n",
    "            valArray.append(float(l))\n",
    "    return valArray"
   ]
  },
  {
   "cell_type": "code",
   "execution_count": 56,
   "metadata": {},
   "outputs": [],
   "source": [
    "def writeZernikeFile(valArray, outFile):\n",
    "    # not sure if any need to do this slightly more convoluted writing, but just copying chris's method.\n",
    "    with open(outFile, 'w', newline='') as csvfile:\n",
    "        DM_Writer = csv.writer(csvfile, delimiter=' ', quotechar ='|', quoting=csv.QUOTE_MINIMAL)\n",
    "        for v in valArray:\n",
    "            DM_Writer.writerow([v])"
   ]
  },
  {
   "cell_type": "code",
   "execution_count": 198,
   "metadata": {},
   "outputs": [],
   "source": [
    "def createZernikeArray(amplitudes, baselineFile):\n",
    "    vals = []\n",
    "    inc = 1/3\n",
    "    flatVoltage = np.linspace(0, 136, 137)\n",
    "    newVoltage = np.linspace(0, 136, 137)\n",
    "    sign=0\n",
    "    with open(baselineFile, newline='') as csvfile:\n",
    "        DM_Reader = csv.reader(csvfile, delimiter=' ', quotechar='|', quoting=csv.QUOTE_NONNUMERIC)\n",
    "        for i, row in enumerate(DM_Reader):\n",
    "            flatVoltage[i]=row[0]\n",
    "    for i in range(0,137):\n",
    "        sign=0\n",
    "        weightFactor = 1#np.exp(2*(DM_Lookup(i)[0]**2+DM_Lookup(i)[1]**2))\n",
    "        x,y = myDmLookup(i)\n",
    "        if (x**2+y**2)>1:\n",
    "            weightFactor =0# 0.000001\n",
    "        for j, amp in enumerate(amplitudes):\n",
    "            m,n = fromNoll(j)\n",
    "            sign += amp*zernike(m,n,x,y)\n",
    "        volt = (-1 if sign <= 0 else 1)*sign**2*weightFactor+flatVoltage[i]\n",
    "        if not (0 < volt < 1):\n",
    "            print('Voltage out of range! Actuator: ', i,', Value:',volt)\n",
    "        vals.append(volt)\n",
    "    return vals"
   ]
  },
  {
   "cell_type": "code",
   "execution_count": 37,
   "metadata": {
    "hidden": true
   },
   "outputs": [],
   "source": [
    "def programPureZernike(amplitudes,file1,file2):\n",
    "    vals = []\n",
    "    inc = 1/3\n",
    "    flatVoltage = np.linspace(0, 136, 137)\n",
    "    newVoltage = np.linspace(0, 136, 137)\n",
    "    sign=0\n",
    "    with open(file1, newline='') as csvfile:\n",
    "        DM_Reader = csv.reader(csvfile, delimiter=' ', quotechar='|', quoting=csv.QUOTE_NONNUMERIC)\n",
    "        i = 0\n",
    "        for row in DM_Reader:\n",
    "            flatVoltage[i]=row[0]\n",
    "            i=i+1\n",
    "    try:\n",
    "        with open(file2, 'w', newline='') as csvfile:\n",
    "            DM_Writer = csv.writer(csvfile, delimiter=' ',\n",
    "                                   quotechar ='|', quoting=csv.QUOTE_MINIMAL)\n",
    "            for i in range(0,137):\n",
    "                sign=0\n",
    "                weightFactor = 1#np.exp(2*(DM_Lookup(i)[0]**2+DM_Lookup(i)[1]**2))\n",
    "                if (DM_Lookup(i)[0]**2+DM_Lookup(i)[1]**2)>1:\n",
    "                    weightFactor =0# 0.000001\n",
    "                for j in range(45):\n",
    "                    sign  += amplitudes[j]*zernike(fromNoll(j)[0],fromNoll(j)[1],DM_Lookup(i)[0],DM_Lookup(i)[1])\n",
    "                    #print(j,amplitudes[j],fromNoll(j)[0],fromNoll(j)[1])\n",
    "                negVolt = -sign**2*weightFactor+flatVoltage[i]\n",
    "                posVolt = sign**2*weightFactor+flatVoltage[i]\n",
    "\n",
    "                if (sign <= 0):\n",
    "                    if negVolt < 0:\n",
    "                        raise ValueError('Voltage too small')\n",
    "                    DM_Writer.writerow([negVolt])\n",
    "                    vals.append(negVolt)\n",
    "                    #if (negVolt < 0.0):\n",
    "                        #print(negVolt,i)\n",
    "                if (sign > 0):\n",
    "                    if posVolt > 1:\n",
    "                        raise ValueError('Voltage too large')\n",
    "                    DM_Writer.writerow([posVolt])\n",
    "                    vals.append(posVolt)\n",
    "                    #if (posVolt > 1.0):\n",
    "                        #print(posVolt,i)\n",
    "    except ValueError:\n",
    "            os.remove(file2)\n",
    "            raise ValueError(\"Voltage out of bounds of DM\")\n",
    "    return vals"
   ]
  },
  {
   "cell_type": "code",
   "execution_count": null,
   "metadata": {},
   "outputs": [],
   "source": []
  },
  {
   "cell_type": "code",
   "execution_count": 206,
   "metadata": {},
   "outputs": [],
   "source": [
    "vals_old = readZernikeFile('DM_Profiles/coma_test---.txt')"
   ]
  },
  {
   "cell_type": "code",
   "execution_count": 73,
   "metadata": {
    "hidden": true
   },
   "outputs": [],
   "source": [
    "inc = 1/3 # Defines Zernike Polynomial Radius, I found experimentally a radius of 3 as set here, gives the best result\n",
    "currentAmps = np.linspace(0,0,45) \n",
    "currentAmps[7] = 0.12   #Sets coma to have an amplitude of 0.17"
   ]
  },
  {
   "cell_type": "code",
   "execution_count": 199,
   "metadata": {
    "hidden": true
   },
   "outputs": [],
   "source": [
    "vals_old = programPureZernike(currentAmps,'DM_Profiles/25CW012#060_CLOSED_LOOP_COMMANDS.txt','DM_Profiles/coma_test.txt');"
   ]
  },
  {
   "cell_type": "code",
   "execution_count": 108,
   "metadata": {},
   "outputs": [],
   "source": [
    "vals_base = createZernikeArray(np.zeros(45), 'DM_Profiles/25CW012#060_CLOSED_LOOP_COMMANDS.txt')"
   ]
  },
  {
   "cell_type": "code",
   "execution_count": 207,
   "metadata": {},
   "outputs": [],
   "source": [
    "vals_new = createZernikeArray(currentAmps, 'DM_Profiles/25CW012#060_CLOSED_LOOP_COMMANDS.txt')"
   ]
  },
  {
   "cell_type": "code",
   "execution_count": 81,
   "metadata": {},
   "outputs": [],
   "source": [
    "writeZernikeFile(createZernikeArray(currentAmps, 'DM_Profiles/25CW012#060_CLOSED_LOOP_COMMANDS.txt'), \n",
    "                 'DM_Profiles/New_Coma.txt')"
   ]
  },
  {
   "cell_type": "code",
   "execution_count": 98,
   "metadata": {},
   "outputs": [],
   "source": [
    "vals_new = readZernikeFile('Dm_Profiles/New_Coma.txt')"
   ]
  },
  {
   "cell_type": "code",
   "execution_count": 208,
   "metadata": {},
   "outputs": [
    {
     "name": "stdout",
     "output_type": "stream",
     "text": [
      "Perfect Match.\n"
     ]
    }
   ],
   "source": [
    "clean = True\n",
    "for i, (vn, vo) in enumerate(zip (vals_old, vals_new)):\n",
    "    t = abs(vn - vo)\n",
    "    if t > 1e-9:\n",
    "        clean = False\n",
    "        print(i, vn, vo, t)\n",
    "if clean:\n",
    "    print('Perfect Match.')"
   ]
  },
  {
   "cell_type": "code",
   "execution_count": 202,
   "metadata": {},
   "outputs": [
    {
     "data": {
      "text/plain": [
       "<matplotlib.image.AxesImage at 0x168744cbe48>"
      ]
     },
     "execution_count": 202,
     "metadata": {},
     "output_type": "execute_result"
    },
    {
     "data": {
      "image/png": "[encoded data removed]",
      "text/plain": [
       "<Figure size 432x288 with 2 Axes>"
      ]
     },
     "metadata": {},
     "output_type": "display_data"
    }
   ],
   "source": [
    "f, ax = plt.subplots(1,2)\n",
    "ax[0].imshow(makeIm(vals_new))\n",
    "ax[1].imshow(makeIm(vals_new)-makeIm(vals_base))\n",
    "#colorbar()"
   ]
  },
  {
   "cell_type": "code",
   "execution_count": 35,
   "metadata": {},
   "outputs": [
    {
     "data": {
      "text/plain": [
       "3.0"
      ]
     },
     "execution_count": 35,
     "metadata": {},
     "output_type": "execute_result"
    }
   ],
   "source": [
    "singleIndex(2,-2)"
   ]
  },
  {
   "cell_type": "code",
   "execution_count": 108,
   "metadata": {},
   "outputs": [
    {
     "data": {
      "text/plain": [
       "7.0"
      ]
     },
     "execution_count": 108,
     "metadata": {},
     "output_type": "execute_result"
    }
   ],
   "source": [
    "singleIndex(3,-1)"
   ]
  },
  {
   "cell_type": "markdown",
   "metadata": {},
   "source": [
    "Scan1: "
   ]
  },
  {
   "cell_type": "code",
   "execution_count": 25,
   "metadata": {
    "hidden": true
   },
   "outputs": [
    {
     "name": "stdout",
     "output_type": "stream",
     "text": [
      "xxxxxxxxxxxxxxxxx.........................................................xxxxxxxxxxxxxxxx"
     ]
    }
   ],
   "source": [
    "for val in np.arange(-0.45, 0.45, 0.01):\n",
    "    \n",
    "    currentAmps = np.linspace(0,0,45) \n",
    "    currentAmps[5] = 0.1\n",
    "    currentAmps[3] = 0\n",
    "    currentAmps[8] = val\n",
    "    currentAmps[7] = 0.2\n",
    "    try:\n",
    "        programPureZernike(currentAmps,'C:/Users/Regal-Lab/Code/Data-Analysis-Code/DM_Profiles/27CW012#060_CLOSED_LOOP_COMMANDS.txt','DM_Profiles/Scan6_' + str(int(100*val)) + '.txt')\n",
    "        print('.',end='')\n",
    "    except ValueError:\n",
    "        print('x',end='')"
   ]
  },
  {
   "cell_type": "markdown",
   "metadata": {},
   "source": [
    "### mark's plots"
   ]
  },
  {
   "cell_type": "code",
   "execution_count": 105,
   "metadata": {},
   "outputs": [],
   "source": [
    "def makeIm(actuatorValueList):\n",
    "    pic = np.zeros((13,13))+0.5\n",
    "    rowOff = [4,2,1,1,0,0,0,0,0,1,1,2,4]\n",
    "    tc = 0\n",
    "    for i, rowO in enumerate(rowOff):\n",
    "        numInRow = (7-(rowO+1))*2+1\n",
    "        for j in range(numInRow):\n",
    "            pic[i][rowO+j] = actuatorValueList[tc]\n",
    "            tc += 1\n",
    "    return pic"
   ]
  },
  {
   "cell_type": "code",
   "execution_count": null,
   "metadata": {},
   "outputs": [],
   "source": [
    "def addComa(initVals, comaMag, comaAngle):\n",
    "    "
   ]
  },
  {
   "cell_type": "code",
   "execution_count": 85,
   "metadata": {},
   "outputs": [],
   "source": [
    "vals = createZernikeArray(currentAmps, 'DM_Profiles/25CW012#060_CLOSED_LOOP_COMMANDS.txt')"
   ]
  },
  {
   "cell_type": "code",
   "execution_count": 49,
   "metadata": {},
   "outputs": [],
   "source": [
    "import matplotlib.pyplot as plt\n",
    "%matplotlib inline"
   ]
  },
  {
   "cell_type": "code",
   "execution_count": 50,
   "metadata": {},
   "outputs": [
    {
     "ename": "NameError",
     "evalue": "name 'val' is not defined",
     "output_type": "error",
     "traceback": [
      "\u001b[1;31m---------------------------------------------------------------------------\u001b[0m",
      "\u001b[1;31mNameError\u001b[0m                                 Traceback (most recent call last)",
      "\u001b[1;32m<ipython-input-50-19029eef166c>\u001b[0m in \u001b[0;36m<module>\u001b[1;34m()\u001b[0m\n\u001b[0;32m      2\u001b[0m \u001b[1;31m#currentAmps[5] = 0.1\u001b[0m\u001b[1;33m\u001b[0m\u001b[1;33m\u001b[0m\u001b[1;33m\u001b[0m\u001b[0m\n\u001b[0;32m      3\u001b[0m \u001b[1;31m#currentAmps[3] = val\u001b[0m\u001b[1;33m\u001b[0m\u001b[1;33m\u001b[0m\u001b[1;33m\u001b[0m\u001b[0m\n\u001b[1;32m----> 4\u001b[1;33m \u001b[0mres0\u001b[0m \u001b[1;33m=\u001b[0m \u001b[0mprogramPureZernike\u001b[0m\u001b[1;33m(\u001b[0m\u001b[0mcurrentAmps\u001b[0m\u001b[1;33m,\u001b[0m\u001b[1;34m'C:/Users/Regal-Lab/Code/Data-Analysis-Code/DM_Profiles/25CW012#060_CLOSED_LOOP_COMMANDS.txt'\u001b[0m\u001b[1;33m,\u001b[0m\u001b[1;34m'DM_Profiles/x0x'\u001b[0m \u001b[1;33m+\u001b[0m \u001b[0mstr\u001b[0m\u001b[1;33m(\u001b[0m\u001b[0mint\u001b[0m\u001b[1;33m(\u001b[0m\u001b[1;36m100\u001b[0m\u001b[1;33m*\u001b[0m\u001b[0mval\u001b[0m\u001b[1;33m)\u001b[0m\u001b[1;33m)\u001b[0m \u001b[1;33m+\u001b[0m \u001b[1;34m'.txt'\u001b[0m\u001b[1;33m)\u001b[0m\u001b[1;33m\u001b[0m\u001b[1;33m\u001b[0m\u001b[0m\n\u001b[0m\u001b[0;32m      5\u001b[0m \u001b[0mcurrentAmps\u001b[0m \u001b[1;33m=\u001b[0m \u001b[0mnp\u001b[0m\u001b[1;33m.\u001b[0m\u001b[0mlinspace\u001b[0m\u001b[1;33m(\u001b[0m\u001b[1;36m0\u001b[0m\u001b[1;33m,\u001b[0m\u001b[1;36m0\u001b[0m\u001b[1;33m,\u001b[0m\u001b[1;36m45\u001b[0m\u001b[1;33m)\u001b[0m\u001b[1;33m\u001b[0m\u001b[1;33m\u001b[0m\u001b[0m\n\u001b[0;32m      6\u001b[0m \u001b[0mcurrentAmps\u001b[0m\u001b[1;33m[\u001b[0m\u001b[1;36m5\u001b[0m\u001b[1;33m]\u001b[0m \u001b[1;33m=\u001b[0m \u001b[1;36m0\u001b[0m\u001b[1;33m\u001b[0m\u001b[1;33m\u001b[0m\u001b[0m\n",
      "\u001b[1;31mNameError\u001b[0m: name 'val' is not defined"
     ]
    }
   ],
   "source": [
    "currentAmps = np.linspace(0,0,45) \n",
    "#currentAmps[5] = 0.1\n",
    "#currentAmps[3] = val\n",
    "res0 = programPureZernike(currentAmps,'C:/Users/Regal-Lab/Code/Data-Analysis-Code/DM_Profiles/25CW012#060_CLOSED_LOOP_COMMANDS.txt','DM_Profiles/x0x' + str(int(100*val)) + '.txt')\n",
    "currentAmps = np.linspace(0,0,45) \n",
    "currentAmps[5] = 0\n",
    "currentAmps[3] = 0\n",
    "currentAmps[8] = 0.3\n",
    "currentAmps[7] = 0.3\n",
    "res = programPureZernike(currentAmps,'C:/Users/Regal-Lab/Code/Data-Analysis-Code/DM_Profiles/25CW012#060_CLOSED_LOOP_COMMANDS.txt','DM_Profiles/xxx' + str(int(100*val)) + '.txt')"
   ]
  },
  {
   "cell_type": "code",
   "execution_count": 113,
   "metadata": {},
   "outputs": [
    {
     "data": {
      "text/plain": [
       "<matplotlib.colorbar.Colorbar at 0x1fd0fb87048>"
      ]
     },
     "execution_count": 113,
     "metadata": {},
     "output_type": "execute_result"
    },
    {
     "data": {
      "image/png": "[encoded data removed]",
      "text/plain": [
       "<Figure size 432x288 with 2 Axes>"
      ]
     },
     "metadata": {},
     "output_type": "display_data"
    }
   ],
   "source": [
    "plt.imshow(makeIm(res)-makeIm(res0))\n",
    "plt.colorbar()"
   ]
  },
  {
   "cell_type": "code",
   "execution_count": null,
   "metadata": {},
   "outputs": [],
   "source": []
  }
 ],
 "metadata": {
  "kernelspec": {
   "display_name": "Python 3",
   "language": "python",
   "name": "python3"
  },
  "language_info": {
   "codemirror_mode": {
    "name": "ipython",
    "version": 3
   },
   "file_extension": ".py",
   "mimetype": "text/x-python",
   "name": "python",
   "nbconvert_exporter": "python",
   "pygments_lexer": "ipython3",
   "version": "3.6.7"
  },
  "toc": {
   "nav_menu": {},
   "number_sections": true,
   "sideBar": true,
   "skip_h1_title": false,
   "toc_cell": false,
   "toc_position": {},
   "toc_section_display": "block",
   "toc_window_display": false
  }
 },
 "nbformat": 4,
 "nbformat_minor": 2
}

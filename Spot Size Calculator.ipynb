{
 "cells": [
  {
   "cell_type": "markdown",
   "metadata": {
    "run_control": {
     "frozen": false,
     "read_only": false
    }
   },
   "source": [
    "# Spot Size Calculator"
   ]
  },
  {
   "cell_type": "markdown",
   "metadata": {
    "hidden": true,
    "run_control": {
     "frozen": false,
     "read_only": false
    }
   },
   "source": [
    "Mark Brown  \n",
    "Notebook Base Version 1.2"
   ]
  },
  {
   "cell_type": "code",
   "execution_count": 3,
   "metadata": {
    "ExecuteTime": {
     "end_time": "2017-06-01T10:47:01.083367Z",
     "start_time": "2017-06-01T10:47:01.079859Z"
    },
    "hidden": true,
    "run_control": {
     "frozen": false,
     "read_only": false
    }
   },
   "outputs": [],
   "source": [
    "date = \"17????\""
   ]
  },
  {
   "cell_type": "markdown",
   "metadata": {
    "run_control": {
     "frozen": false,
     "read_only": false
    }
   },
   "source": [
    "# General Setup"
   ]
  },
  {
   "cell_type": "markdown",
   "metadata": {
    "heading_collapsed": true,
    "hidden": true,
    "run_control": {
     "frozen": false,
     "read_only": false
    }
   },
   "source": [
    "## Imports and Settings"
   ]
  },
  {
   "cell_type": "markdown",
   "metadata": {
    "heading_collapsed": true,
    "hidden": true,
    "run_control": {
     "frozen": false,
     "read_only": false
    }
   },
   "source": [
    "### Miscellaneous Imports"
   ]
  },
  {
   "cell_type": "code",
   "execution_count": 4,
   "metadata": {
    "ExecuteTime": {
     "end_time": "2017-06-01T10:47:07.364377Z",
     "start_time": "2017-06-01T10:47:01.163588Z"
    },
    "collapsed": true,
    "hidden": true,
    "jupyter": {
     "outputs_hidden": true
    },
    "run_control": {
     "frozen": false,
     "read_only": false
    }
   },
   "outputs": [],
   "source": [
    "import numpy as np\n",
    "from numpy import array as arr\n",
    "import pandas as pd\n",
    "import collections\n",
    "import math as m\n",
    "from mpl_toolkits.mplot3d import axes3d\n",
    "from astropy.io import fits"
   ]
  },
  {
   "cell_type": "markdown",
   "metadata": {
    "heading_collapsed": true,
    "hidden": true,
    "run_control": {
     "frozen": false,
     "read_only": false
    }
   },
   "source": [
    "### Scipy"
   ]
  },
  {
   "cell_type": "code",
   "execution_count": 5,
   "metadata": {
    "ExecuteTime": {
     "end_time": "2017-06-01T10:47:07.766526Z",
     "start_time": "2017-06-01T10:47:07.366294Z"
    },
    "collapsed": true,
    "hidden": true,
    "jupyter": {
     "outputs_hidden": true
    },
    "run_control": {
     "frozen": false,
     "read_only": false
    }
   },
   "outputs": [],
   "source": [
    "import scipy\n",
    "from scipy.optimize import curve_fit as fit\n",
    "import scipy.special as special"
   ]
  },
  {
   "cell_type": "markdown",
   "metadata": {
    "heading_collapsed": true,
    "hidden": true,
    "run_control": {
     "frozen": false,
     "read_only": false
    }
   },
   "source": [
    "### Matplotlib Settings"
   ]
  },
  {
   "cell_type": "code",
   "execution_count": 6,
   "metadata": {
    "ExecuteTime": {
     "end_time": "2017-06-01T10:47:07.857244Z",
     "start_time": "2017-06-01T10:47:07.768406Z"
    },
    "collapsed": true,
    "hidden": true,
    "jupyter": {
     "outputs_hidden": true
    },
    "run_control": {
     "frozen": false,
     "read_only": false
    }
   },
   "outputs": [],
   "source": [
    "import matplotlib as mpl\n",
    "from matplotlib.pyplot import *\n",
    "### set matplotlib plot defaults :D\n",
    "%matplotlib inline\n",
    "# Style controls many default colors in matplotlib plots.\n",
    "# Change the following if you don't like dark backgrounds. Many other options.\n",
    "style.use(['dark_background'])\n",
    "mpl.rcParams['axes.facecolor'] = '#0a0a0a'\n",
    "# the default cycling of colors in this mode isn't very good.\n",
    "mpl.rcParams['axes.prop_cycle'] = cycler('color', ['r','c','g','#FFFFFF','y','m','b'])\n",
    "mpl.rcParams['figure.figsize'] = (18.0, 8.0)\n",
    "mpl.rcParams['axes.grid'] = True\n",
    "mpl.rcParams['axes.formatter.useoffset'] = False\n",
    "mpl.rcParams['grid.alpha'] = 0.3\n",
    "mpl.rcParams['axes.formatter.limits'] = (0,1)\n",
    "# jet is awful.\n",
    "mpl.rcParams['image.cmap'] = 'inferno'\n",
    "# to see all available options, decomment this line.\n",
    "#print(mpl.rcParams)\n",
    "mpl.rcParams['font.size'] = 14"
   ]
  },
  {
   "cell_type": "markdown",
   "metadata": {
    "heading_collapsed": true,
    "hidden": true,
    "run_control": {
     "frozen": false,
     "read_only": false
    }
   },
   "source": [
    "### SymPy"
   ]
  },
  {
   "cell_type": "code",
   "execution_count": 7,
   "metadata": {
    "ExecuteTime": {
     "end_time": "2017-06-01T10:47:09.351637Z",
     "start_time": "2017-06-01T10:47:07.861192Z"
    },
    "collapsed": true,
    "hidden": true,
    "jupyter": {
     "outputs_hidden": true
    },
    "run_control": {
     "frozen": false,
     "read_only": false
    }
   },
   "outputs": [],
   "source": [
    "import sympy as sp\n",
    "sp.init_printing(use_latex=True)\n",
    "# see the constants section for some constants set in sympy"
   ]
  },
  {
   "cell_type": "markdown",
   "metadata": {
    "heading_collapsed": true,
    "hidden": true,
    "hide_input": false,
    "run_control": {
     "frozen": false,
     "read_only": false
    }
   },
   "source": [
    "### Javascript Settings"
   ]
  },
  {
   "cell_type": "code",
   "execution_count": 8,
   "metadata": {
    "ExecuteTime": {
     "end_time": "2017-06-01T10:47:09.361538Z",
     "start_time": "2017-06-01T10:47:09.353517Z"
    },
    "hidden": true,
    "run_control": {
     "frozen": false,
     "read_only": false
    }
   },
   "outputs": [
    {
     "data": {
      "application/javascript": [
       "// the above line makes this entire cell run javascript commands.\n",
       "// this gets rid of scroll bars on the output by default. It's in javascript because javascript is used \n",
       "// by Jupyter to actually render the notebook display.\n",
       "IPython.OutputArea.auto_scroll_threshold = 9999;"
      ],
      "text/plain": [
       "<IPython.core.display.Javascript object>"
      ]
     },
     "metadata": {},
     "output_type": "display_data"
    }
   ],
   "source": [
    "    %%javascript\n",
    "    // the above line makes this entire cell run javascript commands.\n",
    "    // this gets rid of scroll bars on the output by default. It's in javascript because javascript is used \n",
    "    // by Jupyter to actually render the notebook display.\n",
    "    IPython.OutputArea.auto_scroll_threshold = 9999;"
   ]
  },
  {
   "cell_type": "markdown",
   "metadata": {
    "heading_collapsed": true,
    "hidden": true,
    "run_control": {
     "frozen": false,
     "read_only": false
    }
   },
   "source": [
    "## Constants"
   ]
  },
  {
   "cell_type": "markdown",
   "metadata": {
    "heading_collapsed": true,
    "hidden": true,
    "run_control": {
     "frozen": false,
     "read_only": false
    }
   },
   "source": [
    "### Physics & Math Constants"
   ]
  },
  {
   "cell_type": "code",
   "execution_count": 9,
   "metadata": {
    "ExecuteTime": {
     "end_time": "2017-06-01T10:47:09.388645Z",
     "start_time": "2017-06-01T10:47:09.365549Z"
    },
    "collapsed": true,
    "hidden": true,
    "jupyter": {
     "outputs_hidden": true
    },
    "run_control": {
     "frozen": false,
     "read_only": false
    }
   },
   "outputs": [],
   "source": [
    "# all in mks\n",
    "# planck's constant\n",
    "h = 6.6260700e-34\n",
    "# reduced planck's constant\n",
    "hbar = 1.0545718e-34\n",
    "# boltzman's constant\n",
    "k_B = 1.380649e-23\n",
    "# speed of light (exact)\n",
    "c = 299792458\n",
    "# Stephan-Boltzman constant\n",
    "sigma = 5.6704e-8\n",
    "# atomic mass unit\n",
    "amu = 1.6605390e-27\n",
    "# rubidium 87 mass\n",
    "Rb87_M = 86.909180527 * amu\n",
    "# use numpy\n",
    "pi = np.pi\n",
    "# gravity constant\n",
    "g = 9.80665\n",
    "\n",
    "# linewidths\n",
    "Rb87_D1Gamma = 36.1e6\n",
    "Rb87_D2Gamma = 38.11e6\n",
    "\n",
    "Rb87_I_Sat = 3.576\n",
    "### should refine... for rubidium 87\n",
    "# in m\n",
    "Rb87_D2LineWavelength = 780e-9\n",
    "# in Hz (1/s)\n",
    "Rb87_D2LineFrequency = 377.1e12\n",
    "# etc.\n",
    "Rb87_D1LineWavelength = 795e-9\n",
    "Rb87_D1LineFrequency = 384.2e12"
   ]
  },
  {
   "cell_type": "markdown",
   "metadata": {
    "heading_collapsed": true,
    "hidden": true,
    "run_control": {
     "frozen": false,
     "read_only": false
    }
   },
   "source": [
    "### Lab Constants"
   ]
  },
  {
   "cell_type": "code",
   "execution_count": 10,
   "metadata": {
    "ExecuteTime": {
     "end_time": "2017-06-01T10:47:09.415688Z",
     "start_time": "2017-06-01T10:47:09.397638Z"
    },
    "collapsed": true,
    "hidden": true,
    "jupyter": {
     "outputs_hidden": true
    },
    "run_control": {
     "frozen": false,
     "read_only": false
    }
   },
   "outputs": [],
   "source": [
    "andorDataRepository = \"\\\\\\\\andor\\\\share\\\\Data and documents\\\\Data repository\\\\\"\n",
    "rawDataLoc = date + \"\\\\Raw Data\\\\\"\n",
    "\n",
    "opBeamDacToVoltageConversionConstants = [8.5, -22.532, -1.9323, -0.35142]\n",
    "# 7.4 x 7.4 micron mixel size\n",
    "baslerScoutCcdPixelSize = 7.4e-6\n",
    "# baslerAceCMosPixelSize = ???\n",
    "# 16 micron pixels\n",
    "andorPixelSize = 16e-6\n",
    "\n",
    "### basler conversion... joules incident per greyscale count.\n",
    "# number from theory of camera operation\n",
    "cameraConversion = 117*10**-18 \n",
    "# number from measurement. I suspect this is a little high because I think I underestimated the attenuation \n",
    "# of the signal by the 780nm filter.\n",
    "# C = 161*10**-18 "
   ]
  },
  {
   "cell_type": "markdown",
   "metadata": {
    "heading_collapsed": true,
    "hidden": true,
    "run_control": {
     "frozen": false,
     "read_only": false
    }
   },
   "source": [
    "### Lab Volatile Constants"
   ]
  },
  {
   "cell_type": "markdown",
   "metadata": {
    "hidden": true,
    "run_control": {
     "frozen": false,
     "read_only": false
    }
   },
   "source": [
    "Constants that can easily change day to day depending on drifts, etc."
   ]
  },
  {
   "cell_type": "code",
   "execution_count": 11,
   "metadata": {
    "ExecuteTime": {
     "end_time": "2017-06-01T10:47:09.454800Z",
     "start_time": "2017-06-01T10:47:09.417694Z"
    },
    "collapsed": true,
    "hidden": true,
    "jupyter": {
     "outputs_hidden": true
    },
    "run_control": {
     "frozen": false,
     "read_only": false
    }
   },
   "outputs": [],
   "source": [
    "# Calibration of length (in meters) that atoms in the cell move vs pixels that the atoms move.\n",
    "# this changes when the imaging system for the basler changes. there's a notebook for calculating this. \n",
    "baslerMetersPer4x4Pixel = 61.7818944758e-6\n",
    "baslerMetersPerPixel = baslerMetersPer4x4Pixel / 4\n",
    "\n",
    "### TODO: normalize these units to my standard units...\n",
    "\n",
    "# in mW\n",
    "sidemotPower = 0.75\n",
    "# in mW\n",
    "diagonalMPower = 9.3\n",
    "# in cm\n",
    "motRadius = 5 * baslerMetersPer4x4Pixel * 100\n",
    "# in hertz\n",
    "imagingDetuning = 10*10**6\n",
    "\n",
    "baslerRawGain = 260\n",
    "\n",
    "# in cm\n",
    "axialImagingLensDiameter = 2.54\n",
    "# in cm\n",
    "axialImagingLensFocalLength = 10"
   ]
  },
  {
   "cell_type": "markdown",
   "metadata": {
    "heading_collapsed": true,
    "hidden": true,
    "run_control": {
     "frozen": false,
     "read_only": false
    }
   },
   "source": [
    "### Sympy Constants"
   ]
  },
  {
   "cell_type": "code",
   "execution_count": 12,
   "metadata": {
    "ExecuteTime": {
     "end_time": "2017-06-01T10:47:09.478856Z",
     "start_time": "2017-06-01T10:47:09.462818Z"
    },
    "collapsed": true,
    "hidden": true,
    "jupyter": {
     "outputs_hidden": true
    },
    "run_control": {
     "frozen": false,
     "read_only": false
    }
   },
   "outputs": [],
   "source": [
    "# Pauli Matrices\n",
    "X = sigma_x = sp.Matrix([[0,1],[1,0]])\n",
    "Y = sigma_y = sp.Matrix([[0,-1j],[1j,0]])\n",
    "Z = sigma_z = sp.Matrix([[1,0],[0,-1]])\n",
    "# Hadamard\n",
    "H = hadamard = sp.Matrix([[1,1],[1,-1]])\n",
    "# Phase Gate\n",
    "S = phaseGate = sp.Matrix([[1,0],[0,1j]])\n",
    "# Phase Shift gate\n",
    "def phaseShiftGate(phi):\n",
    "    return sp.Matrix([[1,0],[[0,sp.exp(1j*phi)]]])\n"
   ]
  },
  {
   "cell_type": "markdown",
   "metadata": {
    "heading_collapsed": true,
    "hidden": true,
    "run_control": {
     "frozen": false,
     "read_only": false
    }
   },
   "source": [
    "## Functions"
   ]
  },
  {
   "cell_type": "markdown",
   "metadata": {
    "heading_collapsed": true,
    "hidden": true,
    "run_control": {
     "frozen": false,
     "read_only": false
    }
   },
   "source": [
    "### Random Useful Functions"
   ]
  },
  {
   "cell_type": "code",
   "execution_count": 13,
   "metadata": {
    "ExecuteTime": {
     "end_time": "2017-06-01T10:47:09.501667Z",
     "start_time": "2017-06-01T10:47:09.480863Z"
    },
    "collapsed": true,
    "hidden": true,
    "jupyter": {
     "outputs_hidden": true
    },
    "run_control": {
     "frozen": false,
     "read_only": false
    }
   },
   "outputs": [],
   "source": [
    "def round_sig(x, sig=3):\n",
    "    return round(x, sig-int(m.floor(m.log10(abs(x)+np.finfo(float).eps)))-1)"
   ]
  },
  {
   "cell_type": "markdown",
   "metadata": {
    "heading_collapsed": true,
    "hidden": true,
    "run_control": {
     "frozen": false,
     "read_only": false
    }
   },
   "source": [
    "### Generic functions for fits"
   ]
  },
  {
   "cell_type": "code",
   "execution_count": 14,
   "metadata": {
    "ExecuteTime": {
     "end_time": "2017-06-01T10:47:09.639040Z",
     "start_time": "2017-06-01T10:47:09.503673Z"
    },
    "collapsed": true,
    "hidden": true,
    "jupyter": {
     "outputs_hidden": true
    },
    "run_control": {
     "frozen": false,
     "read_only": false
    }
   },
   "outputs": [],
   "source": [
    "def quadratic(x,a,b,x0):\n",
    "    # This assumes downward facing. Best to write another function for upward facing if need be, I think.\n",
    "    if a < 0:\n",
    "        return 10**10\n",
    "    if b > 0:\n",
    "        return 10**10\n",
    "    return a + b*(x-x0)**2\n",
    "\n",
    "\n",
    "def gaussian(x, A1, x01, sig1, offset):\n",
    "    if (offset < 0):\n",
    "        return 10**10\n",
    "    return offset + A1 * np.exp(-(x-x01)**2/(2*sig1**2))\n",
    "\n",
    "\n",
    "def doubleGaussian(x, A1, x01, sig1, A2, x02, sig2, offset):\n",
    "    if (A1 < 0 or A2 < 0):\n",
    "        # Penalize negative fits.\n",
    "        return 10**10\n",
    "    if (offset < 0):\n",
    "        return 10**10\n",
    "    return offset + A1 * np.exp(-(x-x01)**2/(2*sig1**2)) + A2 * np.exp(-(x-x02)**2/(2*sig2**2))\n",
    "\n",
    "\n",
    "def tripleGaussian(x, A1, x01, sig1, A2, x02, sig2, A3, x03, sig3, offset ):\n",
    "    if (A1 < 0 or A2 < 0 or A3 < 0):\n",
    "        # Penalize negative fits.\n",
    "        return 10**10\n",
    "    if (offset < 0):\n",
    "        return 10**10\n",
    "    return (offset + A1 * np.exp(-(x-x01)**2/(2*sig1**2)) + A2 * np.exp(-(x-x02)**2/(2*sig2**2)) \n",
    "            + A3 * np.exp(-(x-x03)**2/(2*sig3**2)))\n",
    "\n",
    "# Stolen from \"http://stackoverflow.com/questions/21566379/fitting-a-2d-gaussian\n",
    "#-function-using-scipy-optimize-curve-fit-valueerror-and-m\"\n",
    "def gaussian_2D(coordinates, amplitude, xo, yo, sigma_x, sigma_y, theta, offset):\n",
    "    # limit the angle to a small range to prevent unncecessary flips of the axes. The 2D gaussian has two axes of symmetry,\n",
    "    # so only a quarter of the 2pi is needed.\n",
    "    if theta > pi/4 or theta < -pi/4:\n",
    "        return 10e10\n",
    "    x = coordinates[0]\n",
    "    y = coordinates[1]\n",
    "    xo = float(xo)\n",
    "    yo = float(yo)    \n",
    "    a = (np.cos(theta)**2)/(2*sigma_x**2) + (np.sin(theta)**2)/(2*sigma_y**2)\n",
    "    b = -(np.sin(2*theta))/(4*sigma_x**2) + (np.sin(2*theta))/(4*sigma_y**2)\n",
    "    c = (np.sin(theta)**2)/(2*sigma_x**2) + (np.cos(theta)**2)/(2*sigma_y**2)\n",
    "    g = offset + amplitude*np.exp( - (a*((x-xo)**2) + 2*b*(x-xo)*(y-yo) + c*((y-yo)**2)))\n",
    "    return g.ravel()\n",
    "\n",
    "def decayingCos(x, A, tau, f, phi, offset):\n",
    "    # Just for sanity. Keep some numbers positive.\n",
    "    if (A < 0):\n",
    "        return x * 10**10\n",
    "    if (phi < 0):\n",
    "        return x * 10**10\n",
    "    if (offset < 0):\n",
    "        return x * 10**10\n",
    "    # no growing fits.\n",
    "    if (tau > 0):\n",
    "        return x * 10**10\n",
    "    return offset + (1 - A/2 * np.exp(-x/tau) * np.cos(2 * np.pi * f * x + phi))\n",
    "\n",
    "def sincSquared(x, A, center, scale, offset):\n",
    "    if (offset < 0):\n",
    "        return x * 10**10\n",
    "    if (A < 0):\n",
    "        return x * 10**10\n",
    "    return (A * np.sinc((x - center)/scale)**2 + offset)\n",
    "\n",
    "\n",
    "def lorentzian(x, A, center, width, offset):\n",
    "    if (offset < 0):\n",
    "        return x * 10**10\n",
    "    if (A < 0):\n",
    "        return x * 10**10\n",
    "    return (A /((x - center)**2 + (width/2)**2))\n",
    "\n",
    "\n",
    "def poissonian(x, k, weight):    \n",
    "    \"\"\"\n",
    "    This function calculates p_k{x} = weight * e^(-k) * k^x / x!.\n",
    "    :param x: argument of the poissonian\n",
    "    :param k: order or (approximate) mean of the poissonian.\n",
    "    :param weight: a weight factor, related to the maximum data this is supposed to be fitted to, but typically over-\n",
    "    weighted for the purposes of this function.\n",
    "    :return: the poissonian evaluated at x given the parametes.\n",
    "    \"\"\"\n",
    "    import numpy as np\n",
    "    term = 1\n",
    "    # calculate the term k^x / x!. Can't do this directly, x! is too large.\n",
    "    for n in range(0, int(x)):\n",
    "        term *= k / (x - n)\n",
    "    return np.exp(-k) * term * weight"
   ]
  },
  {
   "cell_type": "markdown",
   "metadata": {
    "run_control": {
     "frozen": false,
     "read_only": false
    }
   },
   "source": [
    "# Main Function Definition"
   ]
  },
  {
   "cell_type": "markdown",
   "metadata": {
    "run_control": {
     "frozen": false,
     "read_only": false
    }
   },
   "source": [
    "## Some Derivation"
   ]
  },
  {
   "cell_type": "markdown",
   "metadata": {},
   "source": [
    "$$\n",
    "\\frac{2 J_1\\{x\\}}{x}\n",
    "$$"
   ]
  },
  {
   "cell_type": "code",
   "execution_count": 19,
   "metadata": {
    "ExecuteTime": {
     "end_time": "2017-06-01T10:49:55.377458Z",
     "start_time": "2017-06-01T10:49:55.370441Z"
    },
    "collapsed": true,
    "jupyter": {
     "outputs_hidden": true
    },
    "run_control": {
     "frozen": false,
     "read_only": false
    }
   },
   "outputs": [],
   "source": [
    "def jinc(x):\n",
    "    if x==0:\n",
    "        return 1.0\n",
    "    return 2 * special.jv(1,x)/x\n",
    "\n",
    "\n",
    "def airydisk(x):\n",
    "    # airy = jinc^2\n",
    "    return jinc(x)**2\n",
    "\n",
    "\n",
    "def airy_2(x):\n",
    "    # to find 1/e^2 point\n",
    "    # (jinc - 1/e^2 jinc)**2 = 0\n",
    "    return (airydisk(x) - 1/np.e**2*airydisk(0))**2"
   ]
  },
  {
   "cell_type": "code",
   "execution_count": 20,
   "metadata": {
    "ExecuteTime": {
     "end_time": "2017-06-01T10:49:56.400683Z",
     "start_time": "2017-06-01T10:49:56.388651Z"
    },
    "run_control": {
     "frozen": false,
     "read_only": false
    }
   },
   "outputs": [
    {
     "name": "stdout",
     "output_type": "stream",
     "text": [
      "Optimization terminated successfully.\n",
      "         Current function value: 0.000000\n",
      "         Iterations: 20\n",
      "         Function evaluations: 41\n",
      "Optimization terminated successfully.\n",
      "         Current function value: 0.000000\n",
      "         Iterations: 18\n",
      "         Function evaluations: 36\n",
      "zero: [ 3.83173828]\n",
      "esquared: [ 2.58388672]\n"
     ]
    }
   ],
   "source": [
    "zero = scipy.optimize.fmin(airydisk, 1)\n",
    "eSquared = scipy.optimize.fmin(airy_2, 1)\n",
    "print('zero:', zero)\n",
    "print('esquared:', eSquared)"
   ]
  },
  {
   "cell_type": "markdown",
   "metadata": {},
   "source": [
    "1/e^2 point = 2.583 / 3.8317 * zero point"
   ]
  },
  {
   "cell_type": "markdown",
   "metadata": {
    "run_control": {
     "frozen": false,
     "read_only": false
    }
   },
   "source": [
    "## spotSize()"
   ]
  },
  {
   "cell_type": "markdown",
   "metadata": {},
   "source": [
    "$$\n",
    "w_f = \\frac{\\lambda f}{\\pi w_0}\n",
    "$$"
   ]
  },
  {
   "cell_type": "code",
   "execution_count": 21,
   "metadata": {
    "ExecuteTime": {
     "end_time": "2017-06-01T10:53:28.975550Z",
     "start_time": "2017-06-01T10:53:28.957506Z"
    },
    "collapsed": true,
    "jupyter": {
     "outputs_hidden": true
    },
    "run_control": {
     "frozen": false,
     "read_only": false
    }
   },
   "outputs": [],
   "source": [
    "def spotSize(waist, aperture, focalLength, wavelength=850e-9, type='gaussian'):\n",
    "    \"\"\"\n",
    "    Calculate the expected spot size\n",
    "    \n",
    "    *********** ***********\n",
    "    *** Inputs:\n",
    "    \n",
    "    :waist: Waist (2 sigma) of the input beam. Ignored if type is 'airy'.\n",
    "    :aperture: Aperture *radius* of the input beam. Ignored if type is 'gaussian'.\n",
    "    :focalLength: effective focal length of the focusing lens, in m.\n",
    "    :wavelength: the wavelength of the light being focused.\n",
    "    :type: (Expects one of 'gaussian', 'airy', 'convolution') Specifies the type of calculation. 'convolution'\n",
    "        is not currently supported, but could be constructed out of the calcualtions below. It Would be fairly \n",
    "        computationally expensive. \n",
    "        - If 'gaussian', beam is approximated to have not been apertured at all and the 1/e^2 waist (radius) is returned,\n",
    "        - If 'airy', beam is approximated as a plane wave incident on an aperture and the 1/e^2 radius is returned.\n",
    "        - If 'airy-zero', beam is approximated as a plane wave incident on an aperture and the first zero is returned.\n",
    "    \"\"\"\n",
    "    \n",
    "    if type=='gaussian':\n",
    "        return wavelength * focalLength / (pi * waist)\n",
    "    elif type=='airy':\n",
    "        # this comes from knowing the location of the first null analytically and multiplying by the ratio of the distance to the \n",
    "        # first null of the bessel function and the 1/e^2 radius of the airy disk; I calculated these myself.\n",
    "        # See the original notebook for this function for how this is calculated, it's just some scipy optimization.\n",
    "        return wavelength * focalLength / (2 * aperture) * (2.58388672 / 3.83173828)\n",
    "    elif type=='airy-zero':\n",
    "        return wavelength * focalLength / (2 * aperture)\n",
    "    elif type=='convolution':\n",
    "        raise ValueError('\"type\"==\"convolution\" is not yet supported..')\n",
    "    else:\n",
    "        raise ValueError('Argument value for parameter \"type\" is not valid.')    "
   ]
  },
  {
   "cell_type": "markdown",
   "metadata": {
    "run_control": {
     "frozen": false,
     "read_only": false
    }
   },
   "source": [
    "# Convolution Work"
   ]
  },
  {
   "cell_type": "markdown",
   "metadata": {
    "heading_collapsed": true,
    "hidden": true,
    "run_control": {
     "frozen": false,
     "read_only": false
    }
   },
   "source": [
    "## Definitions"
   ]
  },
  {
   "cell_type": "code",
   "execution_count": null,
   "metadata": {
    "ExecuteTime": {
     "end_time": "2017-06-01T10:47:09.719255Z",
     "start_time": "2017-06-01T16:47:01.481Z"
    },
    "collapsed": true,
    "hidden": true,
    "jupyter": {
     "outputs_hidden": true
    },
    "run_control": {
     "frozen": false,
     "read_only": false
    }
   },
   "outputs": [],
   "source": [
    "# using the standard definition for a field gaussian, exp(-x^2/w^2)\n",
    "def radialGaussian(x, y, A, waist, offset):\n",
    "    r = np.sqrt(x**2 + y**2)\n",
    "    return A * np.exp(-r**2 / waist**2) + offset\n",
    "def circ(x,y,R):\n",
    "    r = np.sqrt(x**2 + y**2)\n",
    "    if r > R:\n",
    "        return 0\n",
    "    else:\n",
    "        return 1"
   ]
  },
  {
   "cell_type": "code",
   "execution_count": null,
   "metadata": {
    "ExecuteTime": {
     "end_time": "2017-06-01T10:47:09.720258Z",
     "start_time": "2017-06-01T16:47:01.484Z"
    },
    "collapsed": true,
    "hidden": true,
    "jupyter": {
     "outputs_hidden": true
    },
    "run_control": {
     "frozen": false,
     "read_only": false
    }
   },
   "outputs": [],
   "source": [
    "# the fourier transform of a circle, or a \"jinc\" function.\n",
    "def circTransformed(fx, fy, D):\n",
    "    return D * special.jv(1,2*pi*D*np.sqrt(fx**2 + fy**2)) / np.sqrt(fx**2 + fy**2)\n",
    "\n",
    "def gaussianTransformed(fx, fy, w0):\n",
    "    return w0**2 * np.exp(-np.pi**2 * w0**2 * (fx**2 + fy**2))\n",
    "\n",
    "def convolutionIntegrand(xi, eta, fx, fy, D, w):\n",
    "    x = circTransformed(xi,eta, D) * gaussianTransformed(fx - xi, fy - eta, w)\n",
    "    return x"
   ]
  },
  {
   "cell_type": "markdown",
   "metadata": {
    "heading_collapsed": true,
    "hidden": true,
    "run_control": {
     "frozen": false,
     "read_only": false
    }
   },
   "source": [
    "## Inputs"
   ]
  },
  {
   "cell_type": "code",
   "execution_count": null,
   "metadata": {
    "ExecuteTime": {
     "end_time": "2017-06-01T10:47:09.720258Z",
     "start_time": "2017-06-01T16:47:01.515Z"
    },
    "collapsed": true,
    "hidden": true,
    "jupyter": {
     "outputs_hidden": true
    },
    "run_control": {
     "frozen": false,
     "read_only": false
    }
   },
   "outputs": [],
   "source": [
    "apertureRadius = 20e-3\n",
    "inputWaist = 40e-3\n",
    "wavelength = 850e-9\n",
    "focalLength = 22e-3"
   ]
  },
  {
   "cell_type": "markdown",
   "metadata": {
    "heading_collapsed": true,
    "hidden": true,
    "run_control": {
     "frozen": false,
     "read_only": false
    }
   },
   "source": [
    "## Calculations"
   ]
  },
  {
   "cell_type": "code",
   "execution_count": null,
   "metadata": {
    "ExecuteTime": {
     "end_time": "2017-06-01T10:47:09.720258Z",
     "start_time": "2017-06-01T16:47:01.550Z"
    },
    "collapsed": true,
    "hidden": true,
    "jupyter": {
     "outputs_hidden": true
    },
    "run_control": {
     "frozen": false,
     "read_only": false
    }
   },
   "outputs": [],
   "source": [
    "x = y = np.linspace(-3e-2,3e-2,200)\n",
    "X, Y = np.meshgrid(x,y)\n",
    "inputField = np.zeros(X.shape)\n",
    "f_gaussian = np.zeros(X.shape)\n",
    "f_circle = np.zeros(X.shape)\n",
    "for x in range(X.shape[0]):\n",
    "    for y in range(X.shape[1]):\n",
    "        xi = X[x,y]\n",
    "        yi = Y[x,y]\n",
    "        inputField[x,y] = radialGaussian(xi,yi, 1, inputWaist, 0) * circ(xi, yi, apertureRadius)\n",
    "for x in range(X.shape[0]):\n",
    "    for y in range(X.shape[1]):\n",
    "        # it's small so use small values\n",
    "        fx = X[x,y]*2e-5 / (wavelength*focalLength)\n",
    "        fy = Y[x,y]*2e-5 / (wavelength*focalLength)\n",
    "        f_gaussian[x,y] = gaussianTransformed(fx, fy, inputWaist)\n",
    "for x in range(X.shape[0]):\n",
    "    for y in range(X.shape[1]):\n",
    "        # it's small so use small values\n",
    "        fx = X[x,y]*2e-5 / (wavelength*focalLength)\n",
    "        fy = Y[x,y]*2e-5 / (wavelength*focalLength)\n",
    "        f_circle[x,y] = circTransformed(fx, fy, 2*apertureRadius)\n",
    "        \n",
    "        "
   ]
  },
  {
   "cell_type": "code",
   "execution_count": null,
   "metadata": {
    "ExecuteTime": {
     "end_time": "2017-06-01T10:47:09.720258Z",
     "start_time": "2017-06-01T16:47:01.552Z"
    },
    "hidden": true,
    "run_control": {
     "frozen": false,
     "read_only": false
    }
   },
   "outputs": [],
   "source": [
    "fieldAtFocus = np.zeros(X.shape)\n",
    "count = 0\n",
    "bound = max((X*2e-5 / (wavelength*focalLength))[0,:])*2\n",
    "for x in range(X.shape[1]):\n",
    "    for y in range(X.shape[0]):\n",
    "        count += 1\n",
    "        if count % 200 == 0:\n",
    "            print(count)\n",
    "        fxi = X[x,y]*2e-5 / (wavelength * focalLength)\n",
    "        fyi = Y[x,y]*2e-5 / (wavelength * focalLength)\n",
    "        #def convolutionIntegrand(xi, eta, fx, fy, D, w):\n",
    "        \n",
    "        lims = [[-bound, bound*1.1], [-bound, bound*1.1]]\n",
    "        fieldAtFocus[x,y] = scipy.integrate.nquad(convolutionIntegrand, lims, args=[fxi,fyi,2*apertureRadius,inputWaist], opts={\"limit\":100})[0]"
   ]
  },
  {
   "cell_type": "markdown",
   "metadata": {
    "heading_collapsed": true,
    "hidden": true,
    "run_control": {
     "frozen": false,
     "read_only": false
    }
   },
   "source": [
    "## Results"
   ]
  },
  {
   "cell_type": "code",
   "execution_count": null,
   "metadata": {
    "ExecuteTime": {
     "end_time": "2017-06-01T10:47:09.721260Z",
     "start_time": "2017-06-01T16:47:01.591Z"
    },
    "collapsed": true,
    "hidden": true,
    "jupyter": {
     "outputs_hidden": true
    },
    "run_control": {
     "frozen": false,
     "read_only": false
    }
   },
   "outputs": [],
   "source": [
    "figure(figsize=(13,10))\n",
    "subplot(221)\n",
    "pcolormesh(X, Y, inputField)\n",
    "colorbar()\n",
    "title('input field');\n",
    "\n",
    "subplot(222)\n",
    "pcolormesh(X, Y, fieldAtFocus)\n",
    "colorbar()\n",
    "title('input field at focus');\n",
    "\n",
    "subplot(223)\n",
    "pcolormesh(X*1e-4, Y*1e-4, f_gaussian)\n",
    "colorbar()\n",
    "title('gaussian field at focus');\n",
    "\n",
    "subplot(224)\n",
    "pcolormesh(X*1e-4, Y*1e-4, f_circle)\n",
    "colorbar()\n",
    "title('circle field at focus');\n"
   ]
  },
  {
   "cell_type": "markdown",
   "metadata": {
    "heading_collapsed": true,
    "hidden": true,
    "run_control": {
     "frozen": false,
     "read_only": false
    }
   },
   "source": [
    "### 1D convolution test"
   ]
  },
  {
   "cell_type": "markdown",
   "metadata": {
    "hidden": true,
    "run_control": {
     "frozen": false,
     "read_only": false
    }
   },
   "source": [
    "Appears to be working fine..."
   ]
  },
  {
   "cell_type": "code",
   "execution_count": null,
   "metadata": {
    "ExecuteTime": {
     "end_time": "2017-06-01T10:47:09.721260Z",
     "start_time": "2017-06-01T16:47:01.746Z"
    },
    "collapsed": true,
    "hidden": true,
    "jupyter": {
     "outputs_hidden": true
    },
    "run_control": {
     "frozen": false,
     "read_only": false
    }
   },
   "outputs": [],
   "source": [
    "def oneDCov(fxi, D, w0, xi):\n",
    "    return np.exp(-pi**2*w0**2*(fxi-xi)**2) * np.sin(pi*D*xi)/(pi*xi)"
   ]
  },
  {
   "cell_type": "code",
   "execution_count": null,
   "metadata": {
    "ExecuteTime": {
     "end_time": "2017-06-01T10:47:09.721260Z",
     "start_time": "2017-06-01T16:47:01.751Z"
    },
    "hidden": true,
    "run_control": {
     "frozen": false,
     "read_only": false
    }
   },
   "outputs": [],
   "source": [
    "x = np.linspace(-6e-2, 6e-2, 1000)\n",
    "inputWaist = 2e-2\n",
    "oneDField = np.zeros(len(x))\n",
    "for xi in range(len(x)):\n",
    "    fxi = x[xi]*2e-5 / (wavelength * focalLength)\n",
    "    convInt = lambda a: oneDCov(fxi, 2*apertureRadius, inputWaist, a)\n",
    "    lims = [[-.1, 0.2]]\n",
    "    oneDField[xi] = scipy.integrate.nquad(convInt, lims)[0]\n",
    "plot(x,oneDField)\n",
    "print(max(oneDField))\n",
    "print(2*apertureRadius)\n",
    "data = max(oneDField) * np.sin(2*apertureRadius*pi*x*2e-5/(wavelength*focalLength)) / (2*apertureRadius*pi*x*2e-5/(wavelength*focalLength))\n",
    "plot(x, data)"
   ]
  },
  {
   "cell_type": "markdown",
   "metadata": {
    "run_control": {
     "frozen": false,
     "read_only": false
    }
   },
   "source": [
    "# Work Space"
   ]
  },
  {
   "cell_type": "code",
   "execution_count": null,
   "metadata": {
    "collapsed": true,
    "jupyter": {
     "outputs_hidden": true
    },
    "run_control": {
     "frozen": false,
     "read_only": false
    }
   },
   "outputs": [],
   "source": []
  }
 ],
 "metadata": {
  "anaconda-cloud": {},
  "hide_input": false,
  "kernelspec": {
   "display_name": "Python 3",
   "language": "python",
   "name": "python3"
  },
  "language_info": {
   "codemirror_mode": {
    "name": "ipython",
    "version": 3
   },
   "file_extension": ".py",
   "mimetype": "text/x-python",
   "name": "python",
   "nbconvert_exporter": "python",
   "pygments_lexer": "ipython3",
   "version": "3.6.12"
  },
  "nav_menu": {},
  "toc": {
   "navigate_menu": true,
   "number_sections": true,
   "sideBar": true,
   "threshold": 6,
   "toc_cell": true,
   "toc_section_display": "block",
   "toc_window_display": false
  },
  "varInspector": {
   "cols": {
    "lenName": 16,
    "lenType": 16,
    "lenVar": 40
   },
   "kernels_config": {
    "python": {
     "delete_cmd_postfix": "",
     "delete_cmd_prefix": "del ",
     "library": "var_list.py",
     "varRefreshCmd": "print(var_dic_list())"
    },
    "r": {
     "delete_cmd_postfix": ") ",
     "delete_cmd_prefix": "rm(",
     "library": "var_list.r",
     "varRefreshCmd": "cat(var_dic_list()) "
    }
   },
   "types_to_exclude": [
    "module",
    "function",
    "builtin_function_or_method",
    "instance",
    "_Feature"
   ],
   "window_display": false
  }
 },
 "nbformat": 4,
 "nbformat_minor": 4
}

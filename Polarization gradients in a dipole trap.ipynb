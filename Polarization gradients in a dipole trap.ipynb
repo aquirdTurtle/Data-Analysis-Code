{
 "cells": [
  {
   "cell_type": "markdown",
   "metadata": {
    "Collapsed": "false"
   },
   "source": [
    "# Polarization gradients in a dipole trap"
   ]
  },
  {
   "cell_type": "markdown",
   "metadata": {
    "Collapsed": "false"
   },
   "source": [
    "Starting From Mikhail Lukin's paper, \"Cohernece and Raman Sideband Cooling of a Single Atom in an Optical Tweezer\""
   ]
  },
  {
   "cell_type": "markdown",
   "metadata": {
    "Collapsed": "false"
   },
   "source": [
    "Lukin reports that the maximum field gradient is at the center, as expected, and is well approximated by\n",
    "\n",
    "$$\n",
    "\\frac{2.6 \\alpha \\sin\\{\\alpha\\}}{\\lambda}\n",
    "$$"
   ]
  },
  {
   "cell_type": "markdown",
   "metadata": {
    "Collapsed": "false"
   },
   "source": [
    "For a focused gaussian beam, where $\\alpha$ is the NA of the lens. On further inspection, it is unclear whether $\\alpha$ is the NA or the angle. :("
   ]
  },
  {
   "cell_type": "markdown",
   "metadata": {
    "Collapsed": "false"
   },
   "source": [
    "### Comparison for NAs in our experiment"
   ]
  },
  {
   "cell_type": "markdown",
   "metadata": {
    "Collapsed": "false"
   },
   "source": [
    "We've previously worked with NA 0.55 with the ASE lens, but I want to get a sense of how much worse this effect is for the Sill lens."
   ]
  },
  {
   "cell_type": "code",
   "execution_count": 1,
   "metadata": {
    "Collapsed": "false"
   },
   "outputs": [],
   "source": [
    "import numpy as np"
   ]
  },
  {
   "cell_type": "code",
   "execution_count": 2,
   "metadata": {
    "Collapsed": "false"
   },
   "outputs": [],
   "source": [
    "def getMaxGradientFromApprox(NA, wavelength=850e-9):\n",
    "    return 2.6 * NA * np.sin(NA)/wavelength"
   ]
  },
  {
   "cell_type": "code",
   "execution_count": 4,
   "metadata": {
    "Collapsed": "false"
   },
   "outputs": [
    {
     "name": "stdout",
     "output_type": "stream",
     "text": [
      "879344.396907\n",
      "1101916.09269\n",
      "1379383.75385\n"
     ]
    }
   ],
   "source": [
    "print(getMaxGradientFromApprox(0.55))\n",
    "print(getMaxGradientFromApprox(0.62))\n",
    "print(getMaxGradientFromApprox(0.7))"
   ]
  },
  {
   "cell_type": "code",
   "execution_count": null,
   "metadata": {
    "Collapsed": "false"
   },
   "outputs": [],
   "source": [
    "a"
   ]
  }
 ],
 "metadata": {
  "kernelspec": {
   "display_name": "Python 3",
   "language": "python",
   "name": "python3"
  },
  "language_info": {
   "codemirror_mode": {
    "name": "ipython",
    "version": 3
   },
   "file_extension": ".py",
   "mimetype": "text/x-python",
   "name": "python",
   "nbconvert_exporter": "python",
   "pygments_lexer": "ipython3",
   "version": "3.6.9"
  }
 },
 "nbformat": 4,
 "nbformat_minor": 4
}

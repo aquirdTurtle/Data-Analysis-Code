{
 "cells": [
  {
   "cell_type": "markdown",
   "metadata": {
    "Collapsed": "false"
   },
   "source": [
    "# Marks DM Profile Creator"
   ]
  },
  {
   "cell_type": "markdown",
   "metadata": {
    "Collapsed": "false"
   },
   "source": [
    "Based on Chris Kiehl's original work."
   ]
  },
  {
   "cell_type": "code",
   "execution_count": 1,
   "metadata": {
    "Collapsed": "false"
   },
   "outputs": [],
   "source": [
    "from matplotlib.pyplot import *\n",
    "import matplotlib.image as mpimg\n",
    "import matplotlib.colors as colors\n",
    "from matplotlib.patches import Circle, PathPatch\n",
    "import scipy.integrate as integrate\n",
    "import numpy as np\n",
    "from scipy.optimize import curve_fit\n",
    "import cmath\n",
    "import csv\n",
    "from numpy import array as arr\n",
    "from copy import copy\n",
    "from scipy.special import factorial \n",
    "%matplotlib inline\n",
    "import sys\n",
    "sys.path.append(\"..\")\n",
    "#import Miscellaneous as misc"
   ]
  },
  {
   "cell_type": "code",
   "execution_count": 2,
   "metadata": {
    "Collapsed": "false",
    "hidden": true
   },
   "outputs": [],
   "source": [
    "def getKnoll(n,m):\n",
    "    return (n*(n+2)+m)/2\n",
    "def fromNoll(j):\n",
    "    n = 0\n",
    "    m = 0\n",
    "    while (j > n):\n",
    "        n += 1\n",
    "        j -= n\n",
    "    m = -n+2*j\n",
    "    return n,m\n",
    "# make sure these are inverses.\n",
    "for j in range(200):\n",
    "    if j != getKnoll(*fromNoll(j)):\n",
    "        print('!')"
   ]
  },
  {
   "cell_type": "code",
   "execution_count": 3,
   "metadata": {
    "Collapsed": "false"
   },
   "outputs": [],
   "source": [
    "from numpy import array as arr"
   ]
  },
  {
   "cell_type": "code",
   "execution_count": 4,
   "metadata": {
    "Collapsed": "false",
    "hidden": true
   },
   "outputs": [],
   "source": [
    "def toPolar(x,y):\n",
    "    r = np.sqrt(x**2+y**2)\n",
    "    phi = np.arctan2(y,x)\n",
    "    return r,phi\n",
    "def toCartesian(r,theta):\n",
    "    x = r*np.cos(theta)\n",
    "    y = r*np.sin(theta)\n",
    "    return x,y\n",
    "# make sure these are inverses\n",
    "for x in np.linspace(-1,1,100):\n",
    "    for y in np.linspace(-1,1,100):\n",
    "        if (arr((x,y)) -arr(toCartesian(*toPolar(x,y)))>1e-9).any():\n",
    "            print('!')"
   ]
  },
  {
   "cell_type": "code",
   "execution_count": 5,
   "metadata": {
    "Collapsed": "false",
    "hidden": true
   },
   "outputs": [],
   "source": [
    "def zernikeTheta(m,theta):\n",
    "    if (m >= 0):\n",
    "        return np.cos(m*theta)\n",
    "    else:\n",
    "        return np.sin(-m*theta)\n",
    "def zernikeRadial(n,m,r):\n",
    "    m = abs(m)\n",
    "    if (m > n):\n",
    "        print('Error: n must be greater than or equal to n!')\n",
    "        return 0\n",
    "    if (((n-m)%2) > 0):\n",
    "        print('Error: (n - m) must be even!')\n",
    "        return 0\n",
    "    kArray = np.linspace(0,(n-m)/2,int((n-m)/2+1))\n",
    "    rArray = 0\n",
    "    i = 0\n",
    "    for k in kArray:\n",
    "        rArray=rArray+(r**(n-2*k))*((-1)**k)*factorial(n-k)/(factorial(k)*factorial((n+m)/2-k)*factorial((n-m)/2-k))\n",
    "        i = i+1\n",
    "    return rArray\n",
    "def normalization(n,m):\n",
    "    if (m == 0) :\n",
    "        a = 2*np.pi\n",
    "    else:\n",
    "        a = 1*np.pi\n",
    "    return np.sqrt((2*n+2)/a)\n",
    "# put the above together.\n",
    "def zernike(n,m,x,y):\n",
    "    return zernikePolar(n,m,*toPolar(x,y))\n",
    "    #r,theta = polar(x,y)\n",
    "    #return zernikeTheta(m,theta)*zernikeRadial(n,m,r)*normalization(n,m)\n",
    "def zernikePolar(n,m,r,theta):\n",
    "    return zernikeTheta(m,theta)*zernikeRadial(n,m,r)*normalization(n,m)"
   ]
  },
  {
   "cell_type": "code",
   "execution_count": 6,
   "metadata": {
    "Collapsed": "false",
    "hidden": true
   },
   "outputs": [],
   "source": [
    "def zernikeFit(X,*param):\n",
    "    x,y = X\n",
    "    height = param[0]*zernike(fromNoll(0)[0],fromNoll(0)[1],x,y)\n",
    "    for k in range(1,41):\n",
    "        height += param[k]*zernike(fromNoll(k)[0],fromNoll(k)[1],x,y)\n",
    "    return height"
   ]
  },
  {
   "cell_type": "markdown",
   "metadata": {
    "Collapsed": "false",
    "heading_collapsed": true
   },
   "source": [
    "## Verifying Orthogonality"
   ]
  },
  {
   "cell_type": "code",
   "execution_count": 7,
   "metadata": {
    "Collapsed": "false",
    "hidden": true
   },
   "outputs": [
    {
     "name": "stdout",
     "output_type": "stream",
     "text": [
      "(-7.243814608430614e-17, 9.871058785287423e-09)\n"
     ]
    }
   ],
   "source": [
    "n = 5\n",
    "m = 1\n",
    "#def integrand(r,theta):\n",
    " #   return r*zernikePolar(n,m,r,theta)**2\n",
    "f = lambda theta, r: r*zernikePolar(4,0,r,theta)*zernikePolar(4,2,r,theta)\n",
    "# should be small, presumably.\n",
    "print(integrate.dblquad(f, 0, 1, lambda r: 0, lambda r: 2*np.pi))"
   ]
  },
  {
   "cell_type": "markdown",
   "metadata": {
    "Collapsed": "false",
    "heading_collapsed": true
   },
   "source": [
    "## DM Lookup Table"
   ]
  },
  {
   "cell_type": "code",
   "execution_count": 8,
   "metadata": {
    "Collapsed": "false"
   },
   "outputs": [],
   "source": [
    "def myDmLookup(pixNum, factor=1/3.0):\n",
    "    if not (0 <= pixNum <= 136):\n",
    "        raise ValueError('Invalid Pixel Number!')\n",
    "    rowOff = [4,2,1,1,0,0,0,0,0,1,1,2,4]\n",
    "    numInRow = []\n",
    "    yInit = 6\n",
    "    for rowOffset in rowOff:\n",
    "        numInRow.append((7-(rowOffset+1))*2+1)\n",
    "    #sum(numInRow) = 137\n",
    "    \n",
    "    centerOffsets = -((arr(numInRow)-1)/2).astype(int)\n",
    "    pn = copy(pixNum)\n",
    "    for rowNum, num in enumerate(numInRow):\n",
    "        pn -= num\n",
    "        if pn < 0:\n",
    "            pn += num\n",
    "            return [factor*(centerOffsets[rowNum]+pn), \n",
    "                    factor*(yInit-rowNum)]\n",
    "    raise ValueError('ERROR: Somehow made it to the end of the loop depsite passing the initial value range check...')"
   ]
  },
  {
   "cell_type": "markdown",
   "metadata": {
    "Collapsed": "false",
    "heading_collapsed": true,
    "toc-hr-collapsed": true
   },
   "source": [
    "## Program Pure Zernike Polynomials"
   ]
  },
  {
   "cell_type": "code",
   "execution_count": 9,
   "metadata": {
    "Collapsed": "false"
   },
   "outputs": [],
   "source": [
    "import os"
   ]
  },
  {
   "cell_type": "code",
   "execution_count": 10,
   "metadata": {
    "Collapsed": "false"
   },
   "outputs": [],
   "source": [
    "def readZernikeFile(file):\n",
    "    valArray = []\n",
    "    with open(file) as f:\n",
    "        lines = f.readlines()\n",
    "        for l in lines:\n",
    "            valArray.append(float(l))\n",
    "    return valArray"
   ]
  },
  {
   "cell_type": "code",
   "execution_count": 11,
   "metadata": {
    "Collapsed": "false"
   },
   "outputs": [],
   "source": [
    "def writeZernikeFile(valArray, outFile):\n",
    "    # not sure if any need to do this slightly more convoluted writing, but just copying chris's method.\n",
    "    with open(outFile, 'w', newline='') as csvfile:\n",
    "        DM_Writer = csv.writer(csvfile, delimiter=' ', quotechar ='|', quoting=csv.QUOTE_MINIMAL)\n",
    "        for v in valArray:\n",
    "            DM_Writer.writerow([v])"
   ]
  },
  {
   "cell_type": "code",
   "execution_count": 12,
   "metadata": {
    "Collapsed": "false"
   },
   "outputs": [],
   "source": [
    "def makeIm(actuatorValueList):\n",
    "    avl = actuatorValueList\n",
    "    pic = np.zeros((13,13))+0.5\n",
    "    rowOff = [4,2,1,1,0,0,0,0,0,1,1,2,4]\n",
    "    tc = 0\n",
    "    for i, rowO in enumerate(rowOff):\n",
    "        numInRow = (7-(rowO+1))*2+1\n",
    "        for j in range(numInRow):\n",
    "            pic[i][rowO+j] = avl[tc]\n",
    "            tc += 1\n",
    "    return pic"
   ]
  },
  {
   "cell_type": "code",
   "execution_count": 13,
   "metadata": {
    "Collapsed": "false"
   },
   "outputs": [],
   "source": [
    "def checkValues(vals):\n",
    "    for i, volt in enumerate(vals):\n",
    "        if not (0 < volt < 1):\n",
    "            print('Voltage out of range! Actuator: ', i,', Value:', volt)"
   ]
  },
  {
   "cell_type": "code",
   "execution_count": 14,
   "metadata": {
    "Collapsed": "false"
   },
   "outputs": [],
   "source": [
    "def addComa(zAmps, comaMag, comaAngle):\n",
    "    \"\"\"\n",
    "    Adds at a particular angle and magnitude to a list of zernike amplituders.\n",
    "    \"\"\"\n",
    "    x,y = toCartesian(comaMag,comaAngle)\n",
    "    zAmps[7] += x\n",
    "    zAmps[8] += y\n",
    "    return zAmps"
   ]
  },
  {
   "cell_type": "code",
   "execution_count": 15,
   "metadata": {
    "Collapsed": "false"
   },
   "outputs": [
    {
     "data": {
      "text/plain": [
       "3.0"
      ]
     },
     "execution_count": 15,
     "metadata": {},
     "output_type": "execute_result"
    }
   ],
   "source": [
    "getKnoll(2,-2)"
   ]
  },
  {
   "cell_type": "code",
   "execution_count": 16,
   "metadata": {
    "Collapsed": "false"
   },
   "outputs": [],
   "source": [
    "def addAstigmatism(zAmps, astigMag, astigAngle):\n",
    "    \"\"\"\n",
    "    Adds at a particular angle and magnitude to a list of zernike amplituders.\n",
    "    Astigmatism is 2,2 and 2,-2, so symmetric under pi rotation\n",
    "    \"\"\"\n",
    "    x,y = toCartesian(astigMag,astigAngle)\n",
    "    zAmps[3] += x\n",
    "    zAmps[5] += y\n",
    "    return zAmps"
   ]
  },
  {
   "cell_type": "code",
   "execution_count": 17,
   "metadata": {
    "Collapsed": "false"
   },
   "outputs": [],
   "source": [
    "def addTrefoil(zAmps, trefMag, trefAngle):\n",
    "    \"\"\"\n",
    "    Adds at a particular angle and magnitude to a list of zernike amplituders.\n",
    "    Astigmatism is 2,2 and 2,-2, so symmetric under pi rotation\n",
    "    \"\"\"\n",
    "    x,y = toCartesian(trefMag,trefAngle)\n",
    "    zAmps[6] += x\n",
    "    zAmps[9] += y\n",
    "    return zAmps"
   ]
  },
  {
   "cell_type": "code",
   "execution_count": 18,
   "metadata": {
    "Collapsed": "false"
   },
   "outputs": [],
   "source": [
    "def addSpherical(zAmps, sphereMag):\n",
    "    \"\"\" just for consistency \"\"\"\n",
    "    zAmps[12] += sphereMag\n",
    "    return zAmps"
   ]
  },
  {
   "cell_type": "code",
   "execution_count": 19,
   "metadata": {
    "Collapsed": "false"
   },
   "outputs": [],
   "source": [
    "def createZernikeArray(amplitudes, baselineFile, quiet=False):\n",
    "    vals = []\n",
    "    inc = 1/3\n",
    "    flatVoltage = np.linspace(0, 136, 137)\n",
    "    newVoltage = np.linspace(0, 136, 137)\n",
    "    sign=0\n",
    "    with open(baselineFile, newline='') as csvfile:\n",
    "        DM_Reader = csv.reader(csvfile, delimiter=' ', quotechar='|', quoting=csv.QUOTE_NONNUMERIC)\n",
    "        for i, row in enumerate(DM_Reader):\n",
    "            flatVoltage[i]=row[0]\n",
    "    for i in range(0,137):\n",
    "        zernSum=0\n",
    "        weightFactor = 1\n",
    "        x,y = myDmLookup(i)\n",
    "        if (x**2+y**2)<=1:\n",
    "            for j, amp in enumerate(amplitudes):\n",
    "                m,n = fromNoll(j)\n",
    "                zernSum += amp*zernike(m,n,x,y)\n",
    "        elif (x**2+y**2)<1.5:\n",
    "            for j, amp in enumerate(amplitudes):\n",
    "                m,n = fromNoll(j)\n",
    "                r,t = toPolar(x,y)\n",
    "                # use circle's edge (i.e. r=1) value at the angle of the pixel\n",
    "                x_, y_ = toCartesian(1,t)\n",
    "                zernSum += amp*zernike(m,n,x_,y_)\n",
    "        volt = (-1 if zernSum <= 0 else 1)*zernSum**2*weightFactor+flatVoltage[i]\n",
    "        vals.append(volt)\n",
    "    if not quiet:\n",
    "        checkValues(vals)\n",
    "    return vals"
   ]
  },
  {
   "cell_type": "code",
   "execution_count": 20,
   "metadata": {
    "Collapsed": "false"
   },
   "outputs": [
    {
     "ename": "FileNotFoundError",
     "evalue": "[Errno 2] No such file or directory: 'coma_test---.txt'",
     "output_type": "error",
     "traceback": [
      "\u001b[1;31m---------------------------------------------------------------------------\u001b[0m",
      "\u001b[1;31mFileNotFoundError\u001b[0m                         Traceback (most recent call last)",
      "\u001b[1;32m<ipython-input-20-4ff5a5996160>\u001b[0m in \u001b[0;36m<module>\u001b[1;34m\u001b[0m\n\u001b[1;32m----> 1\u001b[1;33m \u001b[0mvals_old\u001b[0m \u001b[1;33m=\u001b[0m \u001b[0mreadZernikeFile\u001b[0m\u001b[1;33m(\u001b[0m\u001b[1;34m'coma_test---.txt'\u001b[0m\u001b[1;33m)\u001b[0m\u001b[1;33m\u001b[0m\u001b[1;33m\u001b[0m\u001b[0m\n\u001b[0m",
      "\u001b[1;32m<ipython-input-10-d1cbdb9eb788>\u001b[0m in \u001b[0;36mreadZernikeFile\u001b[1;34m(file)\u001b[0m\n\u001b[0;32m      1\u001b[0m \u001b[1;32mdef\u001b[0m \u001b[0mreadZernikeFile\u001b[0m\u001b[1;33m(\u001b[0m\u001b[0mfile\u001b[0m\u001b[1;33m)\u001b[0m\u001b[1;33m:\u001b[0m\u001b[1;33m\u001b[0m\u001b[1;33m\u001b[0m\u001b[0m\n\u001b[0;32m      2\u001b[0m     \u001b[0mvalArray\u001b[0m \u001b[1;33m=\u001b[0m \u001b[1;33m[\u001b[0m\u001b[1;33m]\u001b[0m\u001b[1;33m\u001b[0m\u001b[1;33m\u001b[0m\u001b[0m\n\u001b[1;32m----> 3\u001b[1;33m     \u001b[1;32mwith\u001b[0m \u001b[0mopen\u001b[0m\u001b[1;33m(\u001b[0m\u001b[0mfile\u001b[0m\u001b[1;33m)\u001b[0m \u001b[1;32mas\u001b[0m \u001b[0mf\u001b[0m\u001b[1;33m:\u001b[0m\u001b[1;33m\u001b[0m\u001b[1;33m\u001b[0m\u001b[0m\n\u001b[0m\u001b[0;32m      4\u001b[0m         \u001b[0mlines\u001b[0m \u001b[1;33m=\u001b[0m \u001b[0mf\u001b[0m\u001b[1;33m.\u001b[0m\u001b[0mreadlines\u001b[0m\u001b[1;33m(\u001b[0m\u001b[1;33m)\u001b[0m\u001b[1;33m\u001b[0m\u001b[1;33m\u001b[0m\u001b[0m\n\u001b[0;32m      5\u001b[0m         \u001b[1;32mfor\u001b[0m \u001b[0ml\u001b[0m \u001b[1;32min\u001b[0m \u001b[0mlines\u001b[0m\u001b[1;33m:\u001b[0m\u001b[1;33m\u001b[0m\u001b[1;33m\u001b[0m\u001b[0m\n",
      "\u001b[1;31mFileNotFoundError\u001b[0m: [Errno 2] No such file or directory: 'coma_test---.txt'"
     ]
    }
   ],
   "source": [
    "vals_old = readZernikeFile('coma_test---.txt')"
   ]
  },
  {
   "cell_type": "markdown",
   "metadata": {
    "Collapsed": "false"
   },
   "source": [
    "### piston (seeing used area)"
   ]
  },
  {
   "cell_type": "code",
   "execution_count": 21,
   "metadata": {
    "Collapsed": "false"
   },
   "outputs": [],
   "source": [
    "outFile = 'test.txt'"
   ]
  },
  {
   "cell_type": "code",
   "execution_count": 22,
   "metadata": {
    "Collapsed": "false"
   },
   "outputs": [],
   "source": [
    "currentAmps = np.linspace(0,0,45) \n",
    "mag = 0.2\n",
    "vals_base = createZernikeArray(np.zeros(45), '25CW012#060_CLOSED_LOOP_COMMANDS.txt')\n",
    "currentAmps[0] = 0.2\n",
    "vals_pist = createZernikeArray(currentAmps, '25CW012#060_CLOSED_LOOP_COMMANDS.txt')\n",
    "#writeZernikeFile(vals_pist, outFile)"
   ]
  },
  {
   "cell_type": "code",
   "execution_count": 23,
   "metadata": {
    "Collapsed": "false"
   },
   "outputs": [
    {
     "data": {
      "text/plain": [
       "<matplotlib.colorbar.Colorbar at 0x19a49edf668>"
      ]
     },
     "execution_count": 23,
     "metadata": {},
     "output_type": "execute_result"
    },
    {
     "data": {
      "image/png": "[encoded data removed]",
      "text/plain": [
       "<Figure size 1080x252 with 4 Axes>"
      ]
     },
     "metadata": {
      "needs_background": "light"
     },
     "output_type": "display_data"
    }
   ],
   "source": [
    "f, ax = subplots(1,2,figsize=(15,3.5))\n",
    "im = ax[0].imshow(makeIm(vals_pist))\n",
    "colorbar(im, ax=ax[0])\n",
    "diffNew = makeIm(vals_pist)-makeIm(vals_base)\n",
    "im = ax[1].imshow(diffNew)\n",
    "colorbar(im, ax=ax[1])"
   ]
  },
  {
   "cell_type": "markdown",
   "metadata": {
    "Collapsed": "false"
   },
   "source": [
    "### coma"
   ]
  },
  {
   "cell_type": "code",
   "execution_count": 24,
   "metadata": {
    "Collapsed": "false"
   },
   "outputs": [],
   "source": [
    "currentAmps = np.linspace(0,0,45) \n",
    "mag = 0.2\n",
    "vals_base = createZernikeArray(np.zeros(45), '25CW012#060_CLOSED_LOOP_COMMANDS.txt')\n",
    "vals_new = createZernikeArray(addComa(currentAmps,0.2,np.pi/6), '25CW012#060_CLOSED_LOOP_COMMANDS.txt')\n",
    "currentAmps = np.linspace(0,0,45) \n",
    "currentAmps[7] = 0.2\n",
    "vals_vert = createZernikeArray(currentAmps, '25CW012#060_CLOSED_LOOP_COMMANDS.txt')"
   ]
  },
  {
   "cell_type": "code",
   "execution_count": 25,
   "metadata": {
    "Collapsed": "false"
   },
   "outputs": [
    {
     "data": {
      "text/plain": [
       "<matplotlib.colorbar.Colorbar at 0x19a4a117240>"
      ]
     },
     "execution_count": 25,
     "metadata": {},
     "output_type": "execute_result"
    },
    {
     "data": {
      "image/png": "[encoded data removed]",
      "text/plain": [
       "<Figure size 1080x252 with 6 Axes>"
      ]
     },
     "metadata": {
      "needs_background": "light"
     },
     "output_type": "display_data"
    }
   ],
   "source": [
    "f, ax = subplots(1,3,figsize=(15,3.5))\n",
    "im = ax[0].imshow(makeIm(vals_new))\n",
    "colorbar(im, ax=ax[0])\n",
    "diffNew = makeIm(vals_new)-makeIm(vals_base)\n",
    "ax[0].set_title('DM_Profile with angled coma')\n",
    "im = ax[1].imshow(diffNew)\n",
    "colorbar(im, ax=ax[1])\n",
    "ax[1].set_title('Pure Coma @ Angle')\n",
    "diffvert = makeIm(vals_vert)-makeIm(vals_base)\n",
    "im = ax[2].imshow(diffvert)\n",
    "ax[2].set_title('Vertical Coma, for ref')\n",
    "#im = ax[2].imshow(diffHor,vmax=max(diffNew.flatten()),vmin=min(diffNew.flatten()))\n",
    "colorbar(im, ax=ax[2])\n",
    "\n",
    "#colorbar()"
   ]
  },
  {
   "cell_type": "markdown",
   "metadata": {
    "Collapsed": "false"
   },
   "source": [
    "### astigmastism"
   ]
  },
  {
   "cell_type": "code",
   "execution_count": 85,
   "metadata": {
    "Collapsed": "false"
   },
   "outputs": [],
   "source": [
    "currentAmps = np.linspace(0,0,45) \n",
    "mag = 0.2\n",
    "vals_base = createZernikeArray( np.zeros(45), '25CW012#060_CLOSED_LOOP_COMMANDS.txt' )\n",
    "vals_new = createZernikeArray( addComa(addAstigmatism(currentAmps,0.2,1*np.pi/2),0.1,3*np.pi/2), '25CW012#060_CLOSED_LOOP_COMMANDS.txt')"
   ]
  },
  {
   "cell_type": "code",
   "execution_count": 86,
   "metadata": {
    "Collapsed": "false"
   },
   "outputs": [
    {
     "data": {
      "text/plain": [
       "Text(0.5,1,'Pure Coma @ Angle')"
      ]
     },
     "execution_count": 86,
     "metadata": {},
     "output_type": "execute_result"
    },
    {
     "data": {
      "image/png": "[encoded data removed]",
      "text/plain": [
       "<Figure size 1080x396 with 4 Axes>"
      ]
     },
     "metadata": {},
     "output_type": "display_data"
    }
   ],
   "source": [
    "f, ax = subplots(1,2,figsize=(15,5.5))\n",
    "im = ax[0].imshow(makeIm(vals_new))\n",
    "colorbar(im, ax=ax[0])\n",
    "diffNew = makeIm(vals_new)-makeIm(vals_base)\n",
    "ax[0].set_title('DM_Profile with angled coma')\n",
    "im = ax[1].imshow(diffNew)\n",
    "colorbar(im, ax=ax[1])\n",
    "ax[1].set_title('Pure Coma @ Angle')\n",
    "\n",
    "#colorbar()"
   ]
  },
  {
   "cell_type": "markdown",
   "metadata": {
    "Collapsed": "false"
   },
   "source": [
    "### spherical"
   ]
  },
  {
   "cell_type": "code",
   "execution_count": 95,
   "metadata": {
    "Collapsed": "false"
   },
   "outputs": [
    {
     "data": {
      "text/plain": [
       "12.0"
      ]
     },
     "execution_count": 95,
     "metadata": {},
     "output_type": "execute_result"
    }
   ],
   "source": [
    "getKnoll(4,0)"
   ]
  },
  {
   "cell_type": "code",
   "execution_count": 96,
   "metadata": {
    "Collapsed": "false"
   },
   "outputs": [],
   "source": [
    "currentAmps = np.linspace(0,0,45) \n",
    "mag = 0.2\n",
    "vals_base = createZernikeArray(np.zeros(45), '25CW012#060_CLOSED_LOOP_COMMANDS.txt')\n",
    "currentAmps[12] = 0.2\n",
    "vals_new = createZernikeArray(currentAmps, '25CW012#060_CLOSED_LOOP_COMMANDS.txt')"
   ]
  },
  {
   "cell_type": "code",
   "execution_count": 97,
   "metadata": {
    "Collapsed": "false"
   },
   "outputs": [
    {
     "data": {
      "text/plain": [
       "<matplotlib.colorbar.Colorbar at 0x119d39ca470>"
      ]
     },
     "execution_count": 97,
     "metadata": {},
     "output_type": "execute_result"
    },
    {
     "data": {
      "image/png": "[encoded data removed]",
      "text/plain": [
       "<Figure size 1080x252 with 4 Axes>"
      ]
     },
     "metadata": {},
     "output_type": "display_data"
    }
   ],
   "source": [
    "f, ax = subplots(1,2,figsize=(15,3.5))\n",
    "im = ax[0].imshow(makeIm(vals_new))\n",
    "colorbar(im, ax=ax[0])\n",
    "ax[0].set_title('DM Profile')\n",
    "diffNew = makeIm(vals_new)-makeIm(vals_base)\n",
    "im = ax[1].imshow(diffNew)\n",
    "ax[1].set_title('Pure Spherical aberration')\n",
    "colorbar(im, ax=ax[1])\n",
    "#colorbar()"
   ]
  },
  {
   "cell_type": "markdown",
   "metadata": {
    "Collapsed": "false"
   },
   "source": [
    "### Trefoil"
   ]
  },
  {
   "cell_type": "code",
   "execution_count": 185,
   "metadata": {
    "Collapsed": "false"
   },
   "outputs": [],
   "source": [
    "currentAmps = np.linspace(0,0,45) \n",
    "mag = 0.1\n",
    "vals_base = createZernikeArray(np.zeros(45), '25CW012#060_CLOSED_LOOP_COMMANDS.txt')\n",
    "currentAmps = addTrefoil(currentAmps,mag,1*np.pi)\n",
    "vals_new = createZernikeArray(currentAmps, '25CW012#060_CLOSED_LOOP_COMMANDS.txt')"
   ]
  },
  {
   "cell_type": "code",
   "execution_count": 186,
   "metadata": {
    "Collapsed": "false"
   },
   "outputs": [
    {
     "data": {
      "text/plain": [
       "<matplotlib.colorbar.Colorbar at 0x119d5a649e8>"
      ]
     },
     "execution_count": 186,
     "metadata": {},
     "output_type": "execute_result"
    },
    {
     "data": {
      "image/png": "[encoded data removed]",
      "text/plain": [
       "<Figure size 1080x252 with 4 Axes>"
      ]
     },
     "metadata": {},
     "output_type": "display_data"
    }
   ],
   "source": [
    "f, ax = subplots(1,2,figsize=(15,3.5))\n",
    "im = ax[0].imshow(makeIm(vals_new))\n",
    "colorbar(im, ax=ax[0])\n",
    "ax[0].set_title('DM Profile')\n",
    "diffNew = makeIm(vals_new)-makeIm(vals_base)\n",
    "im = ax[1].imshow(diffNew)\n",
    "ax[1].set_title('Pure Spherical aberration')\n",
    "colorbar(im, ax=ax[1])\n",
    "#colorbar()"
   ]
  },
  {
   "cell_type": "markdown",
   "metadata": {
    "Collapsed": "false"
   },
   "source": [
    "# Scan 1"
   ]
  },
  {
   "cell_type": "markdown",
   "metadata": {
    "Collapsed": "false"
   },
   "source": [
    "## Scan 1: Coma rotation:"
   ]
  },
  {
   "cell_type": "code",
   "execution_count": 29,
   "metadata": {
    "Collapsed": "false"
   },
   "outputs": [],
   "source": [
    "import sys\n",
    "sys.path.insert(0, \"..\")"
   ]
  },
  {
   "cell_type": "code",
   "execution_count": 30,
   "metadata": {
    "Collapsed": "false"
   },
   "outputs": [],
   "source": [
    "import Miscellaneous as misc"
   ]
  },
  {
   "cell_type": "code",
   "execution_count": 31,
   "metadata": {
    "Collapsed": "false"
   },
   "outputs": [],
   "source": [
    "for theta in np.arange(0,2*np.pi,0.1):\n",
    "    currentAmps = np.zeros(45)\n",
    "    writeZernikeFile(createZernikeArray(addComa(currentAmps,0.2,theta), '25CW012#060_CLOSED_LOOP_COMMANDS.txt'), 'Scan1_'+misc.round_sig_str(theta)+'.txt')"
   ]
  },
  {
   "cell_type": "markdown",
   "metadata": {
    "Collapsed": "false"
   },
   "source": [
    "## Scan 2: Coma Magnitude"
   ]
  },
  {
   "cell_type": "markdown",
   "metadata": {
    "Collapsed": "false"
   },
   "source": [
    "At theta = 3pi/2"
   ]
  },
  {
   "cell_type": "code",
   "execution_count": 39,
   "metadata": {
    "Collapsed": "false"
   },
   "outputs": [
    {
     "name": "stdout",
     "output_type": "stream",
     "text": [
      "........"
     ]
    }
   ],
   "source": [
    "for mag in np.arange(0,0.4,0.05):\n",
    "    print('.',end='')\n",
    "    currentAmps = np.zeros(45)\n",
    "    writeZernikeFile(createZernikeArray(addComa(currentAmps,mag,3*np.pi/2), '25CW012#060_CLOSED_LOOP_COMMANDS.txt'), 'Scan2_'+misc.round_sig_str(mag)+'.txt')"
   ]
  },
  {
   "cell_type": "markdown",
   "metadata": {
    "Collapsed": "false"
   },
   "source": [
    "## Scan3: Astigmatism Rotation"
   ]
  },
  {
   "cell_type": "markdown",
   "metadata": {
    "Collapsed": "false"
   },
   "source": [
    "with 0.1 coma at 3pi/2 "
   ]
  },
  {
   "cell_type": "code",
   "execution_count": 87,
   "metadata": {
    "Collapsed": "false"
   },
   "outputs": [
    {
     "name": "stdout",
     "output_type": "stream",
     "text": [
      "..............................................................."
     ]
    }
   ],
   "source": [
    "for theta in np.arange(0,2*np.pi,0.1):\n",
    "    print('.',end='')\n",
    "    currentAmps = np.zeros(45)\n",
    "    currentAmps = addComa(currentAmps,0.1,3*np.pi/2)\n",
    "    astigAmps = addAstigmatism(currentAmps,0.2,theta)\n",
    "    writeZernikeFile(createZernikeArray(astigAmps, '25CW012#060_CLOSED_LOOP_COMMANDS.txt'), 'Scan3_'+misc.round_sig_str(theta)+'.txt')"
   ]
  },
  {
   "cell_type": "markdown",
   "metadata": {
    "Collapsed": "false"
   },
   "source": [
    "## scan 4: Astigmatism Magnitude"
   ]
  },
  {
   "cell_type": "code",
   "execution_count": 93,
   "metadata": {
    "Collapsed": "false"
   },
   "outputs": [
    {
     "name": "stdout",
     "output_type": "stream",
     "text": [
      "............."
     ]
    }
   ],
   "source": [
    "for mag in np.arange(0,0.325,0.025):\n",
    "    print('.',end='')\n",
    "    currentAmps = np.zeros(45)\n",
    "    currentAmps = addComa(currentAmps,0.1,3*np.pi/2)\n",
    "    astigAmps = addAstigmatism(currentAmps, mag, np.pi/2)\n",
    "    writeZernikeFile(createZernikeArray(astigAmps, '25CW012#060_CLOSED_LOOP_COMMANDS.txt'), 'Scan4_'+misc.round_sig_str(mag)+'.txt')"
   ]
  },
  {
   "cell_type": "markdown",
   "metadata": {
    "Collapsed": "false"
   },
   "source": [
    "## scan 5 - X Position Scan"
   ]
  },
  {
   "cell_type": "markdown",
   "metadata": {
    "Collapsed": "false"
   },
   "source": [
    "The X position scan"
   ]
  },
  {
   "cell_type": "markdown",
   "metadata": {
    "Collapsed": "false"
   },
   "source": [
    "## scan 6: Coma Angle"
   ]
  },
  {
   "cell_type": "markdown",
   "metadata": {
    "Collapsed": "false"
   },
   "source": [
    "being a bit aggresive with the amplitude, bumping it to 0.15 when had been set to 0.1 before astigmatism scan"
   ]
  },
  {
   "cell_type": "code",
   "execution_count": 94,
   "metadata": {
    "Collapsed": "false"
   },
   "outputs": [
    {
     "name": "stdout",
     "output_type": "stream",
     "text": [
      "..............................................................."
     ]
    }
   ],
   "source": [
    "for theta in np.arange(0,2*np.pi,0.1):\n",
    "    print('.',end='')\n",
    "    currentAmps = np.zeros(45)\n",
    "    currentAmps = addAstigmatism(currentAmps, 0.15, np.pi/2)\n",
    "    comaAmps = addComa(currentAmps,0.15,theta)\n",
    "    writeZernikeFile(createZernikeArray(comaAmps, '25CW012#060_CLOSED_LOOP_COMMANDS.txt'), 'Scan6_'+misc.round_sig_str(theta)+'.txt')"
   ]
  },
  {
   "cell_type": "markdown",
   "metadata": {
    "Collapsed": "false"
   },
   "source": [
    "## scan 7 - Spherical Magnitude"
   ]
  },
  {
   "cell_type": "code",
   "execution_count": 117,
   "metadata": {
    "Collapsed": "false"
   },
   "outputs": [
    {
     "name": "stdout",
     "output_type": "stream",
     "text": [
      "..........."
     ]
    }
   ],
   "source": [
    "for mag in np.arange(-0.4,0.15,0.05):\n",
    "    print('.',end='')\n",
    "    currentAmps = np.zeros(45)\n",
    "    currentAmps = addAstigmatism(currentAmps, 0.15, np.pi/2)\n",
    "    currentAmps = addComa(currentAmps,0.1,3*np.pi/2)\n",
    "    sphericalAmps = addSpherical(currentAmps,mag)\n",
    "    writeZernikeFile(createZernikeArray(sphericalAmps, '25CW012#060_CLOSED_LOOP_COMMANDS.txt'), 'Scan7_'+misc.round_sig_str(mag)+'.txt')"
   ]
  },
  {
   "cell_type": "markdown",
   "metadata": {
    "Collapsed": "false"
   },
   "source": [
    "## scan 8 - Coma Magnitude"
   ]
  },
  {
   "cell_type": "code",
   "execution_count": 122,
   "metadata": {
    "Collapsed": "false"
   },
   "outputs": [
    {
     "name": "stdout",
     "output_type": "stream",
     "text": [
      "................Voltage out of range! Actuator:  65 , Value: 1.0297599405926037\n"
     ]
    }
   ],
   "source": [
    "for mag in np.arange(0,0.4,0.025):\n",
    "    print('.',end='')\n",
    "    currentAmps = np.zeros(45)\n",
    "    currentAmps = addAstigmatism(currentAmps, 0.15, np.pi/2)\n",
    "    currentAmps = addSpherical(currentAmps,-0.15)\n",
    "    comaAmps = addComa(currentAmps,mag,3*np.pi/2)\n",
    "    writeZernikeFile(createZernikeArray(comaAmps, '25CW012#060_CLOSED_LOOP_COMMANDS.txt'), 'Scan8_'+misc.round_sig_str(mag)+'.txt')"
   ]
  },
  {
   "cell_type": "markdown",
   "metadata": {
    "Collapsed": "false"
   },
   "source": [
    "## scan9 - Astigmatism Magnitude"
   ]
  },
  {
   "cell_type": "code",
   "execution_count": 130,
   "metadata": {
    "Collapsed": "false"
   },
   "outputs": [
    {
     "name": "stdout",
     "output_type": "stream",
     "text": [
      "............."
     ]
    }
   ],
   "source": [
    "for mag in np.arange(0,0.325,0.025):\n",
    "    print('.',end='')\n",
    "    currentAmps = np.zeros(45)\n",
    "    currentAmps = addSpherical(currentAmps,-0.15)\n",
    "    currentAmps = addComa(currentAmps,0.225,3*np.pi/2)\n",
    "    astigAmps = addAstigmatism(currentAmps, mag, np.pi/2)\n",
    "    writeZernikeFile(createZernikeArray(astigAmps, '25CW012#060_CLOSED_LOOP_COMMANDS.txt'), 'Scan9_'+misc.round_sig_str(mag)+'.txt')"
   ]
  },
  {
   "cell_type": "markdown",
   "metadata": {
    "Collapsed": "false"
   },
   "source": [
    "## scan10 - defocus, done with telescope"
   ]
  },
  {
   "cell_type": "markdown",
   "metadata": {
    "Collapsed": "false"
   },
   "source": [
    "## scan11 - Spherical again"
   ]
  },
  {
   "cell_type": "markdown",
   "metadata": {
    "Collapsed": "false"
   },
   "source": [
    "after defocus changed, should check sphreical, also after changing coma"
   ]
  },
  {
   "cell_type": "code",
   "execution_count": 137,
   "metadata": {
    "Collapsed": "false"
   },
   "outputs": [
    {
     "name": "stdout",
     "output_type": "stream",
     "text": [
      "-0.4\n",
      "-0.375\n",
      "-0.35\n",
      "-0.32499999999999996\n",
      "-0.29999999999999993\n",
      "-0.2749999999999999\n",
      "-0.2499999999999999\n",
      "-0.22499999999999987\n",
      "-0.19999999999999984\n",
      "-0.17499999999999982\n",
      "-0.1499999999999998\n",
      "-0.12499999999999978\n",
      "-0.09999999999999976\n",
      "-0.07499999999999973\n",
      "-0.04999999999999971\n",
      "-0.02499999999999969\n",
      "3.3306690738754696e-16\n",
      "0.025000000000000355\n"
     ]
    }
   ],
   "source": [
    "for mag in np.arange(-0.4,0.05,0.025):\n",
    "    print(mag)\n",
    "    currentAmps = np.zeros(45)\n",
    "    currentAmps = addComa(currentAmps,0.225,3*np.pi/2)\n",
    "    currentAmps = addAstigmatism(currentAmps, 0.125, np.pi/2)\n",
    "    currentAmps = addSpherical(currentAmps,mag)\n",
    "    writeZernikeFile(createZernikeArray(currentAmps, '25CW012#060_CLOSED_LOOP_COMMANDS.txt'), 'Scan11_'+misc.round_sig_str(mag)+'.txt')"
   ]
  },
  {
   "cell_type": "markdown",
   "metadata": {
    "Collapsed": "false"
   },
   "source": [
    "## scan12 - Coma Mag Again"
   ]
  },
  {
   "cell_type": "code",
   "execution_count": 141,
   "metadata": {
    "Collapsed": "false"
   },
   "outputs": [
    {
     "name": "stdout",
     "output_type": "stream",
     "text": [
      "0.0\n",
      "0.025\n",
      "0.05\n",
      "0.07500000000000001\n",
      "0.1\n",
      "0.125\n",
      "0.15000000000000002\n",
      "0.17500000000000002\n",
      "0.2\n",
      "0.225\n",
      "0.25\n",
      "0.275\n",
      "0.30000000000000004\n"
     ]
    }
   ],
   "source": [
    "for mag in np.arange(0,0.325,0.025):\n",
    "    print(mag)\n",
    "    currentAmps = np.zeros(45)\n",
    "    currentAmps = addComa(currentAmps,mag,3*np.pi/2)\n",
    "    currentAmps = addAstigmatism(currentAmps, 0.125, np.pi/2)\n",
    "    currentAmps = addSpherical(currentAmps,-0.05)\n",
    "    writeZernikeFile(createZernikeArray(currentAmps, '25CW012#060_CLOSED_LOOP_COMMANDS.txt'), 'Scan12_'+misc.round_sigcb_str(mag)+'.txt')"
   ]
  },
  {
   "cell_type": "markdown",
   "metadata": {
    "Collapsed": "false"
   },
   "source": [
    "## Scan13 - Astig Mag Again"
   ]
  },
  {
   "cell_type": "code",
   "execution_count": 152,
   "metadata": {
    "Collapsed": "false"
   },
   "outputs": [
    {
     "name": "stdout",
     "output_type": "stream",
     "text": [
      "0.0\n",
      "0.025\n",
      "0.05\n",
      "0.07500000000000001\n",
      "0.1\n",
      "0.125\n",
      "0.15000000000000002\n",
      "0.17500000000000002\n",
      "Voltage out of range! Actuator:  65 , Value: 1.031153374921388\n"
     ]
    }
   ],
   "source": [
    "for mag in np.arange(0,0.2,0.025):\n",
    "    print(mag)\n",
    "    currentAmps = np.zeros(45)\n",
    "    currentAmps = addComa(currentAmps,0.275,3*np.pi/2)\n",
    "    currentAmps = addAstigmatism(currentAmps, mag, np.pi/2)\n",
    "    currentAmps = addSpherical(currentAmps,-0.05)\n",
    "    writeZernikeFile(createZernikeArray(currentAmps, '25CW012#060_CLOSED_LOOP_COMMANDS.txt'), 'Scan13_'+misc.round_sig_str(mag)+'.txt')"
   ]
  },
  {
   "cell_type": "markdown",
   "metadata": {
    "Collapsed": "false"
   },
   "source": [
    "## Scan14 - X pos"
   ]
  },
  {
   "cell_type": "markdown",
   "metadata": {
    "Collapsed": "false"
   },
   "source": [
    "## scan15 - Piston"
   ]
  },
  {
   "cell_type": "code",
   "execution_count": 163,
   "metadata": {
    "Collapsed": "false"
   },
   "outputs": [
    {
     "name": "stdout",
     "output_type": "stream",
     "text": [
      "-0.45\n",
      "-0.425\n",
      "-0.39999999999999997\n",
      "-0.37499999999999994\n",
      "-0.3499999999999999\n",
      "-0.3249999999999999\n",
      "-0.2999999999999999\n",
      "-0.27499999999999986\n",
      "-0.24999999999999983\n",
      "-0.2249999999999998\n",
      "-0.1999999999999998\n",
      "-0.17499999999999977\n",
      "-0.14999999999999974\n",
      "-0.12499999999999972\n",
      "-0.0999999999999997\n",
      "-0.07499999999999968\n",
      "-0.049999999999999656\n",
      "-0.024999999999999634\n"
     ]
    }
   ],
   "source": [
    "for mag in np.arange(-0.45,-0,0.025):\n",
    "    print(mag)\n",
    "    currentAmps = np.zeros(45)\n",
    "    currentAmps = addComa(currentAmps,0.275,3*np.pi/2)\n",
    "    currentAmps = addAstigmatism(currentAmps, 0.125, np.pi/2)\n",
    "    currentAmps = addSpherical(currentAmps,-0.05)\n",
    "    volts = createZernikeArray(currentAmps, '25CW012#060_CLOSED_LOOP_COMMANDS.txt')\n",
    "    volts += mag\n",
    "    checkValues(volts)\n",
    "    writeZernikeFile(volts, 'Scan15_'+misc.round_sig_str(mag)+'.txt')"
   ]
  },
  {
   "cell_type": "markdown",
   "metadata": {
    "Collapsed": "false"
   },
   "source": [
    "## Scan16 - Trefoil"
   ]
  },
  {
   "cell_type": "code",
   "execution_count": 193,
   "metadata": {
    "Collapsed": "false"
   },
   "outputs": [
    {
     "name": "stdout",
     "output_type": "stream",
     "text": [
      "0.0\n",
      "0.1\n",
      "0.2\n",
      "0.30000000000000004\n",
      "0.4\n",
      "0.5\n",
      "0.6000000000000001\n",
      "0.7000000000000001\n",
      "0.8\n",
      "0.9\n",
      "1.0\n",
      "1.1\n",
      "1.2000000000000002\n",
      "1.3\n",
      "1.4000000000000001\n",
      "1.5\n",
      "1.6\n",
      "1.7000000000000002\n",
      "1.8\n",
      "1.9000000000000001\n",
      "2.0\n",
      "2.1\n",
      "2.2\n",
      "2.3000000000000003\n",
      "2.4000000000000004\n",
      "2.5\n",
      "2.6\n",
      "2.7\n",
      "2.8000000000000003\n",
      "2.9000000000000004\n",
      "3.0\n",
      "3.1\n",
      "3.2\n",
      "3.3000000000000003\n",
      "3.4000000000000004\n",
      "3.5\n",
      "3.6\n",
      "3.7\n",
      "3.8000000000000003\n",
      "3.9000000000000004\n",
      "4.0\n",
      "4.1000000000000005\n",
      "4.2\n",
      "4.3\n",
      "4.4\n",
      "4.5\n",
      "4.6000000000000005\n",
      "4.7\n",
      "4.800000000000001\n",
      "4.9\n",
      "5.0\n",
      "5.1000000000000005\n",
      "5.2\n",
      "5.300000000000001\n",
      "5.4\n",
      "5.5\n",
      "5.6000000000000005\n",
      "5.7\n",
      "5.800000000000001\n",
      "5.9\n",
      "6.0\n",
      "6.1000000000000005\n",
      "6.2\n"
     ]
    }
   ],
   "source": [
    "for angle in np.arange(0, 2*np.pi, 0.1):\n",
    "    print(angle)\n",
    "    currentAmps = np.zeros(45)\n",
    "    currentAmps = addComa(currentAmps,0.275,3*np.pi/2)\n",
    "    currentAmps = addAstigmatism(currentAmps, 0.125, np.pi/2)\n",
    "    currentAmps = addSpherical(currentAmps,-0.05)\n",
    "    currentAmps = addTrefoil(currentAmps,0.1,angle)\n",
    "    volts = createZernikeArray(currentAmps, '25CW012#060_CLOSED_LOOP_COMMANDS.txt', quiet=True)\n",
    "    piston = -0.2\n",
    "    volts = arr(volts)+piston\n",
    "    checkValues(volts)\n",
    "    writeZernikeFile(volts, 'Scan16_'+misc.round_sig_str(angle)+'.txt')"
   ]
  },
  {
   "cell_type": "markdown",
   "metadata": {
    "Collapsed": "false"
   },
   "source": [
    "## Scan17 - Trefoil Mag"
   ]
  },
  {
   "cell_type": "code",
   "execution_count": 200,
   "metadata": {
    "Collapsed": "false"
   },
   "outputs": [
    {
     "name": "stdout",
     "output_type": "stream",
     "text": [
      "0.0\n",
      "0.025\n",
      "0.05\n",
      "0.07500000000000001\n",
      "0.1\n",
      "0.125\n"
     ]
    }
   ],
   "source": [
    "for mag in np.arange(0, 0.15, 0.025):\n",
    "    print(mag)\n",
    "    currentAmps = np.zeros(45)\n",
    "    currentAmps = addComa(currentAmps,0.275,3*np.pi/2)\n",
    "    currentAmps = addAstigmatism(currentAmps, 0.125, np.pi/2)\n",
    "    currentAmps = addSpherical(currentAmps,-0.05)\n",
    "    currentAmps = addTrefoil(currentAmps,mag,5)\n",
    "    volts = createZernikeArray(currentAmps, '25CW012#060_CLOSED_LOOP_COMMANDS.txt', quiet=True)\n",
    "    piston = -0.2\n",
    "    volts = arr(volts)+piston\n",
    "    checkValues(volts)\n",
    "    writeZernikeFile(volts, 'Scan17_'+misc.round_sig_str(mag)+'.txt')"
   ]
  },
  {
   "cell_type": "markdown",
   "metadata": {
    "Collapsed": "false"
   },
   "source": [
    "## Scan18 - Coma Mag"
   ]
  },
  {
   "cell_type": "code",
   "execution_count": 202,
   "metadata": {
    "Collapsed": "false"
   },
   "outputs": [
    {
     "name": "stdout",
     "output_type": "stream",
     "text": [
      "0.0\n",
      "0.025\n",
      "0.05\n",
      "0.07500000000000001\n",
      "0.1\n",
      "0.125\n",
      "0.15000000000000002\n",
      "0.17500000000000002\n",
      "0.2\n",
      "0.225\n",
      "0.25\n",
      "0.275\n",
      "0.30000000000000004\n",
      "0.325\n",
      "0.35000000000000003\n"
     ]
    }
   ],
   "source": [
    "for mag in np.arange(0, 0.375, 0.025):\n",
    "    print(mag)\n",
    "    currentAmps = np.zeros(45)\n",
    "    currentAmps = addComa(currentAmps,mag,3*np.pi/2)\n",
    "    currentAmps = addAstigmatism(currentAmps, 0.125, np.pi/2)\n",
    "    currentAmps = addSpherical(currentAmps,-0.05)\n",
    "    currentAmps = addTrefoil(currentAmps,0.025,5)\n",
    "    volts = createZernikeArray(currentAmps, '25CW012#060_CLOSED_LOOP_COMMANDS.txt', quiet=True)\n",
    "    piston = -0.2\n",
    "    volts = arr(volts)+piston\n",
    "    checkValues(volts)\n",
    "    writeZernikeFile(volts, 'Scan18_'+misc.round_sig_str(mag)+'.txt')"
   ]
  },
  {
   "cell_type": "markdown",
   "metadata": {
    "Collapsed": "false"
   },
   "source": [
    "## scan19 coma angle"
   ]
  },
  {
   "cell_type": "code",
   "execution_count": 25,
   "metadata": {
    "Collapsed": "false"
   },
   "outputs": [
    {
     "name": "stdout",
     "output_type": "stream",
     "text": [
      "3.7123889803846897\n",
      "3.8123889803846898\n",
      "3.91238898038469\n",
      "4.01238898038469\n",
      "4.11238898038469\n",
      "4.21238898038469\n",
      "4.31238898038469\n",
      "4.412388980384691\n",
      "4.51238898038469\n",
      "4.61238898038469\n",
      "4.712388980384691\n",
      "4.812388980384691\n",
      "4.912388980384691\n",
      "5.01238898038469\n",
      "5.112388980384691\n",
      "5.2123889803846915\n",
      "5.312388980384691\n",
      "5.412388980384691\n",
      "5.512388980384691\n",
      "5.612388980384692\n"
     ]
    }
   ],
   "source": [
    "for theta in np.arange(3*np.pi/2-1, 3*np.pi/2+1, 0.1):\n",
    "    print(theta)\n",
    "    currentAmps = np.zeros(45)\n",
    "    currentAmps = addComa(currentAmps,0.3,theta)\n",
    "    currentAmps = addAstigmatism(currentAmps, 0.125, np.pi/2)\n",
    "    currentAmps = addSpherical(currentAmps,-0.05)\n",
    "    currentAmps = addTrefoil(currentAmps,0.025,5)\n",
    "    volts = createZernikeArray(currentAmps, '25CW012#060_CLOSED_LOOP_COMMANDS.txt', quiet=True)\n",
    "    piston = -0.2\n",
    "    volts = arr(volts)+piston\n",
    "    checkValues(volts)\n",
    "    writeZernikeFile(volts, 'Scan19_'+misc.round_sig_str(theta)+'.txt')"
   ]
  },
  {
   "cell_type": "markdown",
   "metadata": {
    "Collapsed": "false"
   },
   "source": [
    "## Scan20 Spherical"
   ]
  },
  {
   "cell_type": "code",
   "execution_count": 37,
   "metadata": {
    "Collapsed": "false"
   },
   "outputs": [
    {
     "name": "stdout",
     "output_type": "stream",
     "text": [
      "-0.2\n",
      "-0.17500000000000002\n",
      "-0.15000000000000002\n",
      "-0.12500000000000003\n",
      "-0.10000000000000003\n",
      "-0.07500000000000004\n",
      "-0.050000000000000044\n",
      "-0.02500000000000005\n",
      "-5.551115123125783e-17\n"
     ]
    }
   ],
   "source": [
    "for mag in np.arange(-0.2,0.025, 0.025):\n",
    "    print(mag)\n",
    "    currentAmps = np.zeros(45)\n",
    "    currentAmps = addComa(currentAmps,0.325,3*np.pi/2)\n",
    "    currentAmps = addAstigmatism(currentAmps, 0.125, np.pi/2)\n",
    "    currentAmps = addSpherical(currentAmps,mag)\n",
    "    currentAmps = addTrefoil(currentAmps,0.025,5)\n",
    "    volts = createZernikeArray(currentAmps, '25CW012#060_CLOSED_LOOP_COMMANDS.txt', quiet=True)\n",
    "    piston = -0.2\n",
    "    volts = arr(volts)+piston\n",
    "    checkValues(volts)\n",
    "    writeZernikeFile(volts, 'Scan20_'+misc.round_sig_str(mag)+'.txt')"
   ]
  },
  {
   "cell_type": "markdown",
   "metadata": {
    "Collapsed": "false"
   },
   "source": [
    "# Scan 2"
   ]
  },
  {
   "cell_type": "markdown",
   "metadata": {
    "Collapsed": "false"
   },
   "source": [
    "## Scan 2.1 - Coma Mag"
   ]
  },
  {
   "cell_type": "code",
   "execution_count": 40,
   "metadata": {
    "Collapsed": "false"
   },
   "outputs": [
    {
     "name": "stdout",
     "output_type": "stream",
     "text": [
      "0.0\n",
      "0.02\n",
      "0.04\n",
      "0.06\n",
      "0.08\n",
      "0.1\n",
      "0.12\n",
      "0.14\n",
      "0.16\n",
      "0.18\n",
      "0.2\n",
      "0.22\n",
      "0.24\n",
      "0.26\n",
      "0.28\n",
      "0.3\n",
      "0.32\n",
      "0.34\n",
      "0.36\n"
     ]
    }
   ],
   "source": [
    "for mag in np.arange(0,0.38, 0.02):\n",
    "    print(mag)\n",
    "    currentAmps = np.zeros(45)\n",
    "    currentAmps = addComa(currentAmps,mag, 3*np.pi/2)\n",
    "    currentAmps = addAstigmatism(currentAmps, 0, np.pi/2)\n",
    "    currentAmps = addSpherical(currentAmps,0)\n",
    "    currentAmps = addTrefoil(currentAmps,0,5)\n",
    "    volts = createZernikeArray(currentAmps, '25CW012#060_CLOSED_LOOP_COMMANDS.txt', quiet=True)\n",
    "    piston = 0\n",
    "    volts = arr(volts)+piston\n",
    "    checkValues(volts)\n",
    "    writeZernikeFile(volts, 'Scan2p1_'+misc.round_sig_str(mag)+'.txt')"
   ]
  },
  {
   "cell_type": "markdown",
   "metadata": {
    "Collapsed": "false"
   },
   "source": [
    "## Scan 2.2 - Astig Mag"
   ]
  },
  {
   "cell_type": "code",
   "execution_count": 44,
   "metadata": {
    "Collapsed": "false"
   },
   "outputs": [
    {
     "name": "stdout",
     "output_type": "stream",
     "text": [
      "0.0\n",
      "0.025\n",
      "0.05\n",
      "0.07500000000000001\n",
      "0.1\n",
      "0.125\n",
      "0.15000000000000002\n",
      "0.17500000000000002\n",
      "0.2\n",
      "0.225\n",
      "0.25\n",
      "0.275\n",
      "0.30000000000000004\n"
     ]
    }
   ],
   "source": [
    "for mag in np.arange(0,0.325, 0.025):\n",
    "    print(mag)\n",
    "    currentAmps = np.zeros(45)\n",
    "    currentAmps = addComa(currentAmps,0.1, 3*np.pi/2)\n",
    "    currentAmps = addAstigmatism(currentAmps, mag, np.pi/2)\n",
    "    currentAmps = addSpherical(currentAmps,0)\n",
    "    currentAmps = addTrefoil(currentAmps,0,5)\n",
    "    volts = createZernikeArray(currentAmps, '25CW012#060_CLOSED_LOOP_COMMANDS.txt', quiet=True)\n",
    "    piston = 0\n",
    "    volts = arr(volts)+piston\n",
    "    checkValues(volts)\n",
    "    writeZernikeFile(volts, 'Scan2p2_'+misc.round_sig_str(mag)+'.txt')"
   ]
  },
  {
   "cell_type": "markdown",
   "metadata": {
    "Collapsed": "false"
   },
   "source": [
    "## Scan 2.3 - Spherical"
   ]
  },
  {
   "cell_type": "code",
   "execution_count": 48,
   "metadata": {
    "Collapsed": "false"
   },
   "outputs": [
    {
     "name": "stdout",
     "output_type": "stream",
     "text": [
      "-0.3\n",
      "-0.27499999999999997\n",
      "-0.24999999999999994\n",
      "-0.22499999999999992\n",
      "-0.1999999999999999\n",
      "-0.17499999999999988\n",
      "-0.14999999999999986\n",
      "-0.12499999999999983\n",
      "-0.09999999999999981\n",
      "-0.07499999999999979\n",
      "-0.04999999999999977\n",
      "-0.024999999999999745\n"
     ]
    }
   ],
   "source": [
    "for mag in np.arange(-0.3,0, 0.025):\n",
    "    print(mag)\n",
    "    currentAmps = np.zeros(45)\n",
    "    currentAmps = addComa(currentAmps,0.1, 3*np.pi/2)\n",
    "    currentAmps = addAstigmatism(currentAmps, 0.05, np.pi/2)\n",
    "    currentAmps = addSpherical(currentAmps,mag)\n",
    "    currentAmps = addTrefoil(currentAmps,0,5)\n",
    "    volts = createZernikeArray(currentAmps, '25CW012#060_CLOSED_LOOP_COMMANDS.txt', quiet=True)\n",
    "    piston = 0\n",
    "    volts = arr(volts)+piston\n",
    "    checkValues(volts)\n",
    "    writeZernikeFile(volts, 'Scan2p3_'+misc.round_sig_str(mag)+'.txt')"
   ]
  },
  {
   "cell_type": "markdown",
   "metadata": {
    "Collapsed": "false"
   },
   "source": [
    "## Scan 2.4 - Coma Angle"
   ]
  },
  {
   "cell_type": "code",
   "execution_count": 50,
   "metadata": {
    "Collapsed": "false"
   },
   "outputs": [
    {
     "name": "stdout",
     "output_type": "stream",
     "text": [
      "0.0\n",
      "0.05\n",
      "0.1\n",
      "0.15000000000000002\n",
      "0.2\n",
      "0.25\n",
      "0.30000000000000004\n",
      "0.35000000000000003\n",
      "0.4\n",
      "0.45\n",
      "0.5\n",
      "0.55\n",
      "0.6000000000000001\n",
      "0.65\n",
      "0.7000000000000001\n",
      "0.75\n",
      "0.8\n",
      "0.8500000000000001\n",
      "0.9\n",
      "0.9500000000000001\n",
      "1.0\n",
      "1.05\n",
      "1.1\n",
      "1.1500000000000001\n",
      "1.2000000000000002\n",
      "1.25\n",
      "1.3\n",
      "1.35\n",
      "1.4000000000000001\n",
      "1.4500000000000002\n",
      "1.5\n",
      "1.55\n",
      "1.6\n",
      "1.6500000000000001\n",
      "1.7000000000000002\n",
      "1.75\n",
      "1.8\n",
      "1.85\n",
      "1.9000000000000001\n",
      "1.9500000000000002\n",
      "2.0\n",
      "2.0500000000000003\n",
      "2.1\n",
      "2.15\n",
      "2.2\n",
      "2.25\n",
      "2.3000000000000003\n",
      "2.35\n",
      "2.4000000000000004\n",
      "2.45\n",
      "2.5\n",
      "2.5500000000000003\n",
      "2.6\n",
      "2.6500000000000004\n",
      "2.7\n",
      "2.75\n",
      "2.8000000000000003\n",
      "2.85\n",
      "2.9000000000000004\n",
      "2.95\n",
      "3.0\n",
      "3.0500000000000003\n",
      "3.1\n",
      "3.1500000000000004\n",
      "3.2\n",
      "3.25\n",
      "3.3000000000000003\n",
      "3.35\n",
      "3.4000000000000004\n",
      "3.45\n",
      "3.5\n",
      "3.5500000000000003\n",
      "3.6\n",
      "3.6500000000000004\n",
      "3.7\n",
      "3.75\n",
      "3.8000000000000003\n",
      "3.85\n",
      "3.9000000000000004\n",
      "3.95\n",
      "4.0\n",
      "4.05\n",
      "4.1000000000000005\n",
      "4.15\n",
      "4.2\n",
      "4.25\n",
      "4.3\n",
      "4.3500000000000005\n",
      "4.4\n",
      "4.45\n",
      "4.5\n",
      "4.55\n",
      "4.6000000000000005\n",
      "4.65\n",
      "4.7\n",
      "4.75\n",
      "4.800000000000001\n",
      "4.8500000000000005\n",
      "4.9\n",
      "4.95\n",
      "5.0\n",
      "5.050000000000001\n",
      "5.1000000000000005\n",
      "5.15\n",
      "5.2\n",
      "5.25\n",
      "5.300000000000001\n",
      "5.3500000000000005\n",
      "5.4\n",
      "5.45\n",
      "5.5\n",
      "5.550000000000001\n",
      "5.6000000000000005\n",
      "5.65\n",
      "5.7\n",
      "5.75\n",
      "5.800000000000001\n",
      "5.8500000000000005\n",
      "5.9\n",
      "5.95\n",
      "6.0\n",
      "6.050000000000001\n",
      "6.1000000000000005\n",
      "6.15\n",
      "6.2\n",
      "6.25\n"
     ]
    }
   ],
   "source": [
    "for theta in np.arange(0,2*np.pi, 0.05):\n",
    "    print(theta)\n",
    "    currentAmps = np.zeros(45)\n",
    "    # 3pi/2\n",
    "    currentAmps = addComa(currentAmps,0.1, theta)\n",
    "    currentAmps = addAstigmatism(currentAmps, 0.05, np.pi/2)\n",
    "    currentAmps = addSpherical(currentAmps,-0.2)\n",
    "    currentAmps = addTrefoil(currentAmps,0,5)\n",
    "    volts = createZernikeArray(currentAmps, '25CW012#060_CLOSED_LOOP_COMMANDS.txt', quiet=True)\n",
    "    piston = 0\n",
    "    volts = arr(volts)+piston\n",
    "    checkValues(volts)\n",
    "    writeZernikeFile(volts, 'Scan2p4_'+misc.round_sig_str(theta)+'.txt')"
   ]
  },
  {
   "cell_type": "markdown",
   "metadata": {
    "Collapsed": "false"
   },
   "source": [
    "## scan 2.5 - Coma Mag again"
   ]
  },
  {
   "cell_type": "code",
   "execution_count": 27,
   "metadata": {
    "Collapsed": "false"
   },
   "outputs": [
    {
     "name": "stdout",
     "output_type": "stream",
     "text": [
      "0.0\n",
      "0.01\n",
      "0.02\n",
      "0.03\n",
      "0.04\n",
      "0.05\n",
      "0.06\n",
      "0.07\n",
      "0.08\n",
      "0.09\n",
      "0.1\n",
      "0.11\n",
      "0.12\n",
      "0.13\n",
      "0.14\n",
      "0.15\n",
      "0.16\n",
      "0.17\n",
      "0.18\n",
      "0.19\n",
      "0.2\n",
      "0.21\n",
      "0.22\n",
      "0.23\n",
      "0.24\n",
      "0.25\n",
      "0.26\n",
      "0.27\n",
      "0.28\n",
      "0.29\n",
      "0.3\n",
      "0.31\n",
      "0.32\n",
      "0.33\n",
      "0.34\n",
      "0.35000000000000003\n"
     ]
    }
   ],
   "source": [
    "for mag in np.arange(0,0.36, 0.01):\n",
    "    print(mag)\n",
    "    currentAmps = np.zeros(45)\n",
    "    # 3pi/2 = 4.7\n",
    "    currentAmps = addComa(currentAmps,mag, 4.25)\n",
    "    currentAmps = addAstigmatism(currentAmps, 0.05, np.pi/2)\n",
    "    currentAmps = addSpherical(currentAmps,-0.2)\n",
    "    currentAmps = addTrefoil(currentAmps,0,5)\n",
    "    volts = createZernikeArray(currentAmps, '25CW012#060_CLOSED_LOOP_COMMANDS.txt', quiet=True)\n",
    "    piston = 0\n",
    "    volts = arr(volts)+piston\n",
    "    checkValues(volts)\n",
    "    writeZernikeFile(volts, 'Scan2p5_'+misc.round_sig_str(mag)+'.txt')"
   ]
  },
  {
   "cell_type": "markdown",
   "metadata": {
    "Collapsed": "false"
   },
   "source": [
    "### 2.6 Astig Angle"
   ]
  },
  {
   "cell_type": "code",
   "execution_count": 28,
   "metadata": {
    "Collapsed": "false"
   },
   "outputs": [
    {
     "name": "stdout",
     "output_type": "stream",
     "text": [
      "0.0\n",
      "0.1\n",
      "0.2\n",
      "0.30000000000000004\n",
      "0.4\n",
      "0.5\n",
      "0.6000000000000001\n",
      "0.7000000000000001\n",
      "0.8\n",
      "0.9\n",
      "1.0\n",
      "1.1\n",
      "1.2000000000000002\n",
      "1.3\n",
      "1.4000000000000001\n",
      "1.5\n",
      "1.6\n",
      "1.7000000000000002\n",
      "1.8\n",
      "1.9000000000000001\n",
      "2.0\n",
      "2.1\n",
      "2.2\n",
      "2.3000000000000003\n",
      "2.4000000000000004\n",
      "2.5\n",
      "2.6\n",
      "2.7\n",
      "2.8000000000000003\n",
      "2.9000000000000004\n",
      "3.0\n",
      "3.1\n",
      "3.2\n",
      "3.3000000000000003\n",
      "3.4000000000000004\n",
      "3.5\n",
      "3.6\n",
      "3.7\n",
      "3.8000000000000003\n",
      "3.9000000000000004\n",
      "4.0\n",
      "4.1000000000000005\n",
      "4.2\n",
      "4.3\n",
      "4.4\n",
      "4.5\n",
      "4.6000000000000005\n",
      "4.7\n",
      "4.800000000000001\n",
      "4.9\n",
      "5.0\n",
      "5.1000000000000005\n",
      "5.2\n",
      "5.300000000000001\n",
      "5.4\n",
      "5.5\n",
      "5.6000000000000005\n",
      "5.7\n",
      "5.800000000000001\n",
      "5.9\n",
      "6.0\n",
      "6.1000000000000005\n",
      "6.2\n"
     ]
    }
   ],
   "source": [
    "for theta in np.arange(0,2*np.pi, 0.1):\n",
    "    print(theta)\n",
    "    currentAmps = np.zeros(45)\n",
    "    # 3pi/2 = 4.7\n",
    "    currentAmps = addComa(currentAmps,0, 4.25)\n",
    "    currentAmps = addAstigmatism(currentAmps, 0.05, theta)\n",
    "    currentAmps = addSpherical(currentAmps,-0.2)\n",
    "    currentAmps = addTrefoil(currentAmps,0,5)\n",
    "    volts = createZernikeArray(currentAmps, '25CW012#060_CLOSED_LOOP_COMMANDS.txt', quiet=True)\n",
    "    piston = 0\n",
    "    volts = arr(volts)+piston\n",
    "    checkValues(volts)\n",
    "    writeZernikeFile(volts, 'Scan2p6_'+misc.round_sig_str(theta)+'.txt')"
   ]
  },
  {
   "cell_type": "code",
   "execution_count": null,
   "metadata": {
    "Collapsed": "false"
   },
   "outputs": [],
   "source": []
  }
 ],
 "metadata": {
  "kernelspec": {
   "display_name": "Python 3",
   "language": "python",
   "name": "python3"
  },
  "language_info": {
   "codemirror_mode": {
    "name": "ipython",
    "version": 3
   },
   "file_extension": ".py",
   "mimetype": "text/x-python",
   "name": "python",
   "nbconvert_exporter": "python",
   "pygments_lexer": "ipython3",
   "version": "3.6.9"
  }
 },
 "nbformat": 4,
 "nbformat_minor": 4
}

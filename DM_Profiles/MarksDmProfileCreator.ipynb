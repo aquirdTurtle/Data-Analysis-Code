{
 "cells": [
  {
   "cell_type": "markdown",
   "metadata": {},
   "source": [
    "Based on Chris Kiehl's original work."
   ]
  },
  {
   "cell_type": "code",
   "execution_count": 43,
   "metadata": {},
   "outputs": [],
   "source": [
    "from matplotlib.pyplot import *\n",
    "import matplotlib.image as mpimg\n",
    "import matplotlib.colors as colors\n",
    "from matplotlib.patches import Circle, PathPatch\n",
    "import scipy.integrate as integrate\n",
    "import numpy as np\n",
    "from scipy.optimize import curve_fit\n",
    "import cmath\n",
    "import csv\n",
    "from numpy import array as arr\n",
    "from copy import copy\n",
    "from scipy.special import factorial "
   ]
  },
  {
   "cell_type": "code",
   "execution_count": 3,
   "metadata": {
    "hidden": true
   },
   "outputs": [],
   "source": [
    "def getKnoll(n,m):\n",
    "    return (n*(n+2)+m)/2\n",
    "def fromNoll(j):\n",
    "    n = 0\n",
    "    m = 0\n",
    "    while (j > n):\n",
    "        n += 1\n",
    "        j -= n\n",
    "    m = -n+2*j\n",
    "    return n,m\n",
    "# make sure these are inverses.\n",
    "for j in range(200):\n",
    "    if j != getKnoll(*fromNoll(j)):\n",
    "        print('!')"
   ]
  },
  {
   "cell_type": "code",
   "execution_count": 15,
   "metadata": {},
   "outputs": [],
   "source": [
    "from numpy import array as arr"
   ]
  },
  {
   "cell_type": "code",
   "execution_count": 50,
   "metadata": {
    "hidden": true
   },
   "outputs": [],
   "source": [
    "def toPolar(x,y):\n",
    "    r = np.sqrt(x**2+y**2)\n",
    "    phi = np.arctan2(y,x)\n",
    "    return r,phi\n",
    "def toCartesian(r,theta):\n",
    "    x = r*np.cos(theta)\n",
    "    y = r*np.sin(theta)\n",
    "    return x,y\n",
    "# make sure these are inverses\n",
    "for x in np.linspace(-1,1,100):\n",
    "    for y in np.linspace(-1,1,100):\n",
    "        if (arr((x,y)) -arr(toCartesian(*toPolar(x,y)))>1e-9).any():\n",
    "            print('!')"
   ]
  },
  {
   "cell_type": "code",
   "execution_count": 52,
   "metadata": {
    "hidden": true
   },
   "outputs": [],
   "source": [
    "def zernikeTheta(m,theta):\n",
    "    if (m >= 0):\n",
    "        return np.cos(m*theta)\n",
    "    else:\n",
    "        return np.sin(-m*theta)\n",
    "def zernikeRadial(n,m,r):\n",
    "    m = abs(m)\n",
    "    if (m > n):\n",
    "        print('Error: n must be greater than or equal to n!')\n",
    "        return 0\n",
    "    if (((n-m)%2) > 0):\n",
    "        print('Error: (n - m) must be even!')\n",
    "        return 0\n",
    "    kArray = np.linspace(0,(n-m)/2,int((n-m)/2+1))\n",
    "    rArray = 0\n",
    "    i = 0\n",
    "    for k in kArray:\n",
    "        rArray=rArray+(r**(n-2*k))*((-1)**k)*factorial(n-k)/(factorial(k)*factorial((n+m)/2-k)*factorial((n-m)/2-k))\n",
    "        i = i+1\n",
    "    return rArray\n",
    "def normalization(n,m):\n",
    "    \"\"\" Unused? I think the normalization is built in\"\"\"\n",
    "    if (m == 0) :\n",
    "        a = 2*np.pi\n",
    "    else:\n",
    "        a = 1*np.pi\n",
    "    return np.sqrt((2*n+2)/a)\n",
    "# put the above together.\n",
    "def zernike(n,m,x,y):\n",
    "    return zernikePolar(n,m,*toPolar(x,y))\n",
    "    #r,theta = polar(x,y)\n",
    "    #return zernikeTheta(m,theta)*zernikeRadial(n,m,r)*normalization(n,m)\n",
    "def zernikePolar(n,m,r,theta):\n",
    "    return zernikeTheta(m,theta)*zernikeRadial(n,m,r)*normalization(n,m)"
   ]
  },
  {
   "cell_type": "code",
   "execution_count": 28,
   "metadata": {
    "hidden": true
   },
   "outputs": [],
   "source": [
    "def zernikeFit(X,*param):\n",
    "    x,y = X\n",
    "    height = param[0]*zernike(fromNoll(0)[0],fromNoll(0)[1],x,y)\n",
    "    for k in range(1,41):\n",
    "        height += param[k]*zernike(fromNoll(k)[0],fromNoll(k)[1],x,y)\n",
    "    return height"
   ]
  },
  {
   "cell_type": "markdown",
   "metadata": {
    "heading_collapsed": true
   },
   "source": [
    "## Verifying Orthogonality"
   ]
  },
  {
   "cell_type": "code",
   "execution_count": 31,
   "metadata": {
    "hidden": true
   },
   "outputs": [
    {
     "name": "stdout",
     "output_type": "stream",
     "text": [
      "(-7.243814608430614e-17, 9.871058785287423e-09)\n"
     ]
    }
   ],
   "source": [
    "n = 5\n",
    "m = 1\n",
    "#def integrand(r,theta):\n",
    " #   return r*zernikePolar(n,m,r,theta)**2\n",
    "f = lambda theta, r: r*zernikePolar(4,0,r,theta)*zernikePolar(4,2,r,theta)\n",
    "# should be small, presumably.\n",
    "print(integrate.dblquad(f, 0, 1, lambda r: 0, lambda r: 2*np.pi))"
   ]
  },
  {
   "cell_type": "markdown",
   "metadata": {
    "heading_collapsed": true
   },
   "source": [
    "## DM Lookup Table"
   ]
  },
  {
   "cell_type": "code",
   "execution_count": 32,
   "metadata": {},
   "outputs": [],
   "source": [
    "def myDmLookup(pixNum, factor=1/3.0):\n",
    "    if not (0 <= pixNum <= 136):\n",
    "        raise ValueError('Invalid Pixel Number!')\n",
    "    rowOff = [4,2,1,1,0,0,0,0,0,1,1,2,4]\n",
    "    numInRow = []\n",
    "    yInit = 6\n",
    "    for rowOffset in rowOff:\n",
    "        numInRow.append((7-(rowOffset+1))*2+1)\n",
    "    #sum(numInRow) = 137\n",
    "    centerOffset = -((arr(numInRow)-1)/2).astype(int)\n",
    "    pn = copy(pixNum)\n",
    "    for rowNum, num in enumerate(numInRow):\n",
    "        pn -= num\n",
    "        if pn < 0:\n",
    "            pn += num\n",
    "            return [factor*(centerOffset[rowNum]+pn), factor*(yInit-rowNum)]\n",
    "    raise ValueError('ERROR: Somehow made it to the end of the loop depsite passing the initial value range check...')"
   ]
  },
  {
   "cell_type": "markdown",
   "metadata": {
    "heading_collapsed": true
   },
   "source": [
    "## Program Pure Zernike Polynomials"
   ]
  },
  {
   "cell_type": "code",
   "execution_count": 34,
   "metadata": {},
   "outputs": [],
   "source": [
    "import os"
   ]
  },
  {
   "cell_type": "code",
   "execution_count": 44,
   "metadata": {},
   "outputs": [],
   "source": [
    "def readZernikeFile(file):\n",
    "    valArray = []\n",
    "    with open(file) as f:\n",
    "        lines = f.readlines()\n",
    "        for l in lines:\n",
    "            valArray.append(float(l))\n",
    "    return valArray"
   ]
  },
  {
   "cell_type": "code",
   "execution_count": 45,
   "metadata": {},
   "outputs": [],
   "source": [
    "def writeZernikeFile(valArray, outFile):\n",
    "    # not sure if any need to do this slightly more convoluted writing, but just copying chris's method.\n",
    "    with open(outFile, 'w', newline='') as csvfile:\n",
    "        DM_Writer = csv.writer(csvfile, delimiter=' ', quotechar ='|', quoting=csv.QUOTE_MINIMAL)\n",
    "        for v in valArray:\n",
    "            DM_Writer.writerow([v])"
   ]
  },
  {
   "cell_type": "code",
   "execution_count": 143,
   "metadata": {},
   "outputs": [],
   "source": [
    "def makeIm(actuatorValueList):\n",
    "    avl = actuatorValueList\n",
    "    pic = np.zeros((13,13))+0.5\n",
    "    rowOff = [4,2,1,1,0,0,0,0,0,1,1,2,4]\n",
    "    tc = 0\n",
    "    for i, rowO in enumerate(rowOff):\n",
    "        numInRow = (7-(rowO+1))*2+1\n",
    "        for j in range(numInRow):\n",
    "            pic[i][rowO+j] = avl[tc]\n",
    "            tc += 1\n",
    "    return pic"
   ]
  },
  {
   "cell_type": "code",
   "execution_count": 75,
   "metadata": {},
   "outputs": [],
   "source": [
    "def addComa(zAmps, comaMag, comaAngle):\n",
    "    \"\"\"\n",
    "    Adds at a particular angle and magnitude to a list of zernike amplituders.\n",
    "    \"\"\"\n",
    "    x,y = toCartesian(comaMag,comaAngle)\n",
    "    zAmps[7] += x\n",
    "    zAmps[8] += y\n",
    "    return zAmps"
   ]
  },
  {
   "cell_type": "code",
   "execution_count": 183,
   "metadata": {},
   "outputs": [],
   "source": [
    "def createZernikeArray(amplitudes, baselineFile):\n",
    "    vals = []\n",
    "    inc = 1/3\n",
    "    flatVoltage = np.linspace(0, 136, 137)\n",
    "    newVoltage = np.linspace(0, 136, 137)\n",
    "    sign=0\n",
    "    with open(baselineFile, newline='') as csvfile:\n",
    "        DM_Reader = csv.reader(csvfile, delimiter=' ', quotechar='|', quoting=csv.QUOTE_NONNUMERIC)\n",
    "        for i, row in enumerate(DM_Reader):\n",
    "            flatVoltage[i]=row[0]\n",
    "    for i in range(0,137):\n",
    "        zernSum=0\n",
    "        weightFactor = 1\n",
    "        x,y = myDmLookup(i)\n",
    "        if (x**2+y**2)<=1:\n",
    "            for j, amp in enumerate(amplitudes):\n",
    "                m,n = fromNoll(j)\n",
    "                zernSum += amp*zernike(m,n,x,y)\n",
    "        elif (x**2+y**2)<1:\n",
    "            for j, amp in enumerate(amplitudes):\n",
    "                m,n = fromNoll(j)\n",
    "                r,t = toPolar(x,y)\n",
    "                # use circle's edge (i.e. r=1) value at the angle of the pixel\n",
    "                x_, y_ = toCartesian(1,t)\n",
    "                zernSum += amp*zernike(m,n,x_,y_)\n",
    "        volt = (-1 if zernSum <= 0 else 1)*zernSum**2*weightFactor+flatVoltage[i]\n",
    "        if not (0 < volt < 1):\n",
    "            print('Voltage out of range! Actuator: ', i,', Value:',volt)\n",
    "        vals.append(volt)\n",
    "    return vals"
   ]
  },
  {
   "cell_type": "code",
   "execution_count": 159,
   "metadata": {},
   "outputs": [],
   "source": [
    "vals_old = readZernikeFile('coma_test---.txt')"
   ]
  },
  {
   "cell_type": "markdown",
   "metadata": {},
   "source": [
    "### piston (seeing used area)"
   ]
  },
  {
   "cell_type": "code",
   "execution_count": 165,
   "metadata": {},
   "outputs": [],
   "source": [
    "currentAmps = np.linspace(0,0,45) \n",
    "mag = 0.2\n",
    "vals_base = createZernikeArray(np.zeros(45), '25CW012#060_CLOSED_LOOP_COMMANDS.txt')\n",
    "currentAmps[0] = 0.2\n",
    "vals_pist = createZernikeArray(currentAmps, '25CW012#060_CLOSED_LOOP_COMMANDS.txt')"
   ]
  },
  {
   "cell_type": "code",
   "execution_count": 168,
   "metadata": {},
   "outputs": [
    {
     "data": {
      "text/plain": [
       "<matplotlib.colorbar.Colorbar at 0x1727b89e1d0>"
      ]
     },
     "execution_count": 168,
     "metadata": {},
     "output_type": "execute_result"
    },
    {
     "data": {
      "image/png": "[encoded data removed]",
      "text/plain": [
       "<Figure size 1080x252 with 4 Axes>"
      ]
     },
     "metadata": {},
     "output_type": "display_data"
    }
   ],
   "source": [
    "f, ax = subplots(1,2,figsize=(15,3.5))\n",
    "im = ax[0].imshow(makeIm(vals_pist))\n",
    "colorbar(im, ax=ax[0])\n",
    "diffNew = makeIm(vals_pist)-makeIm(vals_base)\n",
    "im = ax[1].imshow(diffNew)\n",
    "colorbar(im, ax=ax[1])\n",
    "#colorbar()"
   ]
  },
  {
   "cell_type": "markdown",
   "metadata": {},
   "source": [
    "### coma"
   ]
  },
  {
   "cell_type": "code",
   "execution_count": 188,
   "metadata": {},
   "outputs": [],
   "source": [
    "currentAmps = np.linspace(0,0,45) \n",
    "mag = 0.2\n",
    "vals_base = createZernikeArray(np.zeros(45), '25CW012#060_CLOSED_LOOP_COMMANDS.txt')\n",
    "vals_new = createZernikeArray(addComa(currentAmps,0.2,np.pi/6), '25CW012#060_CLOSED_LOOP_COMMANDS.txt')\n",
    "currentAmps = np.linspace(0,0,45) \n",
    "currentAmps[7] = 0.2\n",
    "vals_vert = createZernikeArray(currentAmps, '25CW012#060_CLOSED_LOOP_COMMANDS.txt')"
   ]
  },
  {
   "cell_type": "code",
   "execution_count": 189,
   "metadata": {},
   "outputs": [
    {
     "data": {
      "text/plain": [
       "<matplotlib.colorbar.Colorbar at 0x1727eb41780>"
      ]
     },
     "execution_count": 189,
     "metadata": {},
     "output_type": "execute_result"
    },
    {
     "data": {
      "image/png": "[encoded data removed]",
      "text/plain": [
       "<Figure size 1080x252 with 6 Axes>"
      ]
     },
     "metadata": {},
     "output_type": "display_data"
    }
   ],
   "source": [
    "f, ax = subplots(1,3,figsize=(15,3.5))\n",
    "im = ax[0].imshow(makeIm(vals_new))\n",
    "colorbar(im, ax=ax[0])\n",
    "diffNew = makeIm(vals_new)-makeIm(vals_base)\n",
    "ax[0].set_title('DM_Profile with angled coma')\n",
    "im = ax[1].imshow(diffNew)\n",
    "colorbar(im, ax=ax[1])\n",
    "ax[1].set_title('Pure Coma @ Angle')\n",
    "diffvert = makeIm(vals_vert)-makeIm(vals_base)\n",
    "im = ax[2].imshow(diffvert)\n",
    "ax[2].set_title('Vertical Coma, for ref')\n",
    "#im = ax[2].imshow(diffHor,vmax=max(diffNew.flatten()),vmin=min(diffNew.flatten()))\n",
    "colorbar(im, ax=ax[2])\n",
    "\n",
    "#colorbar()"
   ]
  },
  {
   "cell_type": "markdown",
   "metadata": {},
   "source": [
    "### spherical"
   ]
  },
  {
   "cell_type": "code",
   "execution_count": 169,
   "metadata": {},
   "outputs": [
    {
     "data": {
      "text/plain": [
       "12.0"
      ]
     },
     "execution_count": 169,
     "metadata": {},
     "output_type": "execute_result"
    }
   ],
   "source": [
    "getKnoll(4,0)"
   ]
  },
  {
   "cell_type": "code",
   "execution_count": 185,
   "metadata": {},
   "outputs": [],
   "source": [
    "currentAmps = np.linspace(0,0,45) \n",
    "mag = 0.2\n",
    "vals_base = createZernikeArray(np.zeros(45), '25CW012#060_CLOSED_LOOP_COMMANDS.txt')\n",
    "currentAmps[12] = 0.2\n",
    "vals_new = createZernikeArray(currentAmps, '25CW012#060_CLOSED_LOOP_COMMANDS.txt')"
   ]
  },
  {
   "cell_type": "code",
   "execution_count": 187,
   "metadata": {},
   "outputs": [
    {
     "data": {
      "text/plain": [
       "<matplotlib.colorbar.Colorbar at 0x1727e94a0b8>"
      ]
     },
     "execution_count": 187,
     "metadata": {},
     "output_type": "execute_result"
    },
    {
     "data": {
      "image/png": "[encoded data removed]",
      "text/plain": [
       "<Figure size 1080x252 with 4 Axes>"
      ]
     },
     "metadata": {},
     "output_type": "display_data"
    }
   ],
   "source": [
    "f, ax = subplots(1,2,figsize=(15,3.5))\n",
    "im = ax[0].imshow(makeIm(vals_new))\n",
    "colorbar(im, ax=ax[0])\n",
    "ax[0].set_title('DM Profile')\n",
    "diffNew = makeIm(vals_new)-makeIm(vals_base)\n",
    "im = ax[1].imshow(diffNew)\n",
    "ax[1].set_title('Pure Spherical aberration')\n",
    "colorbar(im, ax=ax[1])\n",
    "#colorbar()"
   ]
  },
  {
   "cell_type": "markdown",
   "metadata": {},
   "source": [
    "Doesn't look like spherical. Boundaries just look bad."
   ]
  },
  {
   "cell_type": "code",
   "execution_count": null,
   "metadata": {},
   "outputs": [],
   "source": []
  },
  {
   "cell_type": "markdown",
   "metadata": {},
   "source": [
    "Scan1: "
   ]
  },
  {
   "cell_type": "code",
   "execution_count": 25,
   "metadata": {
    "hidden": true
   },
   "outputs": [
    {
     "name": "stdout",
     "output_type": "stream",
     "text": [
      "xxxxxxxxxxxxxxxxx.........................................................xxxxxxxxxxxxxxxx"
     ]
    }
   ],
   "source": [
    "for val in np.arange(-0.45, 0.45, 0.01):\n",
    "    \n",
    "    currentAmps = np.linspace(0,0,45) \n",
    "    currentAmps[5] = 0.1\n",
    "    currentAmps[3] = 0\n",
    "    currentAmps[8] = val\n",
    "    currentAmps[7] = 0.2\n",
    "    try:\n",
    "        programPureZernike(currentAmps,'C:/Users/Regal-Lab/Code/Data-Analysis-Code/DM_Profiles/27CW012#060_CLOSED_LOOP_COMMANDS.txt','DM_Profiles/Scan6_' + str(int(100*val)) + '.txt')\n",
    "        print('.',end='')\n",
    "    except ValueError:\n",
    "        print('x',end='')"
   ]
  },
  {
   "cell_type": "code",
   "execution_count": 85,
   "metadata": {},
   "outputs": [],
   "source": [
    "vals = createZernikeArray(currentAmps, 'DM_Profiles/25CW012#060_CLOSED_LOOP_COMMANDS.txt')"
   ]
  },
  {
   "cell_type": "code",
   "execution_count": 49,
   "metadata": {},
   "outputs": [],
   "source": [
    "import matplotlib.pyplot as plt\n",
    "%matplotlib inline"
   ]
  },
  {
   "cell_type": "code",
   "execution_count": 113,
   "metadata": {},
   "outputs": [
    {
     "data": {
      "text/plain": [
       "<matplotlib.colorbar.Colorbar at 0x1fd0fb87048>"
      ]
     },
     "execution_count": 113,
     "metadata": {},
     "output_type": "execute_result"
    },
    {
     "data": {
      "image/png": "[encoded data removed]",
      "text/plain": [
       "<Figure size 432x288 with 2 Axes>"
      ]
     },
     "metadata": {},
     "output_type": "display_data"
    }
   ],
   "source": [
    "plt.imshow(makeIm(res)-makeIm(res0))\n",
    "plt.colorbar()"
   ]
  },
  {
   "cell_type": "code",
   "execution_count": null,
   "metadata": {},
   "outputs": [],
   "source": []
  }
 ],
 "metadata": {
  "kernelspec": {
   "display_name": "Python 3",
   "language": "python",
   "name": "python3"
  },
  "language_info": {
   "codemirror_mode": {
    "name": "ipython",
    "version": 3
   },
   "file_extension": ".py",
   "mimetype": "text/x-python",
   "name": "python",
   "nbconvert_exporter": "python",
   "pygments_lexer": "ipython3",
   "version": "3.6.7"
  }
 },
 "nbformat": 4,
 "nbformat_minor": 2
}

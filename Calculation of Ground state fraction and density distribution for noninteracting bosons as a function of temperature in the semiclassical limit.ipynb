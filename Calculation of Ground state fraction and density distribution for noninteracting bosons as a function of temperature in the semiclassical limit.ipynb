{
 "cells": [
  {
   "cell_type": "markdown",
   "metadata": {
    "Collapsed": "false"
   },
   "source": [
    "# Calculation of Ground state fraction and density distribution for noninteracting bosons as a function of temperature in the semiclassical limit"
   ]
  },
  {
   "cell_type": "markdown",
   "metadata": {
    "Collapsed": "false"
   },
   "source": [
    "We are not in the semiclassical limit, but this should be a good reference."
   ]
  },
  {
   "cell_type": "markdown",
   "metadata": {
    "Collapsed": "false"
   },
   "source": [
    "Mostly coming from \"Theory of Bose-Einstein Condensation in Trapped Gases\" By Franco Dalfovo et al."
   ]
  },
  {
   "cell_type": "markdown",
   "metadata": {
    "Collapsed": "false"
   },
   "source": [
    "$$\n",
    "k_B T_C \\approx 0.94 \\hbar \\omega_{ho} N^{1/3}\n",
    "$$"
   ]
  },
  {
   "cell_type": "markdown",
   "metadata": {
    "Collapsed": "false"
   },
   "source": [
    "$$\n",
    "\\frac{N_0}{N} = 1 -\\Big(\\frac{T}{T_C}\\Big)^3\n",
    "$$"
   ]
  },
  {
   "cell_type": "code",
   "execution_count": 214,
   "metadata": {
    "Collapsed": "false"
   },
   "outputs": [],
   "source": [
    "import numpy as np\n",
    "import matplotlib.pyplot as plt\n",
    "import matplotlib.style\n",
    "matplotlib.style.use('dark_background')\n",
    "import Miscellaneous as misc\n",
    "import MarksConstants as mc"
   ]
  },
  {
   "cell_type": "code",
   "execution_count": 75,
   "metadata": {
    "Collapsed": "false"
   },
   "outputs": [],
   "source": [
    "def gs_frac(tempRatio):\n",
    "    return max([1 - tempRatio**3, 0])"
   ]
  },
  {
   "cell_type": "code",
   "execution_count": 78,
   "metadata": {
    "Collapsed": "false"
   },
   "outputs": [],
   "source": [
    "def T_c(omega, N):\n",
    "    return 0.94*mc.hbar*omega*N**(1/3)/mc.k_B"
   ]
  },
  {
   "cell_type": "code",
   "execution_count": 77,
   "metadata": {
    "Collapsed": "false"
   },
   "outputs": [
    {
     "data": {
      "image/png": "[encoded data removed]",
      "text/plain": [
       "<Figure size 720x360 with 1 Axes>"
      ]
     },
     "metadata": {},
     "output_type": "display_data"
    }
   ],
   "source": [
    "tempRatios = np.linspace(0,1.1,1000)\n",
    "gsf = [gs_frac(tempRatio) for tempRatio in tempRatios]\n",
    "f, ax = plt.subplots(figsize=(10,5))\n",
    "ax.plot(tempRatios, gsf)\n",
    "fs = 20\n",
    "ax.set_xlabel('$T / T_C$', fontsize=fs)\n",
    "ax.set_ylabel('$N_0/N$', fontsize=fs);"
   ]
  },
  {
   "cell_type": "markdown",
   "metadata": {
    "Collapsed": "false"
   },
   "source": [
    "Equation (18) in above paper"
   ]
  },
  {
   "cell_type": "code",
   "execution_count": 133,
   "metadata": {
    "Collapsed": "false"
   },
   "outputs": [
    {
     "data": {
      "text/plain": [
       "[1]"
      ]
     },
     "execution_count": 133,
     "metadata": {},
     "output_type": "execute_result"
    }
   ],
   "source": [
    "[x for x in range(1,2)]"
   ]
  },
  {
   "cell_type": "code",
   "execution_count": 146,
   "metadata": {
    "Collapsed": "false"
   },
   "outputs": [],
   "source": [
    "def gfunc(a, arg):\n",
    "    return np.sum([arg**n / n**a for n in range(1,2)])\n",
    "def thermalDensity(x, T, omega_x):\n",
    "    thermal_wavelength = np.sqrt(2*np.pi*mc.hbar**2 / (mc.Rb87_M * mc.k_B * T))\n",
    "    def V_(x_):\n",
    "        return 0.5*mc.Rb87_M * omega_x**2 * x_**2\n",
    "    # adding power of 1/3 here because only 1D\n",
    "    return [(thermal_wavelength**(-3)*gfunc(3/2, np.exp(-(mc.k_B*T)**(-1)*V_(x_))))**(1/3) for x_ in x]"
   ]
  },
  {
   "cell_type": "code",
   "execution_count": 147,
   "metadata": {
    "Collapsed": "false"
   },
   "outputs": [],
   "source": [
    "def gs_density(x, omega_x):\n",
    "    return ((mc.Rb87_M*omega_x/(mc.hbar*np.pi))**(1/4)*np.exp(-mc.Rb87_M*omega_x*x**2/(2*mc.hbar)))**2"
   ]
  },
  {
   "cell_type": "code",
   "execution_count": 232,
   "metadata": {
    "Collapsed": "false"
   },
   "outputs": [
    {
     "name": "stdout",
     "output_type": "stream",
     "text": [
      "0.875\n",
      "0.12499999999999999 0.8741249999999997\n"
     ]
    }
   ],
   "source": [
    "npts = 1000\n",
    "xpts = np.linspace(-0.5e-6, 0.5e-6, npts)\n",
    "tc = T_c(omega_x, 5)\n",
    "temp = 0.5*tc\n",
    "print(gs_frac(temp/tc))\n",
    "omega_x = 150e3*np.pi*2\n",
    "#thermal = (1-gs_frac(temp/tc))*np.array(thermalDensity(xpts,temp,omega_x))\n",
    "dx_o_N = (max(xpts) - min(xpts)) / npts\n",
    "thermal = np.array(thermalDensity(xpts,temp,omega_x))\n",
    "gsf = gs_frac(temp/tc)\n",
    "thermal *= (1-gsf)/(np.sum(thermal)*dx_o_N)\n",
    "gsd = gsf*gs_density(xpts,omega_x)\n",
    "print(np.sum(thermal)*dx_o_N, np.sum(gsd)*dx_o_N)"
   ]
  },
  {
   "cell_type": "code",
   "execution_count": 233,
   "metadata": {
    "Collapsed": "false"
   },
   "outputs": [
    {
     "data": {
      "text/plain": [
       "<matplotlib.legend.Legend at 0x19760785e80>"
      ]
     },
     "execution_count": 233,
     "metadata": {},
     "output_type": "execute_result"
    },
    {
     "data": {
      "image/png": "[encoded data removed]",
      "text/plain": [
       "<Figure size 432x288 with 1 Axes>"
      ]
     },
     "metadata": {},
     "output_type": "display_data"
    }
   ],
   "source": [
    "fig, ax = plt.subplots()\n",
    "#ax.plot(xpts,thermal, label='thermal')\n",
    "#ax.plot(xpts, gsd, label='gs')\n",
    "ax.plot(xpts, gsd+thermal, label='sum')\n",
    "ax.legend()"
   ]
  },
  {
   "cell_type": "code",
   "execution_count": null,
   "metadata": {
    "Collapsed": "false"
   },
   "outputs": [],
   "source": []
  }
 ],
 "metadata": {
  "kernelspec": {
   "display_name": "Python 3",
   "language": "python",
   "name": "python3"
  },
  "language_info": {
   "codemirror_mode": {
    "name": "ipython",
    "version": 3
   },
   "file_extension": ".py",
   "mimetype": "text/x-python",
   "name": "python",
   "nbconvert_exporter": "python",
   "pygments_lexer": "ipython3",
   "version": "3.6.9"
  }
 },
 "nbformat": 4,
 "nbformat_minor": 4
}

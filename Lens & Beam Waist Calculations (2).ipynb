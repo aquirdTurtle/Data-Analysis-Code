{
 "cells": [
  {
   "cell_type": "markdown",
   "metadata": {
    "heading_collapsed": true
   },
   "source": [
    "# Lens / Trap Parameters Calculations Notebook"
   ]
  },
  {
   "cell_type": "markdown",
   "metadata": {
    "hidden": true
   },
   "source": [
    "For calculating things like the Beam waist, Depth, Lens NA, etc."
   ]
  },
  {
   "cell_type": "code",
   "execution_count": 37,
   "metadata": {
    "ExecuteTime": {
     "end_time": "2018-02-01T17:49:57.112847Z",
     "start_time": "2018-02-01T17:49:56.457104Z"
    },
    "collapsed": true,
    "hidden": true,
    "jupyter": {
     "outputs_hidden": true
    }
   },
   "outputs": [],
   "source": [
    "import numpy as np\n",
    "import MarksConstants as mc"
   ]
  },
  {
   "cell_type": "markdown",
   "metadata": {},
   "source": [
    "### Derivation of power loss for clipped gaussian (CVI catolog eq. 5.24)"
   ]
  },
  {
   "cell_type": "markdown",
   "metadata": {},
   "source": [
    "Normalized 2D gaussian:\n",
    "$$\n",
    "\\frac{2}{w^2\\pi}\\exp\\Big\\{-\\frac{2r^2}{w^2}\\Big\\}\n",
    "$$\n",
    "Area inside clip of radius R\n",
    "$$\n",
    "\\frac{2}{w^2\\pi}\\int_0^R \\exp\\Big\\{-\\frac{2r^2}{w^2}\\Big\\}rdrd\\theta=\\frac{2}{w^2\\pi}2\\pi\\int_0^D \\exp\\Big\\{-\\frac{2r^2}{w^2}\\Big\\}rdr\\\\\n",
    "u=r^2, du=2rdr\\\\\n",
    "\\frac{4}{w^2}\\int_0^R \\exp\\Big\\{-\\frac{2u}{w^2}\\Big\\}\\frac{du}{2}=\\frac{2}{w^2}\\int_0^D \\exp\\Big\\{-\\frac{2u}{w^2}\\Big\\}du\\\\\n",
    "=1-\\exp\\{-2R^2/w^2\\}\n",
    "$$\n",
    "Thus the loss is indeed $\\exp\\{-2R^2/w^2\\}$"
   ]
  },
  {
   "cell_type": "markdown",
   "metadata": {},
   "source": [
    "# Lens NA"
   ]
  },
  {
   "cell_type": "markdown",
   "metadata": {},
   "source": [
    "Core definition from ray optics:\n",
    "$$\n",
    "NA = n \\sin\\{\\theta\\}\n",
    "$$\n",
    "if Gaussian optics, common to take the limiting angular spread of the waist as the equivalent $\\theta$."
   ]
  },
  {
   "cell_type": "markdown",
   "metadata": {},
   "source": [
    "## from trap frequencies and depth"
   ]
  },
  {
   "cell_type": "code",
   "execution_count": 23,
   "metadata": {},
   "outputs": [],
   "source": [
    "def getNaFromTrapFreqAndDepth_waist_clip(freq_r, depth_mk):\n",
    "    return (getNaFromWaist_waist_clip(getWaist_fromRadialFreq(freq_r, depth_mk)))\n",
    "def getNaFromTrapFreqAndDepth_uniform(freq_r, depth_mk):\n",
    "    return (getNaFromWaist_uniform(getWaist_fromRadialFreq(freq_r, depth_mk)))\n",
    "def getNaFromTrapFreqAndDepth_approx(freq_r, depth_mk):\n",
    "    return (naFromWaistApprox(getWaist_fromRadialFreq(freq_r, depth_mk)))\n",
    "def getNaFromTrapFreqAndDepth(freq_r, depth_mk):\n",
    "    return (getNaFromWaist(getWaist_fromRadialFreq(freq_r, depth_mk)))"
   ]
  },
  {
   "cell_type": "code",
   "execution_count": 47,
   "metadata": {},
   "outputs": [
    {
     "name": "stdout",
     "output_type": "stream",
     "text": [
      "0.795 0.7999999999999999 0.79 0.78 0.796\n"
     ]
    }
   ],
   "source": [
    "print(1.59/2, 2.4/3, 0.79/1, 0.39/0.5, 1.99/2.5)"
   ]
  },
  {
   "cell_type": "code",
   "execution_count": 42,
   "metadata": {},
   "outputs": [
    {
     "data": {
      "text/plain": [
       "1.3623188405797102"
      ]
     },
     "execution_count": 42,
     "metadata": {},
     "output_type": "execute_result"
    }
   ],
   "source": [
    "0.94/0.69"
   ]
  },
  {
   "cell_type": "code",
   "execution_count": 48,
   "metadata": {},
   "outputs": [
    {
     "name": "stdout",
     "output_type": "stream",
     "text": [
      "waist clip model: 0.5886014330117108\n",
      "uniform illumination model: 0.5403554139123901\n",
      "0.3981735857776518\n",
      "0.37897688355575004\n"
     ]
    },
    {
     "data": {
      "text/plain": [
       "6.606762712252232e-07"
      ]
     },
     "execution_count": 48,
     "metadata": {},
     "output_type": "execute_result"
    }
   ],
   "source": [
    "depth, freq = 0.85, 137390\n",
    "print('waist clip model:',getNaFromTrapFreqAndDepth_waist_clip(freq,depth))\n",
    "print('uniform illumination model:',getNaFromTrapFreqAndDepth_uniform(freq,depth))\n",
    "print(getNaFromTrapFreqAndDepth_approx(freq,depth))\n",
    "print(getNaFromTrapFreqAndDepth(freq,depth))\n",
    "getWaist_fromRadialFreq(freq, depth)"
   ]
  },
  {
   "cell_type": "code",
   "execution_count": 75,
   "metadata": {},
   "outputs": [
    {
     "data": {
      "text/plain": [
       "6.517308444492048e-07"
      ]
     },
     "execution_count": 75,
     "metadata": {},
     "output_type": "execute_result"
    }
   ],
   "source": []
  },
  {
   "cell_type": "code",
   "execution_count": 48,
   "metadata": {},
   "outputs": [
    {
     "name": "stdout",
     "output_type": "stream",
     "text": [
      "0.5874201785655995 6.077421461274034e-07\n"
     ]
    }
   ],
   "source": [
    "rfreq = 162e3\n",
    "depth = 1\n",
    "print(getNaFromTrapFreqAndDepth(rfreq,depth),getWaist_fromRadialFreq(rfreq, depth))"
   ]
  },
  {
   "cell_type": "code",
   "execution_count": 45,
   "metadata": {},
   "outputs": [
    {
     "name": "stdout",
     "output_type": "stream",
     "text": [
      "0.5477721409698052 6.517308444492048e-07\n"
     ]
    }
   ],
   "source": [
    "rfreq = 162e3\n",
    "depth = 1.15\n",
    "print(getNaFromTrapFreqAndDepth(rfreq,depth),getWaist_fromRadialFreq(rfreq, depth))"
   ]
  },
  {
   "cell_type": "code",
   "execution_count": 46,
   "metadata": {},
   "outputs": [
    {
     "name": "stdout",
     "output_type": "stream",
     "text": [
      "0.48347938154100994 7.383975690175701e-07\n"
     ]
    }
   ],
   "source": [
    "rfreq = 134e3\n",
    "depth = 1.01\n",
    "print(getNaFromTrapFreqAndDepth(rfreq,depth),getWaist_fromRadialFreq(rfreq, depth))"
   ]
  },
  {
   "cell_type": "markdown",
   "metadata": {},
   "source": [
    "## From Waist"
   ]
  },
  {
   "cell_type": "markdown",
   "metadata": {},
   "source": [
    "From notes on onenote..."
   ]
  },
  {
   "cell_type": "code",
   "execution_count": 1,
   "metadata": {},
   "outputs": [],
   "source": [
    "from scipy.special import erf"
   ]
  },
  {
   "cell_type": "code",
   "execution_count": 7,
   "metadata": {},
   "outputs": [],
   "source": [
    "import numpy as np"
   ]
  },
  {
   "cell_type": "code",
   "execution_count": 8,
   "metadata": {},
   "outputs": [
    {
     "data": {
      "text/plain": [
       "0.1353352832366127"
      ]
     },
     "execution_count": 8,
     "metadata": {},
     "output_type": "execute_result"
    }
   ],
   "source": [
    "1/np.e**2"
   ]
  },
  {
   "cell_type": "markdown",
   "metadata": {},
   "source": [
    "$$\n",
    "\\int_1^1 \\exp(-2x^2)dx\n",
    "$$"
   ]
  },
  {
   "cell_type": "code",
   "execution_count": 36,
   "metadata": {},
   "outputs": [
    {
     "data": {
      "text/plain": [
       "1.1586479857089982"
      ]
     },
     "execution_count": 36,
     "metadata": {},
     "output_type": "execute_result"
    }
   ],
   "source": [
    "1/(np.pi*0.5**2)*0.91"
   ]
  },
  {
   "cell_type": "code",
   "execution_count": 21,
   "metadata": {},
   "outputs": [
    {
     "data": {
      "text/plain": [
       "0.9110697462219214"
      ]
     },
     "execution_count": 21,
     "metadata": {},
     "output_type": "execute_result"
    }
   ],
   "source": [
    "erf(np.sqrt(2))**2"
   ]
  },
  {
   "cell_type": "code",
   "execution_count": 9,
   "metadata": {},
   "outputs": [
    {
     "data": {
      "text/plain": [
       "0.9213503964748574"
      ]
     },
     "execution_count": 9,
     "metadata": {},
     "output_type": "execute_result"
    }
   ],
   "source": [
    "(1-(1-erf(1))/2)"
   ]
  },
  {
   "cell_type": "code",
   "execution_count": 21,
   "metadata": {
    "collapsed": true,
    "jupyter": {
     "outputs_hidden": true
    }
   },
   "outputs": [],
   "source": [
    "def getNaFromWaist_waist_clip(waist):\n",
    "    \"\"\"\n",
    "    I.e. clipped at the 1/e^2 waist, from melles griot catelog\n",
    "    \"\"\"\n",
    "    return 0.4575*850e-9/(waist)"
   ]
  },
  {
   "cell_type": "code",
   "execution_count": 22,
   "metadata": {
    "collapsed": true,
    "jupyter": {
     "outputs_hidden": true
    }
   },
   "outputs": [],
   "source": [
    "def getNaFromWaist_uniform(waist):\n",
    "    \"\"\"\n",
    "    Comes from assuming uniform illumination -> airy disk and then fitting a gaussian to an airy disk to see the waist to disk radius ratio.\n",
    "    Maybe discussed in Adam's thesis, pg. 29\n",
    "    \"\"\"\n",
    "    return 0.42*850e-9/(waist)"
   ]
  },
  {
   "cell_type": "code",
   "execution_count": 6,
   "metadata": {
    "collapsed": true,
    "jupyter": {
     "outputs_hidden": true
    }
   },
   "outputs": [],
   "source": [
    "def naFromWaistApprox(waist):\n",
    "    return np.sin(850e-9/(np.pi*waist))"
   ]
  },
  {
   "cell_type": "code",
   "execution_count": 7,
   "metadata": {
    "collapsed": true,
    "jupyter": {
     "outputs_hidden": true
    }
   },
   "outputs": [],
   "source": [
    "def getNaFromWaist(trapWaist):\n",
    "    lam = 850e-9\n",
    "    return lam / np.sqrt(lam**2+(np.pi * trapWaist)**2)"
   ]
  },
  {
   "cell_type": "code",
   "execution_count": 67,
   "metadata": {},
   "outputs": [
    {
     "data": {
      "text/plain": [
       "0.508283276309945"
      ]
     },
     "execution_count": 67,
     "metadata": {},
     "output_type": "execute_result"
    }
   ],
   "source": [
    "getNaFromWaistOnenote(7.65075339136023e-7)"
   ]
  },
  {
   "cell_type": "code",
   "execution_count": 52,
   "metadata": {},
   "outputs": [
    {
     "data": {
      "text/plain": [
       "0.45647678414150433"
      ]
     },
     "execution_count": 52,
     "metadata": {},
     "output_type": "execute_result"
    }
   ],
   "source": [
    "getNaFromWaistOnenote(7.820770133390457e-7)"
   ]
  },
  {
   "cell_type": "code",
   "execution_count": 53,
   "metadata": {},
   "outputs": [
    {
     "data": {
      "text/plain": [
       "0.5758064516129032"
      ]
     },
     "execution_count": 53,
     "metadata": {},
     "output_type": "execute_result"
    }
   ],
   "source": [
    "getNaFromWaistOnenote(6.2e-7)"
   ]
  },
  {
   "cell_type": "code",
   "execution_count": 54,
   "metadata": {},
   "outputs": [
    {
     "data": {
      "text/plain": [
       "0.5758064516129032"
      ]
     },
     "execution_count": 54,
     "metadata": {},
     "output_type": "execute_result"
    }
   ],
   "source": [
    "getNaFromWaistOnenote(0.62e-6)"
   ]
  },
  {
   "cell_type": "code",
   "execution_count": 55,
   "metadata": {},
   "outputs": [
    {
     "data": {
      "text/plain": [
       "0.476"
      ]
     },
     "execution_count": 55,
     "metadata": {},
     "output_type": "execute_result"
    }
   ],
   "source": [
    "getNaFromWaistOnenote(0.75e-6)"
   ]
  },
  {
   "cell_type": "markdown",
   "metadata": {},
   "source": [
    "Simple approximation"
   ]
  },
  {
   "cell_type": "markdown",
   "metadata": {},
   "source": [
    "$$\n",
    "\\theta_{\\text{half angle}}=\\frac{\\lambda}{\\pi w_0}\n",
    "$$"
   ]
  },
  {
   "cell_type": "code",
   "execution_count": 60,
   "metadata": {},
   "outputs": [
    {
     "data": {
      "text/plain": [
       "0.62599632859488"
      ]
     },
     "execution_count": 60,
     "metadata": {},
     "output_type": "execute_result"
    }
   ],
   "source": [
    "naFromWaistApprox(0.4e-6)"
   ]
  },
  {
   "cell_type": "markdown",
   "metadata": {},
   "source": [
    "Full calc"
   ]
  },
  {
   "cell_type": "markdown",
   "metadata": {},
   "source": [
    "$$\n",
    "NA = n \\sin\\{\\theta\\} = n \\frac{r_{\\text{ap}}}{\\sqrt{r_{\\text{ap}}^2+f^2_{\\text{eff}}}}\n",
    "$$"
   ]
  },
  {
   "cell_type": "markdown",
   "metadata": {},
   "source": [
    "$$\n",
    "w_f=\\frac{\\lambda f_{\\text{eff}}}{\\pi w_0}\n",
    "$$\n"
   ]
  },
  {
   "cell_type": "markdown",
   "metadata": {},
   "source": [
    "$$\n",
    "f_{\\text{eff}}=\\frac{\\pi w_0 w_f}{\\lambda}\n",
    "$$\n"
   ]
  },
  {
   "cell_type": "markdown",
   "metadata": {},
   "source": [
    "$$\n",
    "NA = nr_{\\text{ap}}\\frac{1}{\\sqrt{r_{\\text{ap}}^2+f^2_{\\text{eff}}}}\\\\\n",
    "$$"
   ]
  },
  {
   "cell_type": "markdown",
   "metadata": {},
   "source": [
    "$$\n",
    "w_0=r_{\\text{ap}}\n",
    "$$"
   ]
  },
  {
   "cell_type": "markdown",
   "metadata": {},
   "source": [
    "$$\n",
    "NA = \\frac{n\\lambda}{\\sqrt{\\lambda^2+(\\pi w_f)^2}}\\\\\n",
    "= \\frac{\\lambda}{\\sqrt{\\lambda^2+(\\pi w_f)^2}}\n",
    "$$"
   ]
  },
  {
   "cell_type": "code",
   "execution_count": 62,
   "metadata": {},
   "outputs": [
    {
     "data": {
      "text/plain": [
       "0.6697348757457517"
      ]
     },
     "execution_count": 62,
     "metadata": {},
     "output_type": "execute_result"
    }
   ],
   "source": [
    "getNaFromWaist(0.3e-6)"
   ]
  },
  {
   "cell_type": "markdown",
   "metadata": {},
   "source": [
    "## From Effective focal Length"
   ]
  },
  {
   "cell_type": "markdown",
   "metadata": {},
   "source": [
    "All i need is"
   ]
  },
  {
   "cell_type": "markdown",
   "metadata": {},
   "source": [
    "$$\n",
    "NA = n \\sin\\{\\theta\\} = n \\frac{r_{\\text{ap}}}{\\sqrt{r_{\\text{ap}}^2+f^2_{\\text{eff}}}} = n\\frac{1}{\\sqrt{1+(f_{\\text{eff}} / r_{\\text{ap}})^2}}\n",
    "$$"
   ]
  },
  {
   "cell_type": "code",
   "execution_count": 68,
   "metadata": {
    "ExecuteTime": {
     "end_time": "2018-02-01T17:49:37.678182Z",
     "start_time": "2018-02-01T17:49:37.674170Z"
    },
    "collapsed": true,
    "jupyter": {
     "outputs_hidden": true
    }
   },
   "outputs": [],
   "source": [
    "def get_NA_from_f(focalLength, apertureRadius):\n",
    "    # assuming vacuum\n",
    "    f = focalLength\n",
    "    r = apertureRadius\n",
    "    return r / np.sqrt(r**2 + f**2)"
   ]
  },
  {
   "cell_type": "code",
   "execution_count": 26,
   "metadata": {
    "ExecuteTime": {
     "end_time": "2018-02-01T17:50:36.390265Z",
     "start_time": "2018-02-01T17:50:36.386255Z"
    }
   },
   "outputs": [
    {
     "data": {
      "text/plain": [
       "0.7071067811865475"
      ]
     },
     "execution_count": 26,
     "metadata": {},
     "output_type": "execute_result"
    }
   ],
   "source": [
    "get_NA_from_f(1, 1)"
   ]
  },
  {
   "cell_type": "markdown",
   "metadata": {},
   "source": [
    "# Lens Effective Focal Length"
   ]
  },
  {
   "cell_type": "markdown",
   "metadata": {},
   "source": [
    "## From NA"
   ]
  },
  {
   "cell_type": "code",
   "execution_count": null,
   "metadata": {},
   "outputs": [],
   "source": []
  },
  {
   "cell_type": "markdown",
   "metadata": {},
   "source": [
    "# Trap Spot Waist"
   ]
  },
  {
   "cell_type": "markdown",
   "metadata": {},
   "source": [
    "## From trap frequencies and depth"
   ]
  },
  {
   "cell_type": "markdown",
   "metadata": {},
   "source": [
    "https://arxiv.org/pdf/physics/9902072.pdf"
   ]
  },
  {
   "cell_type": "markdown",
   "metadata": {},
   "source": [
    "$$\n",
    "\\omega_r = \\sqrt{\\frac{4V}{m_{\\text{Rb}}w_0^2}},\\\\\n",
    "\\omega_z=\\sqrt{\\frac{2V}{mz_R^2}}=\\sqrt{\\frac{2\\lambda^2 V}{m\\pi^2 w_0^4}}\n",
    "$$"
   ]
  },
  {
   "cell_type": "markdown",
   "metadata": {},
   "source": [
    "Where V is the trap depth, $w_0$ is the waist, $\\omega_r$ is the (angular) trap frequency. Solving for w_0"
   ]
  },
  {
   "cell_type": "markdown",
   "metadata": {},
   "source": [
    "$$\n",
    "w_0 = \\sqrt{\\frac{4V}{m_{\\text{Rb}}\\omega_r^2}}=\\Big(\\frac{2 V}{m}\\Big)^{1/4}\\sqrt{\\frac{\\lambda}{\\pi\\omega_z}}\n",
    "$$"
   ]
  },
  {
   "cell_type": "code",
   "execution_count": 7,
   "metadata": {
    "collapsed": true,
    "jupyter": {
     "outputs_hidden": true
    }
   },
   "outputs": [],
   "source": [
    "import numpy as np\n",
    "import MarksConstants as mc"
   ]
  },
  {
   "cell_type": "code",
   "execution_count": 10,
   "metadata": {
    "collapsed": true,
    "jupyter": {
     "outputs_hidden": true
    }
   },
   "outputs": [],
   "source": [
    "def getWaist_fromRadialFreq(freq_r, depth_mk):\n",
    "    \"\"\"\n",
    "    :@param freq: the radial trap frequency in non-angular Hz.\n",
    "    :@param depth: the trap depth in mK\n",
    "    \"\"\"\n",
    "    V = mc.k_B * depth_mk * 1e-3\n",
    "    omega_r = 2*np.pi*freq_r\n",
    "    return np.sqrt(4*V/(mc.Rb87_M * omega_r**2))"
   ]
  },
  {
   "cell_type": "code",
   "execution_count": 9,
   "metadata": {},
   "outputs": [
    {
     "name": "stdout",
     "output_type": "stream",
     "text": [
      "659.8774800048197 nm\n"
     ]
    }
   ],
   "source": [
    "print(getWaist_fromRadialFreq(160e3,1.15)*1e9, \"nm\")"
   ]
  },
  {
   "cell_type": "code",
   "execution_count": 8,
   "metadata": {},
   "outputs": [],
   "source": [
    "import MarksConstants as mc"
   ]
  },
  {
   "cell_type": "code",
   "execution_count": 58,
   "metadata": {},
   "outputs": [
    {
     "data": {
      "text/plain": [
       "138104.4992901513"
      ]
     },
     "execution_count": 58,
     "metadata": {},
     "output_type": "execute_result"
    }
   ],
   "source": [
    "255719.8426236922/2 * np.sqrt(35/30)"
   ]
  },
  {
   "cell_type": "code",
   "execution_count": 21,
   "metadata": {},
   "outputs": [
    {
     "data": {
      "text/plain": [
       "7.65075339136023e-07"
      ]
     },
     "execution_count": 21,
     "metadata": {},
     "output_type": "execute_result"
    }
   ],
   "source": [
    "getWaist_fromRadialFreq(138e3,1.15)"
   ]
  },
  {
   "cell_type": "code",
   "execution_count": 12,
   "metadata": {},
   "outputs": [
    {
     "data": {
      "text/plain": [
       "7.820770133390457e-07"
      ]
     },
     "execution_count": 12,
     "metadata": {},
     "output_type": "execute_result"
    }
   ],
   "source": [
    "getWaist_fromRadialFreq(135e3,1.15)"
   ]
  },
  {
   "cell_type": "code",
   "execution_count": 12,
   "metadata": {
    "collapsed": true,
    "jupyter": {
     "outputs_hidden": true
    }
   },
   "outputs": [],
   "source": [
    "def getWaist_fromAxialFreq(freq_z, depth_mk):\n",
    "    \"\"\"\n",
    "    :@param freq: the radial trap frequency in non-angular Hz.\n",
    "    :@param depth: the trap depth in mK\n",
    "    \"\"\"\n",
    "    V = mc.k_B * depth_mk * 1e-3\n",
    "    omega_z = 2*np.pi*freq_z\n",
    "    wavelength=850e-9\n",
    "    return (2*V/mc.Rb87_M)**(1/4)*np.sqrt(wavelength /(np.pi*omega_z))"
   ]
  },
  {
   "cell_type": "code",
   "execution_count": 17,
   "metadata": {},
   "outputs": [
    {
     "data": {
      "text/plain": [
       "6.563615178175957e-07"
      ]
     },
     "execution_count": 17,
     "metadata": {},
     "output_type": "execute_result"
    }
   ],
   "source": [
    "getWaist_fromRadialFreq(150e3, 1)"
   ]
  },
  {
   "cell_type": "code",
   "execution_count": 20,
   "metadata": {},
   "outputs": [
    {
     "data": {
      "text/plain": [
       "7.032444833759954e-07"
      ]
     },
     "execution_count": 20,
     "metadata": {},
     "output_type": "execute_result"
    }
   ],
   "source": [
    "getWaist_fromRadialFreq(140e3, 1)"
   ]
  },
  {
   "cell_type": "markdown",
   "metadata": {},
   "source": [
    "the data point..."
   ]
  },
  {
   "cell_type": "code",
   "execution_count": 14,
   "metadata": {},
   "outputs": [
    {
     "data": {
      "text/plain": [
       "7.550724438412786e-07"
      ]
     },
     "execution_count": 14,
     "metadata": {},
     "output_type": "execute_result"
    }
   ],
   "source": [
    "getWaist_fromRadialFreq(101e3, 0.6)"
   ]
  },
  {
   "cell_type": "code",
   "execution_count": 19,
   "metadata": {},
   "outputs": [
    {
     "data": {
      "text/plain": [
       "6.932937893451739e-07"
      ]
     },
     "execution_count": 19,
     "metadata": {},
     "output_type": "execute_result"
    }
   ],
   "source": [
    "getWaist_fromRadialFreq(110e3, 0.6)"
   ]
  },
  {
   "cell_type": "markdown",
   "metadata": {},
   "source": [
    "From earlier"
   ]
  },
  {
   "cell_type": "code",
   "execution_count": 22,
   "metadata": {},
   "outputs": [
    {
     "name": "stdout",
     "output_type": "stream",
     "text": [
      "6.49764752222e-07\n",
      "2.41393594784e-05\n"
     ]
    }
   ],
   "source": [
    "print(getWaist_fromRadialFreq(150e3, 0.98))\n",
    "print(getWaist_fromAxialFreq(32, 0.98))"
   ]
  },
  {
   "cell_type": "markdown",
   "metadata": {},
   "source": [
    "From after Jaden's mirror (seeing two non-degenerate radial frequencies"
   ]
  },
  {
   "cell_type": "code",
   "execution_count": 2,
   "metadata": {},
   "outputs": [
    {
     "data": {
      "text/plain": [
       "162.625"
      ]
     },
     "execution_count": 2,
     "metadata": {},
     "output_type": "execute_result"
    }
   ],
   "source": [
    "(314/2+336.5/2)/2"
   ]
  },
  {
   "cell_type": "code",
   "execution_count": 12,
   "metadata": {},
   "outputs": [
    {
     "name": "stdout",
     "output_type": "stream",
     "text": [
      "6.66613245886e-07\n",
      "6.22040294823e-07\n",
      "2.40909693881e-05\n"
     ]
    }
   ],
   "source": [
    "print(getWaist_fromRadialFreq(314e3/2, 1.13))\n",
    "print(getWaist_fromRadialFreq(336.5e3/2, 1.13))\n",
    "print(getWaist_fromAxialFreq(34.5, 1.13))"
   ]
  },
  {
   "cell_type": "markdown",
   "metadata": {},
   "source": [
    "## NA"
   ]
  },
  {
   "cell_type": "markdown",
   "metadata": {},
   "source": [
    "$$\n",
    "w_f=\\frac{\\lambda f_{\\text{eff}}}{\\pi w_0}\n",
    "$$\n"
   ]
  },
  {
   "cell_type": "markdown",
   "metadata": {},
   "source": [
    "$$\n",
    "\\frac{NA^2}{n^2} = \\frac{r^2_{\\text{ap}}}{r_{\\text{ap}}^2+f^2_{\\text{eff}}}\\\\\n",
    "r_{\\text{ap}}^2+f^2_{\\text{eff}} = \\frac{n^2r^2_{\\text{ap}}}{NA^2}\\\\\n",
    "f_{\\text{eff}} = r_{\\text{ap}}\\sqrt{\\frac{n^2}{NA^2}-1}\n",
    "$$"
   ]
  },
  {
   "cell_type": "markdown",
   "metadata": {},
   "source": [
    "$$\n",
    "w_f=\\frac{\\lambda  r_{\\text{ap}}}{\\pi w_0}\\sqrt{\\frac{n^2}{NA^2}-1}\n",
    "$$\n"
   ]
  },
  {
   "cell_type": "markdown",
   "metadata": {},
   "source": [
    "$r_{\\text{ap}} = w_0$"
   ]
  },
  {
   "cell_type": "markdown",
   "metadata": {},
   "source": [
    "$$\n",
    "w_f=\\frac{\\lambda }{\\pi}\\sqrt{\\frac{n^2}{NA^2}-1}\n",
    "$$\n"
   ]
  },
  {
   "cell_type": "markdown",
   "metadata": {},
   "source": [
    "$n=1$"
   ]
  },
  {
   "cell_type": "markdown",
   "metadata": {},
   "source": [
    "$$\n",
    "w_f=\\frac{\\lambda }{\\pi}\\sqrt{\\frac{1}{NA^2}-1}\n",
    "$$\n"
   ]
  },
  {
   "cell_type": "markdown",
   "metadata": {},
   "source": [
    "For tweezers, n=1 (vaccum)"
   ]
  },
  {
   "cell_type": "markdown",
   "metadata": {},
   "source": [
    "something wrnog here..."
   ]
  },
  {
   "cell_type": "code",
   "execution_count": 11,
   "metadata": {
    "collapsed": true,
    "jupyter": {
     "outputs_hidden": true
    }
   },
   "outputs": [],
   "source": [
    "def getWaistFromNa(NA):\n",
    "    return 850e-9/np.pi * np.sqrt(1/NA**2 - 1)"
   ]
  },
  {
   "cell_type": "code",
   "execution_count": 24,
   "metadata": {},
   "outputs": [
    {
     "data": {
      "text/plain": [
       "4.686295611085232e-07"
      ]
     },
     "execution_count": 24,
     "metadata": {},
     "output_type": "execute_result"
    }
   ],
   "source": [
    "getWaistFromNa(0.5)"
   ]
  },
  {
   "cell_type": "code",
   "execution_count": 25,
   "metadata": {},
   "outputs": [
    {
     "data": {
      "text/plain": [
       "3.6075120434162943e-07"
      ]
     },
     "execution_count": 25,
     "metadata": {},
     "output_type": "execute_result"
    }
   ],
   "source": [
    "getWaistFromNa(0.6)"
   ]
  },
  {
   "cell_type": "code",
   "execution_count": 37,
   "metadata": {},
   "outputs": [
    {
     "data": {
      "text/plain": [
       "8.603367894496383e-07"
      ]
     },
     "execution_count": 37,
     "metadata": {},
     "output_type": "execute_result"
    }
   ],
   "source": [
    "getWaistFromNa(0.3)"
   ]
  },
  {
   "cell_type": "code",
   "execution_count": null,
   "metadata": {},
   "outputs": [],
   "source": []
  }
 ],
 "metadata": {
  "kernelspec": {
   "display_name": "Python 3",
   "language": "python",
   "name": "python3"
  },
  "language_info": {
   "codemirror_mode": {
    "name": "ipython",
    "version": 3
   },
   "file_extension": ".py",
   "mimetype": "text/x-python",
   "name": "python",
   "nbconvert_exporter": "python",
   "pygments_lexer": "ipython3",
   "version": "3.6.12"
  },
  "toc": {
   "nav_menu": {},
   "number_sections": true,
   "sideBar": true,
   "skip_h1_title": false,
   "toc_cell": false,
   "toc_position": {},
   "toc_section_display": "block",
   "toc_window_display": false
  }
 },
 "nbformat": 4,
 "nbformat_minor": 4
}

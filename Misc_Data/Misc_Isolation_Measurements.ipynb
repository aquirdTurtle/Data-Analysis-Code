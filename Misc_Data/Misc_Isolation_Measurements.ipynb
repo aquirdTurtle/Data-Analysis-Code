{
 "cells": [
  {
   "cell_type": "markdown",
   "metadata": {
    "Collapsed": "false"
   },
   "source": [
    "42.7 in  \n",
    "7.024uw / 40 iso first stage  \n",
    "40.5 through first stage  \n",
    "\n",
    "0.295uw background...  \n",
    "0.46 opt -> 0.46 - 0.295 = 0.165 / 7.024  "
   ]
  },
  {
   "cell_type": "code",
   "execution_count": 1,
   "metadata": {
    "Collapsed": "false"
   },
   "outputs": [],
   "source": [
    "import Miscellaneous as misc"
   ]
  },
  {
   "cell_type": "code",
   "execution_count": 20,
   "metadata": {
    "Collapsed": "false"
   },
   "outputs": [
    {
     "name": "stdout",
     "output_type": "stream",
     "text": [
      "Assuming input is ratio of powers.\n",
      "Second Stage Isolation: -16.291005586841397\n",
      "Second Stage Transmission: 99.5 %\n"
     ]
    }
   ],
   "source": [
    "print('Second Stage Isolation:', misc.ratioToDb(0.165/7.024))\n",
    "print('Second Stage Transmission:', misc.round_sig(0.943/0.948*100),'%')"
   ]
  },
  {
   "cell_type": "code",
   "execution_count": 16,
   "metadata": {
    "Collapsed": "false"
   },
   "outputs": [
    {
     "name": "stdout",
     "output_type": "stream",
     "text": [
      "Assuming input is ratio of powers.\n",
      "First Stage Isolation: -37.83843372126978\n",
      "First Stage Transmission: 94.8 %\n"
     ]
    }
   ],
   "source": [
    "print('First Stage Isolation:', misc.ratioToDb(7.024e-3/42.7))\n",
    "print('First Stage Transmission:', misc.round_sig(40.5/42.7*100),'%')"
   ]
  },
  {
   "cell_type": "code",
   "execution_count": 21,
   "metadata": {
    "Collapsed": "false"
   },
   "outputs": [
    {
     "name": "stdout",
     "output_type": "stream",
     "text": [
      "Assuming input is ratio of powers.\n",
      "Total Isolation: -54.12943930811117\n",
      "Total Transmission: 94.3 %\n"
     ]
    }
   ],
   "source": [
    "print('Total Isolation:', misc.ratioToDb(0.165/42.7e3))\n",
    "print('Total Transmission:', misc.round_sig(40.44/42.9*100), '%')"
   ]
  },
  {
   "cell_type": "code",
   "execution_count": null,
   "metadata": {
    "Collapsed": "false"
   },
   "outputs": [],
   "source": []
  }
 ],
 "metadata": {
  "kernelspec": {
   "display_name": "Python 3",
   "language": "python",
   "name": "python3"
  },
  "language_info": {
   "codemirror_mode": {
    "name": "ipython",
    "version": 3
   },
   "file_extension": ".py",
   "mimetype": "text/x-python",
   "name": "python",
   "nbconvert_exporter": "python",
   "pygments_lexer": "ipython3",
   "version": "3.6.8"
  }
 },
 "nbformat": 4,
 "nbformat_minor": 4
}

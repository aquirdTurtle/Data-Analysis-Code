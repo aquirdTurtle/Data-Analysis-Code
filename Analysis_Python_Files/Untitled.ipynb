{
 "cells": [
  {
   "cell_type": "code",
   "execution_count": 1,
   "metadata": {},
   "outputs": [],
   "source": [
    "import numpy as np\n",
    "import matplotlib.pyplot as plt"
   ]
  },
  {
   "cell_type": "code",
   "execution_count": 9,
   "metadata": {},
   "outputs": [
    {
     "name": "stdout",
     "output_type": "stream",
     "text": [
      "a 1\n",
      "b 2\n",
      "c 3\n"
     ]
    }
   ],
   "source": [
    "mylist = ['a','b','c']\n",
    "mynums = [1,2,3]\n",
    "for num, char in zip(mynums, mylist):\n",
    "    print(char, num)"
   ]
  },
  {
   "cell_type": "code",
   "execution_count": 18,
   "metadata": {},
   "outputs": [],
   "source": [
    "#from fitters.Gaussian import dip, double_dip, bump, bump2, bump3, bump2r, gaussian\n",
    "from fitters.Gaussian import gaussian_2d"
   ]
  },
  {
   "cell_type": "code",
   "execution_count": null,
   "metadata": {},
   "outputs": [],
   "source": []
  },
  {
   "cell_type": "code",
   "execution_count": 73,
   "metadata": {},
   "outputs": [],
   "source": [
    "def getPhotonNumber(mean):\n",
    "    # todo! make this shot noise (poisson) instead of randint noise\n",
    "    return mean + mean*np.random.randint(0,5)"
   ]
  },
  {
   "cell_type": "code",
   "execution_count": 74,
   "metadata": {},
   "outputs": [],
   "source": [
    "def applyEmGain(electronsIn, gain):\n",
    "    # todo! make this sammple from em gain electron distributions\n",
    "    return electronsIn*gain"
   ]
  },
  {
   "cell_type": "code",
   "execution_count": 44,
   "metadata": {},
   "outputs": [
    {
     "data": {
      "text/plain": [
       "<matplotlib.colorbar.Colorbar at 0x200363a4390>"
      ]
     },
     "execution_count": 44,
     "metadata": {},
     "output_type": "execute_result"
    },
    {
     "data": {
      "image/png": "[encoded data removed]",
      "text/plain": [
       "<Figure size 432x288 with 2 Axes>"
      ]
     },
     "metadata": {
      "needs_background": "light"
     },
     "output_type": "display_data"
    }
   ],
   "source": [
    "xp = yp = np.arange(512)\n",
    "XX, YY = np.meshgrid(xp,yp)\n",
    "psi2d = gaussian_2d.f_noravel((XX,YY), 10, 256, 256, 15, 15, 0, 0)\n",
    "plt.imshow(psi2d)\n",
    "plt.colorbar()"
   ]
  },
  {
   "cell_type": "code",
   "execution_count": 81,
   "metadata": {},
   "outputs": [],
   "source": [
    "def getBlur(row,col):\n",
    "    return 5"
   ]
  },
  {
   "cell_type": "code",
   "execution_count": null,
   "metadata": {},
   "outputs": [],
   "source": [
    "photonImage = np.zeros((512,512))\n",
    "image = np.zeros((512,512))\n",
    "#image += psi2d\n",
    "readoutnoiseMagnitude = 0\n",
    "QE = 0.9\n",
    "emGainSetting = 1000\n",
    "\n",
    "# determine how many electrons are on a pixel\n",
    "for rowi, row in enumerate(image):\n",
    "    for coli, col in enumerate(row):\n",
    "        # determine if photon\n",
    "        meanIntensity = psi2d[rowi,coli]\n",
    "        numPhotonsFromLocationInImage = getPhotonNumber(meanIntensity)\n",
    "        blurAmount = getBlur(rowi,coli)\n",
    "        photonImage += gaussian_2d.f_noravel((XX,YY), rowi, coli, blurAmount, blurAmount, 0, 0, 0)\n",
    "        \n",
    "\n",
    "# apply noise       \n",
    "for rowi, row in enumerate(image):\n",
    "    for coli, col in enumerate(row):\n",
    "        numPhotons = photonImage[rowi,coli]\n",
    "        numelectons = numPhotons * QE\n",
    "        numberElectronsReadout = applyEmGain(numelectons, emGainSetting)\n",
    "        image[rowi,coli] += numberElectronsReadout\n",
    "\n",
    "        if readoutnoiseMagnitude != 0:\n",
    "            image[rowi,coli] += np.random.randint(readoutnoiseMagnitude)"
   ]
  },
  {
   "cell_type": "code",
   "execution_count": null,
   "metadata": {},
   "outputs": [],
   "source": [
    "print('hi')"
   ]
  },
  {
   "cell_type": "code",
   "execution_count": 79,
   "metadata": {},
   "outputs": [
    {
     "data": {
      "text/plain": [
       "<matplotlib.colorbar.Colorbar at 0x2003917cb70>"
      ]
     },
     "execution_count": 79,
     "metadata": {},
     "output_type": "execute_result"
    },
    {
     "data": {
      "image/png": "[encoded data removed]",
      "text/plain": [
       "<Figure size 432x288 with 2 Axes>"
      ]
     },
     "metadata": {
      "needs_background": "light"
     },
     "output_type": "display_data"
    }
   ],
   "source": [
    "plt.imshow(image)\n",
    "plt.colorbar()"
   ]
  },
  {
   "cell_type": "code",
   "execution_count": null,
   "metadata": {},
   "outputs": [],
   "source": []
  }
 ],
 "metadata": {
  "kernelspec": {
   "display_name": "Python 3",
   "language": "python",
   "name": "python3"
  },
  "language_info": {
   "codemirror_mode": {
    "name": "ipython",
    "version": 3
   },
   "file_extension": ".py",
   "mimetype": "text/x-python",
   "name": "python",
   "nbconvert_exporter": "python",
   "pygments_lexer": "ipython3",
   "version": "3.6.10"
  }
 },
 "nbformat": 4,
 "nbformat_minor": 4
}

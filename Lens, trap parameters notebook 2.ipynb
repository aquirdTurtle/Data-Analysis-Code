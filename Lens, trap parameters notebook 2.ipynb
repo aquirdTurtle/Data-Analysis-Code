{
 "cells": [
  {
   "cell_type": "markdown",
   "metadata": {},
   "source": [
    "# Lens / Trap Parameters Calculations Notebook"
   ]
  },
  {
   "cell_type": "markdown",
   "metadata": {},
   "source": [
    "For calculating things like the Beam waist, Depth, Lens NA, etc."
   ]
  },
  {
   "cell_type": "markdown",
   "metadata": {},
   "source": [
    "# Lens NA"
   ]
  },
  {
   "cell_type": "markdown",
   "metadata": {},
   "source": [
    "$$\n",
    "NA = n \\sin\\{\\theta\\} = n \\frac{r_{\\text{ap}}}{\\sqrt{r_{\\text{ap}}^2+f^2_{\\text{eff}}}}\n",
    "$$"
   ]
  },
  {
   "cell_type": "markdown",
   "metadata": {},
   "source": [
    "# Lens Effective Focal Length"
   ]
  },
  {
   "cell_type": "markdown",
   "metadata": {},
   "source": [
    "## Extracted from NA"
   ]
  },
  {
   "cell_type": "code",
   "execution_count": null,
   "metadata": {},
   "outputs": [],
   "source": []
  },
  {
   "cell_type": "markdown",
   "metadata": {},
   "source": [
    "# Trap Waist"
   ]
  },
  {
   "cell_type": "markdown",
   "metadata": {},
   "source": [
    "## Waist from trap frequencies and depth"
   ]
  },
  {
   "cell_type": "markdown",
   "metadata": {},
   "source": [
    "https://arxiv.org/pdf/physics/9902072.pdf"
   ]
  },
  {
   "cell_type": "markdown",
   "metadata": {},
   "source": [
    "$$\n",
    "\\omega_r = \\sqrt{\\frac{4V}{m_{\\text{Rb}}w_0^2}},\\\\\n",
    "\\omega_z=\\sqrt{\\frac{2V}{mz_R^2}}=\\sqrt{\\frac{2\\lambda^2 V}{m\\pi^2 w_0^4}}\n",
    "$$"
   ]
  },
  {
   "cell_type": "markdown",
   "metadata": {},
   "source": [
    "Where V is the trap depth, $w_0$ is the waist, $\\omega_r$ is the (angular) trap frequency. Solving for w_0"
   ]
  },
  {
   "cell_type": "markdown",
   "metadata": {},
   "source": [
    "$$\n",
    "w_0 = \\sqrt{\\frac{4V}{m_{\\text{Rb}}\\omega_r^2}}=\\Big(\\frac{2 V}{m}\\Big)^{1/4}\\sqrt{\\frac{\\lambda}{\\pi\\omega_z}}\n",
    "$$"
   ]
  },
  {
   "cell_type": "code",
   "execution_count": 1,
   "metadata": {},
   "outputs": [],
   "source": [
    "import numpy as np\n",
    "import MarksConstants as mc"
   ]
  },
  {
   "cell_type": "code",
   "execution_count": 14,
   "metadata": {},
   "outputs": [],
   "source": [
    "def getWaist_fromRadialFreq(freq_r, depth_mk):\n",
    "    \"\"\"\n",
    "    :@param freq: the radial trap frequency in non-angular Hz.\n",
    "    :@param depth: the trap depth in mK\n",
    "    \"\"\"\n",
    "    V = mc.k_B * depth_mk * 1e-3\n",
    "    omega_r = 2*np.pi*freq_r\n",
    "    return np.sqrt(4*V/(mc.Rb87_M * omega_r**2))"
   ]
  },
  {
   "cell_type": "code",
   "execution_count": 20,
   "metadata": {},
   "outputs": [],
   "source": [
    "def getWaist_fromAxialFreq(freq_z, depth_mk):\n",
    "    \"\"\"\n",
    "    :@param freq: the radial trap frequency in non-angular Hz.\n",
    "    :@param depth: the trap depth in mK\n",
    "    \"\"\"\n",
    "    V = mc.k_B * depth_mk * 1e-3\n",
    "    omega_z = 2*np.pi*freq_z\n",
    "    wavelength=850e-9\n",
    "    return (2*V/mc.Rb87_M)**(1/4)*np.sqrt(wavelength /(np.pi*omega_z))"
   ]
  },
  {
   "cell_type": "code",
   "execution_count": 22,
   "metadata": {},
   "outputs": [
    {
     "name": "stdout",
     "output_type": "stream",
     "text": [
      "6.49764752222e-07\n",
      "2.41393594784e-05\n"
     ]
    }
   ],
   "source": [
    "print(getWaist_fromRadialFreq(150e3, 0.98))\n",
    "print(getWaist_fromAxialFreq(32, 0.98))"
   ]
  },
  {
   "cell_type": "markdown",
   "metadata": {},
   "source": [
    "## Waist from NA"
   ]
  },
  {
   "cell_type": "markdown",
   "metadata": {},
   "source": [
    "$$\n",
    "w_f=\\frac{\\lambda f_{\\text{eff}}}{\\pi w_0}\n",
    "$$\n"
   ]
  },
  {
   "cell_type": "markdown",
   "metadata": {},
   "source": [
    "$$\n",
    "\\frac{NA^2}{n^2} = \\frac{r^2_{\\text{ap}}}{r_{\\text{ap}}^2+f^2_{\\text{eff}}}\\\\\n",
    "r_{\\text{ap}}^2+f^2_{\\text{eff}} = \\frac{n^2r^2_{\\text{ap}}}{NA^2}\\\\\n",
    "f_{\\text{eff}} = r_{\\text{ap}}\\sqrt{\\frac{n^2}{NA^2}-1}\n",
    "$$"
   ]
  },
  {
   "cell_type": "markdown",
   "metadata": {},
   "source": [
    "$$\n",
    "w_f=\\frac{\\lambda  r_{\\text{ap}}}{\\pi w_0}\\sqrt{\\frac{n^2}{NA^2}-1}\n",
    "$$\n"
   ]
  },
  {
   "cell_type": "markdown",
   "metadata": {},
   "source": [
    "For tweezers, n=1 (vaccum)"
   ]
  },
  {
   "cell_type": "code",
   "execution_count": null,
   "metadata": {},
   "outputs": [],
   "source": []
  }
 ],
 "metadata": {
  "kernelspec": {
   "display_name": "Python 3",
   "language": "python",
   "name": "python3"
  },
  "language_info": {
   "codemirror_mode": {
    "name": "ipython",
    "version": 3
   },
   "file_extension": ".py",
   "mimetype": "text/x-python",
   "name": "python",
   "nbconvert_exporter": "python",
   "pygments_lexer": "ipython3",
   "version": "3.9.1"
  }
 },
 "nbformat": 4,
 "nbformat_minor": 4
}

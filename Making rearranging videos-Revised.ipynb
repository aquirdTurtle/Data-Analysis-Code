{
 "cells": [
  {
   "cell_type": "markdown",
   "metadata": {},
   "source": [
    "# Making rearranging Videos"
   ]
  },
  {
   "cell_type": "markdown",
   "metadata": {},
   "source": [
    "Comes from December 7th 2017, (Thursday) Data Analysis Notebook, data from december 7th and december 8th"
   ]
  },
  {
   "cell_type": "code",
   "execution_count": 1,
   "metadata": {
    "ExecuteTime": {
     "end_time": "2018-02-08T03:53:38.446413Z",
     "start_time": "2018-02-08T03:53:38.440929Z"
    }
   },
   "outputs": [],
   "source": [
    "year=\"2017\"\n",
    "month=\"December\"\n",
    "day=\"8\""
   ]
  },
  {
   "cell_type": "markdown",
   "metadata": {},
   "source": [
    "## Analysis Code Update Plans"
   ]
  },
  {
   "cell_type": "markdown",
   "metadata": {},
   "source": [
    "- Better Documentation\n",
    "- Maintain coordinates\n",
    "- Better histogram fitting\n",
    "- option to just input guess for hist"
   ]
  },
  {
   "cell_type": "markdown",
   "metadata": {},
   "source": [
    "## Imports and initialization"
   ]
  },
  {
   "cell_type": "markdown",
   "metadata": {},
   "source": [
    "### Miscellaneous Imports"
   ]
  },
  {
   "cell_type": "code",
   "execution_count": 2,
   "metadata": {
    "ExecuteTime": {
     "end_time": "2018-02-08T03:53:40.147752Z",
     "start_time": "2018-02-08T03:53:40.144742Z"
    }
   },
   "outputs": [],
   "source": [
    "from PIL import Image"
   ]
  },
  {
   "cell_type": "code",
   "execution_count": 3,
   "metadata": {
    "ExecuteTime": {
     "end_time": "2018-02-08T03:53:41.818480Z",
     "start_time": "2018-02-08T03:53:40.715992Z"
    }
   },
   "outputs": [],
   "source": [
    "import numpy as np"
   ]
  },
  {
   "cell_type": "code",
   "execution_count": 4,
   "metadata": {
    "ExecuteTime": {
     "end_time": "2018-02-08T03:53:47.040574Z",
     "start_time": "2018-02-08T03:53:42.364219Z"
    }
   },
   "outputs": [
    {
     "data": {
      "text/html": [
       "<script>requirejs.config({paths: { 'plotly': ['https://cdn.plot.ly/plotly-latest.min']},});if(!window.Plotly) {{require(['plotly'],function(plotly) {window.Plotly=plotly;});}}</script>"
      ],
      "text/vnd.plotly.v1+html": [
       "<script>requirejs.config({paths: { 'plotly': ['https://cdn.plot.ly/plotly-latest.min']},});if(!window.Plotly) {{require(['plotly'],function(plotly) {window.Plotly=plotly;});}}</script>"
      ]
     },
     "metadata": {},
     "output_type": "display_data"
    }
   ],
   "source": [
    "from plotly.offline import init_notebook_mode\n",
    "init_notebook_mode(connected=True);"
   ]
  },
  {
   "cell_type": "code",
   "execution_count": 5,
   "metadata": {
    "ExecuteTime": {
     "end_time": "2018-02-08T03:53:48.468751Z",
     "start_time": "2018-02-08T03:53:48.241133Z"
    }
   },
   "outputs": [],
   "source": [
    "from matplotlib import rcParams\n",
    "from matplotlib import style\n",
    "from matplotlib.pyplot import *\n",
    "%matplotlib notebook\n",
    "# inline\n",
    "# ## set matplotlib plot defaults :D\n",
    "# Style controls many default colors in matplotlib plots.\n",
    "# Change the following if you don't like dark backgrounds. Many other options.\n",
    "style.use(['seaborn-darkgrid'])\n",
    "#style.use(['seaborn-dark-palette'])\n",
    "\n",
    "### old solarized stuff\n",
    "# style.use(['dark_background'])\n",
    "# mpl.rcParams['axes.facecolor'] = '#0a0a0a'\n",
    "# the default cycling of colors in this mode isn't very good.\n",
    "# mpl.rcParams['axes.prop_cycle'] = cycler('color', ['r','c','g','#FFFFFF','y','m','b'])\n",
    "### General\n",
    "rcParams['figure.figsize'] = (18.0, 8.0)\n",
    "rcParams['axes.grid'] = True\n",
    "rcParams['axes.formatter.useoffset'] = False\n",
    "rcParams['grid.alpha'] = 0.3\n",
    "rcParams['axes.formatter.limits'] = (0,3)\n",
    "# jet is awful.\n",
    "rcParams['image.cmap'] = 'viridis'\n",
    "# to see all available options, decomment this line.\n",
    "# print(mpl.rcParams)\n",
    "rcParams['font.size'] = 14"
   ]
  },
  {
   "cell_type": "code",
   "execution_count": 6,
   "metadata": {},
   "outputs": [],
   "source": [
    "import ExpFile as exp"
   ]
  },
  {
   "cell_type": "code",
   "execution_count": 7,
   "metadata": {},
   "outputs": [],
   "source": [
    "from ExpFile import setPath"
   ]
  },
  {
   "cell_type": "code",
   "execution_count": 8,
   "metadata": {},
   "outputs": [],
   "source": [
    "setPath(day, month, year);"
   ]
  },
  {
   "cell_type": "code",
   "execution_count": 9,
   "metadata": {
    "ExecuteTime": {
     "end_time": "2018-02-28T17:06:46.067900Z",
     "start_time": "2018-02-28T17:06:31.753411Z"
    },
    "hidden": true
   },
   "outputs": [
    {
     "data": {
      "text/html": [
       "<div>\n",
       "<style>\n",
       "    .dataframe thead tr:only-child th {\n",
       "        text-align: right;\n",
       "    }\n",
       "\n",
       "    .dataframe thead th {\n",
       "        text-align: left;\n",
       "    }\n",
       "\n",
       "    .dataframe tbody tr th {\n",
       "        vertical-align: top;\n",
       "    }\n",
       "</style>\n",
       "<table border=\"1\" class=\"dataframe\">\n",
       "  <thead>\n",
       "    <tr style=\"text-align: right;\">\n",
       "      <th></th>\n",
       "      <th>Version</th>\n",
       "    </tr>\n",
       "  </thead>\n",
       "  <tbody>\n",
       "    <tr>\n",
       "      <th>PrintVersions;</th>\n",
       "      <td>1.0</td>\n",
       "    </tr>\n",
       "    <tr>\n",
       "      <th>mainAnalysis:</th>\n",
       "      <td>1.4</td>\n",
       "    </tr>\n",
       "    <tr>\n",
       "      <th>AnalysisHelpers:</th>\n",
       "      <td>1.4</td>\n",
       "    </tr>\n",
       "    <tr>\n",
       "      <th>bokehPlotters:</th>\n",
       "      <td>1.0</td>\n",
       "    </tr>\n",
       "    <tr>\n",
       "      <th>fittingFunctions:</th>\n",
       "      <td>1.0</td>\n",
       "    </tr>\n",
       "    <tr>\n",
       "      <th>MarksConstants:</th>\n",
       "      <td>1.0</td>\n",
       "    </tr>\n",
       "    <tr>\n",
       "      <th>MarksFourierAnalysis:</th>\n",
       "      <td>1.0</td>\n",
       "    </tr>\n",
       "    <tr>\n",
       "      <th>matplotlibPlotters:</th>\n",
       "      <td>1.1</td>\n",
       "    </tr>\n",
       "    <tr>\n",
       "      <th>miscellaneous:</th>\n",
       "      <td>1.0</td>\n",
       "    </tr>\n",
       "    <tr>\n",
       "      <th>plotlyPlotters:</th>\n",
       "      <td>1.6</td>\n",
       "    </tr>\n",
       "  </tbody>\n",
       "</table>\n",
       "</div>"
      ],
      "text/plain": [
       "                      Version\n",
       "PrintVersions;            1.0\n",
       "mainAnalysis:             1.4\n",
       "AnalysisHelpers:          1.4\n",
       "bokehPlotters:            1.0\n",
       "fittingFunctions:         1.0\n",
       "MarksConstants:           1.0\n",
       "MarksFourierAnalysis:     1.0\n",
       "matplotlibPlotters:       1.1\n",
       "miscellaneous:            1.0\n",
       "plotlyPlotters:           1.6"
      ]
     },
     "execution_count": 9,
     "metadata": {},
     "output_type": "execute_result"
    }
   ],
   "source": [
    "from ExpFile import setPath\n",
    "import ExpFile as exp\n",
    "from VersionManagement import getVersions\n",
    "import PlotlyPlotters as pp\n",
    "import MatplotlibPlotters as mp\n",
    "import MainAnalysis as ma\n",
    "import AnalysisHelpers as ah\n",
    "import Miscellaneous as misc\n",
    "\n",
    "from importlib import reload\n",
    "def reloadMyModules():\n",
    "    reload(exp)\n",
    "    reload(misc)\n",
    "    reload(ma)\n",
    "    reload(ah)\n",
    "    reload(pp)\n",
    "    reload(mp)\n",
    "    setPath(day,month,year)\n",
    "\n",
    "reloadMyModules()\n",
    "getVersions()"
   ]
  },
  {
   "cell_type": "markdown",
   "metadata": {},
   "source": [
    "# Please run and freeze the \"versions\" output above before starting work."
   ]
  },
  {
   "cell_type": "markdown",
   "metadata": {},
   "source": [
    "### prelim defs for this notebook"
   ]
  },
  {
   "cell_type": "code",
   "execution_count": 10,
   "metadata": {
    "ExecuteTime": {
     "end_time": "2018-02-08T03:54:23.244496Z",
     "start_time": "2018-02-08T03:54:23.241482Z"
    }
   },
   "outputs": [],
   "source": [
    "location = 'C:/Users/Mark-Brown/Documents/Analysis-Code/Videos/Inferno/'"
   ]
  },
  {
   "cell_type": "code",
   "execution_count": 29,
   "metadata": {},
   "outputs": [],
   "source": [
    "def savePureIm(imData, name):\n",
    "    fig = figure(frameon=False)\n",
    "    fig.set_size_inches(9,15)\n",
    "    ax = Axes(fig, [0., 0., 1., 1.])\n",
    "    ax.set_axis_off()\n",
    "    fig.add_axes(ax)\n",
    "    ax.imshow(imData, origin='bottom', cmap='inferno')\n",
    "    grid(False)\n",
    "    axis('off');\n",
    "    savefig(name)"
   ]
  },
  {
   "cell_type": "code",
   "execution_count": 12,
   "metadata": {
    "ExecuteTime": {
     "end_time": "2018-02-08T03:54:23.792877Z",
     "start_time": "2018-02-08T03:54:23.721187Z"
    },
    "scrolled": false
   },
   "outputs": [],
   "source": [
    "def findMatches(arrangement, runNum, threshold=210, lim=None, lowLim=0):\n",
    "    with exp.ExpFile(runNum, old=True) as f:\n",
    "        rawData = f.get_pics()\n",
    "    #rawData, keyName, hdf5Key, repetitions = loadHDF5(runNum)\n",
    "    locs = unpackAtomLocations([2,2,2,3,6])\n",
    "    pic1Data = arr([None] * len(locs))\n",
    "    pic1Atoms = [[] for _ in locs]\n",
    "    for i, loc, in enumerate(locs):\n",
    "        pic1Data[i] = ah.normalizeData_2(rawData, loc, 1, 1, True)\n",
    "        for pic in pic1Data[i]:\n",
    "            pic1Atoms[i].append(1 * (pic > threshold))\n",
    "    pic1Atoms = arr(pic1Atoms)\n",
    "    atomsArray = misc.transpose(pic1Atoms)\n",
    "    for i, elem in enumerate(atomsArray):\n",
    "        atomsArray[i] = np.transpose(arr(elem).reshape(3, 6))\n",
    "    atomsArray = arr(atomsArray)\n",
    "    if lim is None:\n",
    "        lim = len(atomsArray)\n",
    "    picsToReturn = []\n",
    "    exactPics = []\n",
    "    areAny = False\n",
    "    for i, atoms in enumerate(atomsArray[lowLim:lim]):\n",
    "        picsToReturn.append(rawData[i+lowLim])\n",
    "        exact = True\n",
    "        for atom in (atoms - arrangement).flatten():\n",
    "            if atom != 0:\n",
    "                exact = False\n",
    "        if exact:\n",
    "            print('exact', i+lowLim)\n",
    "            areAny = True\n",
    "            exactPics.append(rawData[i+lowLim])\n",
    "        elif np.sum(atoms * arrangement) == np.sum(arrangement):\n",
    "            print('filled @', i+lowLim, ', extra:', np.sum(atoms) - np.sum(arrangement))\n",
    "            areAny = True\n",
    "    if not areAny:\n",
    "        print('No Matches')\n",
    "    return picsToReturn, exactPics\n",
    "\n",
    "            "
   ]
  },
  {
   "cell_type": "code",
   "execution_count": 13,
   "metadata": {
    "ExecuteTime": {
     "end_time": "2018-02-08T03:54:25.767610Z",
     "start_time": "2018-02-08T03:54:24.359514Z"
    },
    "scrolled": false
   },
   "outputs": [],
   "source": [
    "import imageio\n",
    "import numpy as np\n",
    "from numpy import array as arr\n",
    "import matplotlib as mpl\n",
    "import matplotlib.cm\n",
    "\n",
    "\n",
    "infernoMap = [mpl.cm.inferno(i)[:-1] for i in range(256)]\n",
    "viridisMap = [mpl.cm.viridis(i)[:-1] for i in range(256)]\n",
    "hotMap = [mpl.cm.hot(i)[:-1] for i in range(256)]\n",
    "\n",
    "def makeVid(pics, gifAddress, videoType, fileAddress=None, dur=1, lim=None, includeCount=True, lowLim=None, \n",
    "            finLabels=[], finTxt=\"Atom Reservoir Depleted\", vidMap=infernoMap):\n",
    "    # global count\n",
    "    # select subsection\n",
    "    if lim is None:\n",
    "        lim = len(pics)\n",
    "    if lowLim is None:\n",
    "        lowLim = 0\n",
    "    pics = pics[lowLim:lim]\n",
    "    # normalize to rgb scale\n",
    "    \n",
    "    pics = np.uint16(pics / max(pics.flatten()) * 350)\n",
    "    pics = arr([[[int(elem) for elem in row] for row in pic] for pic in pics])\n",
    "    pics = arr(pics-min(pics.flatten()) - 50)\n",
    "    pics = [[[vidMap[elem] if elem < 256 and elem >= 0 else vidMap[255] if elem >= 256 else vidMap[0] \n",
    "              for elem in row] for row in pic] for pic in pics]\n",
    "    images = []\n",
    "    sequenceCount = 1\n",
    "    offset = 0\n",
    "    for picCount, pic in enumerate(pics):\n",
    "        fig = figure()\n",
    "        fig.set_size_inches([9,15])\n",
    "        ax = Axes(fig, [0., 0., 1., 1.])\n",
    "        ax.set_axis_off()\n",
    "        fig.add_axes(ax)\n",
    "        grid('off')\n",
    "        ax.imshow(pic, aspect='equal')\n",
    "        ax.text(0,14,str(sequenceCount) + \".\" + str(picCount+1-offset), color='white', fontsize=40)\n",
    "        ax.plot([2,4],[1,1],color='w')\n",
    "        ax.plot([2,2],[0.9, 1.1], 'w')\n",
    "        ax.plot([4,4],[0.9, 1.1], 'w')\n",
    "        ax.text(2.5, 0.9,r\"$1.7 \\mu m $\", color='white', fontsize=20)\n",
    "        if picCount+1 in finLabels:\n",
    "            ax.text(1.5, 14, finTxt, color='r', fontsize=40)\n",
    "        name = \"temp\"+str(picCount+1)+\".png\"\n",
    "        savefig(name)\n",
    "        images.append(imageio.imread(name))\n",
    "        if picCount+1 in finLabels:\n",
    "            sequenceCount += 1\n",
    "            offset = picCount+1\n",
    "            for _ in range(4):\n",
    "                images.append(imageio.imread(name))\n",
    "        close('all')\n",
    "    # make bigger\n",
    "    pics = [np.repeat(np.repeat(pic,32, axis=0), 32, axis=1) for pic in pics]\n",
    "    imageio.mimsave(gifAddress, images, format=videoType, duration=dur)\n",
    "from IPython.display import Image, HTML, display"
   ]
  },
  {
   "cell_type": "code",
   "execution_count": 14,
   "metadata": {
    "ExecuteTime": {
     "end_time": "2018-02-08T03:54:25.976626Z",
     "start_time": "2018-02-08T03:54:25.973616Z"
    }
   },
   "outputs": [],
   "source": [
    "location = \"C:/Users/Mark-Brown/Documents/Analysis-Code/Videos/Inferno/\""
   ]
  },
  {
   "cell_type": "markdown",
   "metadata": {},
   "source": [
    "# Videos of Rearranging"
   ]
  },
  {
   "cell_type": "markdown",
   "metadata": {},
   "source": [
    " Line rearranging: 35 (5000 reps)  \n",
    "J rearranging: 36 (2000 reps)  \n",
    "I rearranging: 37  \n",
    "L Rearranging: 38  \n",
    "A rearranging: 45 (5000)  \n",
    " \n",
    "A -   \n",
    "T rearranging: 46 (5000 opps)  \n",
    "O rearranging: 48 (5000)  \n",
    "M rearranging: 54 (3000)  \n",
    "S rearranging: 49 (3000)  \n",
    " \n",
    "R rearranging: 55 (3000)  \n",
    "E rearranging: 56 (2000)  \n",
    "G rearranging: 58 (2000)  \n",
    "A -  \n",
    "L -  \n",
    "\n",
    "L -  \n",
    "A -  \n",
    "B rearranging: 57 (?)  \n",
    "S -  \n",
    " \n",
    " "
   ]
  },
  {
   "cell_type": "code",
   "execution_count": 18,
   "metadata": {},
   "outputs": [
    {
     "ename": "NameError",
     "evalue": "name 'loadHDF5' is not defined",
     "output_type": "error",
     "traceback": [
      "\u001b[1;31m---------------------------------------------------------------------------\u001b[0m",
      "\u001b[1;31mNameError\u001b[0m                                 Traceback (most recent call last)",
      "\u001b[1;32m<ipython-input-18-933520e738c1>\u001b[0m in \u001b[0;36m<module>\u001b[1;34m()\u001b[0m\n\u001b[1;32m----> 1\u001b[1;33m \u001b[0mrawData\u001b[0m\u001b[1;33m,\u001b[0m \u001b[0m_\u001b[0m\u001b[1;33m,\u001b[0m \u001b[0m_\u001b[0m\u001b[1;33m,\u001b[0m \u001b[0m_\u001b[0m \u001b[1;33m=\u001b[0m \u001b[0mloadHDF5\u001b[0m\u001b[1;33m(\u001b[0m\u001b[1;36m35\u001b[0m\u001b[1;33m)\u001b[0m\u001b[1;33m\u001b[0m\u001b[0m\n\u001b[0m\u001b[0;32m      2\u001b[0m \u001b[0mgifData\u001b[0m \u001b[1;33m=\u001b[0m \u001b[0mrawData\u001b[0m\u001b[1;33m[\u001b[0m\u001b[1;36m9\u001b[0m\u001b[1;33m:\u001b[0m\u001b[1;36m36\u001b[0m\u001b[1;33m]\u001b[0m\u001b[1;33m\u001b[0m\u001b[0m\n\u001b[0;32m      3\u001b[0m \u001b[0mgifData\u001b[0m \u001b[1;33m=\u001b[0m \u001b[0mnp\u001b[0m\u001b[1;33m.\u001b[0m\u001b[0mconcatenate\u001b[0m\u001b[1;33m(\u001b[0m\u001b[1;33m(\u001b[0m\u001b[0mgifData\u001b[0m\u001b[1;33m,\u001b[0m \u001b[0mrawData\u001b[0m\u001b[1;33m[\u001b[0m\u001b[1;36m37\u001b[0m\u001b[1;33m:\u001b[0m\u001b[1;36m51\u001b[0m\u001b[1;33m]\u001b[0m\u001b[1;33m)\u001b[0m\u001b[1;33m)\u001b[0m\u001b[1;33m\u001b[0m\u001b[0m\n\u001b[0;32m      4\u001b[0m \u001b[0mgifData\u001b[0m \u001b[1;33m=\u001b[0m \u001b[0mnp\u001b[0m\u001b[1;33m.\u001b[0m\u001b[0mconcatenate\u001b[0m\u001b[1;33m(\u001b[0m\u001b[1;33m(\u001b[0m\u001b[0mgifData\u001b[0m\u001b[1;33m,\u001b[0m \u001b[0mrawData\u001b[0m\u001b[1;33m[\u001b[0m\u001b[1;36m57\u001b[0m\u001b[1;33m:\u001b[0m\u001b[1;36m109\u001b[0m\u001b[1;33m]\u001b[0m\u001b[1;33m)\u001b[0m\u001b[1;33m)\u001b[0m\u001b[1;33m\u001b[0m\u001b[0m\n\u001b[0;32m      5\u001b[0m \u001b[0mendpoints\u001b[0m \u001b[1;33m=\u001b[0m \u001b[1;33m[\u001b[0m\u001b[1;36m27\u001b[0m\u001b[1;33m,\u001b[0m \u001b[1;36m27\u001b[0m\u001b[1;33m+\u001b[0m\u001b[1;36m14\u001b[0m\u001b[1;33m,\u001b[0m \u001b[1;36m27\u001b[0m\u001b[1;33m+\u001b[0m\u001b[1;36m14\u001b[0m\u001b[1;33m+\u001b[0m\u001b[1;36m27\u001b[0m\u001b[1;33m,\u001b[0m \u001b[1;36m27\u001b[0m\u001b[1;33m+\u001b[0m\u001b[1;36m14\u001b[0m\u001b[1;33m+\u001b[0m\u001b[1;36m27\u001b[0m\u001b[1;33m+\u001b[0m\u001b[1;36m25\u001b[0m\u001b[1;33m]\u001b[0m\u001b[1;33m\u001b[0m\u001b[0m\n",
      "\u001b[1;31mNameError\u001b[0m: name 'loadHDF5' is not defined"
     ]
    }
   ],
   "source": [
    "rawData, _, _, _ = loadHDF5(35)\n",
    "gifData = rawData[9:36]\n",
    "gifData = np.concatenate((gifData, rawData[37:51]))\n",
    "gifData = np.concatenate((gifData, rawData[57:109]))\n",
    "endpoints = [27, 27+14, 27+14+27, 27+14+27+25]"
   ]
  },
  {
   "cell_type": "code",
   "execution_count": 118,
   "metadata": {
    "scrolled": true
   },
   "outputs": [],
   "source": [
    "makeVid(gifData, location+'niceLine.gif', 'gif', dur=0.15, finLabels=endpoints)"
   ]
  },
  {
   "cell_type": "code",
   "execution_count": 23,
   "metadata": {
    "collapsed": true
   },
   "outputs": [],
   "source": [
    "from AnalysisHelpers import unpackAtomLocations, normalizeData"
   ]
  },
  {
   "cell_type": "code",
   "execution_count": 24,
   "metadata": {
    "collapsed": true
   },
   "outputs": [],
   "source": [
    "from matplotlib.pyplot import *"
   ]
  },
  {
   "cell_type": "code",
   "execution_count": 25,
   "metadata": {
    "collapsed": true
   },
   "outputs": [],
   "source": [
    "from numpy import array as arr"
   ]
  },
  {
   "cell_type": "markdown",
   "metadata": {
    "heading_collapsed": true
   },
   "source": [
    "## single line"
   ]
  },
  {
   "cell_type": "code",
   "execution_count": 74,
   "metadata": {
    "ExecuteTime": {
     "end_time": "2017-11-16T10:37:29.329638Z",
     "start_time": "2017-11-16T10:37:29.323638Z"
    },
    "collapsed": true,
    "hidden": true
   },
   "outputs": [
    {
     "data": {
      "text/plain": [
       "'J:\\\\Data repository\\\\New Data Repository\\\\2017\\\\December\\\\December 7\\\\Raw Data\\\\'"
      ]
     },
     "execution_count": 74,
     "metadata": {},
     "output_type": "execute_result"
    }
   ],
   "source": [
    "yearloc=\"2017\"\n",
    "monthloc=\"December\"\n",
    "dayloc=\"7\"\n",
    "setPath(dayloc, monthloc, yearloc)"
   ]
  },
  {
   "cell_type": "code",
   "execution_count": null,
   "metadata": {
    "hidden": true
   },
   "outputs": [],
   "source": [
    "makeVid(rawData, location+'lineRearrange1.gif', 'gif', dur=0.3, lim=100)"
   ]
  },
  {
   "cell_type": "markdown",
   "metadata": {
    "heading_collapsed": true
   },
   "source": [
    "## J"
   ]
  },
  {
   "cell_type": "code",
   "execution_count": 15,
   "metadata": {},
   "outputs": [],
   "source": [
    "day = '7'"
   ]
  },
  {
   "cell_type": "code",
   "execution_count": 16,
   "metadata": {},
   "outputs": [],
   "source": [
    "reloadMyModules()"
   ]
  },
  {
   "cell_type": "code",
   "execution_count": 26,
   "metadata": {
    "hidden": true,
    "scrolled": false
   },
   "outputs": [
    {
     "name": "stdout",
     "output_type": "stream",
     "text": [
      "exact 959\n",
      "exact 960\n",
      "exact 961\n",
      "exact 962\n",
      "exact 963\n",
      "exact 964\n",
      "exact 965\n",
      "exact 966\n",
      "exact 967\n",
      "exact 968\n",
      "exact 969\n",
      "exact 970\n",
      "exact 971\n",
      "exact 972\n",
      "exact 973\n",
      "exact 974\n",
      "exact 975\n",
      "exact 976\n",
      "exact 977\n"
     ]
    }
   ],
   "source": [
    "arrangement = arr( [[1, 1, 1],\n",
    "                    [1, 0, 1],\n",
    "                    [1, 0, 1],\n",
    "                    [0, 0, 1],\n",
    "                    [0, 0, 1],\n",
    "                    [0, 0, 0]])\n",
    "pics, exactPics = findMatches(arrangement, 36, lowLim=955, lim=978);"
   ]
  },
  {
   "cell_type": "code",
   "execution_count": 27,
   "metadata": {},
   "outputs": [],
   "source": [
    "avgPic = np.zeros(exactPics[0].shape)\n",
    "for pic in exactPics:\n",
    "    avgPic += pic\n",
    "avgPic /= len(exactPics)"
   ]
  },
  {
   "cell_type": "code",
   "execution_count": 30,
   "metadata": {},
   "outputs": [
    {
     "data": {
      "image/png": "[encoded data removed]",
      "text/plain": [
       "<Figure size 648x1080 with 1 Axes>"
      ]
     },
     "metadata": {},
     "output_type": "display_data"
    }
   ],
   "source": [
    "savePureIm(avgPic, 'J.png')"
   ]
  },
  {
   "cell_type": "code",
   "execution_count": 80,
   "metadata": {
    "collapsed": true,
    "hidden": true
   },
   "outputs": [],
   "source": [
    "flippedPics = []\n",
    "for pic in pics:\n",
    "    flippedPics.append(np.zeros((15, 9)))\n",
    "    for i, row in enumerate(pic):\n",
    "        flippedPics[-1][-i-1] = row"
   ]
  },
  {
   "cell_type": "code",
   "execution_count": 67,
   "metadata": {
    "hidden": true
   },
   "outputs": [
    {
     "name": "stderr",
     "output_type": "stream",
     "text": [
      "C:\\ProgramData\\Anaconda3\\lib\\site-packages\\matplotlib\\cbook\\deprecation.py:107: MatplotlibDeprecationWarning:\n",
      "\n",
      "Passing one of 'on', 'true', 'off', 'false' as a boolean is deprecated; use an actual boolean (True/False) instead.\n",
      "\n"
     ]
    }
   ],
   "source": [
    "makeVid(arr(flippedPics), location+'J_1.gif', 'gif', dur=0.2)"
   ]
  },
  {
   "cell_type": "markdown",
   "metadata": {
    "heading_collapsed": true
   },
   "source": [
    "## I"
   ]
  },
  {
   "cell_type": "code",
   "execution_count": 31,
   "metadata": {
    "ExecuteTime": {
     "end_time": "2017-11-16T10:37:29.329638Z",
     "start_time": "2017-11-16T10:37:29.323638Z"
    },
    "collapsed": true,
    "hidden": true
   },
   "outputs": [],
   "source": [
    "day = '7'\n",
    "reloadMyModules()"
   ]
  },
  {
   "cell_type": "code",
   "execution_count": 32,
   "metadata": {
    "hidden": true,
    "scrolled": false
   },
   "outputs": [
    {
     "name": "stdout",
     "output_type": "stream",
     "text": [
      "exact 570\n",
      "exact 571\n",
      "exact 572\n",
      "exact 573\n",
      "exact 574\n",
      "exact 575\n",
      "exact 576\n",
      "exact 577\n",
      "exact 578\n",
      "exact 579\n",
      "exact 580\n",
      "exact 581\n",
      "exact 582\n",
      "exact 583\n",
      "exact 584\n"
     ]
    }
   ],
   "source": [
    "arrangement = arr( [[1, 1, 1],\n",
    "                    [0, 1, 0],\n",
    "                    [0, 1, 0],\n",
    "                    [0, 1, 0],\n",
    "                    [1, 1, 1],\n",
    "                    [0, 0, 0]] )\n",
    "# I_1 = lowLim=349, lim=383\n",
    "# best:\n",
    "# I_2 = lowLim=564, lim=585\n",
    "# might be more good ones\n",
    "pics, exactPics = findMatches(arrangement, 37, lowLim=564, lim=585);"
   ]
  },
  {
   "cell_type": "code",
   "execution_count": 33,
   "metadata": {},
   "outputs": [],
   "source": [
    "avgPic = np.zeros(exactPics[0].shape)\n",
    "for pic in exactPics:\n",
    "    avgPic += pic\n",
    "avgPic /= len(exactPics)"
   ]
  },
  {
   "cell_type": "code",
   "execution_count": 34,
   "metadata": {},
   "outputs": [
    {
     "data": {
      "image/png": "[encoded data removed]",
      "text/plain": [
       "<Figure size 648x1080 with 1 Axes>"
      ]
     },
     "metadata": {},
     "output_type": "display_data"
    }
   ],
   "source": [
    "savePureIm(avgPic, 'I.png')"
   ]
  },
  {
   "cell_type": "code",
   "execution_count": 90,
   "metadata": {
    "collapsed": true,
    "hidden": true
   },
   "outputs": [],
   "source": [
    "flippedPics = []\n",
    "for pic in pics:\n",
    "    flippedPics.append(np.zeros((15, 9)))\n",
    "    for i, row in enumerate(pic):\n",
    "        flippedPics[-1][-i-1] = row"
   ]
  },
  {
   "cell_type": "code",
   "execution_count": 91,
   "metadata": {
    "hidden": true
   },
   "outputs": [
    {
     "name": "stderr",
     "output_type": "stream",
     "text": [
      "C:\\ProgramData\\Anaconda3\\lib\\site-packages\\imageio\\core\\util.py:78: UserWarning:\n",
      "\n",
      "Lossy conversion from float64 to uint8, range [0, 1]\n",
      "\n"
     ]
    }
   ],
   "source": [
    "makeVid(arr(flippedPics), location+'I_2.gif', 'gif', dur=0.2)"
   ]
  },
  {
   "cell_type": "markdown",
   "metadata": {
    "heading_collapsed": true
   },
   "source": [
    "## L"
   ]
  },
  {
   "cell_type": "code",
   "execution_count": 35,
   "metadata": {
    "hidden": true,
    "scrolled": false
   },
   "outputs": [
    {
     "name": "stdout",
     "output_type": "stream",
     "text": [
      "exact 143\n",
      "exact 144\n",
      "exact 145\n",
      "exact 146\n",
      "exact 147\n",
      "exact 148\n",
      "exact 149\n",
      "exact 150\n",
      "exact 151\n",
      "exact 152\n",
      "exact 153\n"
     ]
    }
   ],
   "source": [
    "arrangement = arr( [[1, 1, 1],\n",
    "                    [1, 0, 0],\n",
    "                    [1, 0, 0],\n",
    "                    [1, 0, 0],\n",
    "                    [1, 0, 0],\n",
    "                    [0, 0, 0]] )\n",
    "pics, exactPics = findMatches(arrangement, 38, lowLim=133, lim=154);"
   ]
  },
  {
   "cell_type": "code",
   "execution_count": 36,
   "metadata": {},
   "outputs": [],
   "source": [
    "avgPic = np.zeros(exactPics[0].shape)\n",
    "for pic in exactPics:\n",
    "    avgPic += pic\n",
    "avgPic /= len(exactPics)"
   ]
  },
  {
   "cell_type": "code",
   "execution_count": 37,
   "metadata": {},
   "outputs": [
    {
     "data": {
      "image/png": "[encoded data removed]",
      "text/plain": [
       "<Figure size 648x1080 with 1 Axes>"
      ]
     },
     "metadata": {},
     "output_type": "display_data"
    }
   ],
   "source": [
    "savePureIm(avgPic, 'L.png')"
   ]
  },
  {
   "cell_type": "code",
   "execution_count": 189,
   "metadata": {
    "collapsed": true,
    "hidden": true
   },
   "outputs": [],
   "source": [
    "flippedPics = []\n",
    "for pic in pics:\n",
    "    flippedPics.append(np.zeros((15, 9)))\n",
    "    for i, row in enumerate(pic):\n",
    "        flippedPics[-1][-i-1] = row"
   ]
  },
  {
   "cell_type": "code",
   "execution_count": 190,
   "metadata": {
    "hidden": true
   },
   "outputs": [
    {
     "name": "stderr",
     "output_type": "stream",
     "text": [
      "C:\\ProgramData\\Anaconda3\\lib\\site-packages\\imageio\\core\\util.py:78: UserWarning: Lossy conversion from float64 to uint8, range [0, 1]\n",
      "  dtype_str, out_type.__name__))\n"
     ]
    }
   ],
   "source": [
    "makeVid(arr(flippedPics), location+'L_1.gif', 'gif', dur=0.2)"
   ]
  },
  {
   "cell_type": "markdown",
   "metadata": {
    "heading_collapsed": true
   },
   "source": [
    "## A"
   ]
  },
  {
   "cell_type": "code",
   "execution_count": 38,
   "metadata": {
    "ExecuteTime": {
     "end_time": "2017-11-16T10:37:29.329638Z",
     "start_time": "2017-11-16T10:37:29.323638Z"
    },
    "collapsed": true,
    "hidden": true
   },
   "outputs": [],
   "source": [
    "day = '8'\n",
    "reloadMyModules()"
   ]
  },
  {
   "cell_type": "code",
   "execution_count": 39,
   "metadata": {
    "hidden": true,
    "scrolled": false
   },
   "outputs": [
    {
     "name": "stdout",
     "output_type": "stream",
     "text": [
      "exact 842\n",
      "exact 843\n",
      "exact 844\n"
     ]
    }
   ],
   "source": [
    "arrangement = arr( [[1, 0, 1],\n",
    "                    [1, 0, 1],\n",
    "                    [1, 1, 1],\n",
    "                    [1, 0, 1],\n",
    "                    [1, 1, 1],\n",
    "                    [0, 0, 0]] )\n",
    "pics, exactPics = findMatches(arrangement, 31, lowLim=840, lim=845);"
   ]
  },
  {
   "cell_type": "code",
   "execution_count": 40,
   "metadata": {},
   "outputs": [],
   "source": [
    "avgPic = np.zeros(exactPics[0].shape)\n",
    "for pic in exactPics:\n",
    "    avgPic += pic\n",
    "avgPic /= len(exactPics)"
   ]
  },
  {
   "cell_type": "code",
   "execution_count": 41,
   "metadata": {},
   "outputs": [
    {
     "data": {
      "image/png": "[encoded data removed]",
      "text/plain": [
       "<Figure size 648x1080 with 1 Axes>"
      ]
     },
     "metadata": {},
     "output_type": "display_data"
    }
   ],
   "source": [
    "savePureIm(avgPic, 'A.png')"
   ]
  },
  {
   "cell_type": "code",
   "execution_count": 126,
   "metadata": {
    "collapsed": true,
    "hidden": true
   },
   "outputs": [],
   "source": [
    "flippedPics = []\n",
    "for pic in pics:\n",
    "    flippedPics.append(np.zeros((15, 9)))\n",
    "    for i, row in enumerate(pic):\n",
    "        flippedPics[-1][-i-1] = row"
   ]
  },
  {
   "cell_type": "code",
   "execution_count": 127,
   "metadata": {
    "hidden": true,
    "scrolled": false
   },
   "outputs": [
    {
     "name": "stderr",
     "output_type": "stream",
     "text": [
      "C:\\ProgramData\\Anaconda3\\lib\\site-packages\\imageio\\core\\util.py:78: UserWarning:\n",
      "\n",
      "Lossy conversion from float64 to uint8, range [0, 1]\n",
      "\n"
     ]
    }
   ],
   "source": [
    "makeVid(arr(flippedPics), location+'A_1.gif', 'GIF', dur=0.2);"
   ]
  },
  {
   "cell_type": "markdown",
   "metadata": {
    "heading_collapsed": true
   },
   "source": [
    "## T"
   ]
  },
  {
   "cell_type": "code",
   "execution_count": 120,
   "metadata": {
    "ExecuteTime": {
     "end_time": "2017-11-16T10:37:29.329638Z",
     "start_time": "2017-11-16T10:37:29.323638Z"
    },
    "collapsed": true,
    "hidden": true
   },
   "outputs": [],
   "source": [
    "yearloc=\"2017\"\n",
    "monthloc=\"December\"\n",
    "dayloc=\"7\"\n",
    "setPath(dayloc, monthloc, yearloc)"
   ]
  },
  {
   "cell_type": "code",
   "execution_count": 121,
   "metadata": {
    "hidden": true,
    "scrolled": false
   },
   "outputs": [
    {
     "name": "stdout",
     "output_type": "stream",
     "text": [
      "exact 980\n",
      "exact 981\n",
      "exact 982\n",
      "exact 983\n",
      "exact 984\n",
      "exact 985\n",
      "exact 986\n",
      "exact 987\n",
      "exact 988\n",
      "exact 989\n",
      "exact 990\n",
      "exact 991\n",
      "exact 992\n",
      "exact 993\n",
      "exact 994\n",
      "exact 995\n"
     ]
    }
   ],
   "source": [
    "arrangement = arr( [[0, 1, 0],\n",
    "                    [0, 1, 0],\n",
    "                    [0, 1, 0],\n",
    "                    [0, 1, 0],\n",
    "                    [1, 1, 1],\n",
    "                    [0, 0, 0]] )\n",
    "pics = findMatches(arrangement, 46, lowLim=968, lim=996);"
   ]
  },
  {
   "cell_type": "code",
   "execution_count": 122,
   "metadata": {
    "collapsed": true,
    "hidden": true
   },
   "outputs": [],
   "source": [
    "flippedPics = []\n",
    "for pic in pics:\n",
    "    flippedPics.append(np.zeros((15, 9)))\n",
    "    for i, row in enumerate(pic):\n",
    "        flippedPics[-1][-i-1] = row"
   ]
  },
  {
   "cell_type": "code",
   "execution_count": 123,
   "metadata": {
    "hidden": true
   },
   "outputs": [
    {
     "name": "stderr",
     "output_type": "stream",
     "text": [
      "C:\\ProgramData\\Anaconda3\\lib\\site-packages\\imageio\\core\\util.py:78: UserWarning:\n",
      "\n",
      "Lossy conversion from float64 to uint8, range [0, 1]\n",
      "\n"
     ]
    }
   ],
   "source": [
    "makeVid(arr(flippedPics), location+'T_1.gif', 'gif', dur=0.2)"
   ]
  },
  {
   "cell_type": "markdown",
   "metadata": {
    "heading_collapsed": true
   },
   "source": [
    "## O"
   ]
  },
  {
   "cell_type": "code",
   "execution_count": 17,
   "metadata": {
    "ExecuteTime": {
     "end_time": "2018-02-08T03:54:47.899874Z",
     "start_time": "2018-02-08T03:54:47.895352Z"
    },
    "hidden": true
   },
   "outputs": [],
   "source": [
    "yearloc=\"2017\"\n",
    "monthloc=\"December\"\n",
    "dayloc=\"7\"\n",
    "setPath(dayloc, monthloc, yearloc)"
   ]
  },
  {
   "cell_type": "code",
   "execution_count": 18,
   "metadata": {
    "ExecuteTime": {
     "end_time": "2018-02-08T03:54:48.924832Z",
     "start_time": "2018-02-08T03:54:48.115944Z"
    },
    "hidden": true
   },
   "outputs": [
    {
     "name": "stdout",
     "output_type": "stream",
     "text": [
      "Loading HDF5 File..."
     ]
    },
    {
     "ename": "KeyError",
     "evalue": "\"Unable to open object (Object 'seq #1 variables' doesn't exist)\"",
     "output_type": "error",
     "traceback": [
      "\u001b[1;31m---------------------------------------------------------------------------\u001b[0m",
      "\u001b[1;31mKeyError\u001b[0m                                  Traceback (most recent call last)",
      "\u001b[1;32m<ipython-input-18-c0247eaa3f56>\u001b[0m in \u001b[0;36m<module>\u001b[1;34m()\u001b[0m\n\u001b[1;32m----> 1\u001b[1;33m \u001b[0mpics\u001b[0m \u001b[1;33m=\u001b[0m \u001b[0mfindMatches\u001b[0m\u001b[1;33m(\u001b[0m\u001b[0marrangement\u001b[0m\u001b[1;33m,\u001b[0m \u001b[1;36m48\u001b[0m\u001b[1;33m,\u001b[0m \u001b[0mlowLim\u001b[0m\u001b[1;33m=\u001b[0m\u001b[1;36m771\u001b[0m\u001b[1;33m,\u001b[0m \u001b[0mlim\u001b[0m\u001b[1;33m=\u001b[0m\u001b[1;36m784\u001b[0m\u001b[1;33m)\u001b[0m\u001b[1;33m;\u001b[0m\u001b[1;33m\u001b[0m\u001b[0m\n\u001b[0m",
      "\u001b[1;32m<ipython-input-11-badaed2aaa21>\u001b[0m in \u001b[0;36mfindMatches\u001b[1;34m(arrangement, runNum, threshold, lim, lowLim)\u001b[0m\n\u001b[0;32m      1\u001b[0m \u001b[1;32mdef\u001b[0m \u001b[0mfindMatches\u001b[0m\u001b[1;33m(\u001b[0m\u001b[0marrangement\u001b[0m\u001b[1;33m,\u001b[0m \u001b[0mrunNum\u001b[0m\u001b[1;33m,\u001b[0m \u001b[0mthreshold\u001b[0m\u001b[1;33m=\u001b[0m\u001b[1;36m210\u001b[0m\u001b[1;33m,\u001b[0m \u001b[0mlim\u001b[0m\u001b[1;33m=\u001b[0m\u001b[1;32mNone\u001b[0m\u001b[1;33m,\u001b[0m \u001b[0mlowLim\u001b[0m\u001b[1;33m=\u001b[0m\u001b[1;36m0\u001b[0m\u001b[1;33m)\u001b[0m\u001b[1;33m:\u001b[0m\u001b[1;33m\u001b[0m\u001b[0m\n\u001b[1;32m----> 2\u001b[1;33m     \u001b[0mrawData\u001b[0m\u001b[1;33m,\u001b[0m \u001b[0mkeyName\u001b[0m\u001b[1;33m,\u001b[0m \u001b[0mhdf5Key\u001b[0m\u001b[1;33m,\u001b[0m \u001b[0mrepetitions\u001b[0m \u001b[1;33m=\u001b[0m \u001b[0mloadHDF5\u001b[0m\u001b[1;33m(\u001b[0m\u001b[0mrunNum\u001b[0m\u001b[1;33m)\u001b[0m\u001b[1;33m\u001b[0m\u001b[0m\n\u001b[0m\u001b[0;32m      3\u001b[0m     \u001b[0mlocs\u001b[0m \u001b[1;33m=\u001b[0m \u001b[0munpackAtomLocations\u001b[0m\u001b[1;33m(\u001b[0m\u001b[1;33m[\u001b[0m\u001b[1;36m2\u001b[0m\u001b[1;33m,\u001b[0m\u001b[1;36m2\u001b[0m\u001b[1;33m,\u001b[0m\u001b[1;36m2\u001b[0m\u001b[1;33m,\u001b[0m\u001b[1;36m3\u001b[0m\u001b[1;33m,\u001b[0m\u001b[1;36m6\u001b[0m\u001b[1;33m]\u001b[0m\u001b[1;33m)\u001b[0m\u001b[1;33m\u001b[0m\u001b[0m\n\u001b[0;32m      4\u001b[0m     \u001b[0mpic1Data\u001b[0m \u001b[1;33m=\u001b[0m \u001b[0marr\u001b[0m\u001b[1;33m(\u001b[0m\u001b[1;33m[\u001b[0m\u001b[1;32mNone\u001b[0m\u001b[1;33m]\u001b[0m \u001b[1;33m*\u001b[0m \u001b[0mlen\u001b[0m\u001b[1;33m(\u001b[0m\u001b[0mlocs\u001b[0m\u001b[1;33m)\u001b[0m\u001b[1;33m)\u001b[0m\u001b[1;33m\u001b[0m\u001b[0m\n\u001b[0;32m      5\u001b[0m     \u001b[0mpic1Atoms\u001b[0m \u001b[1;33m=\u001b[0m \u001b[1;33m[\u001b[0m\u001b[1;33m[\u001b[0m\u001b[1;33m]\u001b[0m \u001b[1;32mfor\u001b[0m \u001b[0m_\u001b[0m \u001b[1;32min\u001b[0m \u001b[0mlocs\u001b[0m\u001b[1;33m]\u001b[0m\u001b[1;33m\u001b[0m\u001b[0m\n",
      "\u001b[1;32m~\\Documents\\Analysis-Code\\AnalysisHelpers.py\u001b[0m in \u001b[0;36mloadHDF5\u001b[1;34m(fileId, quiet)\u001b[0m\n\u001b[0;32m    312\u001b[0m         \u001b[0mprint\u001b[0m\u001b[1;33m(\u001b[0m\u001b[1;34m'Loading HDF5 File...'\u001b[0m\u001b[1;33m,\u001b[0m \u001b[0mend\u001b[0m\u001b[1;33m=\u001b[0m\u001b[1;34m''\u001b[0m\u001b[1;33m)\u001b[0m\u001b[1;33m\u001b[0m\u001b[0m\n\u001b[0;32m    313\u001b[0m     \u001b[0mfile\u001b[0m \u001b[1;33m=\u001b[0m \u001b[0mopenHDF5\u001b[0m\u001b[1;33m(\u001b[0m\u001b[0mfileId\u001b[0m\u001b[1;33m)\u001b[0m\u001b[1;33m\u001b[0m\u001b[0m\n\u001b[1;32m--> 314\u001b[1;33m     \u001b[0mkeyName\u001b[0m\u001b[1;33m,\u001b[0m \u001b[0mkey\u001b[0m \u001b[1;33m=\u001b[0m \u001b[0mgetKeyFromHDF5\u001b[0m\u001b[1;33m(\u001b[0m\u001b[0mfile\u001b[0m\u001b[1;33m)\u001b[0m\u001b[1;33m\u001b[0m\u001b[0m\n\u001b[0m\u001b[0;32m    315\u001b[0m     \u001b[0mreps\u001b[0m \u001b[1;33m=\u001b[0m \u001b[0mfile\u001b[0m\u001b[1;33m[\u001b[0m\u001b[1;34m'Master-Parameters'\u001b[0m\u001b[1;33m]\u001b[0m\u001b[1;33m[\u001b[0m\u001b[1;34m'Repetitions'\u001b[0m\u001b[1;33m]\u001b[0m\u001b[1;33m[\u001b[0m\u001b[1;36m0\u001b[0m\u001b[1;33m]\u001b[0m\u001b[1;33m\u001b[0m\u001b[0m\n\u001b[0;32m    316\u001b[0m     \u001b[0mpics\u001b[0m \u001b[1;33m=\u001b[0m \u001b[0mgetPicsFromHDF5\u001b[0m\u001b[1;33m(\u001b[0m\u001b[0mfile\u001b[0m\u001b[1;33m)\u001b[0m\u001b[1;33m\u001b[0m\u001b[0m\n",
      "\u001b[1;32m~\\Documents\\Analysis-Code\\AnalysisHelpers.py\u001b[0m in \u001b[0;36mgetKeyFromHDF5\u001b[1;34m(file)\u001b[0m\n\u001b[0;32m    272\u001b[0m     \u001b[0mkeyValues\u001b[0m \u001b[1;33m=\u001b[0m \u001b[1;33m[\u001b[0m\u001b[1;33m]\u001b[0m\u001b[1;33m\u001b[0m\u001b[0m\n\u001b[0;32m    273\u001b[0m     \u001b[0mfoundOne\u001b[0m \u001b[1;33m=\u001b[0m \u001b[1;32mFalse\u001b[0m\u001b[1;33m\u001b[0m\u001b[0m\n\u001b[1;32m--> 274\u001b[1;33m     \u001b[1;32mfor\u001b[0m \u001b[0mvar\u001b[0m \u001b[1;32min\u001b[0m \u001b[0mfile\u001b[0m\u001b[1;33m[\u001b[0m\u001b[1;34m'Master-Parameters'\u001b[0m\u001b[1;33m]\u001b[0m\u001b[1;33m[\u001b[0m\u001b[1;34m'Seq #1 Variables'\u001b[0m\u001b[1;33m]\u001b[0m\u001b[1;33m:\u001b[0m\u001b[1;33m\u001b[0m\u001b[0m\n\u001b[0m\u001b[0;32m    275\u001b[0m         \u001b[1;32mif\u001b[0m \u001b[1;32mnot\u001b[0m \u001b[0mfile\u001b[0m\u001b[1;33m[\u001b[0m\u001b[1;34m'Master-Parameters'\u001b[0m\u001b[1;33m]\u001b[0m\u001b[1;33m[\u001b[0m\u001b[1;34m'Seq #1 Variables'\u001b[0m\u001b[1;33m]\u001b[0m\u001b[1;33m[\u001b[0m\u001b[0mvar\u001b[0m\u001b[1;33m]\u001b[0m\u001b[1;33m.\u001b[0m\u001b[0mattrs\u001b[0m\u001b[1;33m[\u001b[0m\u001b[1;34m'Constant'\u001b[0m\u001b[1;33m]\u001b[0m\u001b[1;33m:\u001b[0m\u001b[1;33m\u001b[0m\u001b[0m\n\u001b[0;32m    276\u001b[0m     \u001b[1;31m# to look at older files...\u001b[0m\u001b[1;33m\u001b[0m\u001b[1;33m\u001b[0m\u001b[0m\n",
      "\u001b[1;32mh5py\\_objects.pyx\u001b[0m in \u001b[0;36mh5py._objects.with_phil.wrapper\u001b[1;34m()\u001b[0m\n",
      "\u001b[1;32mh5py\\_objects.pyx\u001b[0m in \u001b[0;36mh5py._objects.with_phil.wrapper\u001b[1;34m()\u001b[0m\n",
      "\u001b[1;32mC:\\ProgramData\\Anaconda3\\lib\\site-packages\\h5py\\_hl\\group.py\u001b[0m in \u001b[0;36m__getitem__\u001b[1;34m(self, name)\u001b[0m\n\u001b[0;32m    167\u001b[0m                 \u001b[1;32mraise\u001b[0m \u001b[0mValueError\u001b[0m\u001b[1;33m(\u001b[0m\u001b[1;34m\"Invalid HDF5 object reference\"\u001b[0m\u001b[1;33m)\u001b[0m\u001b[1;33m\u001b[0m\u001b[0m\n\u001b[0;32m    168\u001b[0m         \u001b[1;32melse\u001b[0m\u001b[1;33m:\u001b[0m\u001b[1;33m\u001b[0m\u001b[0m\n\u001b[1;32m--> 169\u001b[1;33m             \u001b[0moid\u001b[0m \u001b[1;33m=\u001b[0m \u001b[0mh5o\u001b[0m\u001b[1;33m.\u001b[0m\u001b[0mopen\u001b[0m\u001b[1;33m(\u001b[0m\u001b[0mself\u001b[0m\u001b[1;33m.\u001b[0m\u001b[0mid\u001b[0m\u001b[1;33m,\u001b[0m \u001b[0mself\u001b[0m\u001b[1;33m.\u001b[0m\u001b[0m_e\u001b[0m\u001b[1;33m(\u001b[0m\u001b[0mname\u001b[0m\u001b[1;33m)\u001b[0m\u001b[1;33m,\u001b[0m \u001b[0mlapl\u001b[0m\u001b[1;33m=\u001b[0m\u001b[0mself\u001b[0m\u001b[1;33m.\u001b[0m\u001b[0m_lapl\u001b[0m\u001b[1;33m)\u001b[0m\u001b[1;33m\u001b[0m\u001b[0m\n\u001b[0m\u001b[0;32m    170\u001b[0m \u001b[1;33m\u001b[0m\u001b[0m\n\u001b[0;32m    171\u001b[0m         \u001b[0motype\u001b[0m \u001b[1;33m=\u001b[0m \u001b[0mh5i\u001b[0m\u001b[1;33m.\u001b[0m\u001b[0mget_type\u001b[0m\u001b[1;33m(\u001b[0m\u001b[0moid\u001b[0m\u001b[1;33m)\u001b[0m\u001b[1;33m\u001b[0m\u001b[0m\n",
      "\u001b[1;32mh5py\\_objects.pyx\u001b[0m in \u001b[0;36mh5py._objects.with_phil.wrapper\u001b[1;34m()\u001b[0m\n",
      "\u001b[1;32mh5py\\_objects.pyx\u001b[0m in \u001b[0;36mh5py._objects.with_phil.wrapper\u001b[1;34m()\u001b[0m\n",
      "\u001b[1;32mh5py\\h5o.pyx\u001b[0m in \u001b[0;36mh5py.h5o.open\u001b[1;34m()\u001b[0m\n",
      "\u001b[1;31mKeyError\u001b[0m: \"Unable to open object (Object 'seq #1 variables' doesn't exist)\""
     ]
    }
   ],
   "source": [
    "pics = findMatches(arrangement, 48, lowLim=771, lim=784);"
   ]
  },
  {
   "cell_type": "code",
   "execution_count": 139,
   "metadata": {
    "collapsed": true,
    "hidden": true
   },
   "outputs": [],
   "source": [
    "flippedPics = []\n",
    "for pic in pics:\n",
    "    flippedPics.append(np.zeros((15, 9)))\n",
    "    for i, row in enumerate(pic):\n",
    "        flippedPics[-1][-i-1] = row"
   ]
  },
  {
   "cell_type": "code",
   "execution_count": 140,
   "metadata": {
    "collapsed": true,
    "hidden": true
   },
   "outputs": [],
   "source": [
    "makeVid(arr(flippedPics), location+'O_4.gif', 'gif', dur=0.2)"
   ]
  },
  {
   "cell_type": "code",
   "execution_count": 131,
   "metadata": {
    "hidden": true
   },
   "outputs": [
    {
     "name": "stdout",
     "output_type": "stream",
     "text": [
      "exact 551\n",
      "exact 552\n",
      "exact 553\n",
      "exact 554\n",
      "exact 555\n",
      "exact 556\n"
     ]
    }
   ],
   "source": [
    "pics = findMatches(arrangement, 48, lowLim=544, lim=557);"
   ]
  },
  {
   "cell_type": "code",
   "execution_count": 132,
   "metadata": {
    "collapsed": true,
    "hidden": true
   },
   "outputs": [],
   "source": [
    "flippedPics = []\n",
    "for pic in pics:\n",
    "    flippedPics.append(np.zeros((15, 9)))\n",
    "    for i, row in enumerate(pic):\n",
    "        flippedPics[-1][-i-1] = row"
   ]
  },
  {
   "cell_type": "code",
   "execution_count": 133,
   "metadata": {
    "collapsed": true,
    "hidden": true
   },
   "outputs": [],
   "source": [
    "makeVid(arr(flippedPics), location+'O_3.gif', 'gif', dur=0.2)"
   ]
  },
  {
   "cell_type": "code",
   "execution_count": 122,
   "metadata": {
    "hidden": true
   },
   "outputs": [
    {
     "name": "stdout",
     "output_type": "stream",
     "text": [
      "exact 183\n",
      "exact 184\n"
     ]
    }
   ],
   "source": [
    "pics = findMatches(arrangement, 48, lowLim=175, lim=185);\n",
    "flippedPics = []\n",
    "for pic in pics:\n",
    "    flippedPics.append(np.zeros((15, 9)))\n",
    "    for i, row in enumerate(pic):\n",
    "        flippedPics[-1][-i-1] = row"
   ]
  },
  {
   "cell_type": "code",
   "execution_count": 123,
   "metadata": {
    "collapsed": true,
    "hidden": true
   },
   "outputs": [],
   "source": [
    "makeVid(arr(flippedPics), location+'O_2.gif', 'gif', dur=0.2)"
   ]
  },
  {
   "cell_type": "code",
   "execution_count": 114,
   "metadata": {
    "hidden": true,
    "scrolled": false
   },
   "outputs": [
    {
     "name": "stdout",
     "output_type": "stream",
     "text": [
      "exact 3343\n",
      "exact 3344\n",
      "exact 3345\n",
      "exact 3346\n",
      "exact 3347\n",
      "exact 3348\n",
      "exact 3349\n",
      "exact 3350\n",
      "exact 3351\n",
      "exact 3352\n",
      "exact 3353\n",
      "exact 3354\n",
      "exact 3355\n",
      "exact 3356\n",
      "exact 3357\n",
      "exact 3358\n",
      "exact 3359\n"
     ]
    }
   ],
   "source": [
    "arrangement = arr( [[1, 1, 1],\n",
    "                    [1, 0, 1],\n",
    "                    [1, 0, 1],\n",
    "                    [1, 0, 1],\n",
    "                    [1, 1, 1],\n",
    "                    [0, 0, 0]] )\n",
    "pics = findMatches(arrangement, 48, lowLim=3339, lim=3360);\n",
    "flippedPics = []\n",
    "for pic in pics:\n",
    "    flippedPics.append(np.zeros((15, 9)))\n",
    "    for i, row in enumerate(pic):\n",
    "        flippedPics[-1][-i-1] = row"
   ]
  },
  {
   "cell_type": "code",
   "execution_count": 116,
   "metadata": {
    "hidden": true
   },
   "outputs": [],
   "source": [
    "makeVid(arr(flippedPics), location+'O_1.gif', 'gif', dur=0.2)"
   ]
  },
  {
   "cell_type": "markdown",
   "metadata": {},
   "source": [
    "## concatenated O"
   ]
  },
  {
   "cell_type": "code",
   "execution_count": 20,
   "metadata": {
    "ExecuteTime": {
     "end_time": "2018-02-08T03:55:02.291233Z",
     "start_time": "2018-02-08T03:55:02.283188Z"
    }
   },
   "outputs": [],
   "source": [
    "arrangement = arr( [[1, 1, 1],\n",
    "                    [1, 0, 1],\n",
    "                    [1, 0, 1],\n",
    "                    [1, 0, 1],\n",
    "                    [1, 1, 1],\n",
    "                    [0, 0, 0]] )"
   ]
  },
  {
   "cell_type": "code",
   "execution_count": 29,
   "metadata": {
    "ExecuteTime": {
     "end_time": "2018-02-08T03:59:42.961646Z",
     "start_time": "2018-02-08T03:59:42.943097Z"
    }
   },
   "outputs": [
    {
     "ename": "NameError",
     "evalue": "name 'day' is not defined",
     "output_type": "error",
     "traceback": [
      "\u001b[1;31m---------------------------------------------------------------------------\u001b[0m",
      "\u001b[1;31mNameError\u001b[0m                                 Traceback (most recent call last)",
      "\u001b[1;32m<ipython-input-29-445e37962bf9>\u001b[0m in \u001b[0;36m<module>\u001b[1;34m()\u001b[0m\n\u001b[0;32m      2\u001b[0m \u001b[1;32mimport\u001b[0m \u001b[0mAnalysisHelpers\u001b[0m\u001b[1;33m\u001b[0m\u001b[0m\n\u001b[0;32m      3\u001b[0m \u001b[0mreload\u001b[0m\u001b[1;33m(\u001b[0m\u001b[0mAnalysisHelpers\u001b[0m\u001b[1;33m)\u001b[0m\u001b[1;33m\u001b[0m\u001b[0m\n\u001b[1;32m----> 4\u001b[1;33m \u001b[0msetPath\u001b[0m\u001b[1;33m(\u001b[0m\u001b[0mday\u001b[0m\u001b[1;33m,\u001b[0m \u001b[0mmonth\u001b[0m\u001b[1;33m,\u001b[0m \u001b[0myear\u001b[0m\u001b[1;33m)\u001b[0m\u001b[1;33m\u001b[0m\u001b[0m\n\u001b[0m",
      "\u001b[1;31mNameError\u001b[0m: name 'day' is not defined"
     ]
    }
   ],
   "source": [
    "from importlib import reload\n",
    "import AnalysisHelpers\n",
    "reload(AnalysisHelpers)\n",
    "setPath(day, month, year)"
   ]
  },
  {
   "cell_type": "code",
   "execution_count": 31,
   "metadata": {
    "ExecuteTime": {
     "end_time": "2018-02-08T03:59:57.023537Z",
     "start_time": "2018-02-08T03:59:57.019527Z"
    }
   },
   "outputs": [],
   "source": [
    "yearloc=\"2017\"\n",
    "monthloc=\"December\"\n",
    "dayloc=\"7\"\n",
    "setPath(dayloc, monthloc, yearloc)"
   ]
  },
  {
   "cell_type": "code",
   "execution_count": 32,
   "metadata": {
    "ExecuteTime": {
     "end_time": "2018-02-08T04:00:26.595769Z",
     "start_time": "2018-02-08T03:59:57.581260Z"
    }
   },
   "outputs": [
    {
     "name": "stdout",
     "output_type": "stream",
     "text": [
      "Loading HDF5 File...Loaded File Successfully.\n",
      "exact 778\n",
      "exact 779\n",
      "exact 780\n",
      "exact 781\n",
      "exact 782\n",
      "exact 783\n",
      "Loading HDF5 File...Loaded File Successfully.\n",
      "exact 551\n",
      "exact 552\n",
      "exact 553\n",
      "exact 554\n",
      "exact 555\n",
      "exact 556\n",
      "Loading HDF5 File...Loaded File Successfully.\n",
      "exact 183\n",
      "exact 184\n",
      "Loading HDF5 File...Loaded File Successfully.\n",
      "exact 3343\n",
      "exact 3344\n",
      "exact 3345\n",
      "exact 3346\n",
      "exact 3347\n",
      "exact 3348\n",
      "exact 3349\n",
      "exact 3350\n",
      "exact 3351\n",
      "exact 3352\n",
      "exact 3353\n",
      "exact 3354\n",
      "exact 3355\n",
      "exact 3356\n",
      "exact 3357\n",
      "exact 3358\n",
      "exact 3359\n"
     ]
    }
   ],
   "source": [
    "pics = findMatches(arrangement, 48, lowLim=771, lim=784);\n",
    "flippedPics4 = []\n",
    "for pic in pics:\n",
    "    flippedPics4.append(np.zeros((15, 9)))\n",
    "    for i, row in enumerate(pic):\n",
    "        flippedPics4[-1][-i-1] = row\n",
    "        \n",
    "pics = findMatches(arrangement, 48, lowLim=544, lim=557);\n",
    "flippedPics3 = []\n",
    "for pic in pics:\n",
    "    flippedPics3.append(np.zeros((15, 9)))\n",
    "    for i, row in enumerate(pic):\n",
    "        flippedPics3[-1][-i-1] = row\n",
    "\n",
    "pics = findMatches(arrangement, 48, lowLim=175, lim=185);\n",
    "flippedPics2 = []\n",
    "for pic in pics:\n",
    "    flippedPics2.append(np.zeros((15, 9)))\n",
    "    for i, row in enumerate(pic):\n",
    "        flippedPics2[-1][-i-1] = row\n",
    "        \n",
    "pics = findMatches(arrangement, 48, lowLim=3339, lim=3360);\n",
    "flippedPics1 = []\n",
    "for pic in pics:\n",
    "    flippedPics1.append(np.zeros((15, 9)))\n",
    "    for i, row in enumerate(pic):\n",
    "        flippedPics1[-1][-i-1] = row"
   ]
  },
  {
   "cell_type": "code",
   "execution_count": 33,
   "metadata": {
    "ExecuteTime": {
     "end_time": "2018-02-08T04:00:30.362788Z",
     "start_time": "2018-02-08T04:00:30.351759Z"
    }
   },
   "outputs": [
    {
     "name": "stdout",
     "output_type": "stream",
     "text": [
      "(21, 15, 9)\n",
      "(31, 15, 9)\n",
      "(44, 15, 9)\n",
      "(57, 15, 9)\n"
     ]
    }
   ],
   "source": [
    "concData = arr(flippedPics1)\n",
    "print(concData.shape)\n",
    "concData = np.concatenate((concData, flippedPics2))\n",
    "print(concData.shape)\n",
    "concData = np.concatenate((concData, flippedPics3))\n",
    "print(concData.shape)\n",
    "concData = np.concatenate((concData, flippedPics4))\n",
    "print(concData.shape)\n",
    "finPts = [21, 31, 44, 57]"
   ]
  },
  {
   "cell_type": "code",
   "execution_count": 53,
   "metadata": {
    "ExecuteTime": {
     "end_time": "2018-02-08T04:10:46.442803Z",
     "start_time": "2018-02-08T04:10:46.212177Z"
    },
    "scrolled": false
   },
   "outputs": [],
   "source": [
    "import imageio\n",
    "import numpy as np\n",
    "from numpy import array as arr\n",
    "import matplotlib as mpl\n",
    "import matplotlib.cm\n",
    "\n",
    "\n",
    "infernoMap = [mpl.cm.inferno(i)[:-1] for i in range(256)]\n",
    "viridisMap = [mpl.cm.viridis(i)[:-1] for i in range(256)]\n",
    "hotMap = [mpl.cm.hot(i)[:-1] for i in range(256)]\n",
    "\n",
    "def makeVid(pics, gifAddress, videoType, fileAddress=None, dur=1, lim=None, includeCount=True, lowLim=None, \n",
    "            finLabels=[], finTxt=\"Atom Reservoir Depleted\", vidMap=infernoMap):\n",
    "    # global count\n",
    "    # select subsection\n",
    "    if lim is None:\n",
    "        lim = len(pics)\n",
    "    if lowLim is None:\n",
    "        lowLim = 0\n",
    "    pics = pics[lowLim:lim]\n",
    "    # normalize to rgb scale\n",
    "    \n",
    "    pics = np.uint16(pics / max(pics.flatten()) * 350)\n",
    "    pics = arr([[[int(elem) for elem in row] for row in pic] for pic in pics])\n",
    "    pics = arr(pics-min(pics.flatten()) - 50)\n",
    "    pics = [[[vidMap[elem] if elem < 256 and elem >= 0 else vidMap[255] if elem >= 256 else vidMap[0] \n",
    "              for elem in row] for row in pic] for pic in pics]\n",
    "    images = []\n",
    "    sequenceCount = 1\n",
    "    offset = 0\n",
    "    for picCount, pic in enumerate(pics):\n",
    "        fig = figure()\n",
    "        fig.set_size_inches([9,15])\n",
    "        ax = Axes(fig, [0., 0., 1., 1.])\n",
    "        ax.set_axis_off()\n",
    "        fig.add_axes(ax)\n",
    "        grid('off')\n",
    "        ax.imshow(pic, aspect='equal')\n",
    "        ax.text(0,14,str(sequenceCount) + \".\" + str(picCount+1-offset), color='white', fontsize=40)\n",
    "        ax.plot([2,4],[1,1],color='w', linewidth=2)\n",
    "        ax.plot([2,2],[0.8, 1.2], 'w', linewidth=2)\n",
    "        ax.plot([4,4],[0.8, 1.2], 'w', linewidth=2)\n",
    "        ax.text(2.0, 0.8,r\"$1.7 \\mu m $\", color='white', fontsize=40)\n",
    "        if picCount+1 in finLabels:\n",
    "            ax.text(1.5, 14, finTxt, color='r', fontsize=40)\n",
    "        name = \"temp\"+str(picCount+1)+\".png\"\n",
    "        savefig(name, dpi=19)\n",
    "        images.append(imageio.imread(name))\n",
    "        if picCount+1 in finLabels:\n",
    "            sequenceCount += 1\n",
    "            offset = picCount+1\n",
    "            for _ in range(4):\n",
    "                images.append(imageio.imread(name))\n",
    "        close('all')\n",
    "    # make bigger\n",
    "    #pics = [np.repeat(np.repeat(pic,32, axis=0), 32, axis=1) for pic in pics]\n",
    "    imageio.mimsave(gifAddress, images, format=videoType, duration=dur)\n",
    "from IPython.display import Image, HTML, display"
   ]
  },
  {
   "cell_type": "code",
   "execution_count": 54,
   "metadata": {
    "ExecuteTime": {
     "end_time": "2018-02-08T04:11:00.271405Z",
     "start_time": "2018-02-08T04:10:46.655216Z"
    }
   },
   "outputs": [],
   "source": [
    "makeVid(concData, location+'Low-Res-Nice-O.gif', 'gif', dur=0.15, finLabels=finPts, finTxt=\"Fin.\")"
   ]
  },
  {
   "cell_type": "code",
   "execution_count": null,
   "metadata": {},
   "outputs": [],
   "source": []
  },
  {
   "cell_type": "code",
   "execution_count": null,
   "metadata": {},
   "outputs": [],
   "source": []
  },
  {
   "cell_type": "code",
   "execution_count": null,
   "metadata": {},
   "outputs": [],
   "source": []
  },
  {
   "cell_type": "markdown",
   "metadata": {
    "heading_collapsed": true
   },
   "source": [
    "## M"
   ]
  },
  {
   "cell_type": "code",
   "execution_count": 23,
   "metadata": {
    "ExecuteTime": {
     "end_time": "2017-11-16T10:37:29.329638Z",
     "start_time": "2017-11-16T10:37:29.323638Z"
    },
    "hidden": true
   },
   "outputs": [],
   "source": [
    "yearloc=\"2017\"\n",
    "monthloc=\"December\"\n",
    "dayloc=\"7\"\n",
    "setPath(dayloc, monthloc, yearloc)"
   ]
  },
  {
   "cell_type": "code",
   "execution_count": 19,
   "metadata": {
    "hidden": true
   },
   "outputs": [],
   "source": [
    "import AnalysisHelpers"
   ]
  },
  {
   "cell_type": "code",
   "execution_count": 20,
   "metadata": {
    "hidden": true
   },
   "outputs": [
    {
     "data": {
      "text/plain": [
       "<module 'AnalysisHelpers' from 'C:\\\\Users\\\\Mark-Brown\\\\Documents\\\\Analysis-Code\\\\AnalysisHelpers.py'>"
      ]
     },
     "execution_count": 20,
     "metadata": {},
     "output_type": "execute_result"
    }
   ],
   "source": [
    "from importlib import reload\n",
    "reload(AnalysisHelpers)"
   ]
  },
  {
   "cell_type": "code",
   "execution_count": 24,
   "metadata": {
    "hidden": true,
    "scrolled": false
   },
   "outputs": [
    {
     "name": "stdout",
     "output_type": "stream",
     "text": [
      "exact 2975\n",
      "exact 2976\n",
      "exact 2977\n",
      "exact 2978\n",
      "exact 2979\n",
      "exact 2980\n",
      "exact 2981\n",
      "exact 2982\n",
      "exact 2983\n",
      "exact 2984\n",
      "exact 2985\n"
     ]
    }
   ],
   "source": [
    "arrangement = arr( [[1, 0, 1],\n",
    "                    [1, 0, 1],\n",
    "                    [1, 1, 1],\n",
    "                    [1, 1, 1],\n",
    "                    [1, 0, 1],\n",
    "                    [0, 0, 0]] )\n",
    "pics = findMatches(arrangement, 54, lowLim=2971, lim=2986);"
   ]
  },
  {
   "cell_type": "code",
   "execution_count": 25,
   "metadata": {
    "hidden": true
   },
   "outputs": [],
   "source": [
    "flippedPics = []\n",
    "for pic in pics:\n",
    "    flippedPics.append(np.zeros((15, 9)))\n",
    "    for i, row in enumerate(pic):\n",
    "        flippedPics[-1][-i-1] = row"
   ]
  },
  {
   "cell_type": "code",
   "execution_count": 26,
   "metadata": {
    "hidden": true
   },
   "outputs": [],
   "source": [
    "makeVid(arr(flippedPics), location+'M_1.gif', 'gif', dur=0.2)"
   ]
  },
  {
   "cell_type": "markdown",
   "metadata": {
    "heading_collapsed": true
   },
   "source": [
    "## S"
   ]
  },
  {
   "cell_type": "code",
   "execution_count": 109,
   "metadata": {
    "ExecuteTime": {
     "end_time": "2017-11-16T10:37:29.329638Z",
     "start_time": "2017-11-16T10:37:29.323638Z"
    },
    "collapsed": true,
    "hidden": true
   },
   "outputs": [],
   "source": [
    "yearloc=\"2017\"\n",
    "monthloc=\"December\"\n",
    "dayloc=\"7\"\n",
    "setPath(dayloc, monthloc, yearloc)"
   ]
  },
  {
   "cell_type": "code",
   "execution_count": 110,
   "metadata": {
    "hidden": true,
    "scrolled": false
   },
   "outputs": [
    {
     "name": "stdout",
     "output_type": "stream",
     "text": [
      "exact 58\n",
      "exact 59\n",
      "exact 60\n",
      "exact 61\n",
      "exact 62\n",
      "exact 63\n",
      "exact 64\n",
      "exact 65\n",
      "exact 66\n",
      "exact 67\n",
      "exact 68\n",
      "exact 69\n",
      "exact 70\n",
      "exact 71\n",
      "exact 72\n",
      "exact 73\n"
     ]
    }
   ],
   "source": [
    "arrangement = arr( [[1, 1, 1],\n",
    "                    [0, 0, 1],\n",
    "                    [1, 1, 1],\n",
    "                    [1, 0, 0],\n",
    "                    [1, 1, 1],\n",
    "                    [0, 0, 0]] )\n",
    "pics = findMatches(arrangement, 49, lowLim=50, lim=74);"
   ]
  },
  {
   "cell_type": "code",
   "execution_count": 111,
   "metadata": {
    "collapsed": true,
    "hidden": true
   },
   "outputs": [],
   "source": [
    "flippedPics = []\n",
    "for pic in pics:\n",
    "    flippedPics.append(np.zeros((15, 9)))\n",
    "    for i, row in enumerate(pic):\n",
    "        flippedPics[-1][-i-1] = row"
   ]
  },
  {
   "cell_type": "code",
   "execution_count": 112,
   "metadata": {
    "hidden": true
   },
   "outputs": [
    {
     "name": "stderr",
     "output_type": "stream",
     "text": [
      "C:\\ProgramData\\Anaconda3\\lib\\site-packages\\imageio\\core\\util.py:78: UserWarning:\n",
      "\n",
      "Lossy conversion from float64 to uint8, range [0, 1]\n",
      "\n"
     ]
    }
   ],
   "source": [
    "makeVid(arr(flippedPics), location+'S_1.gif', 'gif', dur=0.2)"
   ]
  },
  {
   "cell_type": "markdown",
   "metadata": {},
   "source": [
    "## R"
   ]
  },
  {
   "cell_type": "code",
   "execution_count": 31,
   "metadata": {
    "ExecuteTime": {
     "end_time": "2017-11-16T10:37:29.329638Z",
     "start_time": "2017-11-16T10:37:29.323638Z"
    }
   },
   "outputs": [],
   "source": [
    "yearloc=\"2017\"\n",
    "monthloc=\"December\"\n",
    "dayloc=\"7\"\n",
    "setPath(dayloc, monthloc, yearloc)"
   ]
  },
  {
   "cell_type": "code",
   "execution_count": 32,
   "metadata": {
    "scrolled": false
   },
   "outputs": [
    {
     "name": "stdout",
     "output_type": "stream",
     "text": [
      "exact 123\n",
      "exact 124\n",
      "exact 125\n",
      "exact 126\n",
      "exact 127\n",
      "exact 128\n",
      "exact 129\n",
      "exact 130\n",
      "exact 131\n",
      "exact 132\n",
      "exact 133\n"
     ]
    }
   ],
   "source": [
    "arrangement = arr( [[1, 0, 1],\n",
    "                    [1, 1, 0],\n",
    "                    [1, 1, 1],\n",
    "                    [1, 0, 1],\n",
    "                    [1, 1, 1],\n",
    "                    [0, 0, 0]] )\n",
    "pics = findMatches(arrangement, 55, lowLim=118, lim=134);"
   ]
  },
  {
   "cell_type": "code",
   "execution_count": 33,
   "metadata": {},
   "outputs": [],
   "source": [
    "flippedPics = []\n",
    "for pic in pics:\n",
    "    flippedPics.append(np.zeros((15, 9)))\n",
    "    for i, row in enumerate(pic):\n",
    "        flippedPics[-1][-i-1] = row"
   ]
  },
  {
   "cell_type": "code",
   "execution_count": 34,
   "metadata": {},
   "outputs": [],
   "source": [
    "makeVid(arr(flippedPics), location+'R_1.gif', 'gif', dur=0.2)"
   ]
  },
  {
   "cell_type": "markdown",
   "metadata": {
    "heading_collapsed": true
   },
   "source": [
    "## E"
   ]
  },
  {
   "cell_type": "code",
   "execution_count": 236,
   "metadata": {
    "hidden": true,
    "scrolled": false
   },
   "outputs": [
    {
     "name": "stdout",
     "output_type": "stream",
     "text": [
      "exact 1531\n",
      "exact 1532\n",
      "exact 1533\n",
      "exact 1534\n",
      "exact 1535\n"
     ]
    }
   ],
   "source": [
    "arrangement = arr( [[1, 1, 1],\n",
    "                    [1, 0, 0],\n",
    "                    [1, 1, 1],\n",
    "                    [1, 0, 0],\n",
    "                    [1, 1, 1],\n",
    "                    [0, 0, 0]] )\n",
    "pics = findMatches(arrangement, 56, lowLim=1525, lim=1536);"
   ]
  },
  {
   "cell_type": "code",
   "execution_count": 237,
   "metadata": {
    "collapsed": true,
    "hidden": true
   },
   "outputs": [],
   "source": [
    "flippedPics = []\n",
    "for pic in pics:\n",
    "    flippedPics.append(np.zeros((15, 9)))\n",
    "    for i, row in enumerate(pic):\n",
    "        flippedPics[-1][-i-1] = row"
   ]
  },
  {
   "cell_type": "code",
   "execution_count": 238,
   "metadata": {
    "hidden": true
   },
   "outputs": [
    {
     "name": "stderr",
     "output_type": "stream",
     "text": [
      "C:\\ProgramData\\Anaconda3\\lib\\site-packages\\imageio\\core\\util.py:78: UserWarning: Lossy conversion from float64 to uint8, range [0, 1]\n",
      "  dtype_str, out_type.__name__))\n"
     ]
    }
   ],
   "source": [
    "makeVid(arr(flippedPics), location+'E_1.gif', 'gif', dur=0.2)"
   ]
  },
  {
   "cell_type": "markdown",
   "metadata": {
    "heading_collapsed": true
   },
   "source": [
    "## G"
   ]
  },
  {
   "cell_type": "code",
   "execution_count": null,
   "metadata": {
    "ExecuteTime": {
     "end_time": "2017-11-16T10:37:29.329638Z",
     "start_time": "2017-11-16T10:37:29.323638Z"
    },
    "collapsed": true,
    "hidden": true
   },
   "outputs": [],
   "source": [
    "yearloc=\"2017\"\n",
    "monthloc=\"December\"\n",
    "dayloc=\"8\"\n",
    "setPath(dayloc, monthloc, yearloc)"
   ]
  },
  {
   "cell_type": "code",
   "execution_count": null,
   "metadata": {
    "collapsed": true,
    "hidden": true,
    "scrolled": false
   },
   "outputs": [],
   "source": [
    "arrangement = arr( [[1, 1, 1],\n",
    "                    [1, 0, 1],\n",
    "                    [1, 0, 1],\n",
    "                    [1, 0, 0],\n",
    "                    [1, 1, 1],\n",
    "                    [0, 0, 0]] )\n",
    "pics = findMatches(arrangement, 27, lowLim = 1917, lim=1929);"
   ]
  },
  {
   "cell_type": "code",
   "execution_count": null,
   "metadata": {
    "collapsed": true,
    "hidden": true
   },
   "outputs": [],
   "source": [
    "flippedPics = []\n",
    "for pic in pics:\n",
    "    flippedPics.append(np.zeros((15, 9)))\n",
    "    for i, row in enumerate(pic):\n",
    "        flippedPics[-1][-i-1] = row"
   ]
  },
  {
   "cell_type": "code",
   "execution_count": null,
   "metadata": {
    "collapsed": true,
    "hidden": true
   },
   "outputs": [],
   "source": [
    "makeVid(arr(flippedPics), location+'G_1.gif', 'gif', dur=0.2)"
   ]
  },
  {
   "cell_type": "code",
   "execution_count": 214,
   "metadata": {
    "ExecuteTime": {
     "end_time": "2017-11-16T10:37:29.329638Z",
     "start_time": "2017-11-16T10:37:29.323638Z"
    },
    "collapsed": true,
    "hidden": true
   },
   "outputs": [],
   "source": [
    "yearloc=\"2017\"\n",
    "monthloc=\"December\"\n",
    "dayloc=\"7\"\n",
    "setPath(dayloc, monthloc, yearloc)"
   ]
  },
  {
   "cell_type": "markdown",
   "metadata": {
    "heading_collapsed": true
   },
   "source": [
    "## B"
   ]
  },
  {
   "cell_type": "code",
   "execution_count": 21,
   "metadata": {
    "ExecuteTime": {
     "end_time": "2017-11-16T10:37:29.329638Z",
     "start_time": "2017-11-16T10:37:29.323638Z"
    },
    "collapsed": true,
    "hidden": true
   },
   "outputs": [],
   "source": [
    "yearloc=\"2017\"\n",
    "monthloc=\"December\"\n",
    "dayloc=\"7\"\n",
    "setPath(dayloc, monthloc, yearloc)"
   ]
  },
  {
   "cell_type": "code",
   "execution_count": 22,
   "metadata": {
    "hidden": true,
    "scrolled": false
   },
   "outputs": [
    {
     "name": "stdout",
     "output_type": "stream",
     "text": [
      "exact 2948\n",
      "exact 2949\n",
      "exact 2950\n"
     ]
    }
   ],
   "source": [
    "arrangement = arr( [[1, 1, 1],\n",
    "                    [1, 0, 1],\n",
    "                    [1, 1, 0],\n",
    "                    [1, 0, 1],\n",
    "                    [1, 1, 1],\n",
    "                    [0, 0, 0]] )\n",
    "pics = findMatches(arrangement, 57, lowLim=2945, lim=2951);"
   ]
  },
  {
   "cell_type": "code",
   "execution_count": 23,
   "metadata": {
    "collapsed": true,
    "hidden": true
   },
   "outputs": [],
   "source": [
    "flippedPics = []\n",
    "for pic in pics:\n",
    "    flippedPics.append(np.zeros((15, 9)))\n",
    "    for i, row in enumerate(pic):\n",
    "        flippedPics[-1][-i-1] = row"
   ]
  },
  {
   "cell_type": "code",
   "execution_count": 24,
   "metadata": {
    "hidden": true
   },
   "outputs": [
    {
     "name": "stderr",
     "output_type": "stream",
     "text": [
      "C:\\ProgramData\\Anaconda3\\lib\\site-packages\\imageio\\core\\util.py:78: UserWarning:\n",
      "\n",
      "Lossy conversion from float64 to uint8, range [0, 1]\n",
      "\n"
     ]
    }
   ],
   "source": [
    "makeVid(arr(flippedPics), location+'B_1.gif', 'gif', dur=0.2)"
   ]
  },
  {
   "cell_type": "markdown",
   "metadata": {
    "heading_collapsed": true
   },
   "source": [
    "## C"
   ]
  },
  {
   "cell_type": "code",
   "execution_count": 221,
   "metadata": {
    "ExecuteTime": {
     "end_time": "2017-11-16T10:37:29.329638Z",
     "start_time": "2017-11-16T10:37:29.323638Z"
    },
    "collapsed": true,
    "hidden": true
   },
   "outputs": [],
   "source": [
    "yearloc=\"2017\"\n",
    "monthloc=\"December\"\n",
    "dayloc=\"8\"\n",
    "setPath(dayloc, monthloc, yearloc)"
   ]
  },
  {
   "cell_type": "code",
   "execution_count": 225,
   "metadata": {
    "hidden": true,
    "scrolled": false
   },
   "outputs": [
    {
     "name": "stdout",
     "output_type": "stream",
     "text": [
      "exact 340\n",
      "exact 341\n",
      "exact 342\n",
      "exact 343\n",
      "exact 344\n",
      "exact 345\n",
      "exact 346\n",
      "exact 347\n",
      "exact 348\n",
      "exact 349\n",
      "exact 350\n",
      "exact 351\n",
      "exact 352\n"
     ]
    }
   ],
   "source": [
    "arrangement = arr( [[1, 1, 1],\n",
    "                    [1, 0, 0],\n",
    "                    [1, 0, 0],\n",
    "                    [1, 0, 0],\n",
    "                    [1, 1, 1],\n",
    "                    [0, 0, 0]] )\n",
    "pics = findMatches(arrangement, 32, lowLim=331, lim=353);"
   ]
  },
  {
   "cell_type": "code",
   "execution_count": 226,
   "metadata": {
    "collapsed": true,
    "hidden": true
   },
   "outputs": [],
   "source": [
    "flippedPics = []\n",
    "for pic in pics:\n",
    "    flippedPics.append(np.zeros((15, 9)))\n",
    "    for i, row in enumerate(pic):\n",
    "        flippedPics[-1][-i-1] = row"
   ]
  },
  {
   "cell_type": "code",
   "execution_count": 227,
   "metadata": {
    "hidden": true
   },
   "outputs": [
    {
     "name": "stderr",
     "output_type": "stream",
     "text": [
      "C:\\ProgramData\\Anaconda3\\lib\\site-packages\\imageio\\core\\util.py:78: UserWarning: Lossy conversion from float64 to uint8, range [0, 1]\n",
      "  dtype_str, out_type.__name__))\n"
     ]
    }
   ],
   "source": [
    "makeVid(arr(flippedPics), location+'C_1.gif', 'gif', dur=0.2)"
   ]
  },
  {
   "cell_type": "markdown",
   "metadata": {
    "heading_collapsed": true
   },
   "source": [
    "## H"
   ]
  },
  {
   "cell_type": "markdown",
   "metadata": {
    "hidden": true
   },
   "source": [
    "34"
   ]
  },
  {
   "cell_type": "code",
   "execution_count": 71,
   "metadata": {
    "hidden": true,
    "scrolled": false
   },
   "outputs": [
    {
     "name": "stdout",
     "output_type": "stream",
     "text": [
      "exact 1587\n",
      "exact 1588\n",
      "exact 1589\n",
      "exact 1590\n",
      "exact 1591\n",
      "exact 1592\n"
     ]
    }
   ],
   "source": [
    "arrangement = arr( [[1, 0, 1],\n",
    "                    [1, 0, 1],\n",
    "                    [1, 1, 1],\n",
    "                    [1, 0, 1],\n",
    "                    [1, 0, 1],\n",
    "                    [0, 0, 0]] )\n",
    "pics = findMatches(arrangement, 34, lowLim=1582, lim=1593);"
   ]
  },
  {
   "cell_type": "code",
   "execution_count": 72,
   "metadata": {
    "collapsed": true,
    "hidden": true
   },
   "outputs": [],
   "source": [
    "flippedPics = []\n",
    "for pic in pics:\n",
    "    flippedPics.append(np.zeros((15, 9)))\n",
    "    for i, row in enumerate(pic):\n",
    "        flippedPics[-1][-i-1] = row"
   ]
  },
  {
   "cell_type": "code",
   "execution_count": 73,
   "metadata": {
    "hidden": true
   },
   "outputs": [
    {
     "name": "stderr",
     "output_type": "stream",
     "text": [
      "C:\\ProgramData\\Anaconda3\\lib\\site-packages\\imageio\\core\\util.py:78: UserWarning: Lossy conversion from float64 to uint8, range [0, 1]\n",
      "  dtype_str, out_type.__name__))\n"
     ]
    }
   ],
   "source": [
    "makeVid(arr(flippedPics), location+'H_1.gif', 'gif', dur=0.2)"
   ]
  },
  {
   "cell_type": "markdown",
   "metadata": {
    "heading_collapsed": true
   },
   "source": [
    "## Y"
   ]
  },
  {
   "cell_type": "markdown",
   "metadata": {
    "hidden": true
   },
   "source": [
    "35"
   ]
  },
  {
   "cell_type": "code",
   "execution_count": 88,
   "metadata": {
    "hidden": true,
    "scrolled": false
   },
   "outputs": [
    {
     "name": "stdout",
     "output_type": "stream",
     "text": [
      "exact 949\n",
      "exact 950\n",
      "exact 951\n",
      "exact 952\n",
      "exact 953\n",
      "exact 954\n",
      "exact 955\n",
      "exact 956\n",
      "exact 957\n",
      "exact 958\n",
      "exact 959\n",
      "exact 960\n",
      "exact 961\n"
     ]
    }
   ],
   "source": [
    "arrangement = arr( [[0, 1, 0],\n",
    "                    [0, 1, 0],\n",
    "                    [1, 1, 1],\n",
    "                    [1, 0, 1],\n",
    "                    [1, 0, 1],\n",
    "                    [0, 0, 0]] )\n",
    "pics = findMatches(arrangement, 35, lowLim=941, lim=962);"
   ]
  },
  {
   "cell_type": "code",
   "execution_count": 89,
   "metadata": {
    "collapsed": true,
    "hidden": true
   },
   "outputs": [],
   "source": [
    "flippedPics = []\n",
    "for pic in pics:\n",
    "    flippedPics.append(np.zeros((15, 9)))\n",
    "    for i, row in enumerate(pic):\n",
    "        flippedPics[-1][-i-1] = row"
   ]
  },
  {
   "cell_type": "code",
   "execution_count": 91,
   "metadata": {
    "hidden": true
   },
   "outputs": [
    {
     "name": "stderr",
     "output_type": "stream",
     "text": [
      "C:\\ProgramData\\Anaconda3\\lib\\site-packages\\imageio\\core\\util.py:78: UserWarning: Lossy conversion from float64 to uint8, range [0, 1]\n",
      "  dtype_str, out_type.__name__))\n"
     ]
    }
   ],
   "source": [
    "makeVid(arr(flippedPics), location+'Y_1.gif', 'gif', dur=0.2)"
   ]
  },
  {
   "cell_type": "markdown",
   "metadata": {
    "heading_collapsed": true
   },
   "source": [
    "## n"
   ]
  },
  {
   "cell_type": "code",
   "execution_count": 30,
   "metadata": {
    "ExecuteTime": {
     "end_time": "2017-11-16T10:37:29.329638Z",
     "start_time": "2017-11-16T10:37:29.323638Z"
    },
    "collapsed": true,
    "hidden": true
   },
   "outputs": [],
   "source": [
    "yearloc=\"2017\"\n",
    "monthloc=\"December\"\n",
    "dayloc=\"8\"\n",
    "setPath(dayloc, monthloc, yearloc)"
   ]
  },
  {
   "cell_type": "code",
   "execution_count": 31,
   "metadata": {
    "hidden": true,
    "scrolled": false
   },
   "outputs": [
    {
     "name": "stdout",
     "output_type": "stream",
     "text": [
      "exact 810\n",
      "exact 811\n",
      "exact 812\n"
     ]
    }
   ],
   "source": [
    "arrangement = arr( [[1, 0, 1],\n",
    "                    [1, 0, 1],\n",
    "                    [1, 0, 1],\n",
    "                    [1, 0, 1],\n",
    "                    [1, 1, 1],\n",
    "                    [0, 0, 0]] )\n",
    "# n_1 = lowLim=924, lim=932\n",
    "# n_2\n",
    "pics = findMatches(arrangement, 36, lowLim=803, lim=813);"
   ]
  },
  {
   "cell_type": "code",
   "execution_count": 32,
   "metadata": {
    "collapsed": true,
    "hidden": true
   },
   "outputs": [],
   "source": [
    "flippedPics = []\n",
    "for pic in pics:\n",
    "    flippedPics.append(np.zeros((15, 9)))\n",
    "    for i, row in enumerate(pic):\n",
    "        flippedPics[-1][-i-1] = row"
   ]
  },
  {
   "cell_type": "code",
   "execution_count": 33,
   "metadata": {
    "hidden": true
   },
   "outputs": [
    {
     "name": "stderr",
     "output_type": "stream",
     "text": [
      "C:\\ProgramData\\Anaconda3\\lib\\site-packages\\imageio\\core\\util.py:78: UserWarning:\n",
      "\n",
      "Lossy conversion from float64 to uint8, range [0, 1]\n",
      "\n"
     ]
    }
   ],
   "source": [
    "makeVid(arr(flippedPics), location+'n_2.gif', 'gif', dur=0.2)"
   ]
  },
  {
   "cell_type": "markdown",
   "metadata": {
    "heading_collapsed": true
   },
   "source": [
    "## K"
   ]
  },
  {
   "cell_type": "markdown",
   "metadata": {
    "hidden": true
   },
   "source": [
    "37"
   ]
  },
  {
   "cell_type": "code",
   "execution_count": 34,
   "metadata": {
    "ExecuteTime": {
     "end_time": "2017-11-16T10:37:29.329638Z",
     "start_time": "2017-11-16T10:37:29.323638Z"
    },
    "collapsed": true,
    "hidden": true
   },
   "outputs": [],
   "source": [
    "yearloc=\"2017\"\n",
    "monthloc=\"December\"\n",
    "dayloc=\"8\"\n",
    "setPath(dayloc, monthloc, yearloc)"
   ]
  },
  {
   "cell_type": "code",
   "execution_count": 35,
   "metadata": {
    "hidden": true,
    "scrolled": false
   },
   "outputs": [
    {
     "name": "stdout",
     "output_type": "stream",
     "text": [
      "exact 1005\n",
      "exact 1006\n",
      "exact 1007\n",
      "exact 1008\n"
     ]
    }
   ],
   "source": [
    "arrangement = arr( [[1, 0, 1],\n",
    "                    [1, 0, 1],\n",
    "                    [1, 1, 0],\n",
    "                    [1, 0, 1],\n",
    "                    [1, 0, 1],\n",
    "                    [0, 0, 0]] )\n",
    "pics = findMatches(arrangement, 37, lowLim=999, lim=1009);"
   ]
  },
  {
   "cell_type": "code",
   "execution_count": 36,
   "metadata": {
    "collapsed": true,
    "hidden": true
   },
   "outputs": [],
   "source": [
    "flippedPics = []\n",
    "for pic in pics:\n",
    "    flippedPics.append(np.zeros((15, 9)))\n",
    "    for i, row in enumerate(pic):\n",
    "        flippedPics[-1][-i-1] = row"
   ]
  },
  {
   "cell_type": "code",
   "execution_count": 37,
   "metadata": {
    "hidden": true
   },
   "outputs": [
    {
     "name": "stderr",
     "output_type": "stream",
     "text": [
      "C:\\ProgramData\\Anaconda3\\lib\\site-packages\\imageio\\core\\util.py:78: UserWarning:\n",
      "\n",
      "Lossy conversion from float64 to uint8, range [0, 1]\n",
      "\n"
     ]
    }
   ],
   "source": [
    "makeVid(arr(flippedPics), location+'K_1.gif', 'gif', dur=0.2)"
   ]
  },
  {
   "cell_type": "markdown",
   "metadata": {
    "heading_collapsed": true
   },
   "source": [
    "## U"
   ]
  },
  {
   "cell_type": "markdown",
   "metadata": {
    "hidden": true
   },
   "source": [
    "38"
   ]
  },
  {
   "cell_type": "code",
   "execution_count": 143,
   "metadata": {
    "hidden": true,
    "scrolled": false
   },
   "outputs": [
    {
     "name": "stdout",
     "output_type": "stream",
     "text": [
      "exact 310\n",
      "exact 311\n"
     ]
    }
   ],
   "source": [
    "arrangement = arr( [[1, 1, 1],\n",
    "                    [1, 0, 1],\n",
    "                    [1, 0, 1],\n",
    "                    [1, 0, 1],\n",
    "                    [1, 0, 1],\n",
    "                    [0, 0, 0]] )\n",
    "pics = findMatches(arrangement, 38, lowLim=302, lim=312);"
   ]
  },
  {
   "cell_type": "code",
   "execution_count": 144,
   "metadata": {
    "collapsed": true,
    "hidden": true
   },
   "outputs": [],
   "source": [
    "flippedPics = []\n",
    "for pic in pics:\n",
    "    flippedPics.append(np.zeros((15, 9)))\n",
    "    for i, row in enumerate(pic):\n",
    "        flippedPics[-1][-i-1] = row"
   ]
  },
  {
   "cell_type": "code",
   "execution_count": 146,
   "metadata": {
    "hidden": true
   },
   "outputs": [
    {
     "name": "stderr",
     "output_type": "stream",
     "text": [
      "C:\\ProgramData\\Anaconda3\\lib\\site-packages\\imageio\\core\\util.py:78: UserWarning: Lossy conversion from float64 to uint8, range [0, 1]\n",
      "  dtype_str, out_type.__name__))\n"
     ]
    }
   ],
   "source": [
    "makeVid(arr(flippedPics), location+'U_1.gif', 'gif', dur=0.2)"
   ]
  },
  {
   "cell_type": "markdown",
   "metadata": {
    "heading_collapsed": true
   },
   "source": [
    "## W"
   ]
  },
  {
   "cell_type": "code",
   "execution_count": 26,
   "metadata": {
    "ExecuteTime": {
     "end_time": "2017-11-16T10:37:29.329638Z",
     "start_time": "2017-11-16T10:37:29.323638Z"
    },
    "collapsed": true,
    "hidden": true
   },
   "outputs": [],
   "source": [
    "yearloc=\"2017\"\n",
    "monthloc=\"December\"\n",
    "dayloc=\"8\"\n",
    "setPath(dayloc, monthloc, yearloc)"
   ]
  },
  {
   "cell_type": "code",
   "execution_count": 27,
   "metadata": {
    "hidden": true,
    "scrolled": false
   },
   "outputs": [
    {
     "name": "stdout",
     "output_type": "stream",
     "text": [
      "exact 3\n",
      "exact 4\n",
      "exact 5\n",
      "exact 6\n"
     ]
    }
   ],
   "source": [
    "arrangement = arr( [[1, 0, 1],\n",
    "                    [1, 1, 1],\n",
    "                    [1, 1, 1],\n",
    "                    [1, 0, 1],\n",
    "                    [1, 0, 1],\n",
    "                    [0, 0, 0]] )\n",
    "pics = findMatches(arrangement, 40, lowLim=0, lim=7);"
   ]
  },
  {
   "cell_type": "code",
   "execution_count": 28,
   "metadata": {
    "collapsed": true,
    "hidden": true
   },
   "outputs": [],
   "source": [
    "flippedPics = []\n",
    "for pic in pics:\n",
    "    flippedPics.append(np.zeros((15, 9)))\n",
    "    for i, row in enumerate(pic):\n",
    "        flippedPics[-1][-i-1] = row"
   ]
  },
  {
   "cell_type": "code",
   "execution_count": 29,
   "metadata": {
    "hidden": true
   },
   "outputs": [
    {
     "name": "stderr",
     "output_type": "stream",
     "text": [
      "C:\\ProgramData\\Anaconda3\\lib\\site-packages\\imageio\\core\\util.py:78: UserWarning:\n",
      "\n",
      "Lossy conversion from float64 to uint8, range [0, 1]\n",
      "\n"
     ]
    }
   ],
   "source": [
    "makeVid(arr(flippedPics), location+'W_1.gif', 'gif', dur=0.2)"
   ]
  },
  {
   "cell_type": "markdown",
   "metadata": {
    "heading_collapsed": true
   },
   "source": [
    "## D"
   ]
  },
  {
   "cell_type": "code",
   "execution_count": 167,
   "metadata": {
    "hidden": true,
    "scrolled": false
   },
   "outputs": [
    {
     "name": "stdout",
     "output_type": "stream",
     "text": [
      "exact 1309\n",
      "exact 1310\n",
      "exact 1311\n",
      "exact 1312\n",
      "exact 1313\n",
      "exact 1314\n",
      "exact 1315\n"
     ]
    }
   ],
   "source": [
    "arrangement = arr( [[1, 1, 0],\n",
    "                    [1, 0, 1],\n",
    "                    [1, 0, 1],\n",
    "                    [1, 0, 1],\n",
    "                    [1, 1, 0],\n",
    "                    [0, 0, 0]] )\n",
    "pics = findMatches(arrangement, 41, lowLim=1302, lim=1316);"
   ]
  },
  {
   "cell_type": "code",
   "execution_count": 168,
   "metadata": {
    "collapsed": true,
    "hidden": true
   },
   "outputs": [],
   "source": [
    "flippedPics = []\n",
    "for pic in pics:\n",
    "    flippedPics.append(np.zeros((15, 9)))\n",
    "    for i, row in enumerate(pic):\n",
    "        flippedPics[-1][-i-1] = row"
   ]
  },
  {
   "cell_type": "code",
   "execution_count": 169,
   "metadata": {
    "hidden": true
   },
   "outputs": [
    {
     "name": "stderr",
     "output_type": "stream",
     "text": [
      "C:\\ProgramData\\Anaconda3\\lib\\site-packages\\imageio\\core\\util.py:78: UserWarning: Lossy conversion from float64 to uint8, range [0, 1]\n",
      "  dtype_str, out_type.__name__))\n"
     ]
    }
   ],
   "source": [
    "makeVid(arr(flippedPics), location+'D_2.gif', 'gif', dur=0.2)"
   ]
  },
  {
   "cell_type": "markdown",
   "metadata": {
    "heading_collapsed": true
   },
   "source": [
    "## !"
   ]
  },
  {
   "cell_type": "code",
   "execution_count": 175,
   "metadata": {
    "hidden": true,
    "scrolled": false
   },
   "outputs": [
    {
     "name": "stdout",
     "output_type": "stream",
     "text": [
      "exact 396\n",
      "exact 397\n",
      "exact 398\n",
      "exact 399\n",
      "exact 400\n",
      "exact 401\n"
     ]
    }
   ],
   "source": [
    "arrangement = arr( [[0, 1, 0],\n",
    "                    [0, 0, 0],\n",
    "                    [0, 1, 0],\n",
    "                    [0, 1, 0],\n",
    "                    [0, 1, 0],\n",
    "                    [0, 0, 0]] )\n",
    "pics = findMatches(arrangement, 42, lowLim=391, lim=402);"
   ]
  },
  {
   "cell_type": "code",
   "execution_count": 176,
   "metadata": {
    "collapsed": true,
    "hidden": true
   },
   "outputs": [],
   "source": [
    "flippedPics = []\n",
    "for pic in pics:\n",
    "    flippedPics.append(np.zeros((15, 9)))\n",
    "    for i, row in enumerate(pic):\n",
    "        flippedPics[-1][-i-1] = row"
   ]
  },
  {
   "cell_type": "code",
   "execution_count": 177,
   "metadata": {
    "hidden": true
   },
   "outputs": [
    {
     "name": "stderr",
     "output_type": "stream",
     "text": [
      "C:\\ProgramData\\Anaconda3\\lib\\site-packages\\imageio\\core\\util.py:78: UserWarning: Lossy conversion from float64 to uint8, range [0, 1]\n",
      "  dtype_str, out_type.__name__))\n"
     ]
    }
   ],
   "source": [
    "makeVid(arr(flippedPics), location+'!_1.gif', 'gif', dur=0.2)"
   ]
  },
  {
   "cell_type": "markdown",
   "metadata": {
    "hidden": true
   },
   "source": [
    "# Loading Gifs"
   ]
  },
  {
   "cell_type": "markdown",
   "metadata": {},
   "source": [
    "### 3x3 loading (for Tobias Talk)"
   ]
  },
  {
   "cell_type": "code",
   "execution_count": 18,
   "metadata": {},
   "outputs": [],
   "source": [
    "year=\"2018\"\n",
    "month=\"April\"\n",
    "day=\"15\""
   ]
  },
  {
   "cell_type": "code",
   "execution_count": 19,
   "metadata": {
    "ExecuteTime": {
     "end_time": "2018-02-08T03:59:42.961646Z",
     "start_time": "2018-02-08T03:59:42.943097Z"
    }
   },
   "outputs": [],
   "source": [
    "from importlib import reload\n",
    "import AnalysisHelpers\n",
    "reload(AnalysisHelpers)\n",
    "setPath(day, month, year)"
   ]
  },
  {
   "cell_type": "code",
   "execution_count": 1,
   "metadata": {
    "ExecuteTime": {
     "end_time": "2018-02-08T04:10:46.442803Z",
     "start_time": "2018-02-08T04:10:46.212177Z"
    },
    "scrolled": false
   },
   "outputs": [],
   "source": [
    "import imageio\n",
    "import numpy as np\n",
    "from numpy import array as arr\n",
    "import matplotlib as mpl\n",
    "import matplotlib.cm\n",
    "\n",
    "\n",
    "infernoMap = [mpl.cm.inferno(i)[:-1] for i in range(256)]\n",
    "viridisMap = [mpl.cm.viridis(i)[:-1] for i in range(256)]\n",
    "hotMap = [mpl.cm.hot(i)[:-1] for i in range(256)]\n",
    "\n",
    "def makeVid(pics, gifAddress, videoType, fileAddress=None, dur=1, lim=None, includeCount=True, lowLim=None, \n",
    "            finLabels=[], finTxt=\"Atom Reservoir Depleted\", vidMap=infernoMap):\n",
    "    # global count\n",
    "    # select subsection\n",
    "    if lim is None:\n",
    "        lim = len(pics)\n",
    "    if lowLim is None:\n",
    "        lowLim = 0\n",
    "    pics = pics[lowLim:lim]\n",
    "    # normalize to rgb scale    \n",
    "    pics = np.uint16(pics / max(pics.flatten()) * 350)\n",
    "    pics = arr([[[int(elem) for elem in row] for row in pic] for pic in pics])\n",
    "    pics = arr(pics-min(pics.flatten()) - 50)\n",
    "    pics = [[[vidMap[elem] if elem < 256 and elem >= 0 else vidMap[255] if elem >= 256 else vidMap[0] \n",
    "              for elem in row] for row in pic] for pic in pics]\n",
    "    images = []\n",
    "    sequenceCount = 1\n",
    "    offset = 0\n",
    "    for picCount, pic in enumerate(pics):\n",
    "        fig = figure()\n",
    "        fig.set_size_inches([9,15])\n",
    "        ax = Axes(fig, [0., 0., 1., 1.])\n",
    "        ax.set_axis_off()\n",
    "        fig.add_axes(ax)\n",
    "        grid('off')\n",
    "        ax.imshow(pic, aspect='equal')\n",
    "        if includeCount:\n",
    "            ax.text(0,14,str(sequenceCount) + \".\" + str(picCount+1-offset), color='white', fontsize=40)\n",
    "        ax.plot([2,4],[1,1],color='w', linewidth=2)\n",
    "        ax.plot([2,2],[0.8, 1.2], 'w', linewidth=2)\n",
    "        ax.plot([4,4],[0.8, 1.2], 'w', linewidth=2)\n",
    "        ax.text(2.02, 0.8,r\"$2.0 \\mu m $\", color='white', fontsize=30)\n",
    "        if picCount+1 in finLabels:\n",
    "            ax.text(1.5, 14, finTxt, color='r', fontsize=40)\n",
    "        name = \"temp\"+str(picCount+1)+\".png\"\n",
    "        margins(0,0)\n",
    "        gca().yaxis.set_major_locator(NullLocator())\n",
    "        gca().xaxis.set_major_locator(NullLocator())\n",
    "        savefig(name, dpi=40, bbox_inches='tight', pad_inches=0.0)\n",
    "        images.append(imageio.imread(name))\n",
    "        if picCount+1 in finLabels:\n",
    "            sequenceCount += 1\n",
    "            offset = picCount+1\n",
    "            for _ in range(4):\n",
    "                images.append(imageio.imread(name))\n",
    "        close('all')\n",
    "    # make bigger\n",
    "    #pics = [np.repeat(np.repeat(pic,32, axis=0), 32, axis=1) for pic in pics]\n",
    "    imageio.mimsave(gifAddress, images, format=videoType, duration=dur)\n",
    "from IPython.display import Image, HTML, display"
   ]
  },
  {
   "cell_type": "code",
   "execution_count": 21,
   "metadata": {},
   "outputs": [],
   "source": [
    "import AnalysisHelpers as AH"
   ]
  },
  {
   "cell_type": "code",
   "execution_count": 22,
   "metadata": {},
   "outputs": [],
   "source": [
    "setPath(day, month, year)"
   ]
  },
  {
   "cell_type": "code",
   "execution_count": 127,
   "metadata": {},
   "outputs": [],
   "source": [
    "f = AH.openHDF5(19)\n",
    "pics = f['Andor']['Pictures']"
   ]
  },
  {
   "cell_type": "code",
   "execution_count": 128,
   "metadata": {},
   "outputs": [],
   "source": [
    "vidPics = pics[0:-2:2]\n",
    "vidPics = vidPics[:,6:15,6:15]"
   ]
  },
  {
   "cell_type": "code",
   "execution_count": 133,
   "metadata": {},
   "outputs": [
    {
     "data": {
      "text/plain": [
       "<matplotlib.image.AxesImage at 0x2c193758978>"
      ]
     },
     "execution_count": 133,
     "metadata": {},
     "output_type": "execute_result"
    },
    {
     "data": {
      "image/png": "[encoded data removed]",
      "text/plain": [
       "<matplotlib.figure.Figure at 0x2c193098978>"
      ]
     },
     "metadata": {},
     "output_type": "display_data"
    }
   ],
   "source": [
    "f, ax = subplots(1,5, figsize=(20,40))\n",
    "ax[0].imshow(vidPics[0])\n",
    "ax[1].imshow(vidPics[1])\n",
    "ax[2].imshow(vidPics[2])\n",
    "ax[3].imshow(vidPics[3])\n",
    "ax[4].imshow(vidPics[4])"
   ]
  },
  {
   "cell_type": "code",
   "execution_count": 145,
   "metadata": {
    "ExecuteTime": {
     "end_time": "2018-02-08T04:11:00.271405Z",
     "start_time": "2018-02-08T04:10:46.655216Z"
    }
   },
   "outputs": [],
   "source": [
    "makeVid(vidPics, location+'3x3-Loading.gif', 'gif', dur=0.15, includeCount=False)"
   ]
  },
  {
   "cell_type": "markdown",
   "metadata": {},
   "source": [
    "### 10x10 loading for tobias talk"
   ]
  },
  {
   "cell_type": "code",
   "execution_count": 9,
   "metadata": {
    "ExecuteTime": {
     "end_time": "2018-02-08T03:54:23.244496Z",
     "start_time": "2018-02-08T03:54:23.241482Z"
    }
   },
   "outputs": [],
   "source": [
    "location = 'C:/Users/Mark-Brown/Documents/Analysis-Code/Videos/Inferno/'"
   ]
  },
  {
   "cell_type": "code",
   "execution_count": 26,
   "metadata": {},
   "outputs": [],
   "source": [
    "year=\"2018\"\n",
    "month=\"April\"\n",
    "day=\"30\""
   ]
  },
  {
   "cell_type": "code",
   "execution_count": 27,
   "metadata": {},
   "outputs": [],
   "source": [
    "setPath(day, month, year)"
   ]
  },
  {
   "cell_type": "code",
   "execution_count": 22,
   "metadata": {},
   "outputs": [],
   "source": [
    "import AnalysisHelpers as AH"
   ]
  },
  {
   "cell_type": "code",
   "execution_count": 35,
   "metadata": {},
   "outputs": [],
   "source": [
    "f = AH.openHDF5(34)\n",
    "pics = f['Andor']['Pictures']"
   ]
  },
  {
   "cell_type": "code",
   "execution_count": 36,
   "metadata": {},
   "outputs": [],
   "source": [
    "vidPics = pics[100:200:2]\n",
    "vidPics = vidPics[:]"
   ]
  },
  {
   "cell_type": "code",
   "execution_count": 43,
   "metadata": {
    "ExecuteTime": {
     "end_time": "2018-02-08T04:10:46.442803Z",
     "start_time": "2018-02-08T04:10:46.212177Z"
    },
    "scrolled": false
   },
   "outputs": [],
   "source": [
    "import imageio\n",
    "import numpy as np\n",
    "from numpy import array as arr\n",
    "import matplotlib as mpl\n",
    "import matplotlib.cm\n",
    "\n",
    "\n",
    "infernoMap = [mpl.cm.inferno(i)[:-1] for i in range(256)]\n",
    "viridisMap = [mpl.cm.viridis(i)[:-1] for i in range(256)]\n",
    "hotMap = [mpl.cm.hot(i)[:-1] for i in range(256)]\n",
    "cividisMap = [mpl.cm.cividis(i)[:-1] for i in range(256)]\n",
    "\n",
    "def makeVid(pics, gifAddress, videoType, fileAddress=None, dur=1, lim=None, includeCount=True, lowLim=None, \n",
    "            finLabels=[], finTxt=\"Atom Reservoir Depleted\", vidMap=infernoMap, baseCutoff=50, multiplier=350):\n",
    "    # global count\n",
    "    # select subsection\n",
    "    if lim is None:\n",
    "        lim = len(pics)\n",
    "    if lowLim is None:\n",
    "        lowLim = 0\n",
    "    pics = pics[lowLim:lim]\n",
    "    # normalize to rgb scale    \n",
    "    pics = np.uint16(pics / max(pics.flatten()) * multiplier)\n",
    "    pics = arr([[[int(elem) for elem in row] for row in pic] for pic in pics])\n",
    "    pics = arr(pics-min(pics.flatten()) - baseCutoff)\n",
    "    pics = [[[vidMap[elem] if elem < 256 and elem >= 0 else vidMap[255] if elem >= 256 else vidMap[0] \n",
    "              for elem in row] for row in pic] for pic in pics]\n",
    "    images = []\n",
    "    sequenceCount = 1\n",
    "    offset = 0\n",
    "    for picCount, pic in enumerate(pics):\n",
    "        fig = figure()\n",
    "        fig.set_size_inches([9,15])\n",
    "        ax = Axes(fig, [0., 0., 1., 1.])\n",
    "        ax.set_axis_off()\n",
    "        fig.add_axes(ax)\n",
    "        grid(False)\n",
    "        ax.imshow(pic, aspect='equal')\n",
    "        if includeCount:\n",
    "            ax.text(0,14,str(sequenceCount) + \".\" + str(picCount+1-offset), color='white', fontsize=40)\n",
    "        ax.plot([2,4],[1,1],color='w', linewidth=2)\n",
    "        ax.plot([2,2],[0.8, 1.2], 'w', linewidth=2)\n",
    "        ax.plot([4,4],[0.8, 1.2], 'w', linewidth=2)\n",
    "        ax.text(2.02, 0.8,r\"$2.0 \\mu m $\", color='white', fontsize=30)\n",
    "        if picCount+1 in finLabels:\n",
    "            ax.text(1.5, 14, finTxt, color='r', fontsize=40)\n",
    "        name = \"temp\"+str(picCount+1)+\".png\"\n",
    "        margins(0,0)\n",
    "        gca().yaxis.set_major_locator(NullLocator())\n",
    "        gca().xaxis.set_major_locator(NullLocator())\n",
    "        savefig(name, dpi=40, bbox_inches='tight', pad_inches=0.0)\n",
    "        images.append(imageio.imread(name))\n",
    "        if picCount+1 in finLabels:\n",
    "            sequenceCount += 1\n",
    "            offset = picCount+1\n",
    "            for _ in range(4):\n",
    "                images.append(imageio.imread(name))\n",
    "        close('all')\n",
    "    # make bigger\n",
    "    #pics = [np.repeat(np.repeat(pic,32, axis=0), 32, axis=1) for pic in pics]\n",
    "    imageio.mimsave(gifAddress, images, format=videoType, duration=dur)\n",
    "from IPython.display import Image, HTML, display"
   ]
  },
  {
   "cell_type": "code",
   "execution_count": 38,
   "metadata": {},
   "outputs": [
    {
     "data": {
      "text/plain": [
       "<matplotlib.image.AxesImage at 0x1b3800b99e8>"
      ]
     },
     "execution_count": 38,
     "metadata": {},
     "output_type": "execute_result"
    },
    {
     "data": {
      "image/png": "[encoded data removed]",
      "text/plain": [
       "<Figure size 1440x2880 with 5 Axes>"
      ]
     },
     "metadata": {},
     "output_type": "display_data"
    }
   ],
   "source": [
    "f, ax = subplots(1,5, figsize=(20,40))\n",
    "ax[0].imshow(vidPics[0])\n",
    "ax[1].imshow(vidPics[1])\n",
    "ax[2].imshow(vidPics[2])\n",
    "ax[3].imshow(vidPics[3])\n",
    "ax[4].imshow(vidPics[4])"
   ]
  },
  {
   "cell_type": "code",
   "execution_count": 49,
   "metadata": {
    "ExecuteTime": {
     "end_time": "2018-02-08T03:54:23.244496Z",
     "start_time": "2018-02-08T03:54:23.241482Z"
    }
   },
   "outputs": [],
   "source": [
    "location = 'C:/Users/Mark-Brown/Documents/Analysis-Code/Videos/Viridis/'"
   ]
  },
  {
   "cell_type": "code",
   "execution_count": 50,
   "metadata": {
    "ExecuteTime": {
     "end_time": "2018-02-08T04:11:00.271405Z",
     "start_time": "2018-02-08T04:10:46.655216Z"
    }
   },
   "outputs": [
    {
     "name": "stderr",
     "output_type": "stream",
     "text": [
      "C:\\ProgramData\\Anaconda3\\lib\\site-packages\\matplotlib\\cbook\\deprecation.py:107: MatplotlibDeprecationWarning:\n",
      "\n",
      "Passing one of 'on', 'true', 'off', 'false' as a boolean is deprecated; use an actual boolean (True/False) instead.\n",
      "\n"
     ]
    }
   ],
   "source": [
    "makeVid(vidPics, location+'10x10-Loading.gif', 'gif', dur=0.15, vidMap=viridisMap, includeCount=False, baseCutoff=100, multiplier=550)"
   ]
  },
  {
   "cell_type": "markdown",
   "metadata": {},
   "source": [
    "### updated 10x10"
   ]
  },
  {
   "cell_type": "code",
   "execution_count": 15,
   "metadata": {
    "ExecuteTime": {
     "end_time": "2018-02-08T03:54:23.244496Z",
     "start_time": "2018-02-08T03:54:23.241482Z"
    }
   },
   "outputs": [],
   "source": [
    "location = 'C:/Users/Mark-Brown/Documents/Analysis-Code/Videos/Inferno/'"
   ]
  },
  {
   "cell_type": "code",
   "execution_count": 22,
   "metadata": {},
   "outputs": [],
   "source": [
    "year=\"2018\"\n",
    "month=\"May\"\n",
    "day=\"4\""
   ]
  },
  {
   "cell_type": "code",
   "execution_count": 23,
   "metadata": {},
   "outputs": [],
   "source": [
    "setPath(day, month, year)"
   ]
  },
  {
   "cell_type": "code",
   "execution_count": 24,
   "metadata": {},
   "outputs": [],
   "source": [
    "import AnalysisHelpers as AH"
   ]
  },
  {
   "cell_type": "code",
   "execution_count": 25,
   "metadata": {},
   "outputs": [],
   "source": [
    "f = AH.openHDF5(18)\n",
    "pics = f['Andor']['Pictures']"
   ]
  },
  {
   "cell_type": "code",
   "execution_count": 26,
   "metadata": {},
   "outputs": [],
   "source": [
    "vidPics = pics[100:200:2]\n",
    "vidPics = vidPics[:]"
   ]
  },
  {
   "cell_type": "code",
   "execution_count": 50,
   "metadata": {
    "ExecuteTime": {
     "end_time": "2018-02-08T04:10:46.442803Z",
     "start_time": "2018-02-08T04:10:46.212177Z"
    },
    "scrolled": false
   },
   "outputs": [],
   "source": [
    "import imageio\n",
    "import numpy as np\n",
    "from numpy import array as arr\n",
    "import matplotlib as mpl\n",
    "import matplotlib.cm\n",
    "\n",
    "\n",
    "infernoMap = [mpl.cm.inferno(i)[:-1] for i in range(256)]\n",
    "viridisMap = [mpl.cm.viridis(i)[:-1] for i in range(256)]\n",
    "hotMap = [mpl.cm.hot(i)[:-1] for i in range(256)]\n",
    "cividisMap = [mpl.cm.cividis(i)[:-1] for i in range(256)]\n",
    "jetMap = [mpl.cm.jet(i)[:-1] for i in range(256)]\n",
    "greyMap = [mpl.cm.Greys(i)[:-1] for i in range(256)]\n",
    "greysReversedMap = list(reversed(greyMap))\n",
    "bluesMap = [mpl.cm.Blues(i)[:-1] for i in range(256)]\n",
    "orangesMap = [mpl.cm.Oranges(i)[:-1] for i in range(256)]\n",
    "\n",
    "def makeVid(pics, gifAddress, videoType, fileAddress=None, dur=1, lim=None, includeCount=True, lowLim=None, \n",
    "            finLabels=[], finTxt=\"Atom Reservoir Depleted\", vidMap=infernoMap, baseCutoff=50, multiplier=350):\n",
    "    # global count\n",
    "    # select subsection\n",
    "    if lim is None:\n",
    "        lim = len(pics)\n",
    "    if lowLim is None:\n",
    "        lowLim = 0\n",
    "    pics = pics[lowLim:lim]\n",
    "    # normalize to rgb scale    \n",
    "    pics = np.uint16(pics / max(pics.flatten()) * multiplier)\n",
    "    pics = arr([[[int(elem) for elem in row] for row in pic] for pic in pics])\n",
    "    pics = arr(pics-min(pics.flatten()) - baseCutoff)\n",
    "    pics = [[[vidMap[elem] if elem < 256 and elem >= 0 else vidMap[255] if elem >= 256 else vidMap[0] \n",
    "              for elem in row] for row in pic] for pic in pics]\n",
    "    images = []\n",
    "    sequenceCount = 1\n",
    "    offset = 0\n",
    "    for picCount, pic in enumerate(pics):\n",
    "        fig = figure()\n",
    "        fig.set_size_inches([9,15])\n",
    "        ax = Axes(fig, [0., 0., 1., 1.])\n",
    "        ax.set_axis_off()\n",
    "        fig.add_axes(ax)\n",
    "        grid(False)\n",
    "        ax.imshow(pic, aspect='equal')\n",
    "        if includeCount:\n",
    "            ax.text(0,14,str(sequenceCount) + \".\" + str(picCount+1-offset), color='white', fontsize=40)\n",
    "        ax.plot([2,4],[1,1],color='w', linewidth=2)\n",
    "        ax.plot([2,2],[0.8, 1.2], 'w', linewidth=2)\n",
    "        ax.plot([4,4],[0.8, 1.2], 'w', linewidth=2)\n",
    "        ax.text(2.02, 0.8,r\"$2.0 \\mu m $\", color='white', fontsize=30)\n",
    "        if picCount+1 in finLabels:\n",
    "            ax.text(1.5, 14, finTxt, color='r', fontsize=40)\n",
    "        name = \"temp\"+str(picCount+1)+\".png\"\n",
    "        margins(0,0)\n",
    "        gca().yaxis.set_major_locator(NullLocator())\n",
    "        gca().xaxis.set_major_locator(NullLocator())\n",
    "        savefig(name, dpi=40, bbox_inches='tight', pad_inches=0.0)\n",
    "        images.append(imageio.imread(name))\n",
    "        if picCount+1 in finLabels:\n",
    "            sequenceCount += 1\n",
    "            offset = picCount+1\n",
    "            for _ in range(4):\n",
    "                images.append(imageio.imread(name))\n",
    "        close('all')\n",
    "    # make bigger\n",
    "    #pics = [np.repeat(np.repeat(pic,32, axis=0), 32, axis=1) for pic in pics]\n",
    "    imageio.mimsave(gifAddress, images, format=videoType, duration=dur)\n",
    "from IPython.display import Image, HTML, display"
   ]
  },
  {
   "cell_type": "code",
   "execution_count": 28,
   "metadata": {},
   "outputs": [
    {
     "data": {
      "text/plain": [
       "<matplotlib.image.AxesImage at 0x1ab86f04550>"
      ]
     },
     "execution_count": 28,
     "metadata": {},
     "output_type": "execute_result"
    },
    {
     "data": {
      "image/png": "[encoded data removed]",
      "text/plain": [
       "<Figure size 1440x2880 with 5 Axes>"
      ]
     },
     "metadata": {},
     "output_type": "display_data"
    }
   ],
   "source": [
    "f, ax = subplots(1,5, figsize=(20,40))\n",
    "ax[0].imshow(vidPics[0])\n",
    "ax[1].imshow(vidPics[1])\n",
    "ax[2].imshow(vidPics[2])\n",
    "ax[3].imshow(vidPics[3])\n",
    "ax[4].imshow(vidPics[4])"
   ]
  },
  {
   "cell_type": "code",
   "execution_count": 54,
   "metadata": {
    "ExecuteTime": {
     "end_time": "2018-02-08T03:54:23.244496Z",
     "start_time": "2018-02-08T03:54:23.241482Z"
    }
   },
   "outputs": [],
   "source": [
    "location = 'C:/Users/Mark-Brown/Documents/Analysis-Code/Videos/oranges/'"
   ]
  },
  {
   "cell_type": "code",
   "execution_count": 55,
   "metadata": {
    "ExecuteTime": {
     "end_time": "2018-02-08T04:11:00.271405Z",
     "start_time": "2018-02-08T04:10:46.655216Z"
    }
   },
   "outputs": [],
   "source": [
    "makeVid(vidPics, location+'10x10-Loading-updated.gif', 'gif', dur=0.15, vidMap=orangesMap, includeCount=False, baseCutoff=100, multiplier=550)"
   ]
  },
  {
   "cell_type": "code",
   "execution_count": null,
   "metadata": {},
   "outputs": [],
   "source": []
  }
 ],
 "metadata": {
  "anaconda-cloud": {},
  "hide_input": false,
  "kernelspec": {
   "display_name": "Python 3",
   "language": "python",
   "name": "python3"
  },
  "language_info": {
   "codemirror_mode": {
    "name": "ipython",
    "version": 3
   },
   "file_extension": ".py",
   "mimetype": "text/x-python",
   "name": "python",
   "nbconvert_exporter": "python",
   "pygments_lexer": "ipython3",
   "version": "3.6.6"
  },
  "nav_menu": {},
  "notify_time": "10",
  "toc": {
   "nav_menu": {},
   "number_sections": true,
   "sideBar": true,
   "skip_h1_title": false,
   "toc_cell": true,
   "toc_position": {
    "height": "780px",
    "left": "0px",
    "right": "1329.33px",
    "top": "107px",
    "width": "277px"
   },
   "toc_section_display": "none",
   "toc_window_display": false
  },
  "varInspector": {
   "cols": {
    "lenName": 16,
    "lenType": 16,
    "lenVar": 40
   },
   "kernels_config": {
    "python": {
     "delete_cmd_postfix": "",
     "delete_cmd_prefix": "del ",
     "library": "var_list.py",
     "varRefreshCmd": "print(var_dic_list())"
    },
    "r": {
     "delete_cmd_postfix": ") ",
     "delete_cmd_prefix": "rm(",
     "library": "var_list.r",
     "varRefreshCmd": "cat(var_dic_list()) "
    }
   },
   "types_to_exclude": [
    "module",
    "function",
    "builtin_function_or_method",
    "instance",
    "_Feature"
   ],
   "window_display": false
  }
 },
 "nbformat": 4,
 "nbformat_minor": 2
}

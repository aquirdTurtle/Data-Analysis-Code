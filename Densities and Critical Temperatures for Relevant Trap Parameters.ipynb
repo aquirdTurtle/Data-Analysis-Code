{
 "cells": [
  {
   "cell_type": "markdown",
   "metadata": {},
   "source": [
    "# Densities and Critical Temperatures for Relevant Trap Parameters\n"
   ]
  },
  {
   "cell_type": "markdown",
   "metadata": {
    "heading_collapsed": "false"
   },
   "source": [
    "From Stringari review article:\n",
    "$$\n",
    "T_c = \\frac{0.94\\hbar \\omega_{\\text{h.o.}} N^{1/3}}{k_B}\n",
    "$$"
   ]
  },
  {
   "cell_type": "code",
   "execution_count": 11,
   "metadata": {
    "heading_collapsed": "false"
   },
   "outputs": [],
   "source": [
    "import MarksConstants as mc\n",
    "import numpy as np\n",
    "import Miscellaneous as misc"
   ]
  },
  {
   "cell_type": "code",
   "execution_count": 4,
   "metadata": {
    "heading_collapsed": "false"
   },
   "outputs": [],
   "source": [
    "def T_c(omega):\n",
    "    return 0.94*mc.hbar * omega * 1 / mc.k_B"
   ]
  },
  {
   "cell_type": "code",
   "execution_count": 12,
   "metadata": {
    "heading_collapsed": "false"
   },
   "outputs": [
    {
     "name": "stdout",
     "output_type": "stream",
     "text": [
      "6.77 uK\n"
     ]
    }
   ],
   "source": [
    "print(misc.round_sig_str(T_c(2*np.pi*150e3) * 1e6), 'uK')"
   ]
  },
  {
   "cell_type": "code",
   "execution_count": 13,
   "metadata": {
    "heading_collapsed": "false"
   },
   "outputs": [],
   "source": [
    "from fitters.Gaussian import bump"
   ]
  },
  {
   "cell_type": "markdown",
   "metadata": {
    "heading_collapsed": "false"
   },
   "source": [
    "Normalized Gaussian: \n",
    "$$\n",
    "A = \\frac{1}{\\sigma\\sqrt{2\\pi}}\n",
    "$$"
   ]
  },
  {
   "cell_type": "markdown",
   "metadata": {
    "heading_collapsed": "false"
   },
   "source": [
    "1mk depth radial waist = 40nm, axial waist = 80nm"
   ]
  },
  {
   "cell_type": "code",
   "execution_count": 32,
   "metadata": {
    "heading_collapsed": "false"
   },
   "outputs": [],
   "source": [
    "def max_density1D(w0):\n",
    "    return 1/(w0/2*np.sqrt(2*np.pi))\n",
    "def max_density3D(w0_r, w0_a):\n",
    "    return max_density1D(w0_r)**2*max_density1D(w0_a)\n",
    "def max_density3D_cm3(w0_r,w0_a):\n",
    "    return max_density3D(w0_r,w0_a)*(1e-2)**3"
   ]
  },
  {
   "cell_type": "code",
   "execution_count": 44,
   "metadata": {
    "heading_collapsed": "false"
   },
   "outputs": [
    {
     "data": {
      "text/plain": [
       "'%r'"
      ]
     },
     "execution_count": 44,
     "metadata": {},
     "output_type": "execute_result"
    }
   ],
   "source": [
    "%precision"
   ]
  },
  {
   "cell_type": "code",
   "execution_count": 47,
   "metadata": {
    "heading_collapsed": "false"
   },
   "outputs": [
    {
     "name": "stdout",
     "output_type": "stream",
     "text": [
      "3.96835224589006e+21\n",
      "2.229680493712716e+19\n",
      "22.296804937127163\n"
     ]
    }
   ],
   "source": [
    "print(max_density3D(40e-9,80e-9))\n",
    "print(max_density3D(225e-9,450e-9))\n",
    "print(max_density3D_cm3(225e-9,450e-9)*1e-12)"
   ]
  },
  {
   "cell_type": "code",
   "execution_count": 24,
   "metadata": {
    "heading_collapsed": "false"
   },
   "outputs": [
    {
     "name": "stdout",
     "output_type": "stream",
     "text": [
      "Peak density Linear 9973557.010035817 Atoms/m\n",
      "Peak density Linear 4.960440307362576e+20 Atoms/m\n"
     ]
    }
   ],
   "source": [
    "print('Peak density Linear',1/(40e-9*np.sqrt(2*np.pi)), 'Atoms/m')\n",
    "print('Peak density Linear',(1/(40e-9*np.sqrt(2*np.pi))**2*(1/(80e-9*np.sqrt(2*np.pi)))), 'Atoms/m')"
   ]
  },
  {
   "cell_type": "code",
   "execution_count": null,
   "metadata": {
    "heading_collapsed": "false"
   },
   "outputs": [],
   "source": []
  }
 ],
 "metadata": {
  "kernelspec": {
   "display_name": "Python 3",
   "language": "python",
   "name": "python3"
  },
  "language_info": {
   "codemirror_mode": {
    "name": "ipython",
    "version": 3
   },
   "file_extension": ".py",
   "mimetype": "text/x-python",
   "name": "python",
   "nbconvert_exporter": "python",
   "pygments_lexer": "ipython3",
   "version": "3.6.12"
  }
 },
 "nbformat": 4,
 "nbformat_minor": 4
}

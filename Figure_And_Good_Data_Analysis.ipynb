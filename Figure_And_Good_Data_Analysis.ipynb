{
 "cells": [
  {
   "cell_type": "code",
   "execution_count": 4,
   "id": "antique-cemetery",
   "metadata": {},
   "outputs": [
    {
     "name": "stderr",
     "output_type": "stream",
     "text": [
      "C:\\ProgramData\\Miniconda3\\lib\\site-packages\\ipykernel\\ipkernel.py:287: DeprecationWarning:\n",
      "\n",
      "`should_run_async` will not call `transform_cell` automatically in the future. Please pass the result to `transformed_cell` argument and any exception that happen during thetransform in `preprocessing_exc_tuple` in IPython 7.17 and above.\n",
      "\n"
     ]
    }
   ],
   "source": [
    "# current date, for retrieving data from proper location.\n",
    "year = \"2021\"\n",
    "month = \"April\"\n",
    "day = \"21\""
   ]
  },
  {
   "cell_type": "code",
   "execution_count": 5,
   "id": "identical-diving",
   "metadata": {},
   "outputs": [
    {
     "data": {
      "text/html": [
       "        <script type=\"text/javascript\">\n",
       "        window.PlotlyConfig = {MathJaxConfig: 'local'};\n",
       "        if (window.MathJax) {MathJax.Hub.Config({SVG: {font: \"STIX-Web\"}});}\n",
       "        if (typeof require !== 'undefined') {\n",
       "        require.undef(\"plotly\");\n",
       "        requirejs.config({\n",
       "            paths: {\n",
       "                'plotly': ['https://cdn.plot.ly/plotly-latest.min']\n",
       "            }\n",
       "        });\n",
       "        require(['plotly'], function(Plotly) {\n",
       "            window._Plotly = Plotly;\n",
       "        });\n",
       "        }\n",
       "        </script>\n",
       "        "
      ]
     },
     "metadata": {},
     "output_type": "display_data"
    }
   ],
   "source": [
    "%config Completer.use_jedi = False\n",
    "import numpy as np \n",
    "from numpy import array as arr\n",
    "import pandas as pd\n",
    "import plotly.offline as pltly\n",
    "pltly.init_notebook_mode(connected=True)\n",
    "from plotly import graph_objs as go\n",
    "import math\n",
    "import scipy.optimize as opt\n",
    "from scipy import ndimage\n",
    "import matplotlib.pyplot as plt\n",
    "from matplotlib import cm\n",
    "from matplotlib.colors import ListedColormap\n",
    "import warnings \n",
    "warnings.filterwarnings('module')\n",
    "from datetime import datetime\n",
    "import uncertainties.unumpy\n",
    "import IPython\n",
    "import pandas as pd\n",
    "import pickle\n",
    "\n",
    "from matplotlib.pyplot import *\n",
    "from matplotlib import rcParams\n",
    "from matplotlib import style\n",
    "from mpl_toolkits.axes_grid1 import make_axes_locatable\n",
    "import matplotlib.pyplot as plt\n",
    "import matplotlib.dates as mdates\n",
    "%matplotlib inline\n",
    "\n",
    "# ## set matplotlib plot defaults :D\n",
    "# Style controls many default colors in matplotlib plots.\n",
    "# Change the following if you don't like dark backgrounds. Many other options.\n",
    "import matplotlib as mpl\n",
    "\n",
    "if False:\n",
    "    # My Dark Settings\n",
    "    style.use(['dark_background'])\n",
    "    c = '#0A0A0A'\n",
    "    mpl.rcParams['axes.facecolor'] = '#000000'\n",
    "    mpl.rcParams['figure.edgecolor'] = c\n",
    "    mpl.rcParams['figure.facecolor'] = c\n",
    "else:\n",
    "    # My Light Settings\n",
    "    style.use(['default'])\n",
    "    c = '#FFFFFF'\n",
    "    mpl.rcParams['axes.facecolor'] = c\n",
    "    mpl.rcParams['figure.edgecolor'] = c\n",
    "    mpl.rcParams['figure.facecolor'] = c  \n",
    "# the default cycling of colors in this mode isn't very good.\n",
    "#rcParams['axes.prop_cycle'] = (\"cycler('color', ['r','c','g','#FFFFFF','b']) + cycler('marker', ['o','v','<','>','^'])\")\n",
    "### General\n",
    "mpl.rcParams['figure.figsize'] = (25.0, 8.0)\n",
    "mpl.rcParams['axes.grid'] = True\n",
    "mpl.rcParams['axes.formatter.useoffset'] = False\n",
    "mpl.rcParams['grid.alpha'] = 0.15\n",
    "mpl.rcParams['axes.formatter.limits'] = (-3,3)\n",
    "mpl.rcParams['image.cmap'] = 'viridis'\n",
    "#rcParams['image.cmap'] = dark_viridis_cmap\n",
    "# to see all available options, decomment this line.\n",
    "# print(mpl.rcParams)\n",
    "mpl.rcParams['font.size'] = 14\n",
    "viridis = cm.get_cmap('viridis', 256)\n",
    "dark_viridis = []\n",
    "bl = 0.15\n",
    "for i in range(256):\n",
    "    dark_viridis.append(list(viridis(i)))\n",
    "    dark_viridis[-1][0] = dark_viridis[-1][0] *(bl+(1-bl)*i/255)\n",
    "    dark_viridis[-1][1] = dark_viridis[-1][1] *(bl+(1-bl)*i/255)\n",
    "    dark_viridis[-1][2] = dark_viridis[-1][2] *(bl+(1-bl)*i/255)\n",
    "dark_viridis_cmap = ListedColormap(dark_viridis)"
   ]
  },
  {
   "cell_type": "code",
   "execution_count": 7,
   "id": "behavioral-affect",
   "metadata": {},
   "outputs": [
    {
     "name": "stderr",
     "output_type": "stream",
     "text": [
      "C:\\ProgramData\\Miniconda3\\lib\\site-packages\\ipykernel\\ipkernel.py:287: DeprecationWarning:\n",
      "\n",
      "`should_run_async` will not call `transform_cell` automatically in the future. Please pass the result to `transformed_cell` argument and any exception that happen during thetransform in `preprocessing_exc_tuple` in IPython 7.17 and above.\n",
      "\n"
     ]
    }
   ],
   "source": [
    "import sys\n",
    "sys.path.append(\"..\")\n",
    "from Analysis_Python_Files.fitters.Gaussian import dip, double_dip, bump, bump2, bump3, bump2r, gaussian, bump3_Sym, gaussian_2d\n",
    "from Analysis_Python_Files.fitters.Sinc_Squared import sinc_sq3_Sym, sinc_sq\n",
    "from Analysis_Python_Files.fitters import decaying_cos, exponential_decay_fixed_limit as decay, linear, LargeBeamMotExpansion, n1State\n",
    "import Analysis_Python_Files.PictureWindow as pw\n",
    "import Analysis_Python_Files.ExpFile as exp\n",
    "exp.setPath(day, month, year)\n",
    "import Analysis_Python_Files.PlotlyPlotters as pp\n",
    "import Analysis_Python_Files.MatplotlibPlotters as mp\n",
    "import Analysis_Python_Files.MainAnalysis as ma\n",
    "import Analysis_Python_Files.AnalysisHelpers as ah\n",
    "import Analysis_Python_Files.Miscellaneous as misc\n",
    "import Analysis_Python_Files.PopulationAnalysis as pa\n",
    "import Analysis_Python_Files.MarksConstants as mc\n",
    "import Analysis_Python_Files.fitters as fitters\n",
    "import Analysis_Python_Files.LoadingFunctions as lf\n",
    "import Analysis_Python_Files.FreeSpaceImaging as fsi\n",
    "import Analysis_Python_Files.TransferAnalysis as ta\n",
    "import Analysis_Python_Files.LightShiftCalculations as lsc\n",
    "import Analysis_Python_Files.CalibrationAnalysis as ca\n",
    "# It's important to explicitly import calPoint here or else pickling doesn't work.\n",
    "from Analysis_Python_Files.CalibrationAnalysis import calPoint \n",
    "from Analysis_Python_Files.TransferAnalysisOptions import TransferAnalysisOptions as ao\n",
    "import Analysis_Python_Files.ThresholdOptions as to\n",
    "import Analysis_Python_Files.TransferAnalysisOptions as tao\n",
    "from importlib import reload\n",
    "def reloadMyModules(day_=None, month_=None, year_=None):\n",
    "    reload(exp)\n",
    "    if day_ is None:\n",
    "        day_ = day\n",
    "    if month_ is None:\n",
    "        month_ = month\n",
    "    if year_ is None:\n",
    "        year_ = year\n",
    "    exp.setPath(day_,month_,year_)\n",
    "    reload(lf)\n",
    "    reload(misc)\n",
    "    reload(ma)\n",
    "    reload(ah)\n",
    "    reload(pp)\n",
    "    reload(mp)\n",
    "    reload(fitters)\n",
    "    reload(fsi)\n",
    "    reload(ta)\n",
    "    reload(pa)\n",
    "    reload(tao)\n",
    "    reload(to)\n",
    "    reload(ca)\n",
    "reloadMyModules()"
   ]
  },
  {
   "cell_type": "code",
   "execution_count": 10,
   "id": "atlantic-stuff",
   "metadata": {},
   "outputs": [],
   "source": [
    "atomlocs = [6,7,3,2,1]\n",
    "loadOne = tao.condition([0], [0], [1], markerWhichPicList=[0], markerLocList=[0])\n",
    "loadNotOne = tao.condition([0],[0], [0])\n",
    "\n",
    "loadLeft = tao.condition([0,0],[0,1], [1,0], markerWhichPicList=[0], markerLocList=[0])\n",
    "loadRight = tao.condition([0,0],[0,1], [0,1], markerWhichPicList=[0], markerLocList=[1])\n",
    "loadBoth = tao.condition([0,0],[0,1], [1,1], markerWhichPicList=[0,0], markerLocList=[0,1])\n",
    "loadNeither = tao.condition([0,0],[0,1], [0,0])\n",
    "\n",
    "loadOneOption = tao.TransferAnalysisOptions( [11,11,3,1,1], [11,11,3,1,1], 0,1, [[loadOne], [loadNotOne]], [None, None]);\n",
    "loadLeftOption = tao.TransferAnalysisOptions( atomlocs, atomlocs, 0,1, [[loadLeft], [loadNeither]],[None, None]);\n",
    "loadRightOption = tao.TransferAnalysisOptions( atomlocs, atomlocs, 0,1, [[loadRight], [loadNeither]],[None, None]);\n",
    "loadBothOption = tao.TransferAnalysisOptions( atomlocs, atomlocs, 0,1, [[loadBoth], [loadNeither]],[None, None]);\n",
    "loadNoneOption = tao.TransferAnalysisOptions( atomlocs, atomlocs, 0,1, [[loadNeither], [loadNeither]],[None, None]);"
   ]
  },
  {
   "cell_type": "code",
   "execution_count": 11,
   "id": "sixth-corpus",
   "metadata": {},
   "outputs": [
    {
     "ename": "TypeError",
     "evalue": "freespaceImageAnalysis() got an unexpected keyword argument 'indvColorRanges'",
     "output_type": "error",
     "traceback": [
      "\u001b[1;31m---------------------------------------------------------------------------\u001b[0m",
      "\u001b[1;31mTypeError\u001b[0m                                 Traceback (most recent call last)",
      "\u001b[1;32m<ipython-input-11-1dbe562fbc6f>\u001b[0m in \u001b[0;36m<module>\u001b[1;34m\u001b[0m\n\u001b[0;32m      1\u001b[0m \u001b[0mreloadMyModules\u001b[0m\u001b[1;33m(\u001b[0m\u001b[1;36m22\u001b[0m\u001b[1;33m)\u001b[0m\u001b[1;33m\u001b[0m\u001b[1;33m\u001b[0m\u001b[0m\n\u001b[1;32m----> 2\u001b[1;33m resn1 = fsi.freespaceImageAnalysis([4, 5, 6, 7, 8, 9, 10, 11, 12], picsPerRep=2, startPic=1, bgInput=None, onlyThisPic=2, plotSigmas=True, plotCounts=False,\n\u001b[0m\u001b[0;32m      3\u001b[0m                                   \u001b[0mwin\u001b[0m\u001b[1;33m=\u001b[0m\u001b[0mpw\u001b[0m\u001b[1;33m.\u001b[0m\u001b[0mPictureWindow\u001b[0m\u001b[1;33m(\u001b[0m\u001b[1;33m)\u001b[0m\u001b[1;33m,\u001b[0m \u001b[0mtransferAnalysisOpts\u001b[0m\u001b[1;33m=\u001b[0m\u001b[0mloadOneOption\u001b[0m\u001b[1;33m,\u001b[0m\u001b[1;33m\u001b[0m\u001b[1;33m\u001b[0m\u001b[0m\n\u001b[0;32m      4\u001b[0m                                   extraTferAnalysisArgs = { 'win':pw.PictureWindow(1,-2), 'binningParams':(3,3), \n\u001b[0;32m      5\u001b[0m                                                             'tOptions':[to.ThresholdOptions(histBinSize=75)], 'picsPerRep':2}, \n",
      "\u001b[1;31mTypeError\u001b[0m: freespaceImageAnalysis() got an unexpected keyword argument 'indvColorRanges'"
     ]
    }
   ],
   "source": [
    "reloadMyModules(22)\n",
    "resn1 = fsi.freespaceImageAnalysis([4, 5, 6, 7, 8, 9, 10, 11, 12], picsPerRep=2, startPic=1, bgInput=None, onlyThisPic=2, plotSigmas=True, plotCounts=False,\n",
    "                                  win=pw.PictureWindow(), transferAnalysisOpts=loadOneOption,\n",
    "                                  extraTferAnalysisArgs = { 'win':pw.PictureWindow(1,-2), 'binningParams':(3,3), \n",
    "                                                            'tOptions':[to.ThresholdOptions(histBinSize=75)], 'picsPerRep':2}, \n",
    "                                 showTferAnalysisPlots=False, plotFitAmps=False, indvColorRanges=True, fitF2D=n1State.f);"
   ]
  },
  {
   "cell_type": "code",
   "execution_count": null,
   "id": "suspended-singer",
   "metadata": {},
   "outputs": [],
   "source": []
  }
 ],
 "metadata": {
  "kernelspec": {
   "display_name": "Python 3",
   "language": "python",
   "name": "python3"
  },
  "language_info": {
   "codemirror_mode": {
    "name": "ipython",
    "version": 3
   },
   "file_extension": ".py",
   "mimetype": "text/x-python",
   "name": "python",
   "nbconvert_exporter": "python",
   "pygments_lexer": "ipython3",
   "version": "3.8.5"
  }
 },
 "nbformat": 4,
 "nbformat_minor": 5
}
